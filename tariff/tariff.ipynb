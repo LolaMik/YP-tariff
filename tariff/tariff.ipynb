{
 "cells": [
  {
   "cell_type": "markdown",
   "metadata": {
    "toc": true
   },
   "source": [
    "<h1>Содержание<span class=\"tocSkip\"></span></h1>\n",
    "<div class=\"toc\"><ul class=\"toc-item\"><li><span><a href=\"#Предобработка-данных\" data-toc-modified-id=\"Предобработка-данных-1\"><span class=\"toc-item-num\">1&nbsp;&nbsp;</span>Предобработка данных</a></span><ul class=\"toc-item\"><li><span><a href=\"#Знакомство-с-данными\" data-toc-modified-id=\"Знакомство-с-данными-1.1\"><span class=\"toc-item-num\">1.1&nbsp;&nbsp;</span>Знакомство с данными</a></span></li><li><span><a href=\"#Корректировка-таблиц\" data-toc-modified-id=\"Корректировка-таблиц-1.2\"><span class=\"toc-item-num\">1.2&nbsp;&nbsp;</span>Корректировка таблиц</a></span><ul class=\"toc-item\"><li><span><a href=\"#Таблица-звонки\" data-toc-modified-id=\"Таблица-звонки-1.2.1\"><span class=\"toc-item-num\">1.2.1&nbsp;&nbsp;</span>Таблица звонки</a></span></li><li><span><a href=\"#Таблица-сообщения\" data-toc-modified-id=\"Таблица-сообщения-1.2.2\"><span class=\"toc-item-num\">1.2.2&nbsp;&nbsp;</span>Таблица сообщения</a></span></li><li><span><a href=\"#Таблица-интернет\" data-toc-modified-id=\"Таблица-интернет-1.2.3\"><span class=\"toc-item-num\">1.2.3&nbsp;&nbsp;</span>Таблица интернет</a></span></li><li><span><a href=\"#Таблица-пользователи\" data-toc-modified-id=\"Таблица-пользователи-1.2.4\"><span class=\"toc-item-num\">1.2.4&nbsp;&nbsp;</span>Таблица пользователи</a></span></li></ul></li><li><span><a href=\"#Выводы:\" data-toc-modified-id=\"Выводы:-1.3\"><span class=\"toc-item-num\">1.3&nbsp;&nbsp;</span>Выводы:</a></span></li></ul></li><li><span><a href=\"#Помесячная-выручка-с-каждого-клиента\" data-toc-modified-id=\"Помесячная-выручка-с-каждого-клиента-2\"><span class=\"toc-item-num\">2&nbsp;&nbsp;</span>Помесячная выручка с каждого клиента</a></span><ul class=\"toc-item\"><li><span><a href=\"#Сравнение-тарифов-Смарт-и-Ультра\" data-toc-modified-id=\"Сравнение-тарифов-Смарт-и-Ультра-2.1\"><span class=\"toc-item-num\">2.1&nbsp;&nbsp;</span>Сравнение тарифов Смарт и Ультра</a></span></li><li><span><a href=\"#Вывод\" data-toc-modified-id=\"Вывод-2.2\"><span class=\"toc-item-num\">2.2&nbsp;&nbsp;</span>Вывод</a></span></li></ul></li><li><span><a href=\"#Гипотезы\" data-toc-modified-id=\"Гипотезы-3\"><span class=\"toc-item-num\">3&nbsp;&nbsp;</span>Гипотезы</a></span><ul class=\"toc-item\"><li><span><a href=\"#Cредняя-выручка-пользователей-тарифов-«Ультра»-и-«Смарт»-различаются\" data-toc-modified-id=\"Cредняя-выручка-пользователей-тарифов-«Ультра»-и-«Смарт»-различаются-3.1\"><span class=\"toc-item-num\">3.1&nbsp;&nbsp;</span>Cредняя выручка пользователей тарифов «Ультра» и «Смарт» различаются</a></span></li><li><span><a href=\"#Cредняя-выручка-пользователей-из-Москвы-отличается-от-выручки-пользователей-из-других-регионов.\" data-toc-modified-id=\"Cредняя-выручка-пользователей-из-Москвы-отличается-от-выручки-пользователей-из-других-регионов.-3.2\"><span class=\"toc-item-num\">3.2&nbsp;&nbsp;</span>Cредняя выручка пользователей из Москвы отличается от выручки пользователей из других регионов.</a></span></li></ul></li><li><span><a href=\"#Вывод\" data-toc-modified-id=\"Вывод-4\"><span class=\"toc-item-num\">4&nbsp;&nbsp;</span>Вывод</a></span></li></ul></div>"
   ]
  },
  {
   "cell_type": "markdown",
   "metadata": {},
   "source": [
    "# Анализ тарифов для оператора сотовой связи. "
   ]
  },
  {
   "cell_type": "markdown",
   "metadata": {},
   "source": [
    "## Предобработка данных"
   ]
  },
  {
   "cell_type": "code",
   "execution_count": 1,
   "metadata": {},
   "outputs": [],
   "source": [
    "import pandas as pd\n",
    "import matplotlib.pyplot as plt\n",
    "import numpy as np    \n",
    "from scipy import stats as st\n",
    "import seaborn as sns\n",
    "\n",
    "%matplotlib inline\n",
    "\n",
    "pd.options.display.float_format = '{:.3f}'.format"
   ]
  },
  {
   "cell_type": "code",
   "execution_count": 2,
   "metadata": {},
   "outputs": [],
   "source": [
    "try:\n",
    "    df_calls = pd.read_csv('/calls.csv')\n",
    "    df_internet = pd.read_csv('internet.csv',  index_col=0)\n",
    "    df_messages = pd.read_csv('/messages.csv')\n",
    "    df_tariffs = pd.read_csv('/tariffs.csv')\n",
    "    df_users = pd.read_csv('/users.csv')\n",
    "except:\n",
    "    df_calls = pd.read_csv('data/calls.csv')\n",
    "    df_internet = pd.read_csv('data/internet.csv',  index_col=0)\n",
    "    df_messages = pd.read_csv('data/messages.csv')\n",
    "    df_tariffs = pd.read_csv('data/tariffs.csv')\n",
    "    df_users = pd.read_csv('data/users.csv')"
   ]
  },
  {
   "cell_type": "markdown",
   "metadata": {},
   "source": [
    "### Знакомство с данными"
   ]
  },
  {
   "cell_type": "markdown",
   "metadata": {},
   "source": [
    "Необходимо проверить в каждой таблице:\n",
    "- Пропуски\n",
    "- Дубликаты\n",
    "- Типы данных"
   ]
  },
  {
   "cell_type": "code",
   "execution_count": 3,
   "metadata": {},
   "outputs": [
    {
     "data": {
      "text/html": [
       "<div>\n",
       "<style scoped>\n",
       "    .dataframe tbody tr th:only-of-type {\n",
       "        vertical-align: middle;\n",
       "    }\n",
       "\n",
       "    .dataframe tbody tr th {\n",
       "        vertical-align: top;\n",
       "    }\n",
       "\n",
       "    .dataframe thead th {\n",
       "        text-align: right;\n",
       "    }\n",
       "</style>\n",
       "<table border=\"1\" class=\"dataframe\">\n",
       "  <thead>\n",
       "    <tr style=\"text-align: right;\">\n",
       "      <th></th>\n",
       "      <th>id</th>\n",
       "      <th>call_date</th>\n",
       "      <th>duration</th>\n",
       "      <th>user_id</th>\n",
       "    </tr>\n",
       "  </thead>\n",
       "  <tbody>\n",
       "    <tr>\n",
       "      <th>0</th>\n",
       "      <td>1000_0</td>\n",
       "      <td>2018-07-25</td>\n",
       "      <td>0.000</td>\n",
       "      <td>1000</td>\n",
       "    </tr>\n",
       "    <tr>\n",
       "      <th>1</th>\n",
       "      <td>1000_1</td>\n",
       "      <td>2018-08-17</td>\n",
       "      <td>0.000</td>\n",
       "      <td>1000</td>\n",
       "    </tr>\n",
       "    <tr>\n",
       "      <th>2</th>\n",
       "      <td>1000_2</td>\n",
       "      <td>2018-06-11</td>\n",
       "      <td>2.850</td>\n",
       "      <td>1000</td>\n",
       "    </tr>\n",
       "    <tr>\n",
       "      <th>3</th>\n",
       "      <td>1000_3</td>\n",
       "      <td>2018-09-21</td>\n",
       "      <td>13.800</td>\n",
       "      <td>1000</td>\n",
       "    </tr>\n",
       "    <tr>\n",
       "      <th>4</th>\n",
       "      <td>1000_4</td>\n",
       "      <td>2018-12-15</td>\n",
       "      <td>5.180</td>\n",
       "      <td>1000</td>\n",
       "    </tr>\n",
       "    <tr>\n",
       "      <th>5</th>\n",
       "      <td>1000_5</td>\n",
       "      <td>2018-11-02</td>\n",
       "      <td>0.000</td>\n",
       "      <td>1000</td>\n",
       "    </tr>\n",
       "    <tr>\n",
       "      <th>6</th>\n",
       "      <td>1000_6</td>\n",
       "      <td>2018-10-18</td>\n",
       "      <td>0.000</td>\n",
       "      <td>1000</td>\n",
       "    </tr>\n",
       "    <tr>\n",
       "      <th>7</th>\n",
       "      <td>1000_7</td>\n",
       "      <td>2018-08-22</td>\n",
       "      <td>18.310</td>\n",
       "      <td>1000</td>\n",
       "    </tr>\n",
       "    <tr>\n",
       "      <th>8</th>\n",
       "      <td>1000_8</td>\n",
       "      <td>2018-09-15</td>\n",
       "      <td>18.440</td>\n",
       "      <td>1000</td>\n",
       "    </tr>\n",
       "    <tr>\n",
       "      <th>9</th>\n",
       "      <td>1000_9</td>\n",
       "      <td>2018-08-15</td>\n",
       "      <td>0.000</td>\n",
       "      <td>1000</td>\n",
       "    </tr>\n",
       "  </tbody>\n",
       "</table>\n",
       "</div>"
      ],
      "text/plain": [
       "       id   call_date  duration  user_id\n",
       "0  1000_0  2018-07-25     0.000     1000\n",
       "1  1000_1  2018-08-17     0.000     1000\n",
       "2  1000_2  2018-06-11     2.850     1000\n",
       "3  1000_3  2018-09-21    13.800     1000\n",
       "4  1000_4  2018-12-15     5.180     1000\n",
       "5  1000_5  2018-11-02     0.000     1000\n",
       "6  1000_6  2018-10-18     0.000     1000\n",
       "7  1000_7  2018-08-22    18.310     1000\n",
       "8  1000_8  2018-09-15    18.440     1000\n",
       "9  1000_9  2018-08-15     0.000     1000"
      ]
     },
     "execution_count": 3,
     "metadata": {},
     "output_type": "execute_result"
    }
   ],
   "source": [
    "df_calls.head(10)"
   ]
  },
  {
   "cell_type": "code",
   "execution_count": 4,
   "metadata": {},
   "outputs": [
    {
     "name": "stdout",
     "output_type": "stream",
     "text": [
      "<class 'pandas.core.frame.DataFrame'>\n",
      "RangeIndex: 202607 entries, 0 to 202606\n",
      "Data columns (total 4 columns):\n",
      " #   Column     Non-Null Count   Dtype  \n",
      "---  ------     --------------   -----  \n",
      " 0   id         202607 non-null  object \n",
      " 1   call_date  202607 non-null  object \n",
      " 2   duration   202607 non-null  float64\n",
      " 3   user_id    202607 non-null  int64  \n",
      "dtypes: float64(1), int64(1), object(2)\n",
      "memory usage: 6.2+ MB\n"
     ]
    }
   ],
   "source": [
    "df_calls.info()"
   ]
  },
  {
   "cell_type": "code",
   "execution_count": 5,
   "metadata": {},
   "outputs": [
    {
     "data": {
      "text/plain": [
       "id          0.000\n",
       "call_date   0.000\n",
       "duration    0.000\n",
       "user_id     0.000\n",
       "dtype: float64"
      ]
     },
     "execution_count": 5,
     "metadata": {},
     "output_type": "execute_result"
    }
   ],
   "source": [
    "df_calls.isna().mean() "
   ]
  },
  {
   "cell_type": "code",
   "execution_count": 6,
   "metadata": {},
   "outputs": [
    {
     "name": "stdout",
     "output_type": "stream",
     "text": [
      "Число дубликатов: 0\n"
     ]
    }
   ],
   "source": [
    "print('Число дубликатов:', df_calls.duplicated().sum())"
   ]
  },
  {
   "cell_type": "markdown",
   "metadata": {},
   "source": [
    "Пропусков и дубликатов нет, корректировка типа данных нужна для столбца duration т.к нам нужен числовой тип данных. "
   ]
  },
  {
   "cell_type": "code",
   "execution_count": 7,
   "metadata": {},
   "outputs": [
    {
     "data": {
      "text/html": [
       "<div>\n",
       "<style scoped>\n",
       "    .dataframe tbody tr th:only-of-type {\n",
       "        vertical-align: middle;\n",
       "    }\n",
       "\n",
       "    .dataframe tbody tr th {\n",
       "        vertical-align: top;\n",
       "    }\n",
       "\n",
       "    .dataframe thead th {\n",
       "        text-align: right;\n",
       "    }\n",
       "</style>\n",
       "<table border=\"1\" class=\"dataframe\">\n",
       "  <thead>\n",
       "    <tr style=\"text-align: right;\">\n",
       "      <th></th>\n",
       "      <th>id</th>\n",
       "      <th>mb_used</th>\n",
       "      <th>session_date</th>\n",
       "      <th>user_id</th>\n",
       "    </tr>\n",
       "  </thead>\n",
       "  <tbody>\n",
       "    <tr>\n",
       "      <th>0</th>\n",
       "      <td>1000_0</td>\n",
       "      <td>112.950</td>\n",
       "      <td>2018-11-25</td>\n",
       "      <td>1000</td>\n",
       "    </tr>\n",
       "    <tr>\n",
       "      <th>1</th>\n",
       "      <td>1000_1</td>\n",
       "      <td>1052.810</td>\n",
       "      <td>2018-09-07</td>\n",
       "      <td>1000</td>\n",
       "    </tr>\n",
       "    <tr>\n",
       "      <th>2</th>\n",
       "      <td>1000_2</td>\n",
       "      <td>1197.260</td>\n",
       "      <td>2018-06-25</td>\n",
       "      <td>1000</td>\n",
       "    </tr>\n",
       "    <tr>\n",
       "      <th>3</th>\n",
       "      <td>1000_3</td>\n",
       "      <td>550.270</td>\n",
       "      <td>2018-08-22</td>\n",
       "      <td>1000</td>\n",
       "    </tr>\n",
       "    <tr>\n",
       "      <th>4</th>\n",
       "      <td>1000_4</td>\n",
       "      <td>302.560</td>\n",
       "      <td>2018-09-24</td>\n",
       "      <td>1000</td>\n",
       "    </tr>\n",
       "    <tr>\n",
       "      <th>5</th>\n",
       "      <td>1000_5</td>\n",
       "      <td>399.970</td>\n",
       "      <td>2018-10-02</td>\n",
       "      <td>1000</td>\n",
       "    </tr>\n",
       "    <tr>\n",
       "      <th>6</th>\n",
       "      <td>1000_6</td>\n",
       "      <td>540.080</td>\n",
       "      <td>2018-09-07</td>\n",
       "      <td>1000</td>\n",
       "    </tr>\n",
       "    <tr>\n",
       "      <th>7</th>\n",
       "      <td>1000_7</td>\n",
       "      <td>415.700</td>\n",
       "      <td>2018-07-11</td>\n",
       "      <td>1000</td>\n",
       "    </tr>\n",
       "    <tr>\n",
       "      <th>8</th>\n",
       "      <td>1000_8</td>\n",
       "      <td>505.400</td>\n",
       "      <td>2018-10-08</td>\n",
       "      <td>1000</td>\n",
       "    </tr>\n",
       "    <tr>\n",
       "      <th>9</th>\n",
       "      <td>1000_9</td>\n",
       "      <td>345.540</td>\n",
       "      <td>2018-09-03</td>\n",
       "      <td>1000</td>\n",
       "    </tr>\n",
       "  </tbody>\n",
       "</table>\n",
       "</div>"
      ],
      "text/plain": [
       "       id  mb_used session_date  user_id\n",
       "0  1000_0  112.950   2018-11-25     1000\n",
       "1  1000_1 1052.810   2018-09-07     1000\n",
       "2  1000_2 1197.260   2018-06-25     1000\n",
       "3  1000_3  550.270   2018-08-22     1000\n",
       "4  1000_4  302.560   2018-09-24     1000\n",
       "5  1000_5  399.970   2018-10-02     1000\n",
       "6  1000_6  540.080   2018-09-07     1000\n",
       "7  1000_7  415.700   2018-07-11     1000\n",
       "8  1000_8  505.400   2018-10-08     1000\n",
       "9  1000_9  345.540   2018-09-03     1000"
      ]
     },
     "execution_count": 7,
     "metadata": {},
     "output_type": "execute_result"
    }
   ],
   "source": [
    "df_internet.head(10)"
   ]
  },
  {
   "cell_type": "code",
   "execution_count": 8,
   "metadata": {},
   "outputs": [
    {
     "name": "stdout",
     "output_type": "stream",
     "text": [
      "<class 'pandas.core.frame.DataFrame'>\n",
      "Int64Index: 149396 entries, 0 to 149395\n",
      "Data columns (total 4 columns):\n",
      " #   Column        Non-Null Count   Dtype  \n",
      "---  ------        --------------   -----  \n",
      " 0   id            149396 non-null  object \n",
      " 1   mb_used       149396 non-null  float64\n",
      " 2   session_date  149396 non-null  object \n",
      " 3   user_id       149396 non-null  int64  \n",
      "dtypes: float64(1), int64(1), object(2)\n",
      "memory usage: 5.7+ MB\n"
     ]
    }
   ],
   "source": [
    "df_internet.info()"
   ]
  },
  {
   "cell_type": "code",
   "execution_count": 9,
   "metadata": {},
   "outputs": [
    {
     "data": {
      "text/plain": [
       "id             0.000\n",
       "mb_used        0.000\n",
       "session_date   0.000\n",
       "user_id        0.000\n",
       "dtype: float64"
      ]
     },
     "execution_count": 9,
     "metadata": {},
     "output_type": "execute_result"
    }
   ],
   "source": [
    "df_internet.isna().mean() "
   ]
  },
  {
   "cell_type": "code",
   "execution_count": 10,
   "metadata": {},
   "outputs": [
    {
     "name": "stdout",
     "output_type": "stream",
     "text": [
      "Число дубликатов: 0\n"
     ]
    }
   ],
   "source": [
    "print('Число дубликатов:', df_internet.duplicated().sum())"
   ]
  },
  {
   "cell_type": "markdown",
   "metadata": {},
   "source": [
    "Пропусков и дубликатов нет."
   ]
  },
  {
   "cell_type": "code",
   "execution_count": 11,
   "metadata": {},
   "outputs": [
    {
     "data": {
      "text/html": [
       "<div>\n",
       "<style scoped>\n",
       "    .dataframe tbody tr th:only-of-type {\n",
       "        vertical-align: middle;\n",
       "    }\n",
       "\n",
       "    .dataframe tbody tr th {\n",
       "        vertical-align: top;\n",
       "    }\n",
       "\n",
       "    .dataframe thead th {\n",
       "        text-align: right;\n",
       "    }\n",
       "</style>\n",
       "<table border=\"1\" class=\"dataframe\">\n",
       "  <thead>\n",
       "    <tr style=\"text-align: right;\">\n",
       "      <th></th>\n",
       "      <th>id</th>\n",
       "      <th>message_date</th>\n",
       "      <th>user_id</th>\n",
       "    </tr>\n",
       "  </thead>\n",
       "  <tbody>\n",
       "    <tr>\n",
       "      <th>0</th>\n",
       "      <td>1000_0</td>\n",
       "      <td>2018-06-27</td>\n",
       "      <td>1000</td>\n",
       "    </tr>\n",
       "    <tr>\n",
       "      <th>1</th>\n",
       "      <td>1000_1</td>\n",
       "      <td>2018-10-08</td>\n",
       "      <td>1000</td>\n",
       "    </tr>\n",
       "    <tr>\n",
       "      <th>2</th>\n",
       "      <td>1000_2</td>\n",
       "      <td>2018-08-04</td>\n",
       "      <td>1000</td>\n",
       "    </tr>\n",
       "    <tr>\n",
       "      <th>3</th>\n",
       "      <td>1000_3</td>\n",
       "      <td>2018-06-16</td>\n",
       "      <td>1000</td>\n",
       "    </tr>\n",
       "    <tr>\n",
       "      <th>4</th>\n",
       "      <td>1000_4</td>\n",
       "      <td>2018-12-05</td>\n",
       "      <td>1000</td>\n",
       "    </tr>\n",
       "    <tr>\n",
       "      <th>5</th>\n",
       "      <td>1000_5</td>\n",
       "      <td>2018-06-20</td>\n",
       "      <td>1000</td>\n",
       "    </tr>\n",
       "    <tr>\n",
       "      <th>6</th>\n",
       "      <td>1000_6</td>\n",
       "      <td>2018-11-19</td>\n",
       "      <td>1000</td>\n",
       "    </tr>\n",
       "    <tr>\n",
       "      <th>7</th>\n",
       "      <td>1000_7</td>\n",
       "      <td>2018-10-29</td>\n",
       "      <td>1000</td>\n",
       "    </tr>\n",
       "    <tr>\n",
       "      <th>8</th>\n",
       "      <td>1000_8</td>\n",
       "      <td>2018-06-25</td>\n",
       "      <td>1000</td>\n",
       "    </tr>\n",
       "    <tr>\n",
       "      <th>9</th>\n",
       "      <td>1000_9</td>\n",
       "      <td>2018-12-18</td>\n",
       "      <td>1000</td>\n",
       "    </tr>\n",
       "  </tbody>\n",
       "</table>\n",
       "</div>"
      ],
      "text/plain": [
       "       id message_date  user_id\n",
       "0  1000_0   2018-06-27     1000\n",
       "1  1000_1   2018-10-08     1000\n",
       "2  1000_2   2018-08-04     1000\n",
       "3  1000_3   2018-06-16     1000\n",
       "4  1000_4   2018-12-05     1000\n",
       "5  1000_5   2018-06-20     1000\n",
       "6  1000_6   2018-11-19     1000\n",
       "7  1000_7   2018-10-29     1000\n",
       "8  1000_8   2018-06-25     1000\n",
       "9  1000_9   2018-12-18     1000"
      ]
     },
     "execution_count": 11,
     "metadata": {},
     "output_type": "execute_result"
    }
   ],
   "source": [
    "df_messages.head(10)"
   ]
  },
  {
   "cell_type": "code",
   "execution_count": 12,
   "metadata": {},
   "outputs": [
    {
     "name": "stdout",
     "output_type": "stream",
     "text": [
      "<class 'pandas.core.frame.DataFrame'>\n",
      "RangeIndex: 123036 entries, 0 to 123035\n",
      "Data columns (total 3 columns):\n",
      " #   Column        Non-Null Count   Dtype \n",
      "---  ------        --------------   ----- \n",
      " 0   id            123036 non-null  object\n",
      " 1   message_date  123036 non-null  object\n",
      " 2   user_id       123036 non-null  int64 \n",
      "dtypes: int64(1), object(2)\n",
      "memory usage: 2.8+ MB\n"
     ]
    }
   ],
   "source": [
    "df_messages.info()"
   ]
  },
  {
   "cell_type": "code",
   "execution_count": 13,
   "metadata": {},
   "outputs": [
    {
     "data": {
      "text/plain": [
       "id             0.000\n",
       "message_date   0.000\n",
       "user_id        0.000\n",
       "dtype: float64"
      ]
     },
     "execution_count": 13,
     "metadata": {},
     "output_type": "execute_result"
    }
   ],
   "source": [
    "df_messages.isna().mean() "
   ]
  },
  {
   "cell_type": "code",
   "execution_count": 14,
   "metadata": {},
   "outputs": [
    {
     "name": "stdout",
     "output_type": "stream",
     "text": [
      "Число дубликатов: 0\n"
     ]
    }
   ],
   "source": [
    "print('Число дубликатов:', df_messages.duplicated().sum())"
   ]
  },
  {
   "cell_type": "markdown",
   "metadata": {},
   "source": [
    "Пропусков и дубликатов нет."
   ]
  },
  {
   "cell_type": "code",
   "execution_count": 15,
   "metadata": {},
   "outputs": [
    {
     "data": {
      "text/html": [
       "<div>\n",
       "<style scoped>\n",
       "    .dataframe tbody tr th:only-of-type {\n",
       "        vertical-align: middle;\n",
       "    }\n",
       "\n",
       "    .dataframe tbody tr th {\n",
       "        vertical-align: top;\n",
       "    }\n",
       "\n",
       "    .dataframe thead th {\n",
       "        text-align: right;\n",
       "    }\n",
       "</style>\n",
       "<table border=\"1\" class=\"dataframe\">\n",
       "  <thead>\n",
       "    <tr style=\"text-align: right;\">\n",
       "      <th></th>\n",
       "      <th>messages_included</th>\n",
       "      <th>mb_per_month_included</th>\n",
       "      <th>minutes_included</th>\n",
       "      <th>rub_monthly_fee</th>\n",
       "      <th>rub_per_gb</th>\n",
       "      <th>rub_per_message</th>\n",
       "      <th>rub_per_minute</th>\n",
       "      <th>tariff_name</th>\n",
       "    </tr>\n",
       "  </thead>\n",
       "  <tbody>\n",
       "    <tr>\n",
       "      <th>0</th>\n",
       "      <td>50</td>\n",
       "      <td>15360</td>\n",
       "      <td>500</td>\n",
       "      <td>550</td>\n",
       "      <td>200</td>\n",
       "      <td>3</td>\n",
       "      <td>3</td>\n",
       "      <td>smart</td>\n",
       "    </tr>\n",
       "    <tr>\n",
       "      <th>1</th>\n",
       "      <td>1000</td>\n",
       "      <td>30720</td>\n",
       "      <td>3000</td>\n",
       "      <td>1950</td>\n",
       "      <td>150</td>\n",
       "      <td>1</td>\n",
       "      <td>1</td>\n",
       "      <td>ultra</td>\n",
       "    </tr>\n",
       "  </tbody>\n",
       "</table>\n",
       "</div>"
      ],
      "text/plain": [
       "   messages_included  mb_per_month_included  minutes_included  \\\n",
       "0                 50                  15360               500   \n",
       "1               1000                  30720              3000   \n",
       "\n",
       "   rub_monthly_fee  rub_per_gb  rub_per_message  rub_per_minute tariff_name  \n",
       "0              550         200                3               3       smart  \n",
       "1             1950         150                1               1       ultra  "
      ]
     },
     "execution_count": 15,
     "metadata": {},
     "output_type": "execute_result"
    }
   ],
   "source": [
    "df_tariffs.head(10)"
   ]
  },
  {
   "cell_type": "code",
   "execution_count": 16,
   "metadata": {},
   "outputs": [
    {
     "name": "stdout",
     "output_type": "stream",
     "text": [
      "<class 'pandas.core.frame.DataFrame'>\n",
      "RangeIndex: 2 entries, 0 to 1\n",
      "Data columns (total 8 columns):\n",
      " #   Column                 Non-Null Count  Dtype \n",
      "---  ------                 --------------  ----- \n",
      " 0   messages_included      2 non-null      int64 \n",
      " 1   mb_per_month_included  2 non-null      int64 \n",
      " 2   minutes_included       2 non-null      int64 \n",
      " 3   rub_monthly_fee        2 non-null      int64 \n",
      " 4   rub_per_gb             2 non-null      int64 \n",
      " 5   rub_per_message        2 non-null      int64 \n",
      " 6   rub_per_minute         2 non-null      int64 \n",
      " 7   tariff_name            2 non-null      object\n",
      "dtypes: int64(7), object(1)\n",
      "memory usage: 256.0+ bytes\n"
     ]
    }
   ],
   "source": [
    "df_tariffs.info()"
   ]
  },
  {
   "cell_type": "code",
   "execution_count": 17,
   "metadata": {},
   "outputs": [
    {
     "data": {
      "text/plain": [
       "messages_included       0.000\n",
       "mb_per_month_included   0.000\n",
       "minutes_included        0.000\n",
       "rub_monthly_fee         0.000\n",
       "rub_per_gb              0.000\n",
       "rub_per_message         0.000\n",
       "rub_per_minute          0.000\n",
       "tariff_name             0.000\n",
       "dtype: float64"
      ]
     },
     "execution_count": 17,
     "metadata": {},
     "output_type": "execute_result"
    }
   ],
   "source": [
    "df_tariffs.isna().mean() "
   ]
  },
  {
   "cell_type": "code",
   "execution_count": 18,
   "metadata": {},
   "outputs": [
    {
     "name": "stdout",
     "output_type": "stream",
     "text": [
      "Число дубликатов: 0\n"
     ]
    }
   ],
   "source": [
    "print('Число дубликатов:', df_tariffs.duplicated().sum())"
   ]
  },
  {
   "cell_type": "markdown",
   "metadata": {},
   "source": [
    "Пропусков и дубликатов нет."
   ]
  },
  {
   "cell_type": "code",
   "execution_count": 19,
   "metadata": {},
   "outputs": [
    {
     "data": {
      "text/html": [
       "<div>\n",
       "<style scoped>\n",
       "    .dataframe tbody tr th:only-of-type {\n",
       "        vertical-align: middle;\n",
       "    }\n",
       "\n",
       "    .dataframe tbody tr th {\n",
       "        vertical-align: top;\n",
       "    }\n",
       "\n",
       "    .dataframe thead th {\n",
       "        text-align: right;\n",
       "    }\n",
       "</style>\n",
       "<table border=\"1\" class=\"dataframe\">\n",
       "  <thead>\n",
       "    <tr style=\"text-align: right;\">\n",
       "      <th></th>\n",
       "      <th>user_id</th>\n",
       "      <th>age</th>\n",
       "      <th>churn_date</th>\n",
       "      <th>city</th>\n",
       "      <th>first_name</th>\n",
       "      <th>last_name</th>\n",
       "      <th>reg_date</th>\n",
       "      <th>tariff</th>\n",
       "    </tr>\n",
       "  </thead>\n",
       "  <tbody>\n",
       "    <tr>\n",
       "      <th>0</th>\n",
       "      <td>1000</td>\n",
       "      <td>52</td>\n",
       "      <td>NaN</td>\n",
       "      <td>Краснодар</td>\n",
       "      <td>Рафаил</td>\n",
       "      <td>Верещагин</td>\n",
       "      <td>2018-05-25</td>\n",
       "      <td>ultra</td>\n",
       "    </tr>\n",
       "    <tr>\n",
       "      <th>1</th>\n",
       "      <td>1001</td>\n",
       "      <td>41</td>\n",
       "      <td>NaN</td>\n",
       "      <td>Москва</td>\n",
       "      <td>Иван</td>\n",
       "      <td>Ежов</td>\n",
       "      <td>2018-11-01</td>\n",
       "      <td>smart</td>\n",
       "    </tr>\n",
       "    <tr>\n",
       "      <th>2</th>\n",
       "      <td>1002</td>\n",
       "      <td>59</td>\n",
       "      <td>NaN</td>\n",
       "      <td>Стерлитамак</td>\n",
       "      <td>Евгений</td>\n",
       "      <td>Абрамович</td>\n",
       "      <td>2018-06-17</td>\n",
       "      <td>smart</td>\n",
       "    </tr>\n",
       "    <tr>\n",
       "      <th>3</th>\n",
       "      <td>1003</td>\n",
       "      <td>23</td>\n",
       "      <td>NaN</td>\n",
       "      <td>Москва</td>\n",
       "      <td>Белла</td>\n",
       "      <td>Белякова</td>\n",
       "      <td>2018-08-17</td>\n",
       "      <td>ultra</td>\n",
       "    </tr>\n",
       "    <tr>\n",
       "      <th>4</th>\n",
       "      <td>1004</td>\n",
       "      <td>68</td>\n",
       "      <td>NaN</td>\n",
       "      <td>Новокузнецк</td>\n",
       "      <td>Татьяна</td>\n",
       "      <td>Авдеенко</td>\n",
       "      <td>2018-05-14</td>\n",
       "      <td>ultra</td>\n",
       "    </tr>\n",
       "    <tr>\n",
       "      <th>5</th>\n",
       "      <td>1005</td>\n",
       "      <td>67</td>\n",
       "      <td>NaN</td>\n",
       "      <td>Набережные Челны</td>\n",
       "      <td>Афанасий</td>\n",
       "      <td>Горлов</td>\n",
       "      <td>2018-01-25</td>\n",
       "      <td>smart</td>\n",
       "    </tr>\n",
       "    <tr>\n",
       "      <th>6</th>\n",
       "      <td>1006</td>\n",
       "      <td>21</td>\n",
       "      <td>NaN</td>\n",
       "      <td>Ульяновск</td>\n",
       "      <td>Леонид</td>\n",
       "      <td>Ермолаев</td>\n",
       "      <td>2018-02-26</td>\n",
       "      <td>smart</td>\n",
       "    </tr>\n",
       "    <tr>\n",
       "      <th>7</th>\n",
       "      <td>1007</td>\n",
       "      <td>65</td>\n",
       "      <td>NaN</td>\n",
       "      <td>Москва</td>\n",
       "      <td>Юна</td>\n",
       "      <td>Березина</td>\n",
       "      <td>2018-04-19</td>\n",
       "      <td>smart</td>\n",
       "    </tr>\n",
       "    <tr>\n",
       "      <th>8</th>\n",
       "      <td>1008</td>\n",
       "      <td>63</td>\n",
       "      <td>NaN</td>\n",
       "      <td>Челябинск</td>\n",
       "      <td>Рустэм</td>\n",
       "      <td>Пономарёв</td>\n",
       "      <td>2018-12-19</td>\n",
       "      <td>smart</td>\n",
       "    </tr>\n",
       "    <tr>\n",
       "      <th>9</th>\n",
       "      <td>1009</td>\n",
       "      <td>24</td>\n",
       "      <td>NaN</td>\n",
       "      <td>Пермь</td>\n",
       "      <td>Василиса</td>\n",
       "      <td>Блинова</td>\n",
       "      <td>2018-03-22</td>\n",
       "      <td>smart</td>\n",
       "    </tr>\n",
       "  </tbody>\n",
       "</table>\n",
       "</div>"
      ],
      "text/plain": [
       "   user_id  age churn_date              city first_name  last_name  \\\n",
       "0     1000   52        NaN         Краснодар     Рафаил  Верещагин   \n",
       "1     1001   41        NaN            Москва       Иван       Ежов   \n",
       "2     1002   59        NaN       Стерлитамак    Евгений  Абрамович   \n",
       "3     1003   23        NaN            Москва      Белла   Белякова   \n",
       "4     1004   68        NaN       Новокузнецк    Татьяна   Авдеенко   \n",
       "5     1005   67        NaN  Набережные Челны   Афанасий     Горлов   \n",
       "6     1006   21        NaN         Ульяновск     Леонид   Ермолаев   \n",
       "7     1007   65        NaN            Москва        Юна   Березина   \n",
       "8     1008   63        NaN         Челябинск     Рустэм  Пономарёв   \n",
       "9     1009   24        NaN             Пермь   Василиса    Блинова   \n",
       "\n",
       "     reg_date tariff  \n",
       "0  2018-05-25  ultra  \n",
       "1  2018-11-01  smart  \n",
       "2  2018-06-17  smart  \n",
       "3  2018-08-17  ultra  \n",
       "4  2018-05-14  ultra  \n",
       "5  2018-01-25  smart  \n",
       "6  2018-02-26  smart  \n",
       "7  2018-04-19  smart  \n",
       "8  2018-12-19  smart  \n",
       "9  2018-03-22  smart  "
      ]
     },
     "execution_count": 19,
     "metadata": {},
     "output_type": "execute_result"
    }
   ],
   "source": [
    "df_users.head(10)"
   ]
  },
  {
   "cell_type": "code",
   "execution_count": 20,
   "metadata": {},
   "outputs": [
    {
     "name": "stdout",
     "output_type": "stream",
     "text": [
      "<class 'pandas.core.frame.DataFrame'>\n",
      "RangeIndex: 500 entries, 0 to 499\n",
      "Data columns (total 8 columns):\n",
      " #   Column      Non-Null Count  Dtype \n",
      "---  ------      --------------  ----- \n",
      " 0   user_id     500 non-null    int64 \n",
      " 1   age         500 non-null    int64 \n",
      " 2   churn_date  38 non-null     object\n",
      " 3   city        500 non-null    object\n",
      " 4   first_name  500 non-null    object\n",
      " 5   last_name   500 non-null    object\n",
      " 6   reg_date    500 non-null    object\n",
      " 7   tariff      500 non-null    object\n",
      "dtypes: int64(2), object(6)\n",
      "memory usage: 31.4+ KB\n"
     ]
    }
   ],
   "source": [
    "df_users.info()"
   ]
  },
  {
   "cell_type": "code",
   "execution_count": 21,
   "metadata": {},
   "outputs": [
    {
     "data": {
      "text/plain": [
       "user_id      0.000\n",
       "age          0.000\n",
       "churn_date   0.924\n",
       "city         0.000\n",
       "first_name   0.000\n",
       "last_name    0.000\n",
       "reg_date     0.000\n",
       "tariff       0.000\n",
       "dtype: float64"
      ]
     },
     "execution_count": 21,
     "metadata": {},
     "output_type": "execute_result"
    }
   ],
   "source": [
    "df_users.isna().mean() "
   ]
  },
  {
   "cell_type": "code",
   "execution_count": 22,
   "metadata": {},
   "outputs": [
    {
     "name": "stdout",
     "output_type": "stream",
     "text": [
      "Число дубликатов: 0\n"
     ]
    }
   ],
   "source": [
    "print('Число дубликатов:', df_users.duplicated().sum())"
   ]
  },
  {
   "cell_type": "markdown",
   "metadata": {},
   "source": [
    "По условиям выборки если значение в churn_date пропущено, то тариф ещё действовал на момент выгрузки данных. "
   ]
  },
  {
   "cell_type": "markdown",
   "metadata": {},
   "source": [
    "Предварительный вывод:\n",
    "Необходимо провести корректировку типа данных во всех датах в таблицах. Таблицы выгружены корректно. \n",
    "В таблице Звонки необходимо поменять тип данных в столбце с длительностью звонков.\n",
    "В таблице"
   ]
  },
  {
   "cell_type": "markdown",
   "metadata": {},
   "source": [
    "### Корректировка таблиц"
   ]
  },
  {
   "cell_type": "markdown",
   "metadata": {},
   "source": [
    "#### Таблица звонки"
   ]
  },
  {
   "cell_type": "markdown",
   "metadata": {},
   "source": [
    "В таблице calls преобразуем дату и длительность звонков для удобства работы."
   ]
  },
  {
   "cell_type": "code",
   "execution_count": 23,
   "metadata": {},
   "outputs": [],
   "source": [
    "df_calls['call_date'] = pd.to_datetime(df_calls['call_date'], format='%Y-%m-%d')"
   ]
  },
  {
   "cell_type": "markdown",
   "metadata": {},
   "source": [
    "Добавим столбцы с категорией месяца и с началом календарного месяца."
   ]
  },
  {
   "cell_type": "code",
   "execution_count": 24,
   "metadata": {},
   "outputs": [],
   "source": [
    "df_calls['month_num'] = pd.DatetimeIndex(df_calls['call_date']).month\n",
    "df_calls['month'] = df_calls['call_date'].astype('datetime64[M]')"
   ]
  },
  {
   "cell_type": "markdown",
   "metadata": {},
   "source": [
    "По условиям: «Мегалайн» всегда округляет секунды до минут. Каждый звонок округляется отдельно: даже если он длился всего 1 секунду, будет засчитан как 1 минута. Преведем замену, а заодно и изменим тип данных. "
   ]
  },
  {
   "cell_type": "code",
   "execution_count": 25,
   "metadata": {},
   "outputs": [],
   "source": [
    "df_calls['duration'] = np.ceil(df_calls['duration']).astype('int')"
   ]
  },
  {
   "cell_type": "code",
   "execution_count": 26,
   "metadata": {},
   "outputs": [
    {
     "data": {
      "text/html": [
       "<div>\n",
       "<style scoped>\n",
       "    .dataframe tbody tr th:only-of-type {\n",
       "        vertical-align: middle;\n",
       "    }\n",
       "\n",
       "    .dataframe tbody tr th {\n",
       "        vertical-align: top;\n",
       "    }\n",
       "\n",
       "    .dataframe thead th {\n",
       "        text-align: right;\n",
       "    }\n",
       "</style>\n",
       "<table border=\"1\" class=\"dataframe\">\n",
       "  <thead>\n",
       "    <tr style=\"text-align: right;\">\n",
       "      <th></th>\n",
       "      <th>id</th>\n",
       "      <th>call_date</th>\n",
       "      <th>duration</th>\n",
       "      <th>user_id</th>\n",
       "      <th>month_num</th>\n",
       "      <th>month</th>\n",
       "    </tr>\n",
       "  </thead>\n",
       "  <tbody>\n",
       "    <tr>\n",
       "      <th>0</th>\n",
       "      <td>1000_0</td>\n",
       "      <td>2018-07-25</td>\n",
       "      <td>0</td>\n",
       "      <td>1000</td>\n",
       "      <td>7</td>\n",
       "      <td>2018-07-01</td>\n",
       "    </tr>\n",
       "    <tr>\n",
       "      <th>1</th>\n",
       "      <td>1000_1</td>\n",
       "      <td>2018-08-17</td>\n",
       "      <td>0</td>\n",
       "      <td>1000</td>\n",
       "      <td>8</td>\n",
       "      <td>2018-08-01</td>\n",
       "    </tr>\n",
       "    <tr>\n",
       "      <th>2</th>\n",
       "      <td>1000_2</td>\n",
       "      <td>2018-06-11</td>\n",
       "      <td>3</td>\n",
       "      <td>1000</td>\n",
       "      <td>6</td>\n",
       "      <td>2018-06-01</td>\n",
       "    </tr>\n",
       "    <tr>\n",
       "      <th>3</th>\n",
       "      <td>1000_3</td>\n",
       "      <td>2018-09-21</td>\n",
       "      <td>14</td>\n",
       "      <td>1000</td>\n",
       "      <td>9</td>\n",
       "      <td>2018-09-01</td>\n",
       "    </tr>\n",
       "    <tr>\n",
       "      <th>4</th>\n",
       "      <td>1000_4</td>\n",
       "      <td>2018-12-15</td>\n",
       "      <td>6</td>\n",
       "      <td>1000</td>\n",
       "      <td>12</td>\n",
       "      <td>2018-12-01</td>\n",
       "    </tr>\n",
       "  </tbody>\n",
       "</table>\n",
       "</div>"
      ],
      "text/plain": [
       "       id  call_date  duration  user_id  month_num      month\n",
       "0  1000_0 2018-07-25         0     1000          7 2018-07-01\n",
       "1  1000_1 2018-08-17         0     1000          8 2018-08-01\n",
       "2  1000_2 2018-06-11         3     1000          6 2018-06-01\n",
       "3  1000_3 2018-09-21        14     1000          9 2018-09-01\n",
       "4  1000_4 2018-12-15         6     1000         12 2018-12-01"
      ]
     },
     "execution_count": 26,
     "metadata": {},
     "output_type": "execute_result"
    }
   ],
   "source": [
    "df_calls.head()"
   ]
  },
  {
   "cell_type": "code",
   "execution_count": 27,
   "metadata": {},
   "outputs": [],
   "source": [
    "def hist_maker(column):\n",
    "    print(column.describe())\n",
    "    plt.figure(figsize=(10,6))\n",
    "    plt.hist(column, bins=30, color='grey', edgecolor='grey', alpha=0.8)\n",
    "    plt.axvline(column.describe()['mean'], color='r', linestyle='dashed', linewidth=3, label='Mean value: {:.2f}'.format(column.describe()['mean']))\n",
    "    plt.axvline(column.describe()['50%'], color='b', linestyle='dotted', linewidth=3, label='Median value: {:.0f}'.format(column.describe()['50%']))\n",
    "    plt.legend()\n",
    "    plt.title('Histogramm {}'.format(column.name))"
   ]
  },
  {
   "cell_type": "code",
   "execution_count": 28,
   "metadata": {},
   "outputs": [
    {
     "name": "stdout",
     "output_type": "stream",
     "text": [
      "count   202607.000\n",
      "mean         7.158\n",
      "std          5.959\n",
      "min          0.000\n",
      "25%          2.000\n",
      "50%          6.000\n",
      "75%         11.000\n",
      "max         38.000\n",
      "Name: duration, dtype: float64\n"
     ]
    },
    {
     "data": {
      "image/png": "[encoded data removed]",
      "text/plain": [
       "<Figure size 720x432 with 1 Axes>"
      ]
     },
     "metadata": {
      "needs_background": "light"
     },
     "output_type": "display_data"
    }
   ],
   "source": [
    "hist_maker(df_calls['duration'])"
   ]
  },
  {
   "cell_type": "markdown",
   "metadata": {},
   "source": [
    "Максимальное время разговора абонента 38 минут, среднее же и медиана близки - 7 минут и 6 минут. "
   ]
  },
  {
   "cell_type": "markdown",
   "metadata": {},
   "source": [
    "#### Таблица сообщения"
   ]
  },
  {
   "cell_type": "markdown",
   "metadata": {},
   "source": [
    "Проведем те же операции: откорректируем дату и добавим соответствующие столбцы."
   ]
  },
  {
   "cell_type": "code",
   "execution_count": 29,
   "metadata": {},
   "outputs": [],
   "source": [
    "df_messages['message_date'] = pd.to_datetime(df_messages['message_date'] , format='%Y-%m-%d')\n",
    "df_messages['month_num'] = pd.DatetimeIndex(df_messages['message_date']).month\n",
    "df_messages['month'] = df_messages['message_date'].astype('datetime64[M]')"
   ]
  },
  {
   "cell_type": "code",
   "execution_count": 30,
   "metadata": {},
   "outputs": [
    {
     "data": {
      "text/html": [
       "<div>\n",
       "<style scoped>\n",
       "    .dataframe tbody tr th:only-of-type {\n",
       "        vertical-align: middle;\n",
       "    }\n",
       "\n",
       "    .dataframe tbody tr th {\n",
       "        vertical-align: top;\n",
       "    }\n",
       "\n",
       "    .dataframe thead th {\n",
       "        text-align: right;\n",
       "    }\n",
       "</style>\n",
       "<table border=\"1\" class=\"dataframe\">\n",
       "  <thead>\n",
       "    <tr style=\"text-align: right;\">\n",
       "      <th></th>\n",
       "      <th>id</th>\n",
       "      <th>message_date</th>\n",
       "      <th>user_id</th>\n",
       "      <th>month_num</th>\n",
       "      <th>month</th>\n",
       "    </tr>\n",
       "  </thead>\n",
       "  <tbody>\n",
       "    <tr>\n",
       "      <th>0</th>\n",
       "      <td>1000_0</td>\n",
       "      <td>2018-06-27</td>\n",
       "      <td>1000</td>\n",
       "      <td>6</td>\n",
       "      <td>2018-06-01</td>\n",
       "    </tr>\n",
       "    <tr>\n",
       "      <th>1</th>\n",
       "      <td>1000_1</td>\n",
       "      <td>2018-10-08</td>\n",
       "      <td>1000</td>\n",
       "      <td>10</td>\n",
       "      <td>2018-10-01</td>\n",
       "    </tr>\n",
       "    <tr>\n",
       "      <th>2</th>\n",
       "      <td>1000_2</td>\n",
       "      <td>2018-08-04</td>\n",
       "      <td>1000</td>\n",
       "      <td>8</td>\n",
       "      <td>2018-08-01</td>\n",
       "    </tr>\n",
       "    <tr>\n",
       "      <th>3</th>\n",
       "      <td>1000_3</td>\n",
       "      <td>2018-06-16</td>\n",
       "      <td>1000</td>\n",
       "      <td>6</td>\n",
       "      <td>2018-06-01</td>\n",
       "    </tr>\n",
       "    <tr>\n",
       "      <th>4</th>\n",
       "      <td>1000_4</td>\n",
       "      <td>2018-12-05</td>\n",
       "      <td>1000</td>\n",
       "      <td>12</td>\n",
       "      <td>2018-12-01</td>\n",
       "    </tr>\n",
       "  </tbody>\n",
       "</table>\n",
       "</div>"
      ],
      "text/plain": [
       "       id message_date  user_id  month_num      month\n",
       "0  1000_0   2018-06-27     1000          6 2018-06-01\n",
       "1  1000_1   2018-10-08     1000         10 2018-10-01\n",
       "2  1000_2   2018-08-04     1000          8 2018-08-01\n",
       "3  1000_3   2018-06-16     1000          6 2018-06-01\n",
       "4  1000_4   2018-12-05     1000         12 2018-12-01"
      ]
     },
     "execution_count": 30,
     "metadata": {},
     "output_type": "execute_result"
    }
   ],
   "source": [
    "df_messages.head()"
   ]
  },
  {
   "cell_type": "code",
   "execution_count": 31,
   "metadata": {},
   "outputs": [
    {
     "name": "stdout",
     "output_type": "stream",
     "text": [
      "count   2717.000\n",
      "mean      45.284\n",
      "std       35.051\n",
      "min        1.000\n",
      "25%       19.000\n",
      "50%       38.000\n",
      "75%       63.000\n",
      "max      224.000\n",
      "Name: messages, dtype: float64\n",
      "Amount of clients used the service (messages): 426\n"
     ]
    },
    {
     "data": {
      "image/png": "[encoded data removed]",
      "text/plain": [
       "<Figure size 720x432 with 1 Axes>"
      ]
     },
     "metadata": {
      "needs_background": "light"
     },
     "output_type": "display_data"
    }
   ],
   "source": [
    "messages_count = df_messages.groupby(['user_id','month_num']).agg(\n",
    "    messages = ('id', 'count')\n",
    ").reset_index()\n",
    "\n",
    "hist_maker(messages_count['messages'])\n",
    "print('Amount of clients used the service (messages):',messages_count['user_id'].nunique())"
   ]
  },
  {
   "cell_type": "markdown",
   "metadata": {},
   "source": [
    "Рекорд по отправке сообщений - 338 шт, но в среднем пользователи отправляют 45 сообщений. Медиана меньше - 38 сообщений. "
   ]
  },
  {
   "cell_type": "markdown",
   "metadata": {},
   "source": [
    "#### Таблица интернет"
   ]
  },
  {
   "cell_type": "markdown",
   "metadata": {},
   "source": [
    "Также корректировка даты и добавление колонок."
   ]
  },
  {
   "cell_type": "code",
   "execution_count": 32,
   "metadata": {},
   "outputs": [],
   "source": [
    "df_internet['session_date'] = pd.to_datetime(df_internet['session_date'] , format='%Y-%m-%d')\n",
    "df_internet['month_num'] = pd.DatetimeIndex(df_internet['session_date']).month\n",
    "df_internet['month'] = df_internet['session_date'].astype('datetime64[M]')"
   ]
  },
  {
   "cell_type": "code",
   "execution_count": 33,
   "metadata": {},
   "outputs": [
    {
     "data": {
      "text/html": [
       "<div>\n",
       "<style scoped>\n",
       "    .dataframe tbody tr th:only-of-type {\n",
       "        vertical-align: middle;\n",
       "    }\n",
       "\n",
       "    .dataframe tbody tr th {\n",
       "        vertical-align: top;\n",
       "    }\n",
       "\n",
       "    .dataframe thead th {\n",
       "        text-align: right;\n",
       "    }\n",
       "</style>\n",
       "<table border=\"1\" class=\"dataframe\">\n",
       "  <thead>\n",
       "    <tr style=\"text-align: right;\">\n",
       "      <th></th>\n",
       "      <th>id</th>\n",
       "      <th>mb_used</th>\n",
       "      <th>session_date</th>\n",
       "      <th>user_id</th>\n",
       "      <th>month_num</th>\n",
       "      <th>month</th>\n",
       "    </tr>\n",
       "  </thead>\n",
       "  <tbody>\n",
       "    <tr>\n",
       "      <th>0</th>\n",
       "      <td>1000_0</td>\n",
       "      <td>112.950</td>\n",
       "      <td>2018-11-25</td>\n",
       "      <td>1000</td>\n",
       "      <td>11</td>\n",
       "      <td>2018-11-01</td>\n",
       "    </tr>\n",
       "    <tr>\n",
       "      <th>1</th>\n",
       "      <td>1000_1</td>\n",
       "      <td>1052.810</td>\n",
       "      <td>2018-09-07</td>\n",
       "      <td>1000</td>\n",
       "      <td>9</td>\n",
       "      <td>2018-09-01</td>\n",
       "    </tr>\n",
       "    <tr>\n",
       "      <th>2</th>\n",
       "      <td>1000_2</td>\n",
       "      <td>1197.260</td>\n",
       "      <td>2018-06-25</td>\n",
       "      <td>1000</td>\n",
       "      <td>6</td>\n",
       "      <td>2018-06-01</td>\n",
       "    </tr>\n",
       "    <tr>\n",
       "      <th>3</th>\n",
       "      <td>1000_3</td>\n",
       "      <td>550.270</td>\n",
       "      <td>2018-08-22</td>\n",
       "      <td>1000</td>\n",
       "      <td>8</td>\n",
       "      <td>2018-08-01</td>\n",
       "    </tr>\n",
       "    <tr>\n",
       "      <th>4</th>\n",
       "      <td>1000_4</td>\n",
       "      <td>302.560</td>\n",
       "      <td>2018-09-24</td>\n",
       "      <td>1000</td>\n",
       "      <td>9</td>\n",
       "      <td>2018-09-01</td>\n",
       "    </tr>\n",
       "  </tbody>\n",
       "</table>\n",
       "</div>"
      ],
      "text/plain": [
       "       id  mb_used session_date  user_id  month_num      month\n",
       "0  1000_0  112.950   2018-11-25     1000         11 2018-11-01\n",
       "1  1000_1 1052.810   2018-09-07     1000          9 2018-09-01\n",
       "2  1000_2 1197.260   2018-06-25     1000          6 2018-06-01\n",
       "3  1000_3  550.270   2018-08-22     1000          8 2018-08-01\n",
       "4  1000_4  302.560   2018-09-24     1000          9 2018-09-01"
      ]
     },
     "execution_count": 33,
     "metadata": {},
     "output_type": "execute_result"
    }
   ],
   "source": [
    "df_internet.head()"
   ]
  },
  {
   "cell_type": "code",
   "execution_count": 34,
   "metadata": {},
   "outputs": [
    {
     "name": "stdout",
     "output_type": "stream",
     "text": [
      "count   3203.000\n",
      "mean      46.643\n",
      "std       18.696\n",
      "min        1.000\n",
      "25%       35.000\n",
      "50%       48.000\n",
      "75%       59.000\n",
      "max      118.000\n",
      "Name: internet, dtype: float64\n",
      "Amount of clients used the service (internet): 497\n"
     ]
    },
    {
     "data": {
      "image/png": "[encoded data removed]",
      "text/plain": [
       "<Figure size 720x432 with 1 Axes>"
      ]
     },
     "metadata": {
      "needs_background": "light"
     },
     "output_type": "display_data"
    }
   ],
   "source": [
    "internet_count = df_internet.groupby(['user_id','month_num']).agg(\n",
    "    internet = ('id', 'count')\n",
    ").reset_index()\n",
    "\n",
    "hist_maker(internet_count['internet'])\n",
    "print('Amount of clients used the service (internet):',internet_count['user_id'].nunique())"
   ]
  },
  {
   "cell_type": "markdown",
   "metadata": {},
   "source": [
    "Медиана и среднее по абоентам почти одинаковы,  46МБ и 48МБ. "
   ]
  },
  {
   "cell_type": "markdown",
   "metadata": {},
   "source": [
    "Необходимо помнить, что по условию: общая сумма за месяц для веб-трафика округлятся в бо́льшую сторону."
   ]
  },
  {
   "cell_type": "markdown",
   "metadata": {},
   "source": [
    "#### Таблица пользователи"
   ]
  },
  {
   "cell_type": "markdown",
   "metadata": {},
   "source": [
    "Поработаем с датами."
   ]
  },
  {
   "cell_type": "code",
   "execution_count": 35,
   "metadata": {},
   "outputs": [],
   "source": [
    "df_users['reg_date'] = pd.to_datetime(df_users['reg_date'] , format='%Y-%m-%d')\n",
    "df_users['month_num'] = pd.DatetimeIndex(df_users['reg_date']).month\n",
    "df_users['month'] = df_users['reg_date'].astype('datetime64[M]')\n",
    "\n",
    "df_users['churn_date'] = pd.to_datetime(df_users['churn_date'] , format='%Y-%m-%d')\n",
    "df_users['churn_month_num'] = pd.DatetimeIndex(df_users['churn_date']).month\n",
    "df_users['churn_month'] = df_users['churn_date'].astype('datetime64[M]')\n"
   ]
  },
  {
   "cell_type": "code",
   "execution_count": 36,
   "metadata": {},
   "outputs": [
    {
     "data": {
      "text/html": [
       "<div>\n",
       "<style scoped>\n",
       "    .dataframe tbody tr th:only-of-type {\n",
       "        vertical-align: middle;\n",
       "    }\n",
       "\n",
       "    .dataframe tbody tr th {\n",
       "        vertical-align: top;\n",
       "    }\n",
       "\n",
       "    .dataframe thead th {\n",
       "        text-align: right;\n",
       "    }\n",
       "</style>\n",
       "<table border=\"1\" class=\"dataframe\">\n",
       "  <thead>\n",
       "    <tr style=\"text-align: right;\">\n",
       "      <th></th>\n",
       "      <th>user_id</th>\n",
       "      <th>age</th>\n",
       "      <th>churn_date</th>\n",
       "      <th>city</th>\n",
       "      <th>first_name</th>\n",
       "      <th>last_name</th>\n",
       "      <th>reg_date</th>\n",
       "      <th>tariff</th>\n",
       "      <th>month_num</th>\n",
       "      <th>month</th>\n",
       "      <th>churn_month_num</th>\n",
       "      <th>churn_month</th>\n",
       "    </tr>\n",
       "  </thead>\n",
       "  <tbody>\n",
       "    <tr>\n",
       "      <th>0</th>\n",
       "      <td>1000</td>\n",
       "      <td>52</td>\n",
       "      <td>NaT</td>\n",
       "      <td>Краснодар</td>\n",
       "      <td>Рафаил</td>\n",
       "      <td>Верещагин</td>\n",
       "      <td>2018-05-25</td>\n",
       "      <td>ultra</td>\n",
       "      <td>5</td>\n",
       "      <td>2018-05-01</td>\n",
       "      <td>NaN</td>\n",
       "      <td>NaT</td>\n",
       "    </tr>\n",
       "    <tr>\n",
       "      <th>1</th>\n",
       "      <td>1001</td>\n",
       "      <td>41</td>\n",
       "      <td>NaT</td>\n",
       "      <td>Москва</td>\n",
       "      <td>Иван</td>\n",
       "      <td>Ежов</td>\n",
       "      <td>2018-11-01</td>\n",
       "      <td>smart</td>\n",
       "      <td>11</td>\n",
       "      <td>2018-11-01</td>\n",
       "      <td>NaN</td>\n",
       "      <td>NaT</td>\n",
       "    </tr>\n",
       "    <tr>\n",
       "      <th>2</th>\n",
       "      <td>1002</td>\n",
       "      <td>59</td>\n",
       "      <td>NaT</td>\n",
       "      <td>Стерлитамак</td>\n",
       "      <td>Евгений</td>\n",
       "      <td>Абрамович</td>\n",
       "      <td>2018-06-17</td>\n",
       "      <td>smart</td>\n",
       "      <td>6</td>\n",
       "      <td>2018-06-01</td>\n",
       "      <td>NaN</td>\n",
       "      <td>NaT</td>\n",
       "    </tr>\n",
       "    <tr>\n",
       "      <th>3</th>\n",
       "      <td>1003</td>\n",
       "      <td>23</td>\n",
       "      <td>NaT</td>\n",
       "      <td>Москва</td>\n",
       "      <td>Белла</td>\n",
       "      <td>Белякова</td>\n",
       "      <td>2018-08-17</td>\n",
       "      <td>ultra</td>\n",
       "      <td>8</td>\n",
       "      <td>2018-08-01</td>\n",
       "      <td>NaN</td>\n",
       "      <td>NaT</td>\n",
       "    </tr>\n",
       "    <tr>\n",
       "      <th>4</th>\n",
       "      <td>1004</td>\n",
       "      <td>68</td>\n",
       "      <td>NaT</td>\n",
       "      <td>Новокузнецк</td>\n",
       "      <td>Татьяна</td>\n",
       "      <td>Авдеенко</td>\n",
       "      <td>2018-05-14</td>\n",
       "      <td>ultra</td>\n",
       "      <td>5</td>\n",
       "      <td>2018-05-01</td>\n",
       "      <td>NaN</td>\n",
       "      <td>NaT</td>\n",
       "    </tr>\n",
       "    <tr>\n",
       "      <th>5</th>\n",
       "      <td>1005</td>\n",
       "      <td>67</td>\n",
       "      <td>NaT</td>\n",
       "      <td>Набережные Челны</td>\n",
       "      <td>Афанасий</td>\n",
       "      <td>Горлов</td>\n",
       "      <td>2018-01-25</td>\n",
       "      <td>smart</td>\n",
       "      <td>1</td>\n",
       "      <td>2018-01-01</td>\n",
       "      <td>NaN</td>\n",
       "      <td>NaT</td>\n",
       "    </tr>\n",
       "    <tr>\n",
       "      <th>6</th>\n",
       "      <td>1006</td>\n",
       "      <td>21</td>\n",
       "      <td>NaT</td>\n",
       "      <td>Ульяновск</td>\n",
       "      <td>Леонид</td>\n",
       "      <td>Ермолаев</td>\n",
       "      <td>2018-02-26</td>\n",
       "      <td>smart</td>\n",
       "      <td>2</td>\n",
       "      <td>2018-02-01</td>\n",
       "      <td>NaN</td>\n",
       "      <td>NaT</td>\n",
       "    </tr>\n",
       "    <tr>\n",
       "      <th>7</th>\n",
       "      <td>1007</td>\n",
       "      <td>65</td>\n",
       "      <td>NaT</td>\n",
       "      <td>Москва</td>\n",
       "      <td>Юна</td>\n",
       "      <td>Березина</td>\n",
       "      <td>2018-04-19</td>\n",
       "      <td>smart</td>\n",
       "      <td>4</td>\n",
       "      <td>2018-04-01</td>\n",
       "      <td>NaN</td>\n",
       "      <td>NaT</td>\n",
       "    </tr>\n",
       "    <tr>\n",
       "      <th>8</th>\n",
       "      <td>1008</td>\n",
       "      <td>63</td>\n",
       "      <td>NaT</td>\n",
       "      <td>Челябинск</td>\n",
       "      <td>Рустэм</td>\n",
       "      <td>Пономарёв</td>\n",
       "      <td>2018-12-19</td>\n",
       "      <td>smart</td>\n",
       "      <td>12</td>\n",
       "      <td>2018-12-01</td>\n",
       "      <td>NaN</td>\n",
       "      <td>NaT</td>\n",
       "    </tr>\n",
       "    <tr>\n",
       "      <th>9</th>\n",
       "      <td>1009</td>\n",
       "      <td>24</td>\n",
       "      <td>NaT</td>\n",
       "      <td>Пермь</td>\n",
       "      <td>Василиса</td>\n",
       "      <td>Блинова</td>\n",
       "      <td>2018-03-22</td>\n",
       "      <td>smart</td>\n",
       "      <td>3</td>\n",
       "      <td>2018-03-01</td>\n",
       "      <td>NaN</td>\n",
       "      <td>NaT</td>\n",
       "    </tr>\n",
       "    <tr>\n",
       "      <th>10</th>\n",
       "      <td>1010</td>\n",
       "      <td>26</td>\n",
       "      <td>NaT</td>\n",
       "      <td>Тюмень</td>\n",
       "      <td>Эдуард</td>\n",
       "      <td>Кононов</td>\n",
       "      <td>2018-08-05</td>\n",
       "      <td>smart</td>\n",
       "      <td>8</td>\n",
       "      <td>2018-08-01</td>\n",
       "      <td>NaN</td>\n",
       "      <td>NaT</td>\n",
       "    </tr>\n",
       "    <tr>\n",
       "      <th>11</th>\n",
       "      <td>1011</td>\n",
       "      <td>44</td>\n",
       "      <td>NaT</td>\n",
       "      <td>Самара</td>\n",
       "      <td>Веселина</td>\n",
       "      <td>Алёшко</td>\n",
       "      <td>2018-03-19</td>\n",
       "      <td>smart</td>\n",
       "      <td>3</td>\n",
       "      <td>2018-03-01</td>\n",
       "      <td>NaN</td>\n",
       "      <td>NaT</td>\n",
       "    </tr>\n",
       "    <tr>\n",
       "      <th>12</th>\n",
       "      <td>1012</td>\n",
       "      <td>38</td>\n",
       "      <td>NaT</td>\n",
       "      <td>Санкт-Петербург</td>\n",
       "      <td>Варлам</td>\n",
       "      <td>Соловьев</td>\n",
       "      <td>2018-03-28</td>\n",
       "      <td>smart</td>\n",
       "      <td>3</td>\n",
       "      <td>2018-03-01</td>\n",
       "      <td>NaN</td>\n",
       "      <td>NaT</td>\n",
       "    </tr>\n",
       "    <tr>\n",
       "      <th>13</th>\n",
       "      <td>1013</td>\n",
       "      <td>36</td>\n",
       "      <td>NaT</td>\n",
       "      <td>Иваново</td>\n",
       "      <td>Борис</td>\n",
       "      <td>Андреенко</td>\n",
       "      <td>2018-11-14</td>\n",
       "      <td>ultra</td>\n",
       "      <td>11</td>\n",
       "      <td>2018-11-01</td>\n",
       "      <td>NaN</td>\n",
       "      <td>NaT</td>\n",
       "    </tr>\n",
       "    <tr>\n",
       "      <th>14</th>\n",
       "      <td>1014</td>\n",
       "      <td>64</td>\n",
       "      <td>NaT</td>\n",
       "      <td>Чебоксары</td>\n",
       "      <td>Яков</td>\n",
       "      <td>Акинфьев</td>\n",
       "      <td>2018-05-15</td>\n",
       "      <td>smart</td>\n",
       "      <td>5</td>\n",
       "      <td>2018-05-01</td>\n",
       "      <td>NaN</td>\n",
       "      <td>NaT</td>\n",
       "    </tr>\n",
       "    <tr>\n",
       "      <th>15</th>\n",
       "      <td>1015</td>\n",
       "      <td>26</td>\n",
       "      <td>NaT</td>\n",
       "      <td>Челябинск</td>\n",
       "      <td>Рузана</td>\n",
       "      <td>Алюшина</td>\n",
       "      <td>2018-04-30</td>\n",
       "      <td>smart</td>\n",
       "      <td>4</td>\n",
       "      <td>2018-04-01</td>\n",
       "      <td>NaN</td>\n",
       "      <td>NaT</td>\n",
       "    </tr>\n",
       "    <tr>\n",
       "      <th>16</th>\n",
       "      <td>1016</td>\n",
       "      <td>58</td>\n",
       "      <td>NaT</td>\n",
       "      <td>Омск</td>\n",
       "      <td>Марица</td>\n",
       "      <td>Сазонова</td>\n",
       "      <td>2018-11-21</td>\n",
       "      <td>ultra</td>\n",
       "      <td>11</td>\n",
       "      <td>2018-11-01</td>\n",
       "      <td>NaN</td>\n",
       "      <td>NaT</td>\n",
       "    </tr>\n",
       "    <tr>\n",
       "      <th>17</th>\n",
       "      <td>1017</td>\n",
       "      <td>73</td>\n",
       "      <td>NaT</td>\n",
       "      <td>Краснодар</td>\n",
       "      <td>Мария</td>\n",
       "      <td>Аленникова</td>\n",
       "      <td>2018-05-22</td>\n",
       "      <td>smart</td>\n",
       "      <td>5</td>\n",
       "      <td>2018-05-01</td>\n",
       "      <td>NaN</td>\n",
       "      <td>NaT</td>\n",
       "    </tr>\n",
       "    <tr>\n",
       "      <th>18</th>\n",
       "      <td>1018</td>\n",
       "      <td>71</td>\n",
       "      <td>NaT</td>\n",
       "      <td>Уфа</td>\n",
       "      <td>Матвей</td>\n",
       "      <td>Золотов</td>\n",
       "      <td>2018-04-01</td>\n",
       "      <td>ultra</td>\n",
       "      <td>4</td>\n",
       "      <td>2018-04-01</td>\n",
       "      <td>NaN</td>\n",
       "      <td>NaT</td>\n",
       "    </tr>\n",
       "    <tr>\n",
       "      <th>19</th>\n",
       "      <td>1019</td>\n",
       "      <td>63</td>\n",
       "      <td>2018-10-05</td>\n",
       "      <td>Томск</td>\n",
       "      <td>Игнатий</td>\n",
       "      <td>Круглов</td>\n",
       "      <td>2018-05-16</td>\n",
       "      <td>ultra</td>\n",
       "      <td>5</td>\n",
       "      <td>2018-05-01</td>\n",
       "      <td>10.000</td>\n",
       "      <td>2018-10-01</td>\n",
       "    </tr>\n",
       "  </tbody>\n",
       "</table>\n",
       "</div>"
      ],
      "text/plain": [
       "    user_id  age churn_date              city first_name   last_name  \\\n",
       "0      1000   52        NaT         Краснодар     Рафаил   Верещагин   \n",
       "1      1001   41        NaT            Москва       Иван        Ежов   \n",
       "2      1002   59        NaT       Стерлитамак    Евгений   Абрамович   \n",
       "3      1003   23        NaT            Москва      Белла    Белякова   \n",
       "4      1004   68        NaT       Новокузнецк    Татьяна    Авдеенко   \n",
       "5      1005   67        NaT  Набережные Челны   Афанасий      Горлов   \n",
       "6      1006   21        NaT         Ульяновск     Леонид    Ермолаев   \n",
       "7      1007   65        NaT            Москва        Юна    Березина   \n",
       "8      1008   63        NaT         Челябинск     Рустэм   Пономарёв   \n",
       "9      1009   24        NaT             Пермь   Василиса     Блинова   \n",
       "10     1010   26        NaT            Тюмень     Эдуард     Кононов   \n",
       "11     1011   44        NaT            Самара   Веселина      Алёшко   \n",
       "12     1012   38        NaT   Санкт-Петербург     Варлам    Соловьев   \n",
       "13     1013   36        NaT           Иваново      Борис   Андреенко   \n",
       "14     1014   64        NaT         Чебоксары       Яков    Акинфьев   \n",
       "15     1015   26        NaT         Челябинск     Рузана     Алюшина   \n",
       "16     1016   58        NaT              Омск     Марица    Сазонова   \n",
       "17     1017   73        NaT         Краснодар      Мария  Аленникова   \n",
       "18     1018   71        NaT               Уфа     Матвей     Золотов   \n",
       "19     1019   63 2018-10-05             Томск    Игнатий     Круглов   \n",
       "\n",
       "     reg_date tariff  month_num      month  churn_month_num churn_month  \n",
       "0  2018-05-25  ultra          5 2018-05-01              NaN         NaT  \n",
       "1  2018-11-01  smart         11 2018-11-01              NaN         NaT  \n",
       "2  2018-06-17  smart          6 2018-06-01              NaN         NaT  \n",
       "3  2018-08-17  ultra          8 2018-08-01              NaN         NaT  \n",
       "4  2018-05-14  ultra          5 2018-05-01              NaN         NaT  \n",
       "5  2018-01-25  smart          1 2018-01-01              NaN         NaT  \n",
       "6  2018-02-26  smart          2 2018-02-01              NaN         NaT  \n",
       "7  2018-04-19  smart          4 2018-04-01              NaN         NaT  \n",
       "8  2018-12-19  smart         12 2018-12-01              NaN         NaT  \n",
       "9  2018-03-22  smart          3 2018-03-01              NaN         NaT  \n",
       "10 2018-08-05  smart          8 2018-08-01              NaN         NaT  \n",
       "11 2018-03-19  smart          3 2018-03-01              NaN         NaT  \n",
       "12 2018-03-28  smart          3 2018-03-01              NaN         NaT  \n",
       "13 2018-11-14  ultra         11 2018-11-01              NaN         NaT  \n",
       "14 2018-05-15  smart          5 2018-05-01              NaN         NaT  \n",
       "15 2018-04-30  smart          4 2018-04-01              NaN         NaT  \n",
       "16 2018-11-21  ultra         11 2018-11-01              NaN         NaT  \n",
       "17 2018-05-22  smart          5 2018-05-01              NaN         NaT  \n",
       "18 2018-04-01  ultra          4 2018-04-01              NaN         NaT  \n",
       "19 2018-05-16  ultra          5 2018-05-01           10.000  2018-10-01  "
      ]
     },
     "execution_count": 36,
     "metadata": {},
     "output_type": "execute_result"
    }
   ],
   "source": [
    "df_users.head(20)"
   ]
  },
  {
   "cell_type": "markdown",
   "metadata": {},
   "source": [
    "### Выводы:\n",
    "Среднестатистического абонента по нашим графикам можно описать так: \n",
    "\n",
    "- разговор занимает 6-7 минут;\n",
    "- отправляет, в среднем, 38 сообщений;\n",
    "- и для выхода в интернет ему требуется 46МБ. "
   ]
  },
  {
   "cell_type": "markdown",
   "metadata": {},
   "source": [
    "## Помесячная выручка с каждого клиента"
   ]
  },
  {
   "cell_type": "markdown",
   "metadata": {},
   "source": [
    "Посчитаем для каждого пользователя:\n",
    "\n",
    "- количество сделанных звонков и израсходованных минут разговора по месяцам;\n",
    "- количество отправленных сообщений по месяцам;\n",
    "- объем израсходованного интернет-трафика по месяцам;\n",
    "- помесячную выручку с каждого пользователя (вычтите бесплатный лимит из суммарного количества звонков, сообщений и интернет-трафика; остаток умножьте на значение из тарифного плана; прибавьте абонентскую плату, соответствующую тарифному плану)."
   ]
  },
  {
   "cell_type": "code",
   "execution_count": 37,
   "metadata": {},
   "outputs": [],
   "source": [
    "calls = df_calls.groupby(['user_id', 'month_num'])['duration'].agg(['count', 'sum'])\n",
    "msgs = df_messages.groupby(['user_id', 'month_num'])['id'].agg(['count'])\n",
    "internet = df_internet.groupby(['user_id', 'month_num' ]).sum()['mb_used']"
   ]
  },
  {
   "cell_type": "markdown",
   "metadata": {},
   "source": [
    "Сводная таблица:"
   ]
  },
  {
   "cell_type": "code",
   "execution_count": 38,
   "metadata": {},
   "outputs": [
    {
     "data": {
      "text/html": [
       "<div>\n",
       "<style scoped>\n",
       "    .dataframe tbody tr th:only-of-type {\n",
       "        vertical-align: middle;\n",
       "    }\n",
       "\n",
       "    .dataframe tbody tr th {\n",
       "        vertical-align: top;\n",
       "    }\n",
       "\n",
       "    .dataframe thead th {\n",
       "        text-align: right;\n",
       "    }\n",
       "</style>\n",
       "<table border=\"1\" class=\"dataframe\">\n",
       "  <thead>\n",
       "    <tr style=\"text-align: right;\">\n",
       "      <th></th>\n",
       "      <th>user_id</th>\n",
       "      <th>month_num</th>\n",
       "      <th>count</th>\n",
       "      <th>sum</th>\n",
       "      <th>count</th>\n",
       "      <th>mb_used</th>\n",
       "    </tr>\n",
       "  </thead>\n",
       "  <tbody>\n",
       "    <tr>\n",
       "      <th>0</th>\n",
       "      <td>1000</td>\n",
       "      <td>5</td>\n",
       "      <td>22.000</td>\n",
       "      <td>159.000</td>\n",
       "      <td>22.000</td>\n",
       "      <td>2253.490</td>\n",
       "    </tr>\n",
       "    <tr>\n",
       "      <th>1</th>\n",
       "      <td>1000</td>\n",
       "      <td>6</td>\n",
       "      <td>43.000</td>\n",
       "      <td>172.000</td>\n",
       "      <td>60.000</td>\n",
       "      <td>23233.770</td>\n",
       "    </tr>\n",
       "    <tr>\n",
       "      <th>2</th>\n",
       "      <td>1000</td>\n",
       "      <td>7</td>\n",
       "      <td>47.000</td>\n",
       "      <td>340.000</td>\n",
       "      <td>75.000</td>\n",
       "      <td>14003.640</td>\n",
       "    </tr>\n",
       "    <tr>\n",
       "      <th>3</th>\n",
       "      <td>1000</td>\n",
       "      <td>8</td>\n",
       "      <td>52.000</td>\n",
       "      <td>408.000</td>\n",
       "      <td>81.000</td>\n",
       "      <td>14055.930</td>\n",
       "    </tr>\n",
       "    <tr>\n",
       "      <th>4</th>\n",
       "      <td>1000</td>\n",
       "      <td>9</td>\n",
       "      <td>58.000</td>\n",
       "      <td>466.000</td>\n",
       "      <td>57.000</td>\n",
       "      <td>14568.910</td>\n",
       "    </tr>\n",
       "    <tr>\n",
       "      <th>5</th>\n",
       "      <td>1000</td>\n",
       "      <td>10</td>\n",
       "      <td>57.000</td>\n",
       "      <td>350.000</td>\n",
       "      <td>73.000</td>\n",
       "      <td>14702.490</td>\n",
       "    </tr>\n",
       "    <tr>\n",
       "      <th>6</th>\n",
       "      <td>1000</td>\n",
       "      <td>11</td>\n",
       "      <td>43.000</td>\n",
       "      <td>338.000</td>\n",
       "      <td>58.000</td>\n",
       "      <td>14756.470</td>\n",
       "    </tr>\n",
       "    <tr>\n",
       "      <th>7</th>\n",
       "      <td>1000</td>\n",
       "      <td>12</td>\n",
       "      <td>46.000</td>\n",
       "      <td>333.000</td>\n",
       "      <td>70.000</td>\n",
       "      <td>9817.610</td>\n",
       "    </tr>\n",
       "    <tr>\n",
       "      <th>8</th>\n",
       "      <td>1001</td>\n",
       "      <td>11</td>\n",
       "      <td>59.000</td>\n",
       "      <td>430.000</td>\n",
       "      <td>NaN</td>\n",
       "      <td>18429.340</td>\n",
       "    </tr>\n",
       "    <tr>\n",
       "      <th>9</th>\n",
       "      <td>1001</td>\n",
       "      <td>12</td>\n",
       "      <td>63.000</td>\n",
       "      <td>414.000</td>\n",
       "      <td>NaN</td>\n",
       "      <td>14036.660</td>\n",
       "    </tr>\n",
       "  </tbody>\n",
       "</table>\n",
       "</div>"
      ],
      "text/plain": [
       "   user_id  month_num  count     sum  count   mb_used\n",
       "0     1000          5 22.000 159.000 22.000  2253.490\n",
       "1     1000          6 43.000 172.000 60.000 23233.770\n",
       "2     1000          7 47.000 340.000 75.000 14003.640\n",
       "3     1000          8 52.000 408.000 81.000 14055.930\n",
       "4     1000          9 58.000 466.000 57.000 14568.910\n",
       "5     1000         10 57.000 350.000 73.000 14702.490\n",
       "6     1000         11 43.000 338.000 58.000 14756.470\n",
       "7     1000         12 46.000 333.000 70.000  9817.610\n",
       "8     1001         11 59.000 430.000    NaN 18429.340\n",
       "9     1001         12 63.000 414.000    NaN 14036.660"
      ]
     },
     "execution_count": 38,
     "metadata": {},
     "output_type": "execute_result"
    }
   ],
   "source": [
    "data = pd.concat([calls, msgs, internet], axis=1)\n",
    "data= data.reset_index()\n",
    "data.head(10)"
   ]
  },
  {
   "cell_type": "code",
   "execution_count": 39,
   "metadata": {},
   "outputs": [],
   "source": [
    "data['mb_used'] = np.ceil(data['mb_used'])"
   ]
  },
  {
   "cell_type": "markdown",
   "metadata": {},
   "source": [
    "Нужно переименовать колонки."
   ]
  },
  {
   "cell_type": "code",
   "execution_count": 40,
   "metadata": {},
   "outputs": [],
   "source": [
    "data.columns = ['user_id', 'month', 'calls', 'calls_duration', \n",
    "                            'messeges', 'internet']"
   ]
  },
  {
   "cell_type": "code",
   "execution_count": 41,
   "metadata": {},
   "outputs": [
    {
     "data": {
      "text/html": [
       "<div>\n",
       "<style scoped>\n",
       "    .dataframe tbody tr th:only-of-type {\n",
       "        vertical-align: middle;\n",
       "    }\n",
       "\n",
       "    .dataframe tbody tr th {\n",
       "        vertical-align: top;\n",
       "    }\n",
       "\n",
       "    .dataframe thead th {\n",
       "        text-align: right;\n",
       "    }\n",
       "</style>\n",
       "<table border=\"1\" class=\"dataframe\">\n",
       "  <thead>\n",
       "    <tr style=\"text-align: right;\">\n",
       "      <th></th>\n",
       "      <th>index</th>\n",
       "      <th>user_id</th>\n",
       "      <th>month</th>\n",
       "      <th>calls</th>\n",
       "      <th>calls_duration</th>\n",
       "      <th>messeges</th>\n",
       "      <th>internet</th>\n",
       "    </tr>\n",
       "  </thead>\n",
       "  <tbody>\n",
       "    <tr>\n",
       "      <th>0</th>\n",
       "      <td>0</td>\n",
       "      <td>1000</td>\n",
       "      <td>5</td>\n",
       "      <td>22.000</td>\n",
       "      <td>159.000</td>\n",
       "      <td>22.000</td>\n",
       "      <td>2254.000</td>\n",
       "    </tr>\n",
       "    <tr>\n",
       "      <th>1</th>\n",
       "      <td>1</td>\n",
       "      <td>1000</td>\n",
       "      <td>6</td>\n",
       "      <td>43.000</td>\n",
       "      <td>172.000</td>\n",
       "      <td>60.000</td>\n",
       "      <td>23234.000</td>\n",
       "    </tr>\n",
       "    <tr>\n",
       "      <th>2</th>\n",
       "      <td>2</td>\n",
       "      <td>1000</td>\n",
       "      <td>7</td>\n",
       "      <td>47.000</td>\n",
       "      <td>340.000</td>\n",
       "      <td>75.000</td>\n",
       "      <td>14004.000</td>\n",
       "    </tr>\n",
       "    <tr>\n",
       "      <th>3</th>\n",
       "      <td>3</td>\n",
       "      <td>1000</td>\n",
       "      <td>8</td>\n",
       "      <td>52.000</td>\n",
       "      <td>408.000</td>\n",
       "      <td>81.000</td>\n",
       "      <td>14056.000</td>\n",
       "    </tr>\n",
       "    <tr>\n",
       "      <th>4</th>\n",
       "      <td>4</td>\n",
       "      <td>1000</td>\n",
       "      <td>9</td>\n",
       "      <td>58.000</td>\n",
       "      <td>466.000</td>\n",
       "      <td>57.000</td>\n",
       "      <td>14569.000</td>\n",
       "    </tr>\n",
       "    <tr>\n",
       "      <th>5</th>\n",
       "      <td>5</td>\n",
       "      <td>1000</td>\n",
       "      <td>10</td>\n",
       "      <td>57.000</td>\n",
       "      <td>350.000</td>\n",
       "      <td>73.000</td>\n",
       "      <td>14703.000</td>\n",
       "    </tr>\n",
       "    <tr>\n",
       "      <th>6</th>\n",
       "      <td>6</td>\n",
       "      <td>1000</td>\n",
       "      <td>11</td>\n",
       "      <td>43.000</td>\n",
       "      <td>338.000</td>\n",
       "      <td>58.000</td>\n",
       "      <td>14757.000</td>\n",
       "    </tr>\n",
       "    <tr>\n",
       "      <th>7</th>\n",
       "      <td>7</td>\n",
       "      <td>1000</td>\n",
       "      <td>12</td>\n",
       "      <td>46.000</td>\n",
       "      <td>333.000</td>\n",
       "      <td>70.000</td>\n",
       "      <td>9818.000</td>\n",
       "    </tr>\n",
       "    <tr>\n",
       "      <th>8</th>\n",
       "      <td>8</td>\n",
       "      <td>1001</td>\n",
       "      <td>11</td>\n",
       "      <td>59.000</td>\n",
       "      <td>430.000</td>\n",
       "      <td>NaN</td>\n",
       "      <td>18430.000</td>\n",
       "    </tr>\n",
       "    <tr>\n",
       "      <th>9</th>\n",
       "      <td>9</td>\n",
       "      <td>1001</td>\n",
       "      <td>12</td>\n",
       "      <td>63.000</td>\n",
       "      <td>414.000</td>\n",
       "      <td>NaN</td>\n",
       "      <td>14037.000</td>\n",
       "    </tr>\n",
       "  </tbody>\n",
       "</table>\n",
       "</div>"
      ],
      "text/plain": [
       "   index  user_id  month  calls  calls_duration  messeges  internet\n",
       "0      0     1000      5 22.000         159.000    22.000  2254.000\n",
       "1      1     1000      6 43.000         172.000    60.000 23234.000\n",
       "2      2     1000      7 47.000         340.000    75.000 14004.000\n",
       "3      3     1000      8 52.000         408.000    81.000 14056.000\n",
       "4      4     1000      9 58.000         466.000    57.000 14569.000\n",
       "5      5     1000     10 57.000         350.000    73.000 14703.000\n",
       "6      6     1000     11 43.000         338.000    58.000 14757.000\n",
       "7      7     1000     12 46.000         333.000    70.000  9818.000\n",
       "8      8     1001     11 59.000         430.000       NaN 18430.000\n",
       "9      9     1001     12 63.000         414.000       NaN 14037.000"
      ]
     },
     "execution_count": 41,
     "metadata": {},
     "output_type": "execute_result"
    }
   ],
   "source": [
    "data = data.reset_index()\n",
    "data.head(10)"
   ]
  },
  {
   "cell_type": "markdown",
   "metadata": {},
   "source": [
    "Добавим столбцы тариф и город."
   ]
  },
  {
   "cell_type": "code",
   "execution_count": 42,
   "metadata": {},
   "outputs": [
    {
     "data": {
      "text/html": [
       "<div>\n",
       "<style scoped>\n",
       "    .dataframe tbody tr th:only-of-type {\n",
       "        vertical-align: middle;\n",
       "    }\n",
       "\n",
       "    .dataframe tbody tr th {\n",
       "        vertical-align: top;\n",
       "    }\n",
       "\n",
       "    .dataframe thead th {\n",
       "        text-align: right;\n",
       "    }\n",
       "</style>\n",
       "<table border=\"1\" class=\"dataframe\">\n",
       "  <thead>\n",
       "    <tr style=\"text-align: right;\">\n",
       "      <th></th>\n",
       "      <th>index</th>\n",
       "      <th>user_id</th>\n",
       "      <th>month</th>\n",
       "      <th>calls</th>\n",
       "      <th>calls_duration</th>\n",
       "      <th>messeges</th>\n",
       "      <th>internet</th>\n",
       "      <th>city</th>\n",
       "      <th>tariff</th>\n",
       "    </tr>\n",
       "  </thead>\n",
       "  <tbody>\n",
       "    <tr>\n",
       "      <th>0</th>\n",
       "      <td>0</td>\n",
       "      <td>1000</td>\n",
       "      <td>5</td>\n",
       "      <td>22.000</td>\n",
       "      <td>159.000</td>\n",
       "      <td>22.000</td>\n",
       "      <td>2254.000</td>\n",
       "      <td>Краснодар</td>\n",
       "      <td>ultra</td>\n",
       "    </tr>\n",
       "    <tr>\n",
       "      <th>1</th>\n",
       "      <td>1</td>\n",
       "      <td>1000</td>\n",
       "      <td>6</td>\n",
       "      <td>43.000</td>\n",
       "      <td>172.000</td>\n",
       "      <td>60.000</td>\n",
       "      <td>23234.000</td>\n",
       "      <td>Краснодар</td>\n",
       "      <td>ultra</td>\n",
       "    </tr>\n",
       "    <tr>\n",
       "      <th>2</th>\n",
       "      <td>2</td>\n",
       "      <td>1000</td>\n",
       "      <td>7</td>\n",
       "      <td>47.000</td>\n",
       "      <td>340.000</td>\n",
       "      <td>75.000</td>\n",
       "      <td>14004.000</td>\n",
       "      <td>Краснодар</td>\n",
       "      <td>ultra</td>\n",
       "    </tr>\n",
       "    <tr>\n",
       "      <th>3</th>\n",
       "      <td>3</td>\n",
       "      <td>1000</td>\n",
       "      <td>8</td>\n",
       "      <td>52.000</td>\n",
       "      <td>408.000</td>\n",
       "      <td>81.000</td>\n",
       "      <td>14056.000</td>\n",
       "      <td>Краснодар</td>\n",
       "      <td>ultra</td>\n",
       "    </tr>\n",
       "    <tr>\n",
       "      <th>4</th>\n",
       "      <td>4</td>\n",
       "      <td>1000</td>\n",
       "      <td>9</td>\n",
       "      <td>58.000</td>\n",
       "      <td>466.000</td>\n",
       "      <td>57.000</td>\n",
       "      <td>14569.000</td>\n",
       "      <td>Краснодар</td>\n",
       "      <td>ultra</td>\n",
       "    </tr>\n",
       "    <tr>\n",
       "      <th>5</th>\n",
       "      <td>5</td>\n",
       "      <td>1000</td>\n",
       "      <td>10</td>\n",
       "      <td>57.000</td>\n",
       "      <td>350.000</td>\n",
       "      <td>73.000</td>\n",
       "      <td>14703.000</td>\n",
       "      <td>Краснодар</td>\n",
       "      <td>ultra</td>\n",
       "    </tr>\n",
       "    <tr>\n",
       "      <th>6</th>\n",
       "      <td>6</td>\n",
       "      <td>1000</td>\n",
       "      <td>11</td>\n",
       "      <td>43.000</td>\n",
       "      <td>338.000</td>\n",
       "      <td>58.000</td>\n",
       "      <td>14757.000</td>\n",
       "      <td>Краснодар</td>\n",
       "      <td>ultra</td>\n",
       "    </tr>\n",
       "    <tr>\n",
       "      <th>7</th>\n",
       "      <td>7</td>\n",
       "      <td>1000</td>\n",
       "      <td>12</td>\n",
       "      <td>46.000</td>\n",
       "      <td>333.000</td>\n",
       "      <td>70.000</td>\n",
       "      <td>9818.000</td>\n",
       "      <td>Краснодар</td>\n",
       "      <td>ultra</td>\n",
       "    </tr>\n",
       "    <tr>\n",
       "      <th>8</th>\n",
       "      <td>8</td>\n",
       "      <td>1001</td>\n",
       "      <td>11</td>\n",
       "      <td>59.000</td>\n",
       "      <td>430.000</td>\n",
       "      <td>NaN</td>\n",
       "      <td>18430.000</td>\n",
       "      <td>Москва</td>\n",
       "      <td>smart</td>\n",
       "    </tr>\n",
       "    <tr>\n",
       "      <th>9</th>\n",
       "      <td>9</td>\n",
       "      <td>1001</td>\n",
       "      <td>12</td>\n",
       "      <td>63.000</td>\n",
       "      <td>414.000</td>\n",
       "      <td>NaN</td>\n",
       "      <td>14037.000</td>\n",
       "      <td>Москва</td>\n",
       "      <td>smart</td>\n",
       "    </tr>\n",
       "  </tbody>\n",
       "</table>\n",
       "</div>"
      ],
      "text/plain": [
       "   index  user_id  month  calls  calls_duration  messeges  internet  \\\n",
       "0      0     1000      5 22.000         159.000    22.000  2254.000   \n",
       "1      1     1000      6 43.000         172.000    60.000 23234.000   \n",
       "2      2     1000      7 47.000         340.000    75.000 14004.000   \n",
       "3      3     1000      8 52.000         408.000    81.000 14056.000   \n",
       "4      4     1000      9 58.000         466.000    57.000 14569.000   \n",
       "5      5     1000     10 57.000         350.000    73.000 14703.000   \n",
       "6      6     1000     11 43.000         338.000    58.000 14757.000   \n",
       "7      7     1000     12 46.000         333.000    70.000  9818.000   \n",
       "8      8     1001     11 59.000         430.000       NaN 18430.000   \n",
       "9      9     1001     12 63.000         414.000       NaN 14037.000   \n",
       "\n",
       "        city tariff  \n",
       "0  Краснодар  ultra  \n",
       "1  Краснодар  ultra  \n",
       "2  Краснодар  ultra  \n",
       "3  Краснодар  ultra  \n",
       "4  Краснодар  ultra  \n",
       "5  Краснодар  ultra  \n",
       "6  Краснодар  ultra  \n",
       "7  Краснодар  ultra  \n",
       "8     Москва  smart  \n",
       "9     Москва  smart  "
      ]
     },
     "execution_count": 42,
     "metadata": {},
     "output_type": "execute_result"
    }
   ],
   "source": [
    "map_to_fill_city = dict(pd.Series(df_users['city'].values, index=df_users['user_id']))\n",
    "data['city'] = data['user_id'].map(map_to_fill_city)\n",
    "\n",
    "map_to_fill_tariff = dict(pd.Series(df_users['tariff'].values, index=df_users['user_id']))\n",
    "data['tariff'] = data['user_id'].map(map_to_fill_tariff)\n",
    "\n",
    "data.head(10)"
   ]
  },
  {
   "cell_type": "code",
   "execution_count": 43,
   "metadata": {},
   "outputs": [
    {
     "name": "stdout",
     "output_type": "stream",
     "text": [
      "<class 'pandas.core.frame.DataFrame'>\n",
      "RangeIndex: 3214 entries, 0 to 3213\n",
      "Data columns (total 9 columns):\n",
      " #   Column          Non-Null Count  Dtype  \n",
      "---  ------          --------------  -----  \n",
      " 0   index           3214 non-null   int64  \n",
      " 1   user_id         3214 non-null   int64  \n",
      " 2   month           3214 non-null   int64  \n",
      " 3   calls           3174 non-null   float64\n",
      " 4   calls_duration  3174 non-null   float64\n",
      " 5   messeges        2717 non-null   float64\n",
      " 6   internet        3203 non-null   float64\n",
      " 7   city            3214 non-null   object \n",
      " 8   tariff          3214 non-null   object \n",
      "dtypes: float64(4), int64(3), object(2)\n",
      "memory usage: 226.1+ KB\n"
     ]
    }
   ],
   "source": [
    "data.info()"
   ]
  },
  {
   "cell_type": "markdown",
   "metadata": {},
   "source": [
    "Есть пропуски в выборке, возможно, некоторые клиенты не пользовались своим тарифом на 100%(не звонили или не писали СМС). Заменим значения в таких столбцах на 0."
   ]
  },
  {
   "cell_type": "code",
   "execution_count": 44,
   "metadata": {},
   "outputs": [
    {
     "name": "stdout",
     "output_type": "stream",
     "text": [
      "<class 'pandas.core.frame.DataFrame'>\n",
      "RangeIndex: 3214 entries, 0 to 3213\n",
      "Data columns (total 9 columns):\n",
      " #   Column          Non-Null Count  Dtype  \n",
      "---  ------          --------------  -----  \n",
      " 0   index           3214 non-null   int64  \n",
      " 1   user_id         3214 non-null   int64  \n",
      " 2   month           3214 non-null   int64  \n",
      " 3   calls           3214 non-null   float64\n",
      " 4   calls_duration  3214 non-null   float64\n",
      " 5   messeges        3214 non-null   float64\n",
      " 6   internet        3214 non-null   float64\n",
      " 7   city            3214 non-null   object \n",
      " 8   tariff          3214 non-null   object \n",
      "dtypes: float64(4), int64(3), object(2)\n",
      "memory usage: 226.1+ KB\n"
     ]
    }
   ],
   "source": [
    "data = data.fillna(0)\n",
    "data.info()"
   ]
  },
  {
   "cell_type": "markdown",
   "metadata": {},
   "source": [
    "Теперь данных достаточно, можно приступать к расчетам выручки. "
   ]
  },
  {
   "cell_type": "markdown",
   "metadata": {},
   "source": [
    "Переименуем колонку в таблице tariffs"
   ]
  },
  {
   "cell_type": "code",
   "execution_count": 45,
   "metadata": {},
   "outputs": [
    {
     "data": {
      "text/html": [
       "<div>\n",
       "<style scoped>\n",
       "    .dataframe tbody tr th:only-of-type {\n",
       "        vertical-align: middle;\n",
       "    }\n",
       "\n",
       "    .dataframe tbody tr th {\n",
       "        vertical-align: top;\n",
       "    }\n",
       "\n",
       "    .dataframe thead th {\n",
       "        text-align: right;\n",
       "    }\n",
       "</style>\n",
       "<table border=\"1\" class=\"dataframe\">\n",
       "  <thead>\n",
       "    <tr style=\"text-align: right;\">\n",
       "      <th></th>\n",
       "      <th>messages_included</th>\n",
       "      <th>mb_per_month_included</th>\n",
       "      <th>minutes_included</th>\n",
       "      <th>rub_monthly_fee</th>\n",
       "      <th>rub_per_gb</th>\n",
       "      <th>rub_per_message</th>\n",
       "      <th>rub_per_minute</th>\n",
       "      <th>tariff</th>\n",
       "    </tr>\n",
       "  </thead>\n",
       "  <tbody>\n",
       "    <tr>\n",
       "      <th>0</th>\n",
       "      <td>50</td>\n",
       "      <td>15360</td>\n",
       "      <td>500</td>\n",
       "      <td>550</td>\n",
       "      <td>200</td>\n",
       "      <td>3</td>\n",
       "      <td>3</td>\n",
       "      <td>smart</td>\n",
       "    </tr>\n",
       "    <tr>\n",
       "      <th>1</th>\n",
       "      <td>1000</td>\n",
       "      <td>30720</td>\n",
       "      <td>3000</td>\n",
       "      <td>1950</td>\n",
       "      <td>150</td>\n",
       "      <td>1</td>\n",
       "      <td>1</td>\n",
       "      <td>ultra</td>\n",
       "    </tr>\n",
       "  </tbody>\n",
       "</table>\n",
       "</div>"
      ],
      "text/plain": [
       "   messages_included  mb_per_month_included  minutes_included  \\\n",
       "0                 50                  15360               500   \n",
       "1               1000                  30720              3000   \n",
       "\n",
       "   rub_monthly_fee  rub_per_gb  rub_per_message  rub_per_minute tariff  \n",
       "0              550         200                3               3  smart  \n",
       "1             1950         150                1               1  ultra  "
      ]
     },
     "execution_count": 45,
     "metadata": {},
     "output_type": "execute_result"
    }
   ],
   "source": [
    "df_tariffs.rename(columns = {'tariff_name' : 'tariff'}, inplace = True)\n",
    "df_tariffs.head()"
   ]
  },
  {
   "cell_type": "markdown",
   "metadata": {},
   "source": [
    "Склеим две таблицы"
   ]
  },
  {
   "cell_type": "code",
   "execution_count": 46,
   "metadata": {},
   "outputs": [
    {
     "data": {
      "text/html": [
       "<div>\n",
       "<style scoped>\n",
       "    .dataframe tbody tr th:only-of-type {\n",
       "        vertical-align: middle;\n",
       "    }\n",
       "\n",
       "    .dataframe tbody tr th {\n",
       "        vertical-align: top;\n",
       "    }\n",
       "\n",
       "    .dataframe thead th {\n",
       "        text-align: right;\n",
       "    }\n",
       "</style>\n",
       "<table border=\"1\" class=\"dataframe\">\n",
       "  <thead>\n",
       "    <tr style=\"text-align: right;\">\n",
       "      <th></th>\n",
       "      <th>index</th>\n",
       "      <th>user_id</th>\n",
       "      <th>month</th>\n",
       "      <th>calls</th>\n",
       "      <th>calls_duration</th>\n",
       "      <th>messeges</th>\n",
       "      <th>internet</th>\n",
       "      <th>city</th>\n",
       "      <th>tariff</th>\n",
       "      <th>messages_included</th>\n",
       "      <th>mb_per_month_included</th>\n",
       "      <th>minutes_included</th>\n",
       "      <th>rub_monthly_fee</th>\n",
       "      <th>rub_per_gb</th>\n",
       "      <th>rub_per_message</th>\n",
       "      <th>rub_per_minute</th>\n",
       "    </tr>\n",
       "  </thead>\n",
       "  <tbody>\n",
       "    <tr>\n",
       "      <th>0</th>\n",
       "      <td>0</td>\n",
       "      <td>1000</td>\n",
       "      <td>5</td>\n",
       "      <td>22.000</td>\n",
       "      <td>159.000</td>\n",
       "      <td>22.000</td>\n",
       "      <td>2254.000</td>\n",
       "      <td>Краснодар</td>\n",
       "      <td>ultra</td>\n",
       "      <td>1000</td>\n",
       "      <td>30720</td>\n",
       "      <td>3000</td>\n",
       "      <td>1950</td>\n",
       "      <td>150</td>\n",
       "      <td>1</td>\n",
       "      <td>1</td>\n",
       "    </tr>\n",
       "    <tr>\n",
       "      <th>1</th>\n",
       "      <td>1</td>\n",
       "      <td>1000</td>\n",
       "      <td>6</td>\n",
       "      <td>43.000</td>\n",
       "      <td>172.000</td>\n",
       "      <td>60.000</td>\n",
       "      <td>23234.000</td>\n",
       "      <td>Краснодар</td>\n",
       "      <td>ultra</td>\n",
       "      <td>1000</td>\n",
       "      <td>30720</td>\n",
       "      <td>3000</td>\n",
       "      <td>1950</td>\n",
       "      <td>150</td>\n",
       "      <td>1</td>\n",
       "      <td>1</td>\n",
       "    </tr>\n",
       "    <tr>\n",
       "      <th>2</th>\n",
       "      <td>2</td>\n",
       "      <td>1000</td>\n",
       "      <td>7</td>\n",
       "      <td>47.000</td>\n",
       "      <td>340.000</td>\n",
       "      <td>75.000</td>\n",
       "      <td>14004.000</td>\n",
       "      <td>Краснодар</td>\n",
       "      <td>ultra</td>\n",
       "      <td>1000</td>\n",
       "      <td>30720</td>\n",
       "      <td>3000</td>\n",
       "      <td>1950</td>\n",
       "      <td>150</td>\n",
       "      <td>1</td>\n",
       "      <td>1</td>\n",
       "    </tr>\n",
       "    <tr>\n",
       "      <th>3</th>\n",
       "      <td>3</td>\n",
       "      <td>1000</td>\n",
       "      <td>8</td>\n",
       "      <td>52.000</td>\n",
       "      <td>408.000</td>\n",
       "      <td>81.000</td>\n",
       "      <td>14056.000</td>\n",
       "      <td>Краснодар</td>\n",
       "      <td>ultra</td>\n",
       "      <td>1000</td>\n",
       "      <td>30720</td>\n",
       "      <td>3000</td>\n",
       "      <td>1950</td>\n",
       "      <td>150</td>\n",
       "      <td>1</td>\n",
       "      <td>1</td>\n",
       "    </tr>\n",
       "    <tr>\n",
       "      <th>4</th>\n",
       "      <td>4</td>\n",
       "      <td>1000</td>\n",
       "      <td>9</td>\n",
       "      <td>58.000</td>\n",
       "      <td>466.000</td>\n",
       "      <td>57.000</td>\n",
       "      <td>14569.000</td>\n",
       "      <td>Краснодар</td>\n",
       "      <td>ultra</td>\n",
       "      <td>1000</td>\n",
       "      <td>30720</td>\n",
       "      <td>3000</td>\n",
       "      <td>1950</td>\n",
       "      <td>150</td>\n",
       "      <td>1</td>\n",
       "      <td>1</td>\n",
       "    </tr>\n",
       "    <tr>\n",
       "      <th>5</th>\n",
       "      <td>5</td>\n",
       "      <td>1000</td>\n",
       "      <td>10</td>\n",
       "      <td>57.000</td>\n",
       "      <td>350.000</td>\n",
       "      <td>73.000</td>\n",
       "      <td>14703.000</td>\n",
       "      <td>Краснодар</td>\n",
       "      <td>ultra</td>\n",
       "      <td>1000</td>\n",
       "      <td>30720</td>\n",
       "      <td>3000</td>\n",
       "      <td>1950</td>\n",
       "      <td>150</td>\n",
       "      <td>1</td>\n",
       "      <td>1</td>\n",
       "    </tr>\n",
       "    <tr>\n",
       "      <th>6</th>\n",
       "      <td>6</td>\n",
       "      <td>1000</td>\n",
       "      <td>11</td>\n",
       "      <td>43.000</td>\n",
       "      <td>338.000</td>\n",
       "      <td>58.000</td>\n",
       "      <td>14757.000</td>\n",
       "      <td>Краснодар</td>\n",
       "      <td>ultra</td>\n",
       "      <td>1000</td>\n",
       "      <td>30720</td>\n",
       "      <td>3000</td>\n",
       "      <td>1950</td>\n",
       "      <td>150</td>\n",
       "      <td>1</td>\n",
       "      <td>1</td>\n",
       "    </tr>\n",
       "    <tr>\n",
       "      <th>7</th>\n",
       "      <td>7</td>\n",
       "      <td>1000</td>\n",
       "      <td>12</td>\n",
       "      <td>46.000</td>\n",
       "      <td>333.000</td>\n",
       "      <td>70.000</td>\n",
       "      <td>9818.000</td>\n",
       "      <td>Краснодар</td>\n",
       "      <td>ultra</td>\n",
       "      <td>1000</td>\n",
       "      <td>30720</td>\n",
       "      <td>3000</td>\n",
       "      <td>1950</td>\n",
       "      <td>150</td>\n",
       "      <td>1</td>\n",
       "      <td>1</td>\n",
       "    </tr>\n",
       "    <tr>\n",
       "      <th>8</th>\n",
       "      <td>8</td>\n",
       "      <td>1001</td>\n",
       "      <td>11</td>\n",
       "      <td>59.000</td>\n",
       "      <td>430.000</td>\n",
       "      <td>0.000</td>\n",
       "      <td>18430.000</td>\n",
       "      <td>Москва</td>\n",
       "      <td>smart</td>\n",
       "      <td>50</td>\n",
       "      <td>15360</td>\n",
       "      <td>500</td>\n",
       "      <td>550</td>\n",
       "      <td>200</td>\n",
       "      <td>3</td>\n",
       "      <td>3</td>\n",
       "    </tr>\n",
       "    <tr>\n",
       "      <th>9</th>\n",
       "      <td>9</td>\n",
       "      <td>1001</td>\n",
       "      <td>12</td>\n",
       "      <td>63.000</td>\n",
       "      <td>414.000</td>\n",
       "      <td>0.000</td>\n",
       "      <td>14037.000</td>\n",
       "      <td>Москва</td>\n",
       "      <td>smart</td>\n",
       "      <td>50</td>\n",
       "      <td>15360</td>\n",
       "      <td>500</td>\n",
       "      <td>550</td>\n",
       "      <td>200</td>\n",
       "      <td>3</td>\n",
       "      <td>3</td>\n",
       "    </tr>\n",
       "  </tbody>\n",
       "</table>\n",
       "</div>"
      ],
      "text/plain": [
       "   index  user_id  month  calls  calls_duration  messeges  internet  \\\n",
       "0      0     1000      5 22.000         159.000    22.000  2254.000   \n",
       "1      1     1000      6 43.000         172.000    60.000 23234.000   \n",
       "2      2     1000      7 47.000         340.000    75.000 14004.000   \n",
       "3      3     1000      8 52.000         408.000    81.000 14056.000   \n",
       "4      4     1000      9 58.000         466.000    57.000 14569.000   \n",
       "5      5     1000     10 57.000         350.000    73.000 14703.000   \n",
       "6      6     1000     11 43.000         338.000    58.000 14757.000   \n",
       "7      7     1000     12 46.000         333.000    70.000  9818.000   \n",
       "8      8     1001     11 59.000         430.000     0.000 18430.000   \n",
       "9      9     1001     12 63.000         414.000     0.000 14037.000   \n",
       "\n",
       "        city tariff  messages_included  mb_per_month_included  \\\n",
       "0  Краснодар  ultra               1000                  30720   \n",
       "1  Краснодар  ultra               1000                  30720   \n",
       "2  Краснодар  ultra               1000                  30720   \n",
       "3  Краснодар  ultra               1000                  30720   \n",
       "4  Краснодар  ultra               1000                  30720   \n",
       "5  Краснодар  ultra               1000                  30720   \n",
       "6  Краснодар  ultra               1000                  30720   \n",
       "7  Краснодар  ultra               1000                  30720   \n",
       "8     Москва  smart                 50                  15360   \n",
       "9     Москва  smart                 50                  15360   \n",
       "\n",
       "   minutes_included  rub_monthly_fee  rub_per_gb  rub_per_message  \\\n",
       "0              3000             1950         150                1   \n",
       "1              3000             1950         150                1   \n",
       "2              3000             1950         150                1   \n",
       "3              3000             1950         150                1   \n",
       "4              3000             1950         150                1   \n",
       "5              3000             1950         150                1   \n",
       "6              3000             1950         150                1   \n",
       "7              3000             1950         150                1   \n",
       "8               500              550         200                3   \n",
       "9               500              550         200                3   \n",
       "\n",
       "   rub_per_minute  \n",
       "0               1  \n",
       "1               1  \n",
       "2               1  \n",
       "3               1  \n",
       "4               1  \n",
       "5               1  \n",
       "6               1  \n",
       "7               1  \n",
       "8               3  \n",
       "9               3  "
      ]
     },
     "execution_count": 46,
     "metadata": {},
     "output_type": "execute_result"
    }
   ],
   "source": [
    "data = data.merge(df_tariffs, on = ['tariff'], how = 'left')\n",
    "data.head(10)"
   ]
  },
  {
   "cell_type": "code",
   "execution_count": 48,
   "metadata": {},
   "outputs": [],
   "source": [
    "def calculate(row):\n",
    "    var = row.rub_monthly_fee\n",
    "    if (row.messeges > row.messages_included):\n",
    "        var += (row.messeges - row.messages_included)*row.rub_per_message\n",
    "    if (row.calls_duration > row.minutes_included):\n",
    "        var += (row.calls_duration - row.minutes_included)*row.rub_per_minute\n",
    "    if (row.internet > row.mb_per_month_included):\n",
    "        var +=  np.ceil((row.internet - row.mb_per_month_included)/1024)*row.rub_per_gb\n",
    "    return round(var,2)"
   ]
  },
  {
   "cell_type": "markdown",
   "metadata": {},
   "source": [
    "Создадим новый столбец с переплатами абонентов на конец месяца:"
   ]
  },
  {
   "cell_type": "code",
   "execution_count": 49,
   "metadata": {},
   "outputs": [
    {
     "data": {
      "text/html": [
       "<div>\n",
       "<style scoped>\n",
       "    .dataframe tbody tr th:only-of-type {\n",
       "        vertical-align: middle;\n",
       "    }\n",
       "\n",
       "    .dataframe tbody tr th {\n",
       "        vertical-align: top;\n",
       "    }\n",
       "\n",
       "    .dataframe thead th {\n",
       "        text-align: right;\n",
       "    }\n",
       "</style>\n",
       "<table border=\"1\" class=\"dataframe\">\n",
       "  <thead>\n",
       "    <tr style=\"text-align: right;\">\n",
       "      <th></th>\n",
       "      <th>index</th>\n",
       "      <th>user_id</th>\n",
       "      <th>month</th>\n",
       "      <th>calls</th>\n",
       "      <th>calls_duration</th>\n",
       "      <th>messeges</th>\n",
       "      <th>internet</th>\n",
       "      <th>city</th>\n",
       "      <th>tariff</th>\n",
       "      <th>messages_included</th>\n",
       "      <th>mb_per_month_included</th>\n",
       "      <th>minutes_included</th>\n",
       "      <th>rub_monthly_fee</th>\n",
       "      <th>rub_per_gb</th>\n",
       "      <th>rub_per_message</th>\n",
       "      <th>rub_per_minute</th>\n",
       "      <th>month_revenue</th>\n",
       "    </tr>\n",
       "  </thead>\n",
       "  <tbody>\n",
       "    <tr>\n",
       "      <th>0</th>\n",
       "      <td>0</td>\n",
       "      <td>1000</td>\n",
       "      <td>5</td>\n",
       "      <td>22</td>\n",
       "      <td>159</td>\n",
       "      <td>22</td>\n",
       "      <td>2254</td>\n",
       "      <td>Краснодар</td>\n",
       "      <td>ultra</td>\n",
       "      <td>1000</td>\n",
       "      <td>30720</td>\n",
       "      <td>3000</td>\n",
       "      <td>1950</td>\n",
       "      <td>150</td>\n",
       "      <td>1</td>\n",
       "      <td>1</td>\n",
       "      <td>1950.000</td>\n",
       "    </tr>\n",
       "    <tr>\n",
       "      <th>1</th>\n",
       "      <td>1</td>\n",
       "      <td>1000</td>\n",
       "      <td>6</td>\n",
       "      <td>43</td>\n",
       "      <td>172</td>\n",
       "      <td>60</td>\n",
       "      <td>23234</td>\n",
       "      <td>Краснодар</td>\n",
       "      <td>ultra</td>\n",
       "      <td>1000</td>\n",
       "      <td>30720</td>\n",
       "      <td>3000</td>\n",
       "      <td>1950</td>\n",
       "      <td>150</td>\n",
       "      <td>1</td>\n",
       "      <td>1</td>\n",
       "      <td>1950.000</td>\n",
       "    </tr>\n",
       "    <tr>\n",
       "      <th>2</th>\n",
       "      <td>2</td>\n",
       "      <td>1000</td>\n",
       "      <td>7</td>\n",
       "      <td>47</td>\n",
       "      <td>340</td>\n",
       "      <td>75</td>\n",
       "      <td>14004</td>\n",
       "      <td>Краснодар</td>\n",
       "      <td>ultra</td>\n",
       "      <td>1000</td>\n",
       "      <td>30720</td>\n",
       "      <td>3000</td>\n",
       "      <td>1950</td>\n",
       "      <td>150</td>\n",
       "      <td>1</td>\n",
       "      <td>1</td>\n",
       "      <td>1950.000</td>\n",
       "    </tr>\n",
       "    <tr>\n",
       "      <th>3</th>\n",
       "      <td>3</td>\n",
       "      <td>1000</td>\n",
       "      <td>8</td>\n",
       "      <td>52</td>\n",
       "      <td>408</td>\n",
       "      <td>81</td>\n",
       "      <td>14056</td>\n",
       "      <td>Краснодар</td>\n",
       "      <td>ultra</td>\n",
       "      <td>1000</td>\n",
       "      <td>30720</td>\n",
       "      <td>3000</td>\n",
       "      <td>1950</td>\n",
       "      <td>150</td>\n",
       "      <td>1</td>\n",
       "      <td>1</td>\n",
       "      <td>1950.000</td>\n",
       "    </tr>\n",
       "    <tr>\n",
       "      <th>4</th>\n",
       "      <td>4</td>\n",
       "      <td>1000</td>\n",
       "      <td>9</td>\n",
       "      <td>58</td>\n",
       "      <td>466</td>\n",
       "      <td>57</td>\n",
       "      <td>14569</td>\n",
       "      <td>Краснодар</td>\n",
       "      <td>ultra</td>\n",
       "      <td>1000</td>\n",
       "      <td>30720</td>\n",
       "      <td>3000</td>\n",
       "      <td>1950</td>\n",
       "      <td>150</td>\n",
       "      <td>1</td>\n",
       "      <td>1</td>\n",
       "      <td>1950.000</td>\n",
       "    </tr>\n",
       "    <tr>\n",
       "      <th>5</th>\n",
       "      <td>5</td>\n",
       "      <td>1000</td>\n",
       "      <td>10</td>\n",
       "      <td>57</td>\n",
       "      <td>350</td>\n",
       "      <td>73</td>\n",
       "      <td>14703</td>\n",
       "      <td>Краснодар</td>\n",
       "      <td>ultra</td>\n",
       "      <td>1000</td>\n",
       "      <td>30720</td>\n",
       "      <td>3000</td>\n",
       "      <td>1950</td>\n",
       "      <td>150</td>\n",
       "      <td>1</td>\n",
       "      <td>1</td>\n",
       "      <td>1950.000</td>\n",
       "    </tr>\n",
       "    <tr>\n",
       "      <th>6</th>\n",
       "      <td>6</td>\n",
       "      <td>1000</td>\n",
       "      <td>11</td>\n",
       "      <td>43</td>\n",
       "      <td>338</td>\n",
       "      <td>58</td>\n",
       "      <td>14757</td>\n",
       "      <td>Краснодар</td>\n",
       "      <td>ultra</td>\n",
       "      <td>1000</td>\n",
       "      <td>30720</td>\n",
       "      <td>3000</td>\n",
       "      <td>1950</td>\n",
       "      <td>150</td>\n",
       "      <td>1</td>\n",
       "      <td>1</td>\n",
       "      <td>1950.000</td>\n",
       "    </tr>\n",
       "    <tr>\n",
       "      <th>7</th>\n",
       "      <td>7</td>\n",
       "      <td>1000</td>\n",
       "      <td>12</td>\n",
       "      <td>46</td>\n",
       "      <td>333</td>\n",
       "      <td>70</td>\n",
       "      <td>9818</td>\n",
       "      <td>Краснодар</td>\n",
       "      <td>ultra</td>\n",
       "      <td>1000</td>\n",
       "      <td>30720</td>\n",
       "      <td>3000</td>\n",
       "      <td>1950</td>\n",
       "      <td>150</td>\n",
       "      <td>1</td>\n",
       "      <td>1</td>\n",
       "      <td>1950.000</td>\n",
       "    </tr>\n",
       "    <tr>\n",
       "      <th>8</th>\n",
       "      <td>8</td>\n",
       "      <td>1001</td>\n",
       "      <td>11</td>\n",
       "      <td>59</td>\n",
       "      <td>430</td>\n",
       "      <td>0</td>\n",
       "      <td>18430</td>\n",
       "      <td>Москва</td>\n",
       "      <td>smart</td>\n",
       "      <td>50</td>\n",
       "      <td>15360</td>\n",
       "      <td>500</td>\n",
       "      <td>550</td>\n",
       "      <td>200</td>\n",
       "      <td>3</td>\n",
       "      <td>3</td>\n",
       "      <td>1150.000</td>\n",
       "    </tr>\n",
       "    <tr>\n",
       "      <th>9</th>\n",
       "      <td>9</td>\n",
       "      <td>1001</td>\n",
       "      <td>12</td>\n",
       "      <td>63</td>\n",
       "      <td>414</td>\n",
       "      <td>0</td>\n",
       "      <td>14037</td>\n",
       "      <td>Москва</td>\n",
       "      <td>smart</td>\n",
       "      <td>50</td>\n",
       "      <td>15360</td>\n",
       "      <td>500</td>\n",
       "      <td>550</td>\n",
       "      <td>200</td>\n",
       "      <td>3</td>\n",
       "      <td>3</td>\n",
       "      <td>550.000</td>\n",
       "    </tr>\n",
       "  </tbody>\n",
       "</table>\n",
       "</div>"
      ],
      "text/plain": [
       "   index  user_id  month  calls  calls_duration  messeges  internet  \\\n",
       "0      0     1000      5     22             159        22      2254   \n",
       "1      1     1000      6     43             172        60     23234   \n",
       "2      2     1000      7     47             340        75     14004   \n",
       "3      3     1000      8     52             408        81     14056   \n",
       "4      4     1000      9     58             466        57     14569   \n",
       "5      5     1000     10     57             350        73     14703   \n",
       "6      6     1000     11     43             338        58     14757   \n",
       "7      7     1000     12     46             333        70      9818   \n",
       "8      8     1001     11     59             430         0     18430   \n",
       "9      9     1001     12     63             414         0     14037   \n",
       "\n",
       "        city tariff  messages_included  mb_per_month_included  \\\n",
       "0  Краснодар  ultra               1000                  30720   \n",
       "1  Краснодар  ultra               1000                  30720   \n",
       "2  Краснодар  ultra               1000                  30720   \n",
       "3  Краснодар  ultra               1000                  30720   \n",
       "4  Краснодар  ultra               1000                  30720   \n",
       "5  Краснодар  ultra               1000                  30720   \n",
       "6  Краснодар  ultra               1000                  30720   \n",
       "7  Краснодар  ultra               1000                  30720   \n",
       "8     Москва  smart                 50                  15360   \n",
       "9     Москва  smart                 50                  15360   \n",
       "\n",
       "   minutes_included  rub_monthly_fee  rub_per_gb  rub_per_message  \\\n",
       "0              3000             1950         150                1   \n",
       "1              3000             1950         150                1   \n",
       "2              3000             1950         150                1   \n",
       "3              3000             1950         150                1   \n",
       "4              3000             1950         150                1   \n",
       "5              3000             1950         150                1   \n",
       "6              3000             1950         150                1   \n",
       "7              3000             1950         150                1   \n",
       "8               500              550         200                3   \n",
       "9               500              550         200                3   \n",
       "\n",
       "   rub_per_minute  month_revenue  \n",
       "0               1       1950.000  \n",
       "1               1       1950.000  \n",
       "2               1       1950.000  \n",
       "3               1       1950.000  \n",
       "4               1       1950.000  \n",
       "5               1       1950.000  \n",
       "6               1       1950.000  \n",
       "7               1       1950.000  \n",
       "8               3       1150.000  \n",
       "9               3        550.000  "
      ]
     },
     "execution_count": 49,
     "metadata": {},
     "output_type": "execute_result"
    }
   ],
   "source": [
    "data['month_revenue'] = data.apply(calculate, axis = 1)\n",
    "data.head(10)"
   ]
  },
  {
   "cell_type": "markdown",
   "metadata": {},
   "source": [
    "Видно, что есть абоненты, которые превышают ежемесячные лимиты. "
   ]
  },
  {
   "cell_type": "markdown",
   "metadata": {},
   "source": [
    "### Сравнение тарифов Смарт и Ультра"
   ]
  },
  {
   "cell_type": "code",
   "execution_count": 50,
   "metadata": {},
   "outputs": [],
   "source": [
    "def hist_maker_and_table(df, name,x_1_smart,x_2_ultra):\n",
    "    cd = df.groupby(df.tariff)[name]\n",
    "    cd_desc = cd.describe(percentiles = [.01,.25,.75,.99])\n",
    "    cd_desc['var']= [np.var(cd.get_group('smart'), ddof=1), np.var(cd.get_group('ultra'), ddof=1)]\n",
    "    display(cd_desc)\n",
    "    smart = df.query('tariff == \"smart\"')[name]\n",
    "    ultra = df.query('tariff == \"ultra\"')[name]\n",
    "    plt.figure(figsize=(10,6))\n",
    "    plt.hist(smart, bins=50, color='blue', edgecolor='grey', alpha=0.5, label = 'smart', density = False)\n",
    "    plt.hist(ultra, bins=50, color='orange', edgecolor='grey', alpha=0.5,label = 'ultra', density = False)\n",
    "    plt.axvline(cd_desc['mean'][0], color='blue', linestyle='dashed', linewidth=3, label='Mean smart: {:.2f}'.format(cd_desc['mean'][0]))\n",
    "    \n",
    "    plt.axvline(cd_desc['mean'][1], color='orange', linestyle='dashed', linewidth=3, label='Mean ultra: {:.2f}'.format(cd_desc['mean'][1]))\n",
    "\n",
    "    plt.axvline(x_1_smart, color='blue', linestyle='solid', linewidth=3, label='Входит в тариф Смарт')\n",
    "    plt.axvline(x_2_ultra, color='orange', linestyle='solid', linewidth=3, label='Входит в тариф Ультра')\n",
    "    plt.legend()\n",
    "    plt.xlabel(name)\n",
    "    plt.ylabel('Count')\n",
    "    plt.title('Histogramm {}'.format(name))"
   ]
  },
  {
   "cell_type": "code",
   "execution_count": 51,
   "metadata": {},
   "outputs": [
    {
     "data": {
      "text/html": [
       "<div>\n",
       "<style scoped>\n",
       "    .dataframe tbody tr th:only-of-type {\n",
       "        vertical-align: middle;\n",
       "    }\n",
       "\n",
       "    .dataframe tbody tr th {\n",
       "        vertical-align: top;\n",
       "    }\n",
       "\n",
       "    .dataframe thead th {\n",
       "        text-align: right;\n",
       "    }\n",
       "</style>\n",
       "<table border=\"1\" class=\"dataframe\">\n",
       "  <thead>\n",
       "    <tr style=\"text-align: right;\">\n",
       "      <th></th>\n",
       "      <th>count</th>\n",
       "      <th>mean</th>\n",
       "      <th>std</th>\n",
       "      <th>min</th>\n",
       "      <th>1%</th>\n",
       "      <th>25%</th>\n",
       "      <th>50%</th>\n",
       "      <th>75%</th>\n",
       "      <th>99%</th>\n",
       "      <th>max</th>\n",
       "      <th>var</th>\n",
       "    </tr>\n",
       "    <tr>\n",
       "      <th>tariff</th>\n",
       "      <th></th>\n",
       "      <th></th>\n",
       "      <th></th>\n",
       "      <th></th>\n",
       "      <th></th>\n",
       "      <th></th>\n",
       "      <th></th>\n",
       "      <th></th>\n",
       "      <th></th>\n",
       "      <th></th>\n",
       "      <th></th>\n",
       "    </tr>\n",
       "  </thead>\n",
       "  <tbody>\n",
       "    <tr>\n",
       "      <th>smart</th>\n",
       "      <td>2229.000</td>\n",
       "      <td>417.935</td>\n",
       "      <td>190.314</td>\n",
       "      <td>0.000</td>\n",
       "      <td>15.280</td>\n",
       "      <td>282.000</td>\n",
       "      <td>422.000</td>\n",
       "      <td>545.000</td>\n",
       "      <td>872.720</td>\n",
       "      <td>1435.000</td>\n",
       "      <td>36219.316</td>\n",
       "    </tr>\n",
       "    <tr>\n",
       "      <th>ultra</th>\n",
       "      <td>985.000</td>\n",
       "      <td>526.623</td>\n",
       "      <td>317.606</td>\n",
       "      <td>0.000</td>\n",
       "      <td>0.000</td>\n",
       "      <td>284.000</td>\n",
       "      <td>518.000</td>\n",
       "      <td>752.000</td>\n",
       "      <td>1291.120</td>\n",
       "      <td>1673.000</td>\n",
       "      <td>100873.633</td>\n",
       "    </tr>\n",
       "  </tbody>\n",
       "</table>\n",
       "</div>"
      ],
      "text/plain": [
       "          count    mean     std   min     1%     25%     50%     75%      99%  \\\n",
       "tariff                                                                          \n",
       "smart  2229.000 417.935 190.314 0.000 15.280 282.000 422.000 545.000  872.720   \n",
       "ultra   985.000 526.623 317.606 0.000  0.000 284.000 518.000 752.000 1291.120   \n",
       "\n",
       "            max        var  \n",
       "tariff                      \n",
       "smart  1435.000  36219.316  \n",
       "ultra  1673.000 100873.633  "
      ]
     },
     "metadata": {},
     "output_type": "display_data"
    },
    {
     "data": {
      "image/png": "[encoded data removed]",
      "text/plain": [
       "<Figure size 720x432 with 1 Axes>"
      ]
     },
     "metadata": {
      "needs_background": "light"
     },
     "output_type": "display_data"
    }
   ],
   "source": [
    "hist_maker_and_table(data,'calls_duration',500,3000)"
   ]
  },
  {
   "cell_type": "markdown",
   "metadata": {},
   "source": [
    "Из графика видно, что абонентам тарифа Смарт в большинстве случаев не хватает заложенных в абонентскую плату минут, что приводит к переплате по этому пункту. По тарифу Ультра чаще вообще не используют весь пакет минут. Среднее же по обоим тарифам близко к максимальному количеству пакета минут по тарифу Смарт. Также есть вбросы, поэтому обозначим границы значений для тарифов.   "
   ]
  },
  {
   "cell_type": "code",
   "execution_count": 52,
   "metadata": {},
   "outputs": [
    {
     "name": "stdout",
     "output_type": "stream",
     "text": [
      "СРАВНЕНИЕ ТАРИФА ULTRA И SMART\n"
     ]
    },
    {
     "data": {
      "image/png": "[encoded data removed]",
      "text/plain": [
       "<Figure size 1512x432 with 2 Axes>"
      ]
     },
     "metadata": {
      "needs_background": "light"
     },
     "output_type": "display_data"
    }
   ],
   "source": [
    "print('СРАВНЕНИЕ ТАРИФА ULTRA И SMART')\n",
    "fig = plt.figure(figsize = (21,6))\n",
    "data[data['tariff'] == 'ultra'].boxplot('calls_duration', ax = plt.subplot(1,2,1))\n",
    "data[data['tariff'] == 'smart'].boxplot('calls_duration', ax = plt.subplot(1,2,2));"
   ]
  },
  {
   "cell_type": "markdown",
   "metadata": {},
   "source": [
    "Границами интервала для тарифа Смарт можно определить 0- 950 минут, для тарифа Ультра: 0- 1450 минут. Остальное считаем вбросами."
   ]
  },
  {
   "cell_type": "code",
   "execution_count": 53,
   "metadata": {},
   "outputs": [
    {
     "data": {
      "text/html": [
       "<div>\n",
       "<style scoped>\n",
       "    .dataframe tbody tr th:only-of-type {\n",
       "        vertical-align: middle;\n",
       "    }\n",
       "\n",
       "    .dataframe tbody tr th {\n",
       "        vertical-align: top;\n",
       "    }\n",
       "\n",
       "    .dataframe thead th {\n",
       "        text-align: right;\n",
       "    }\n",
       "</style>\n",
       "<table border=\"1\" class=\"dataframe\">\n",
       "  <thead>\n",
       "    <tr style=\"text-align: right;\">\n",
       "      <th></th>\n",
       "      <th>count</th>\n",
       "      <th>mean</th>\n",
       "      <th>std</th>\n",
       "      <th>min</th>\n",
       "      <th>1%</th>\n",
       "      <th>25%</th>\n",
       "      <th>50%</th>\n",
       "      <th>75%</th>\n",
       "      <th>99%</th>\n",
       "      <th>max</th>\n",
       "      <th>var</th>\n",
       "    </tr>\n",
       "    <tr>\n",
       "      <th>tariff</th>\n",
       "      <th></th>\n",
       "      <th></th>\n",
       "      <th></th>\n",
       "      <th></th>\n",
       "      <th></th>\n",
       "      <th></th>\n",
       "      <th></th>\n",
       "      <th></th>\n",
       "      <th></th>\n",
       "      <th></th>\n",
       "      <th></th>\n",
       "    </tr>\n",
       "  </thead>\n",
       "  <tbody>\n",
       "    <tr>\n",
       "      <th>smart</th>\n",
       "      <td>2229.000</td>\n",
       "      <td>33.384</td>\n",
       "      <td>28.228</td>\n",
       "      <td>0.000</td>\n",
       "      <td>0.000</td>\n",
       "      <td>10.000</td>\n",
       "      <td>28.000</td>\n",
       "      <td>51.000</td>\n",
       "      <td>108.000</td>\n",
       "      <td>143.000</td>\n",
       "      <td>796.813</td>\n",
       "    </tr>\n",
       "    <tr>\n",
       "      <th>ultra</th>\n",
       "      <td>985.000</td>\n",
       "      <td>49.363</td>\n",
       "      <td>47.804</td>\n",
       "      <td>0.000</td>\n",
       "      <td>0.000</td>\n",
       "      <td>6.000</td>\n",
       "      <td>38.000</td>\n",
       "      <td>79.000</td>\n",
       "      <td>183.320</td>\n",
       "      <td>224.000</td>\n",
       "      <td>2285.266</td>\n",
       "    </tr>\n",
       "  </tbody>\n",
       "</table>\n",
       "</div>"
      ],
      "text/plain": [
       "          count   mean    std   min    1%    25%    50%    75%     99%  \\\n",
       "tariff                                                                   \n",
       "smart  2229.000 33.384 28.228 0.000 0.000 10.000 28.000 51.000 108.000   \n",
       "ultra   985.000 49.363 47.804 0.000 0.000  6.000 38.000 79.000 183.320   \n",
       "\n",
       "           max      var  \n",
       "tariff                   \n",
       "smart  143.000  796.813  \n",
       "ultra  224.000 2285.266  "
      ]
     },
     "metadata": {},
     "output_type": "display_data"
    },
    {
     "data": {
      "image/png": "[encoded data removed]",
      "text/plain": [
       "<Figure size 720x432 with 1 Axes>"
      ]
     },
     "metadata": {
      "needs_background": "light"
     },
     "output_type": "display_data"
    }
   ],
   "source": [
    "hist_maker_and_table(data,'messeges',50,1000)"
   ]
  },
  {
   "cell_type": "markdown",
   "metadata": {},
   "source": [
    "С сообщениями картина выглядит еще интереснее, по тарифу Ультра абоненты не используют даже половину заложенных бесплатных сообщений. В тарифе Смарт пользователи чаще докупают пакет сообщений, но большинство укладывается в лимит. Определим границы для отсеивания вбросов."
   ]
  },
  {
   "cell_type": "code",
   "execution_count": 54,
   "metadata": {},
   "outputs": [
    {
     "name": "stdout",
     "output_type": "stream",
     "text": [
      "СРАВНЕНИЕ ТАРИФА ULTRA и SMART\n"
     ]
    },
    {
     "data": {
      "image/png": "[encoded data removed]",
      "text/plain": [
       "<Figure size 1512x432 with 2 Axes>"
      ]
     },
     "metadata": {
      "needs_background": "light"
     },
     "output_type": "display_data"
    }
   ],
   "source": [
    "print('СРАВНЕНИЕ ТАРИФА ULTRA и SMART')\n",
    "fig = plt.figure(figsize = (21,6))\n",
    "data[data['tariff'] == 'ultra'].boxplot('messeges', ax = plt.subplot(1,2,1))\n",
    "data[data['tariff'] == 'smart'].boxplot('messeges', ax = plt.subplot(1,2,2));"
   ]
  },
  {
   "cell_type": "markdown",
   "metadata": {},
   "source": [
    "Границами интервала для тарифа Ультра можно определить 0- 180 шт, для тарифа Смарт: 0- 110 шт. Остальное считаем вбросами."
   ]
  },
  {
   "cell_type": "code",
   "execution_count": 55,
   "metadata": {},
   "outputs": [
    {
     "data": {
      "text/html": [
       "<div>\n",
       "<style scoped>\n",
       "    .dataframe tbody tr th:only-of-type {\n",
       "        vertical-align: middle;\n",
       "    }\n",
       "\n",
       "    .dataframe tbody tr th {\n",
       "        vertical-align: top;\n",
       "    }\n",
       "\n",
       "    .dataframe thead th {\n",
       "        text-align: right;\n",
       "    }\n",
       "</style>\n",
       "<table border=\"1\" class=\"dataframe\">\n",
       "  <thead>\n",
       "    <tr style=\"text-align: right;\">\n",
       "      <th></th>\n",
       "      <th>count</th>\n",
       "      <th>mean</th>\n",
       "      <th>std</th>\n",
       "      <th>min</th>\n",
       "      <th>1%</th>\n",
       "      <th>25%</th>\n",
       "      <th>50%</th>\n",
       "      <th>75%</th>\n",
       "      <th>99%</th>\n",
       "      <th>max</th>\n",
       "      <th>var</th>\n",
       "    </tr>\n",
       "    <tr>\n",
       "      <th>tariff</th>\n",
       "      <th></th>\n",
       "      <th></th>\n",
       "      <th></th>\n",
       "      <th></th>\n",
       "      <th></th>\n",
       "      <th></th>\n",
       "      <th></th>\n",
       "      <th></th>\n",
       "      <th></th>\n",
       "      <th></th>\n",
       "      <th></th>\n",
       "    </tr>\n",
       "  </thead>\n",
       "  <tbody>\n",
       "    <tr>\n",
       "      <th>smart</th>\n",
       "      <td>2229.000</td>\n",
       "      <td>16208.873</td>\n",
       "      <td>5870.482</td>\n",
       "      <td>0.000</td>\n",
       "      <td>1496.600</td>\n",
       "      <td>12644.000</td>\n",
       "      <td>16507.000</td>\n",
       "      <td>20043.000</td>\n",
       "      <td>29694.480</td>\n",
       "      <td>38553.000</td>\n",
       "      <td>34462562.806</td>\n",
       "    </tr>\n",
       "    <tr>\n",
       "      <th>ultra</th>\n",
       "      <td>985.000</td>\n",
       "      <td>19469.309</td>\n",
       "      <td>10087.198</td>\n",
       "      <td>0.000</td>\n",
       "      <td>0.000</td>\n",
       "      <td>11771.000</td>\n",
       "      <td>19309.000</td>\n",
       "      <td>26838.000</td>\n",
       "      <td>43006.360</td>\n",
       "      <td>49746.000</td>\n",
       "      <td>101751557.966</td>\n",
       "    </tr>\n",
       "  </tbody>\n",
       "</table>\n",
       "</div>"
      ],
      "text/plain": [
       "          count      mean       std   min       1%       25%       50%  \\\n",
       "tariff                                                                   \n",
       "smart  2229.000 16208.873  5870.482 0.000 1496.600 12644.000 16507.000   \n",
       "ultra   985.000 19469.309 10087.198 0.000    0.000 11771.000 19309.000   \n",
       "\n",
       "             75%       99%       max           var  \n",
       "tariff                                              \n",
       "smart  20043.000 29694.480 38553.000  34462562.806  \n",
       "ultra  26838.000 43006.360 49746.000 101751557.966  "
      ]
     },
     "metadata": {},
     "output_type": "display_data"
    },
    {
     "data": {
      "image/png": "[encoded data removed]",
      "text/plain": [
       "<Figure size 720x432 with 1 Axes>"
      ]
     },
     "metadata": {
      "needs_background": "light"
     },
     "output_type": "display_data"
    }
   ],
   "source": [
    "hist_maker_and_table(data,'internet',15000,30000)"
   ]
  },
  {
   "cell_type": "markdown",
   "metadata": {},
   "source": [
    "Тут видно, что пользователи обоих тарифов докупают интернет-трафик. По тарифу Смарт абоненты совсем немного не укладываются в лимит, по Ультра же распределение более ровное. "
   ]
  },
  {
   "cell_type": "code",
   "execution_count": 56,
   "metadata": {},
   "outputs": [
    {
     "name": "stdout",
     "output_type": "stream",
     "text": [
      "СРАВНЕНИЕ ТАРИФА ULTRA и SMART\n"
     ]
    },
    {
     "data": {
      "image/png": "[encoded data removed]",
      "text/plain": [
       "<Figure size 1512x432 with 2 Axes>"
      ]
     },
     "metadata": {
      "needs_background": "light"
     },
     "output_type": "display_data"
    }
   ],
   "source": [
    "print('СРАВНЕНИЕ ТАРИФА ULTRA и SMART')\n",
    "fig = plt.figure(figsize = (21,6))\n",
    "data[data['tariff'] == 'ultra'].boxplot('internet', ax = plt.subplot(1,2,1))\n",
    "data[data['tariff'] == 'smart'].boxplot('internet', ax = plt.subplot(1,2,2));"
   ]
  },
  {
   "cell_type": "markdown",
   "metadata": {},
   "source": [
    "Границами интервала для тарифа Ультра можно определить 0 - 49 Гб шт, для тарифа Смарт: 1.5- 31 Гб. Остальное считаем вбросами."
   ]
  },
  {
   "cell_type": "markdown",
   "metadata": {},
   "source": [
    "Посмотрим какая часть абонентов использует тариф Смарт, а какая - Ультра:"
   ]
  },
  {
   "cell_type": "code",
   "execution_count": 57,
   "metadata": {},
   "outputs": [
    {
     "data": {
      "text/html": [
       "<div>\n",
       "<style scoped>\n",
       "    .dataframe tbody tr th:only-of-type {\n",
       "        vertical-align: middle;\n",
       "    }\n",
       "\n",
       "    .dataframe tbody tr th {\n",
       "        vertical-align: top;\n",
       "    }\n",
       "\n",
       "    .dataframe thead th {\n",
       "        text-align: right;\n",
       "    }\n",
       "</style>\n",
       "<table border=\"1\" class=\"dataframe\">\n",
       "  <thead>\n",
       "    <tr style=\"text-align: right;\">\n",
       "      <th></th>\n",
       "      <th>count</th>\n",
       "    </tr>\n",
       "    <tr>\n",
       "      <th>tariff</th>\n",
       "      <th></th>\n",
       "    </tr>\n",
       "  </thead>\n",
       "  <tbody>\n",
       "    <tr>\n",
       "      <th>smart</th>\n",
       "      <td>2229</td>\n",
       "    </tr>\n",
       "    <tr>\n",
       "      <th>ultra</th>\n",
       "      <td>985</td>\n",
       "    </tr>\n",
       "  </tbody>\n",
       "</table>\n",
       "</div>"
      ],
      "text/plain": [
       "        count\n",
       "tariff       \n",
       "smart    2229\n",
       "ultra     985"
      ]
     },
     "execution_count": 57,
     "metadata": {},
     "output_type": "execute_result"
    }
   ],
   "source": [
    "data.groupby(['tariff'])['user_id'].agg(['count'])"
   ]
  },
  {
   "cell_type": "markdown",
   "metadata": {},
   "source": [
    "70% абонентов пользуются тарифом Смарт,но посмотрим, кто прибыльнее."
   ]
  },
  {
   "cell_type": "code",
   "execution_count": 58,
   "metadata": {},
   "outputs": [
    {
     "data": {
      "image/png": "[encoded data removed]",
      "text/plain": [
       "<Figure size 1440x360 with 1 Axes>"
      ]
     },
     "metadata": {},
     "output_type": "display_data"
    }
   ],
   "source": [
    "all_revenue = data['month_revenue'].sum()\n",
    "\n",
    "\n",
    "def func_pct(pct):\n",
    "    value = float(pct/100.*all_revenue)\n",
    "    return \"{:.2f}%\\n({:,.0f} руб.)\".format(pct, value)\n",
    "\n",
    "explode = (0.05, 0)  # сектор 'ultra' немного выдвинем\n",
    "\n",
    "axes = data.groupby('tariff')['month_revenue'].sum().plot(kind='pie', subplots=True, fontsize=15,\n",
    "                                                                     use_index=False, shadow=True, explode=explode,\n",
    "                                                                     title = 'Выручка', pctdistance=0.45,\n",
    "                                                                     startangle=20, figsize=(20,5),\n",
    "                                                                     autopct=lambda pct: func_pct(pct))\n",
    "\n",
    "for ax in axes:\n",
    "    ax.legend(['Смарт', 'Ультра'], bbox_to_anchor=(0.87,0.87), framealpha=0.2, prop={'size':12})\n",
    "    ax.set_ylabel('')"
   ]
  },
  {
   "cell_type": "markdown",
   "metadata": {},
   "source": [
    "Прибыль по тарифу Смарт выше,за счет количества пользователей. "
   ]
  },
  {
   "cell_type": "markdown",
   "metadata": {},
   "source": [
    "### Вывод"
   ]
  },
  {
   "cell_type": "markdown",
   "metadata": {},
   "source": [
    "- Пользователи тарифа Смарт в среднем в месяц тратят меньше минут разговора, чем пользователи тарифа Ультра.\n",
    "- На тарифе Смарт пользователи часто не укладываются в лимиты и доплачивают за звонки.\n",
    "- Дисперсия и стандартное отклонение выше на тарифе Ультра, но пользователи этого тарифа всегда укладываются в установленные лимиты. Максимальное число минут разговора и сообщений в месяц значительно меньше заложенных в него.\n",
    "- Большую часть выручки приносит тариф Смарт\n",
    "- Очень неравномерно заложены базовые лимиты в тарифы, можно сделать их более удобными для абонента. "
   ]
  },
  {
   "cell_type": "markdown",
   "metadata": {},
   "source": [
    "## Гипотезы"
   ]
  },
  {
   "cell_type": "markdown",
   "metadata": {},
   "source": [
    "### Cредняя выручка пользователей тарифов «Ультра» и «Смарт» различаются"
   ]
  },
  {
   "cell_type": "markdown",
   "metadata": {},
   "source": [
    "Нулевая гипотеза: Н0 - Средняя выручка пользователей тарифов «Ультра» и «Смарт» равны, т.е. средние значения равны.\n",
    "\n",
    "Альтернативная гипотеза: Н1 - Средняя выручка пользователей тарифов «Ультра» и «Смарт» не равны, т.е. средние значения не равны.\n",
    "\n",
    "Дисперсии выборок были расчитаны выше, они отличаются более чем на 5%"
   ]
  },
  {
   "cell_type": "code",
   "execution_count": 59,
   "metadata": {},
   "outputs": [
    {
     "name": "stdout",
     "output_type": "stream",
     "text": [
      "p-значение:  1.4229814360764067e-160\n",
      "Принимаем альтернативную гипотезу\n"
     ]
    }
   ],
   "source": [
    "sample_1 = data[data['tariff'] == 'ultra']['month_revenue'] \n",
    "sample_2 = data[data['tariff'] == 'smart']['month_revenue'] \n",
    "results = st.ttest_ind( sample_1, sample_2)\n",
    "alpha = 0.05\n",
    "\n",
    "print('p-значение: ', results.pvalue)\n",
    "if results.pvalue < alpha:\n",
    "    print('Принимаем альтернативную гипотезу')\n",
    "else:\n",
    "    print('Опровергнуть нулевую гипотезу нельзя')"
   ]
  },
  {
   "cell_type": "markdown",
   "metadata": {},
   "source": [
    "p-значение достаточно мало, что дает основание отвергнуть предположение об отсутствии различий между выручками у разных тарифных планов, т.е. маловероятна случайность результатов теста гипотезы.Это ожидаемо тк абонентская плата за тариф Ультра выше в 3 раза (1950 руб против 550 руб). "
   ]
  },
  {
   "cell_type": "markdown",
   "metadata": {},
   "source": [
    "### Cредняя выручка пользователей из Москвы отличается от выручки пользователей из других регионов."
   ]
  },
  {
   "cell_type": "markdown",
   "metadata": {},
   "source": [
    "Нулевая гипотеза: Н0 - Средняя выручка пользователей из Москвы равна средней выручке пользователей из других регионов. \n",
    "\n",
    "Альтернативная гипотеза: Н1 - Средняя выручка пользователей из Москвы отличается от средней выручке пользователей из других регионов."
   ]
  },
  {
   "cell_type": "markdown",
   "metadata": {},
   "source": [
    "Для расчета добавим колонку с признаком: Москва -1, не Москва - 0. "
   ]
  },
  {
   "cell_type": "code",
   "execution_count": 60,
   "metadata": {},
   "outputs": [],
   "source": [
    "data['is_Moscow'] = np.where(data['city'] == 'Москва', 1, 0)"
   ]
  },
  {
   "cell_type": "code",
   "execution_count": 61,
   "metadata": {},
   "outputs": [
    {
     "data": {
      "text/html": [
       "<div>\n",
       "<style scoped>\n",
       "    .dataframe tbody tr th:only-of-type {\n",
       "        vertical-align: middle;\n",
       "    }\n",
       "\n",
       "    .dataframe tbody tr th {\n",
       "        vertical-align: top;\n",
       "    }\n",
       "\n",
       "    .dataframe thead th {\n",
       "        text-align: right;\n",
       "    }\n",
       "</style>\n",
       "<table border=\"1\" class=\"dataframe\">\n",
       "  <thead>\n",
       "    <tr style=\"text-align: right;\">\n",
       "      <th></th>\n",
       "      <th>index</th>\n",
       "      <th>user_id</th>\n",
       "      <th>month</th>\n",
       "      <th>calls</th>\n",
       "      <th>calls_duration</th>\n",
       "      <th>messeges</th>\n",
       "      <th>internet</th>\n",
       "      <th>city</th>\n",
       "      <th>tariff</th>\n",
       "      <th>messages_included</th>\n",
       "      <th>mb_per_month_included</th>\n",
       "      <th>minutes_included</th>\n",
       "      <th>rub_monthly_fee</th>\n",
       "      <th>rub_per_gb</th>\n",
       "      <th>rub_per_message</th>\n",
       "      <th>rub_per_minute</th>\n",
       "      <th>month_revenue</th>\n",
       "      <th>is_Moscow</th>\n",
       "    </tr>\n",
       "  </thead>\n",
       "  <tbody>\n",
       "    <tr>\n",
       "      <th>0</th>\n",
       "      <td>0</td>\n",
       "      <td>1000</td>\n",
       "      <td>5</td>\n",
       "      <td>22</td>\n",
       "      <td>159</td>\n",
       "      <td>22</td>\n",
       "      <td>2254</td>\n",
       "      <td>Краснодар</td>\n",
       "      <td>ultra</td>\n",
       "      <td>1000</td>\n",
       "      <td>30720</td>\n",
       "      <td>3000</td>\n",
       "      <td>1950</td>\n",
       "      <td>150</td>\n",
       "      <td>1</td>\n",
       "      <td>1</td>\n",
       "      <td>1950.000</td>\n",
       "      <td>0</td>\n",
       "    </tr>\n",
       "    <tr>\n",
       "      <th>1</th>\n",
       "      <td>1</td>\n",
       "      <td>1000</td>\n",
       "      <td>6</td>\n",
       "      <td>43</td>\n",
       "      <td>172</td>\n",
       "      <td>60</td>\n",
       "      <td>23234</td>\n",
       "      <td>Краснодар</td>\n",
       "      <td>ultra</td>\n",
       "      <td>1000</td>\n",
       "      <td>30720</td>\n",
       "      <td>3000</td>\n",
       "      <td>1950</td>\n",
       "      <td>150</td>\n",
       "      <td>1</td>\n",
       "      <td>1</td>\n",
       "      <td>1950.000</td>\n",
       "      <td>0</td>\n",
       "    </tr>\n",
       "    <tr>\n",
       "      <th>2</th>\n",
       "      <td>2</td>\n",
       "      <td>1000</td>\n",
       "      <td>7</td>\n",
       "      <td>47</td>\n",
       "      <td>340</td>\n",
       "      <td>75</td>\n",
       "      <td>14004</td>\n",
       "      <td>Краснодар</td>\n",
       "      <td>ultra</td>\n",
       "      <td>1000</td>\n",
       "      <td>30720</td>\n",
       "      <td>3000</td>\n",
       "      <td>1950</td>\n",
       "      <td>150</td>\n",
       "      <td>1</td>\n",
       "      <td>1</td>\n",
       "      <td>1950.000</td>\n",
       "      <td>0</td>\n",
       "    </tr>\n",
       "    <tr>\n",
       "      <th>3</th>\n",
       "      <td>3</td>\n",
       "      <td>1000</td>\n",
       "      <td>8</td>\n",
       "      <td>52</td>\n",
       "      <td>408</td>\n",
       "      <td>81</td>\n",
       "      <td>14056</td>\n",
       "      <td>Краснодар</td>\n",
       "      <td>ultra</td>\n",
       "      <td>1000</td>\n",
       "      <td>30720</td>\n",
       "      <td>3000</td>\n",
       "      <td>1950</td>\n",
       "      <td>150</td>\n",
       "      <td>1</td>\n",
       "      <td>1</td>\n",
       "      <td>1950.000</td>\n",
       "      <td>0</td>\n",
       "    </tr>\n",
       "    <tr>\n",
       "      <th>4</th>\n",
       "      <td>4</td>\n",
       "      <td>1000</td>\n",
       "      <td>9</td>\n",
       "      <td>58</td>\n",
       "      <td>466</td>\n",
       "      <td>57</td>\n",
       "      <td>14569</td>\n",
       "      <td>Краснодар</td>\n",
       "      <td>ultra</td>\n",
       "      <td>1000</td>\n",
       "      <td>30720</td>\n",
       "      <td>3000</td>\n",
       "      <td>1950</td>\n",
       "      <td>150</td>\n",
       "      <td>1</td>\n",
       "      <td>1</td>\n",
       "      <td>1950.000</td>\n",
       "      <td>0</td>\n",
       "    </tr>\n",
       "    <tr>\n",
       "      <th>5</th>\n",
       "      <td>5</td>\n",
       "      <td>1000</td>\n",
       "      <td>10</td>\n",
       "      <td>57</td>\n",
       "      <td>350</td>\n",
       "      <td>73</td>\n",
       "      <td>14703</td>\n",
       "      <td>Краснодар</td>\n",
       "      <td>ultra</td>\n",
       "      <td>1000</td>\n",
       "      <td>30720</td>\n",
       "      <td>3000</td>\n",
       "      <td>1950</td>\n",
       "      <td>150</td>\n",
       "      <td>1</td>\n",
       "      <td>1</td>\n",
       "      <td>1950.000</td>\n",
       "      <td>0</td>\n",
       "    </tr>\n",
       "    <tr>\n",
       "      <th>6</th>\n",
       "      <td>6</td>\n",
       "      <td>1000</td>\n",
       "      <td>11</td>\n",
       "      <td>43</td>\n",
       "      <td>338</td>\n",
       "      <td>58</td>\n",
       "      <td>14757</td>\n",
       "      <td>Краснодар</td>\n",
       "      <td>ultra</td>\n",
       "      <td>1000</td>\n",
       "      <td>30720</td>\n",
       "      <td>3000</td>\n",
       "      <td>1950</td>\n",
       "      <td>150</td>\n",
       "      <td>1</td>\n",
       "      <td>1</td>\n",
       "      <td>1950.000</td>\n",
       "      <td>0</td>\n",
       "    </tr>\n",
       "    <tr>\n",
       "      <th>7</th>\n",
       "      <td>7</td>\n",
       "      <td>1000</td>\n",
       "      <td>12</td>\n",
       "      <td>46</td>\n",
       "      <td>333</td>\n",
       "      <td>70</td>\n",
       "      <td>9818</td>\n",
       "      <td>Краснодар</td>\n",
       "      <td>ultra</td>\n",
       "      <td>1000</td>\n",
       "      <td>30720</td>\n",
       "      <td>3000</td>\n",
       "      <td>1950</td>\n",
       "      <td>150</td>\n",
       "      <td>1</td>\n",
       "      <td>1</td>\n",
       "      <td>1950.000</td>\n",
       "      <td>0</td>\n",
       "    </tr>\n",
       "    <tr>\n",
       "      <th>8</th>\n",
       "      <td>8</td>\n",
       "      <td>1001</td>\n",
       "      <td>11</td>\n",
       "      <td>59</td>\n",
       "      <td>430</td>\n",
       "      <td>0</td>\n",
       "      <td>18430</td>\n",
       "      <td>Москва</td>\n",
       "      <td>smart</td>\n",
       "      <td>50</td>\n",
       "      <td>15360</td>\n",
       "      <td>500</td>\n",
       "      <td>550</td>\n",
       "      <td>200</td>\n",
       "      <td>3</td>\n",
       "      <td>3</td>\n",
       "      <td>1150.000</td>\n",
       "      <td>1</td>\n",
       "    </tr>\n",
       "    <tr>\n",
       "      <th>9</th>\n",
       "      <td>9</td>\n",
       "      <td>1001</td>\n",
       "      <td>12</td>\n",
       "      <td>63</td>\n",
       "      <td>414</td>\n",
       "      <td>0</td>\n",
       "      <td>14037</td>\n",
       "      <td>Москва</td>\n",
       "      <td>smart</td>\n",
       "      <td>50</td>\n",
       "      <td>15360</td>\n",
       "      <td>500</td>\n",
       "      <td>550</td>\n",
       "      <td>200</td>\n",
       "      <td>3</td>\n",
       "      <td>3</td>\n",
       "      <td>550.000</td>\n",
       "      <td>1</td>\n",
       "    </tr>\n",
       "  </tbody>\n",
       "</table>\n",
       "</div>"
      ],
      "text/plain": [
       "   index  user_id  month  calls  calls_duration  messeges  internet  \\\n",
       "0      0     1000      5     22             159        22      2254   \n",
       "1      1     1000      6     43             172        60     23234   \n",
       "2      2     1000      7     47             340        75     14004   \n",
       "3      3     1000      8     52             408        81     14056   \n",
       "4      4     1000      9     58             466        57     14569   \n",
       "5      5     1000     10     57             350        73     14703   \n",
       "6      6     1000     11     43             338        58     14757   \n",
       "7      7     1000     12     46             333        70      9818   \n",
       "8      8     1001     11     59             430         0     18430   \n",
       "9      9     1001     12     63             414         0     14037   \n",
       "\n",
       "        city tariff  messages_included  mb_per_month_included  \\\n",
       "0  Краснодар  ultra               1000                  30720   \n",
       "1  Краснодар  ultra               1000                  30720   \n",
       "2  Краснодар  ultra               1000                  30720   \n",
       "3  Краснодар  ultra               1000                  30720   \n",
       "4  Краснодар  ultra               1000                  30720   \n",
       "5  Краснодар  ultra               1000                  30720   \n",
       "6  Краснодар  ultra               1000                  30720   \n",
       "7  Краснодар  ultra               1000                  30720   \n",
       "8     Москва  smart                 50                  15360   \n",
       "9     Москва  smart                 50                  15360   \n",
       "\n",
       "   minutes_included  rub_monthly_fee  rub_per_gb  rub_per_message  \\\n",
       "0              3000             1950         150                1   \n",
       "1              3000             1950         150                1   \n",
       "2              3000             1950         150                1   \n",
       "3              3000             1950         150                1   \n",
       "4              3000             1950         150                1   \n",
       "5              3000             1950         150                1   \n",
       "6              3000             1950         150                1   \n",
       "7              3000             1950         150                1   \n",
       "8               500              550         200                3   \n",
       "9               500              550         200                3   \n",
       "\n",
       "   rub_per_minute  month_revenue  is_Moscow  \n",
       "0               1       1950.000          0  \n",
       "1               1       1950.000          0  \n",
       "2               1       1950.000          0  \n",
       "3               1       1950.000          0  \n",
       "4               1       1950.000          0  \n",
       "5               1       1950.000          0  \n",
       "6               1       1950.000          0  \n",
       "7               1       1950.000          0  \n",
       "8               3       1150.000          1  \n",
       "9               3        550.000          1  "
      ]
     },
     "execution_count": 61,
     "metadata": {},
     "output_type": "execute_result"
    }
   ],
   "source": [
    "data.head(10)"
   ]
  },
  {
   "cell_type": "code",
   "execution_count": 62,
   "metadata": {},
   "outputs": [
    {
     "name": "stdout",
     "output_type": "stream",
     "text": [
      "p-значение:  0.5440152911670224\n",
      "Опровергнуть нулевую гипотезу нельзя\n"
     ]
    }
   ],
   "source": [
    "sample_1 = data[data['is_Moscow'] == 0]['month_revenue'] \n",
    "sample_2 = data[data['is_Moscow'] == 1]['month_revenue'] \n",
    "results = st.ttest_ind( sample_1, sample_2)\n",
    "alpha = 0.05\n",
    "\n",
    "print('p-значение: ', results.pvalue)\n",
    "if results.pvalue < alpha:\n",
    "    print('Принимаем альтернативную гипотезу')\n",
    "else:\n",
    "    print('Опровергнуть нулевую гипотезу нельзя')"
   ]
  },
  {
   "cell_type": "markdown",
   "metadata": {},
   "source": [
    "Таким образом, верно утверждение, что средняя выручка пользователей из Москвы не отличается от выручки пользователей из других регионов."
   ]
  },
  {
   "cell_type": "markdown",
   "metadata": {},
   "source": [
    "## Вывод"
   ]
  },
  {
   "cell_type": "markdown",
   "metadata": {},
   "source": [
    "На основе проведенного анализа можно сделать вывод, что тариф Смарт приносит компании около 60% всей выручки, но при этом на него приходится 2229 пользователей. Тариф Ультра дает остальные 40%, но эту выручку генерируют всего 985 пользователей. \n",
    "\n",
    "По гистограммам видно, что дисперсия по тарифу Смарт меньше, чем у пользователей с тарифом Ультра по всем показателям: по числу использованных минут, числу сообщений и потраченным МБ. Также на гистограммах видно, что средние значения не сильно различаются друг от друга по всем показателям обоих тарифов. \n",
    "Получатется, что абоненты с тарифом Ультра более свободны в выборе того, как именно использовать объемы тарифного пакета, однако обоим тарифам абоненты доплачивают в основном за интернет и минуты. \n",
    "\n",
    "Выгодным для создания рекламной акции можно посчитать тариф Ультра, вне зависимости от местонахождения пользователей(Москва или регионы). Средняя выручка по обоим тарифам различается за счет того, что абонентская плата по тарифу Ультра в 3 раза больше, чем по тарифу Смарт, но этого не видно в основном объеме прибыли т.к. абонентов с тарифом Смарт больше.\n",
    "\n",
    "Также можно порекомендовать создание \"промежуточного\"тарифного плана на основе статистических данных. "
   ]
  }
 ],
 "metadata": {
  "ExecuteTimeLog": [
   {
    "duration": 237,
    "start_time": "2022-04-01T16:33:00.267Z"
   },
   {
    "duration": 1824,
    "start_time": "2022-04-01T16:34:30.528Z"
   },
   {
    "duration": 544,
    "start_time": "2022-04-01T16:38:55.651Z"
   },
   {
    "duration": 167,
    "start_time": "2022-04-01T16:41:49.310Z"
   },
   {
    "duration": 10,
    "start_time": "2022-04-01T16:42:33.482Z"
   },
   {
    "duration": 18,
    "start_time": "2022-04-01T16:43:09.139Z"
   },
   {
    "duration": 44,
    "start_time": "2022-04-01T16:43:31.407Z"
   },
   {
    "duration": 27,
    "start_time": "2022-04-01T16:45:15.718Z"
   },
   {
    "duration": 148,
    "start_time": "2022-04-01T16:46:52.752Z"
   },
   {
    "duration": 143,
    "start_time": "2022-04-01T16:47:05.753Z"
   },
   {
    "duration": 35,
    "start_time": "2022-04-01T16:50:03.981Z"
   },
   {
    "duration": 12,
    "start_time": "2022-04-01T16:50:13.676Z"
   },
   {
    "duration": 27,
    "start_time": "2022-04-01T16:50:17.981Z"
   },
   {
    "duration": 23,
    "start_time": "2022-04-01T16:50:36.621Z"
   },
   {
    "duration": 105,
    "start_time": "2022-04-01T16:50:50.693Z"
   },
   {
    "duration": 11,
    "start_time": "2022-04-01T16:51:23.238Z"
   },
   {
    "duration": 41,
    "start_time": "2022-04-01T16:51:39.895Z"
   },
   {
    "duration": 19,
    "start_time": "2022-04-01T16:51:53.871Z"
   },
   {
    "duration": 66,
    "start_time": "2022-04-01T16:52:05.464Z"
   },
   {
    "duration": 13,
    "start_time": "2022-04-01T16:52:41.808Z"
   },
   {
    "duration": 14,
    "start_time": "2022-04-01T16:53:01.881Z"
   },
   {
    "duration": 7,
    "start_time": "2022-04-01T16:53:16.258Z"
   },
   {
    "duration": 7,
    "start_time": "2022-04-01T16:53:32.715Z"
   },
   {
    "duration": 15,
    "start_time": "2022-04-01T16:54:19.283Z"
   },
   {
    "duration": 14,
    "start_time": "2022-04-01T16:54:41.531Z"
   },
   {
    "duration": 8,
    "start_time": "2022-04-01T16:55:00.388Z"
   },
   {
    "duration": 9,
    "start_time": "2022-04-01T16:55:15.652Z"
   },
   {
    "duration": 149,
    "start_time": "2022-04-02T06:27:05.002Z"
   },
   {
    "duration": 1316,
    "start_time": "2022-04-02T06:27:10.639Z"
   },
   {
    "duration": 362,
    "start_time": "2022-04-02T06:27:11.957Z"
   },
   {
    "duration": 12,
    "start_time": "2022-04-02T06:27:12.321Z"
   },
   {
    "duration": 24,
    "start_time": "2022-04-02T06:27:12.334Z"
   },
   {
    "duration": 18,
    "start_time": "2022-04-02T06:27:12.360Z"
   },
   {
    "duration": 123,
    "start_time": "2022-04-02T06:27:12.380Z"
   },
   {
    "duration": 0,
    "start_time": "2022-04-02T06:27:12.505Z"
   },
   {
    "duration": 0,
    "start_time": "2022-04-02T06:27:12.506Z"
   },
   {
    "duration": 0,
    "start_time": "2022-04-02T06:27:12.507Z"
   },
   {
    "duration": 0,
    "start_time": "2022-04-02T06:27:12.508Z"
   },
   {
    "duration": 0,
    "start_time": "2022-04-02T06:27:12.509Z"
   },
   {
    "duration": 0,
    "start_time": "2022-04-02T06:27:12.510Z"
   },
   {
    "duration": 0,
    "start_time": "2022-04-02T06:27:12.511Z"
   },
   {
    "duration": 0,
    "start_time": "2022-04-02T06:27:12.512Z"
   },
   {
    "duration": 0,
    "start_time": "2022-04-02T06:27:12.513Z"
   },
   {
    "duration": 0,
    "start_time": "2022-04-02T06:27:12.514Z"
   },
   {
    "duration": 0,
    "start_time": "2022-04-02T06:27:12.515Z"
   },
   {
    "duration": 0,
    "start_time": "2022-04-02T06:27:12.516Z"
   },
   {
    "duration": 0,
    "start_time": "2022-04-02T06:27:12.517Z"
   },
   {
    "duration": 0,
    "start_time": "2022-04-02T06:27:12.518Z"
   },
   {
    "duration": 0,
    "start_time": "2022-04-02T06:27:12.519Z"
   },
   {
    "duration": 0,
    "start_time": "2022-04-02T06:27:12.520Z"
   },
   {
    "duration": 0,
    "start_time": "2022-04-02T06:27:12.521Z"
   },
   {
    "duration": 0,
    "start_time": "2022-04-02T06:27:12.522Z"
   },
   {
    "duration": 112,
    "start_time": "2022-04-02T06:27:24.171Z"
   },
   {
    "duration": 8,
    "start_time": "2022-04-02T06:27:46.492Z"
   },
   {
    "duration": 22,
    "start_time": "2022-04-02T06:27:49.580Z"
   },
   {
    "duration": 17,
    "start_time": "2022-04-02T06:27:50.596Z"
   },
   {
    "duration": 68,
    "start_time": "2022-04-02T06:27:59.276Z"
   },
   {
    "duration": 6,
    "start_time": "2022-04-02T06:28:15.645Z"
   },
   {
    "duration": 1065,
    "start_time": "2022-04-02T06:28:21.583Z"
   },
   {
    "duration": 363,
    "start_time": "2022-04-02T06:28:22.650Z"
   },
   {
    "duration": 13,
    "start_time": "2022-04-02T06:28:23.014Z"
   },
   {
    "duration": 30,
    "start_time": "2022-04-02T06:28:23.028Z"
   },
   {
    "duration": 19,
    "start_time": "2022-04-02T06:28:23.060Z"
   },
   {
    "duration": 112,
    "start_time": "2022-04-02T06:28:23.080Z"
   },
   {
    "duration": 9,
    "start_time": "2022-04-02T06:28:23.193Z"
   },
   {
    "duration": 25,
    "start_time": "2022-04-02T06:28:23.203Z"
   },
   {
    "duration": 17,
    "start_time": "2022-04-02T06:28:23.229Z"
   },
   {
    "duration": 69,
    "start_time": "2022-04-02T06:28:23.263Z"
   },
   {
    "duration": 8,
    "start_time": "2022-04-02T06:28:23.334Z"
   },
   {
    "duration": 36,
    "start_time": "2022-04-02T06:28:23.344Z"
   },
   {
    "duration": 13,
    "start_time": "2022-04-02T06:28:23.382Z"
   },
   {
    "duration": 44,
    "start_time": "2022-04-02T06:28:23.398Z"
   },
   {
    "duration": 25,
    "start_time": "2022-04-02T06:28:23.443Z"
   },
   {
    "duration": 13,
    "start_time": "2022-04-02T06:28:23.469Z"
   },
   {
    "duration": 8,
    "start_time": "2022-04-02T06:28:23.483Z"
   },
   {
    "duration": 5,
    "start_time": "2022-04-02T06:28:23.493Z"
   },
   {
    "duration": 15,
    "start_time": "2022-04-02T06:28:23.500Z"
   },
   {
    "duration": 13,
    "start_time": "2022-04-02T06:28:23.516Z"
   },
   {
    "duration": 7,
    "start_time": "2022-04-02T06:28:23.531Z"
   },
   {
    "duration": 24,
    "start_time": "2022-04-02T06:28:23.539Z"
   },
   {
    "duration": 68,
    "start_time": "2022-04-02T06:28:23.564Z"
   },
   {
    "duration": 8,
    "start_time": "2022-04-02T06:28:23.634Z"
   },
   {
    "duration": 5,
    "start_time": "2022-04-02T07:06:20.823Z"
   },
   {
    "duration": 340,
    "start_time": "2022-04-02T07:06:28.392Z"
   },
   {
    "duration": 40,
    "start_time": "2022-04-02T07:06:52.368Z"
   },
   {
    "duration": 8,
    "start_time": "2022-04-02T07:06:57.552Z"
   },
   {
    "duration": 305,
    "start_time": "2022-04-02T07:07:06.433Z"
   },
   {
    "duration": 37,
    "start_time": "2022-04-02T07:07:39.586Z"
   },
   {
    "duration": 26,
    "start_time": "2022-04-02T07:08:05.505Z"
   },
   {
    "duration": 16,
    "start_time": "2022-04-02T07:08:26.186Z"
   },
   {
    "duration": 4,
    "start_time": "2022-04-02T07:10:28.990Z"
   },
   {
    "duration": 6,
    "start_time": "2022-04-02T07:10:48.374Z"
   },
   {
    "duration": 152,
    "start_time": "2022-04-02T07:10:53.982Z"
   },
   {
    "duration": 1114,
    "start_time": "2022-04-02T07:11:16.826Z"
   },
   {
    "duration": 354,
    "start_time": "2022-04-02T07:11:17.942Z"
   },
   {
    "duration": 12,
    "start_time": "2022-04-02T07:11:18.297Z"
   },
   {
    "duration": 37,
    "start_time": "2022-04-02T07:11:18.310Z"
   },
   {
    "duration": 20,
    "start_time": "2022-04-02T07:11:18.349Z"
   },
   {
    "duration": 105,
    "start_time": "2022-04-02T07:11:18.371Z"
   },
   {
    "duration": 8,
    "start_time": "2022-04-02T07:11:18.478Z"
   },
   {
    "duration": 20,
    "start_time": "2022-04-02T07:11:18.488Z"
   },
   {
    "duration": 16,
    "start_time": "2022-04-02T07:11:18.510Z"
   },
   {
    "duration": 86,
    "start_time": "2022-04-02T07:11:18.528Z"
   },
   {
    "duration": 8,
    "start_time": "2022-04-02T07:11:18.615Z"
   },
   {
    "duration": 19,
    "start_time": "2022-04-02T07:11:18.624Z"
   },
   {
    "duration": 26,
    "start_time": "2022-04-02T07:11:18.644Z"
   },
   {
    "duration": 44,
    "start_time": "2022-04-02T07:11:18.672Z"
   },
   {
    "duration": 8,
    "start_time": "2022-04-02T07:11:18.717Z"
   },
   {
    "duration": 11,
    "start_time": "2022-04-02T07:11:18.726Z"
   },
   {
    "duration": 25,
    "start_time": "2022-04-02T07:11:18.738Z"
   },
   {
    "duration": 9,
    "start_time": "2022-04-02T07:11:18.765Z"
   },
   {
    "duration": 12,
    "start_time": "2022-04-02T07:11:18.776Z"
   },
   {
    "duration": 12,
    "start_time": "2022-04-02T07:11:18.790Z"
   },
   {
    "duration": 8,
    "start_time": "2022-04-02T07:11:18.804Z"
   },
   {
    "duration": 11,
    "start_time": "2022-04-02T07:11:18.813Z"
   },
   {
    "duration": 83,
    "start_time": "2022-04-02T07:11:18.826Z"
   },
   {
    "duration": 9,
    "start_time": "2022-04-02T07:11:18.911Z"
   },
   {
    "duration": 5,
    "start_time": "2022-04-02T07:11:18.922Z"
   },
   {
    "duration": 337,
    "start_time": "2022-04-02T07:11:18.928Z"
   },
   {
    "duration": 42,
    "start_time": "2022-04-02T07:11:19.268Z"
   },
   {
    "duration": 8,
    "start_time": "2022-04-02T07:11:19.313Z"
   },
   {
    "duration": 321,
    "start_time": "2022-04-02T07:11:19.323Z"
   },
   {
    "duration": 50,
    "start_time": "2022-04-02T07:11:19.646Z"
   },
   {
    "duration": 28,
    "start_time": "2022-04-02T07:11:19.698Z"
   },
   {
    "duration": 14,
    "start_time": "2022-04-02T07:11:19.727Z"
   },
   {
    "duration": 4,
    "start_time": "2022-04-02T07:11:19.763Z"
   },
   {
    "duration": 7,
    "start_time": "2022-04-02T07:11:19.768Z"
   },
   {
    "duration": 109,
    "start_time": "2022-04-02T07:11:19.776Z"
   },
   {
    "duration": 8,
    "start_time": "2022-04-02T07:11:51.253Z"
   },
   {
    "duration": 8,
    "start_time": "2022-04-02T07:12:29.496Z"
   },
   {
    "duration": 52,
    "start_time": "2022-04-02T07:18:25.790Z"
   },
   {
    "duration": 9,
    "start_time": "2022-04-02T07:18:27.790Z"
   },
   {
    "duration": 51,
    "start_time": "2022-04-02T07:19:09.679Z"
   },
   {
    "duration": 8,
    "start_time": "2022-04-02T07:19:10.440Z"
   },
   {
    "duration": 1746,
    "start_time": "2022-04-02T12:12:52.586Z"
   },
   {
    "duration": 501,
    "start_time": "2022-04-02T12:12:54.335Z"
   },
   {
    "duration": 17,
    "start_time": "2022-04-02T12:12:54.838Z"
   },
   {
    "duration": 46,
    "start_time": "2022-04-02T12:12:54.857Z"
   },
   {
    "duration": 27,
    "start_time": "2022-04-02T12:12:54.906Z"
   },
   {
    "duration": 167,
    "start_time": "2022-04-02T12:12:54.935Z"
   },
   {
    "duration": 13,
    "start_time": "2022-04-02T12:12:55.104Z"
   },
   {
    "duration": 31,
    "start_time": "2022-04-02T12:12:55.119Z"
   },
   {
    "duration": 29,
    "start_time": "2022-04-02T12:12:55.176Z"
   },
   {
    "duration": 130,
    "start_time": "2022-04-02T12:12:55.207Z"
   },
   {
    "duration": 11,
    "start_time": "2022-04-02T12:12:55.340Z"
   },
   {
    "duration": 43,
    "start_time": "2022-04-02T12:12:55.353Z"
   },
   {
    "duration": 19,
    "start_time": "2022-04-02T12:12:55.399Z"
   },
   {
    "duration": 96,
    "start_time": "2022-04-02T12:12:55.423Z"
   },
   {
    "duration": 12,
    "start_time": "2022-04-02T12:12:55.521Z"
   },
   {
    "duration": 16,
    "start_time": "2022-04-02T12:12:55.535Z"
   },
   {
    "duration": 13,
    "start_time": "2022-04-02T12:12:55.574Z"
   },
   {
    "duration": 7,
    "start_time": "2022-04-02T12:12:55.590Z"
   },
   {
    "duration": 19,
    "start_time": "2022-04-02T12:12:55.599Z"
   },
   {
    "duration": 17,
    "start_time": "2022-04-02T12:12:55.620Z"
   },
   {
    "duration": 47,
    "start_time": "2022-04-02T12:12:55.639Z"
   },
   {
    "duration": 8,
    "start_time": "2022-04-02T12:12:55.689Z"
   },
   {
    "duration": 45,
    "start_time": "2022-04-02T12:12:55.700Z"
   },
   {
    "duration": 79,
    "start_time": "2022-04-02T12:12:55.748Z"
   },
   {
    "duration": 7,
    "start_time": "2022-04-02T12:12:55.829Z"
   },
   {
    "duration": 13,
    "start_time": "2022-04-02T12:12:55.838Z"
   },
   {
    "duration": 14,
    "start_time": "2022-04-02T12:12:55.874Z"
   },
   {
    "duration": 572,
    "start_time": "2022-04-02T12:12:55.890Z"
   },
   {
    "duration": 71,
    "start_time": "2022-04-02T12:12:56.464Z"
   },
   {
    "duration": 12,
    "start_time": "2022-04-02T12:12:56.537Z"
   },
   {
    "duration": 506,
    "start_time": "2022-04-02T12:12:56.551Z"
   },
   {
    "duration": 69,
    "start_time": "2022-04-02T12:12:57.059Z"
   },
   {
    "duration": 61,
    "start_time": "2022-04-02T12:12:57.130Z"
   },
   {
    "duration": 25,
    "start_time": "2022-04-02T12:12:57.193Z"
   },
   {
    "duration": 6,
    "start_time": "2022-04-02T12:12:57.220Z"
   },
   {
    "duration": 14,
    "start_time": "2022-04-02T12:12:57.227Z"
   },
   {
    "duration": 194,
    "start_time": "2022-04-02T12:12:57.243Z"
   },
   {
    "duration": 0,
    "start_time": "2022-04-02T12:12:57.439Z"
   },
   {
    "duration": 0,
    "start_time": "2022-04-02T12:12:57.442Z"
   },
   {
    "duration": 74,
    "start_time": "2022-04-02T12:20:31.287Z"
   },
   {
    "duration": 15,
    "start_time": "2022-04-02T12:20:38.141Z"
   },
   {
    "duration": 14,
    "start_time": "2022-04-02T12:20:43.807Z"
   },
   {
    "duration": 520,
    "start_time": "2022-04-02T12:21:32.010Z"
   },
   {
    "duration": 2037,
    "start_time": "2022-04-02T12:28:43.735Z"
   },
   {
    "duration": 0,
    "start_time": "2022-04-02T12:28:45.775Z"
   },
   {
    "duration": 9,
    "start_time": "2022-04-02T12:28:56.232Z"
   },
   {
    "duration": 16,
    "start_time": "2022-04-02T12:28:58.422Z"
   },
   {
    "duration": 14,
    "start_time": "2022-04-02T12:29:43.360Z"
   },
   {
    "duration": 18,
    "start_time": "2022-04-02T12:29:44.120Z"
   },
   {
    "duration": 520,
    "start_time": "2022-04-02T12:38:32.015Z"
   },
   {
    "duration": 21,
    "start_time": "2022-04-02T12:40:11.532Z"
   },
   {
    "duration": 16,
    "start_time": "2022-04-02T12:40:34.337Z"
   },
   {
    "duration": 16,
    "start_time": "2022-04-02T12:40:41.218Z"
   },
   {
    "duration": 32,
    "start_time": "2022-04-02T12:42:05.756Z"
   },
   {
    "duration": 8,
    "start_time": "2022-04-02T12:43:53.444Z"
   },
   {
    "duration": 1980,
    "start_time": "2022-04-02T12:44:33.175Z"
   },
   {
    "duration": 1594,
    "start_time": "2022-04-02T12:44:40.819Z"
   },
   {
    "duration": 503,
    "start_time": "2022-04-02T12:44:42.417Z"
   },
   {
    "duration": 17,
    "start_time": "2022-04-02T12:44:42.922Z"
   },
   {
    "duration": 43,
    "start_time": "2022-04-02T12:44:42.943Z"
   },
   {
    "duration": 30,
    "start_time": "2022-04-02T12:44:42.989Z"
   },
   {
    "duration": 200,
    "start_time": "2022-04-02T12:44:43.022Z"
   },
   {
    "duration": 14,
    "start_time": "2022-04-02T12:44:43.225Z"
   },
   {
    "duration": 65,
    "start_time": "2022-04-02T12:44:43.242Z"
   },
   {
    "duration": 24,
    "start_time": "2022-04-02T12:44:43.310Z"
   },
   {
    "duration": 146,
    "start_time": "2022-04-02T12:44:43.339Z"
   },
   {
    "duration": 12,
    "start_time": "2022-04-02T12:44:43.488Z"
   },
   {
    "duration": 29,
    "start_time": "2022-04-02T12:44:43.502Z"
   },
   {
    "duration": 55,
    "start_time": "2022-04-02T12:44:43.533Z"
   },
   {
    "duration": 74,
    "start_time": "2022-04-02T12:44:43.590Z"
   },
   {
    "duration": 13,
    "start_time": "2022-04-02T12:44:43.679Z"
   },
   {
    "duration": 15,
    "start_time": "2022-04-02T12:44:43.695Z"
   },
   {
    "duration": 11,
    "start_time": "2022-04-02T12:44:43.713Z"
   },
   {
    "duration": 7,
    "start_time": "2022-04-02T12:44:43.726Z"
   },
   {
    "duration": 55,
    "start_time": "2022-04-02T12:44:43.735Z"
   },
   {
    "duration": 18,
    "start_time": "2022-04-02T12:44:43.792Z"
   },
   {
    "duration": 9,
    "start_time": "2022-04-02T12:44:43.813Z"
   },
   {
    "duration": 7,
    "start_time": "2022-04-02T12:44:43.824Z"
   },
   {
    "duration": 96,
    "start_time": "2022-04-02T12:44:43.833Z"
   },
   {
    "duration": 66,
    "start_time": "2022-04-02T12:44:43.932Z"
   },
   {
    "duration": 6,
    "start_time": "2022-04-02T12:44:44.000Z"
   },
   {
    "duration": 18,
    "start_time": "2022-04-02T12:44:44.007Z"
   },
   {
    "duration": 7,
    "start_time": "2022-04-02T12:44:44.027Z"
   },
   {
    "duration": 549,
    "start_time": "2022-04-02T12:44:44.039Z"
   },
   {
    "duration": 40,
    "start_time": "2022-04-02T12:44:44.591Z"
   },
   {
    "duration": 182,
    "start_time": "2022-04-02T12:44:44.633Z"
   },
   {
    "duration": 0,
    "start_time": "2022-04-02T12:44:44.818Z"
   },
   {
    "duration": 0,
    "start_time": "2022-04-02T12:44:44.821Z"
   },
   {
    "duration": 0,
    "start_time": "2022-04-02T12:44:44.824Z"
   },
   {
    "duration": 0,
    "start_time": "2022-04-02T12:44:44.826Z"
   },
   {
    "duration": 0,
    "start_time": "2022-04-02T12:44:44.828Z"
   },
   {
    "duration": 0,
    "start_time": "2022-04-02T12:44:44.830Z"
   },
   {
    "duration": 0,
    "start_time": "2022-04-02T12:44:44.832Z"
   },
   {
    "duration": 0,
    "start_time": "2022-04-02T12:44:44.835Z"
   },
   {
    "duration": 0,
    "start_time": "2022-04-02T12:44:44.837Z"
   },
   {
    "duration": 0,
    "start_time": "2022-04-02T12:44:44.873Z"
   },
   {
    "duration": 0,
    "start_time": "2022-04-02T12:44:44.876Z"
   },
   {
    "duration": 0,
    "start_time": "2022-04-02T12:44:44.877Z"
   },
   {
    "duration": 0,
    "start_time": "2022-04-02T12:44:44.878Z"
   },
   {
    "duration": 0,
    "start_time": "2022-04-02T12:44:44.882Z"
   },
   {
    "duration": 0,
    "start_time": "2022-04-02T12:44:44.884Z"
   },
   {
    "duration": 0,
    "start_time": "2022-04-02T12:44:44.886Z"
   },
   {
    "duration": 0,
    "start_time": "2022-04-02T12:44:44.888Z"
   },
   {
    "duration": 38,
    "start_time": "2022-04-02T12:45:04.576Z"
   },
   {
    "duration": 505,
    "start_time": "2022-04-02T12:45:06.615Z"
   },
   {
    "duration": 94,
    "start_time": "2022-04-02T12:45:32.167Z"
   },
   {
    "duration": 545,
    "start_time": "2022-04-02T12:45:34.319Z"
   },
   {
    "duration": 63,
    "start_time": "2022-04-02T12:48:33.699Z"
   },
   {
    "duration": 14,
    "start_time": "2022-04-02T12:48:35.146Z"
   },
   {
    "duration": 479,
    "start_time": "2022-04-02T12:48:36.018Z"
   },
   {
    "duration": 82,
    "start_time": "2022-04-02T12:48:55.563Z"
   },
   {
    "duration": 14,
    "start_time": "2022-04-02T12:48:56.594Z"
   },
   {
    "duration": 484,
    "start_time": "2022-04-02T12:49:06.939Z"
   },
   {
    "duration": 16,
    "start_time": "2022-04-02T12:50:30.902Z"
   },
   {
    "duration": 445,
    "start_time": "2022-04-02T12:51:58.558Z"
   },
   {
    "duration": 14,
    "start_time": "2022-04-02T12:53:39.346Z"
   },
   {
    "duration": 19,
    "start_time": "2022-04-02T12:53:40.201Z"
   },
   {
    "duration": 6,
    "start_time": "2022-04-02T12:56:56.949Z"
   },
   {
    "duration": 480,
    "start_time": "2022-04-02T12:56:58.221Z"
   },
   {
    "duration": 12,
    "start_time": "2022-04-02T12:57:00.414Z"
   },
   {
    "duration": 35,
    "start_time": "2022-04-02T12:57:02.597Z"
   },
   {
    "duration": 27,
    "start_time": "2022-04-02T12:57:04.021Z"
   },
   {
    "duration": 139,
    "start_time": "2022-04-02T12:57:05.021Z"
   },
   {
    "duration": 13,
    "start_time": "2022-04-02T12:57:06.901Z"
   },
   {
    "duration": 30,
    "start_time": "2022-04-02T12:57:08.385Z"
   },
   {
    "duration": 23,
    "start_time": "2022-04-02T12:57:09.437Z"
   },
   {
    "duration": 110,
    "start_time": "2022-04-02T12:57:10.638Z"
   },
   {
    "duration": 11,
    "start_time": "2022-04-02T12:57:12.437Z"
   },
   {
    "duration": 29,
    "start_time": "2022-04-02T12:57:13.398Z"
   },
   {
    "duration": 20,
    "start_time": "2022-04-02T12:57:14.390Z"
   },
   {
    "duration": 66,
    "start_time": "2022-04-02T12:57:15.134Z"
   },
   {
    "duration": 12,
    "start_time": "2022-04-02T12:57:16.894Z"
   },
   {
    "duration": 16,
    "start_time": "2022-04-02T12:57:18.125Z"
   },
   {
    "duration": 10,
    "start_time": "2022-04-02T12:57:18.861Z"
   },
   {
    "duration": 7,
    "start_time": "2022-04-02T12:57:19.710Z"
   },
   {
    "duration": 17,
    "start_time": "2022-04-02T12:57:21.430Z"
   },
   {
    "duration": 16,
    "start_time": "2022-04-02T12:57:22.261Z"
   },
   {
    "duration": 8,
    "start_time": "2022-04-02T12:57:23.174Z"
   },
   {
    "duration": 10,
    "start_time": "2022-04-02T12:57:24.037Z"
   },
   {
    "duration": 46,
    "start_time": "2022-04-02T12:57:27.925Z"
   },
   {
    "duration": 33,
    "start_time": "2022-04-02T12:57:30.462Z"
   },
   {
    "duration": 7,
    "start_time": "2022-04-02T12:57:34.406Z"
   },
   {
    "duration": 11,
    "start_time": "2022-04-02T12:57:35.373Z"
   },
   {
    "duration": 6,
    "start_time": "2022-04-02T12:57:40.510Z"
   },
   {
    "duration": 45,
    "start_time": "2022-04-02T12:57:45.926Z"
   },
   {
    "duration": 12,
    "start_time": "2022-04-02T12:57:46.597Z"
   },
   {
    "duration": 21,
    "start_time": "2022-04-02T12:57:50.487Z"
   },
   {
    "duration": 456,
    "start_time": "2022-04-02T12:58:08.840Z"
   },
   {
    "duration": 55,
    "start_time": "2022-04-02T12:58:18.999Z"
   },
   {
    "duration": 13,
    "start_time": "2022-04-02T12:58:20.039Z"
   },
   {
    "duration": 572,
    "start_time": "2022-04-02T12:58:24.728Z"
   },
   {
    "duration": 16,
    "start_time": "2022-04-02T12:58:32.927Z"
   },
   {
    "duration": 12,
    "start_time": "2022-04-02T12:58:39.537Z"
   },
   {
    "duration": 17,
    "start_time": "2022-04-02T12:58:40.440Z"
   },
   {
    "duration": 51,
    "start_time": "2022-04-02T13:00:37.882Z"
   },
   {
    "duration": 35,
    "start_time": "2022-04-02T13:00:58.778Z"
   },
   {
    "duration": 22,
    "start_time": "2022-04-02T13:01:00.875Z"
   },
   {
    "duration": 29,
    "start_time": "2022-04-02T13:05:14.080Z"
   },
   {
    "duration": 28,
    "start_time": "2022-04-02T13:06:01.529Z"
   },
   {
    "duration": 28,
    "start_time": "2022-04-02T13:06:10.874Z"
   },
   {
    "duration": 29,
    "start_time": "2022-04-02T13:06:20.593Z"
   },
   {
    "duration": 29,
    "start_time": "2022-04-02T13:06:29.345Z"
   },
   {
    "duration": 23,
    "start_time": "2022-04-02T13:06:51.578Z"
   },
   {
    "duration": 30,
    "start_time": "2022-04-02T13:07:04.347Z"
   },
   {
    "duration": 27,
    "start_time": "2022-04-02T13:07:12.146Z"
   },
   {
    "duration": 32,
    "start_time": "2022-04-02T13:07:16.955Z"
   },
   {
    "duration": 30,
    "start_time": "2022-04-02T13:08:42.261Z"
   },
   {
    "duration": 40,
    "start_time": "2022-04-02T13:09:40.270Z"
   },
   {
    "duration": 37,
    "start_time": "2022-04-02T13:09:57.887Z"
   },
   {
    "duration": 29,
    "start_time": "2022-04-02T13:10:03.496Z"
   },
   {
    "duration": 60,
    "start_time": "2022-04-02T13:10:58.336Z"
   },
   {
    "duration": 12,
    "start_time": "2022-04-02T13:11:47.705Z"
   },
   {
    "duration": 41,
    "start_time": "2022-04-02T13:12:04.098Z"
   },
   {
    "duration": 43,
    "start_time": "2022-04-02T13:12:18.771Z"
   },
   {
    "duration": 4,
    "start_time": "2022-04-02T13:13:50.117Z"
   },
   {
    "duration": 17,
    "start_time": "2022-04-02T13:14:01.228Z"
   },
   {
    "duration": 20,
    "start_time": "2022-04-02T13:14:22.558Z"
   },
   {
    "duration": 17,
    "start_time": "2022-04-02T13:17:32.057Z"
   },
   {
    "duration": 1670,
    "start_time": "2022-04-03T07:33:16.273Z"
   },
   {
    "duration": 491,
    "start_time": "2022-04-03T07:33:17.945Z"
   },
   {
    "duration": 17,
    "start_time": "2022-04-03T07:33:18.438Z"
   },
   {
    "duration": 34,
    "start_time": "2022-04-03T07:33:18.458Z"
   },
   {
    "duration": 51,
    "start_time": "2022-04-03T07:33:18.494Z"
   },
   {
    "duration": 157,
    "start_time": "2022-04-03T07:33:18.547Z"
   },
   {
    "duration": 12,
    "start_time": "2022-04-03T07:33:18.707Z"
   },
   {
    "duration": 42,
    "start_time": "2022-04-03T07:33:18.721Z"
   },
   {
    "duration": 22,
    "start_time": "2022-04-03T07:33:18.765Z"
   },
   {
    "duration": 125,
    "start_time": "2022-04-03T07:33:18.791Z"
   },
   {
    "duration": 11,
    "start_time": "2022-04-03T07:33:18.918Z"
   },
   {
    "duration": 34,
    "start_time": "2022-04-03T07:33:18.931Z"
   },
   {
    "duration": 18,
    "start_time": "2022-04-03T07:33:18.967Z"
   },
   {
    "duration": 99,
    "start_time": "2022-04-03T07:33:18.987Z"
   },
   {
    "duration": 11,
    "start_time": "2022-04-03T07:33:19.088Z"
   },
   {
    "duration": 17,
    "start_time": "2022-04-03T07:33:19.101Z"
   },
   {
    "duration": 27,
    "start_time": "2022-04-03T07:33:19.120Z"
   },
   {
    "duration": 10,
    "start_time": "2022-04-03T07:33:19.149Z"
   },
   {
    "duration": 19,
    "start_time": "2022-04-03T07:33:19.161Z"
   },
   {
    "duration": 14,
    "start_time": "2022-04-03T07:33:19.182Z"
   },
   {
    "duration": 46,
    "start_time": "2022-04-03T07:33:19.198Z"
   },
   {
    "duration": 9,
    "start_time": "2022-04-03T07:33:19.246Z"
   },
   {
    "duration": 43,
    "start_time": "2022-04-03T07:33:19.257Z"
   },
   {
    "duration": 56,
    "start_time": "2022-04-03T07:33:19.302Z"
   },
   {
    "duration": 6,
    "start_time": "2022-04-03T07:33:19.360Z"
   },
   {
    "duration": 12,
    "start_time": "2022-04-03T07:33:19.368Z"
   },
   {
    "duration": 7,
    "start_time": "2022-04-03T07:33:19.382Z"
   },
   {
    "duration": 522,
    "start_time": "2022-04-03T07:33:19.393Z"
   },
   {
    "duration": 47,
    "start_time": "2022-04-03T07:33:19.917Z"
   },
   {
    "duration": 12,
    "start_time": "2022-04-03T07:33:19.966Z"
   },
   {
    "duration": 482,
    "start_time": "2022-04-03T07:33:19.981Z"
   },
   {
    "duration": 53,
    "start_time": "2022-04-03T07:33:20.466Z"
   },
   {
    "duration": 30,
    "start_time": "2022-04-03T07:33:20.521Z"
   },
   {
    "duration": 520,
    "start_time": "2022-04-03T07:33:20.554Z"
   },
   {
    "duration": 17,
    "start_time": "2022-04-03T07:33:21.077Z"
   },
   {
    "duration": 14,
    "start_time": "2022-04-03T07:33:21.096Z"
   },
   {
    "duration": 24,
    "start_time": "2022-04-03T07:33:21.144Z"
   },
   {
    "duration": 101,
    "start_time": "2022-04-03T07:33:21.170Z"
   },
   {
    "duration": 42,
    "start_time": "2022-04-03T07:33:21.274Z"
   },
   {
    "duration": 25,
    "start_time": "2022-04-03T07:33:21.318Z"
   },
   {
    "duration": 16,
    "start_time": "2022-04-03T07:33:21.345Z"
   },
   {
    "duration": 17,
    "start_time": "2022-04-03T07:33:21.363Z"
   },
   {
    "duration": 20,
    "start_time": "2022-04-03T07:33:21.382Z"
   },
   {
    "duration": 6,
    "start_time": "2022-04-03T07:33:21.404Z"
   },
   {
    "duration": 10,
    "start_time": "2022-04-03T07:33:21.443Z"
   },
   {
    "duration": 156,
    "start_time": "2022-04-03T07:33:21.456Z"
   },
   {
    "duration": 0,
    "start_time": "2022-04-03T07:33:21.615Z"
   },
   {
    "duration": 0,
    "start_time": "2022-04-03T07:33:21.617Z"
   },
   {
    "duration": 13,
    "start_time": "2022-04-03T07:35:42.234Z"
   },
   {
    "duration": 14,
    "start_time": "2022-04-03T07:36:10.034Z"
   },
   {
    "duration": 5505,
    "start_time": "2022-04-03T07:36:28.825Z"
   },
   {
    "duration": 46,
    "start_time": "2022-04-04T06:21:08.649Z"
   },
   {
    "duration": 6,
    "start_time": "2022-04-04T06:21:13.335Z"
   },
   {
    "duration": 1274,
    "start_time": "2022-04-04T06:21:19.178Z"
   },
   {
    "duration": 376,
    "start_time": "2022-04-04T06:21:20.454Z"
   },
   {
    "duration": 12,
    "start_time": "2022-04-04T06:21:20.831Z"
   },
   {
    "duration": 26,
    "start_time": "2022-04-04T06:21:20.845Z"
   },
   {
    "duration": 20,
    "start_time": "2022-04-04T06:21:20.873Z"
   },
   {
    "duration": 150,
    "start_time": "2022-04-04T06:21:20.895Z"
   },
   {
    "duration": 9,
    "start_time": "2022-04-04T06:21:21.047Z"
   },
   {
    "duration": 29,
    "start_time": "2022-04-04T06:21:21.058Z"
   },
   {
    "duration": 18,
    "start_time": "2022-04-04T06:21:21.088Z"
   },
   {
    "duration": 98,
    "start_time": "2022-04-04T06:21:21.109Z"
   },
   {
    "duration": 9,
    "start_time": "2022-04-04T06:21:21.209Z"
   },
   {
    "duration": 34,
    "start_time": "2022-04-04T06:21:21.220Z"
   },
   {
    "duration": 16,
    "start_time": "2022-04-04T06:21:21.256Z"
   },
   {
    "duration": 81,
    "start_time": "2022-04-04T06:21:21.273Z"
   },
   {
    "duration": 9,
    "start_time": "2022-04-04T06:21:21.356Z"
   },
   {
    "duration": 15,
    "start_time": "2022-04-04T06:21:21.366Z"
   },
   {
    "duration": 14,
    "start_time": "2022-04-04T06:21:21.384Z"
   },
   {
    "duration": 10,
    "start_time": "2022-04-04T06:21:21.400Z"
   },
   {
    "duration": 31,
    "start_time": "2022-04-04T06:21:21.412Z"
   },
   {
    "duration": 13,
    "start_time": "2022-04-04T06:21:21.445Z"
   },
   {
    "duration": 8,
    "start_time": "2022-04-04T06:21:21.460Z"
   },
   {
    "duration": 11,
    "start_time": "2022-04-04T06:21:21.469Z"
   },
   {
    "duration": 37,
    "start_time": "2022-04-04T06:21:21.481Z"
   },
   {
    "duration": 35,
    "start_time": "2022-04-04T06:21:21.519Z"
   },
   {
    "duration": 5,
    "start_time": "2022-04-04T06:21:21.556Z"
   },
   {
    "duration": 52,
    "start_time": "2022-04-04T06:21:21.563Z"
   },
   {
    "duration": 8,
    "start_time": "2022-04-04T06:21:21.616Z"
   },
   {
    "duration": 424,
    "start_time": "2022-04-04T06:21:21.628Z"
   },
   {
    "duration": 31,
    "start_time": "2022-04-04T06:21:22.053Z"
   },
   {
    "duration": 8,
    "start_time": "2022-04-04T06:21:22.086Z"
   },
   {
    "duration": 347,
    "start_time": "2022-04-04T06:21:22.096Z"
   },
   {
    "duration": 37,
    "start_time": "2022-04-04T06:21:22.445Z"
   },
   {
    "duration": 9,
    "start_time": "2022-04-04T06:21:22.483Z"
   },
   {
    "duration": 358,
    "start_time": "2022-04-04T06:21:22.493Z"
   },
   {
    "duration": 11,
    "start_time": "2022-04-04T06:21:22.852Z"
   },
   {
    "duration": 7,
    "start_time": "2022-04-04T06:21:22.865Z"
   },
   {
    "duration": 17,
    "start_time": "2022-04-04T06:21:22.874Z"
   },
   {
    "duration": 88,
    "start_time": "2022-04-04T06:21:22.893Z"
   },
   {
    "duration": 28,
    "start_time": "2022-04-04T06:21:22.983Z"
   },
   {
    "duration": 2,
    "start_time": "2022-04-04T06:21:23.013Z"
   },
   {
    "duration": 30,
    "start_time": "2022-04-04T06:21:23.017Z"
   },
   {
    "duration": 13,
    "start_time": "2022-04-04T06:21:23.049Z"
   },
   {
    "duration": 11,
    "start_time": "2022-04-04T06:21:23.064Z"
   },
   {
    "duration": 1514,
    "start_time": "2022-04-04T06:21:23.077Z"
   },
   {
    "duration": 0,
    "start_time": "2022-04-04T06:21:24.593Z"
   },
   {
    "duration": 0,
    "start_time": "2022-04-04T06:21:24.594Z"
   },
   {
    "duration": 0,
    "start_time": "2022-04-04T06:21:24.595Z"
   },
   {
    "duration": 0,
    "start_time": "2022-04-04T06:21:24.596Z"
   },
   {
    "duration": 0,
    "start_time": "2022-04-04T06:21:24.597Z"
   },
   {
    "duration": 9,
    "start_time": "2022-04-04T06:24:47.612Z"
   },
   {
    "duration": 9,
    "start_time": "2022-04-04T06:24:55.226Z"
   },
   {
    "duration": 9,
    "start_time": "2022-04-04T06:28:20.567Z"
   },
   {
    "duration": 1472,
    "start_time": "2022-04-04T06:28:31.718Z"
   },
   {
    "duration": 1103,
    "start_time": "2022-04-04T06:29:43.944Z"
   },
   {
    "duration": 375,
    "start_time": "2022-04-04T06:29:45.050Z"
   },
   {
    "duration": 13,
    "start_time": "2022-04-04T06:29:45.426Z"
   },
   {
    "duration": 26,
    "start_time": "2022-04-04T06:29:45.442Z"
   },
   {
    "duration": 22,
    "start_time": "2022-04-04T06:29:45.470Z"
   },
   {
    "duration": 129,
    "start_time": "2022-04-04T06:29:45.494Z"
   },
   {
    "duration": 18,
    "start_time": "2022-04-04T06:29:45.625Z"
   },
   {
    "duration": 24,
    "start_time": "2022-04-04T06:29:45.645Z"
   },
   {
    "duration": 18,
    "start_time": "2022-04-04T06:29:45.671Z"
   },
   {
    "duration": 85,
    "start_time": "2022-04-04T06:29:45.692Z"
   },
   {
    "duration": 8,
    "start_time": "2022-04-04T06:29:45.779Z"
   },
   {
    "duration": 21,
    "start_time": "2022-04-04T06:29:45.789Z"
   },
   {
    "duration": 31,
    "start_time": "2022-04-04T06:29:45.812Z"
   },
   {
    "duration": 54,
    "start_time": "2022-04-04T06:29:45.844Z"
   },
   {
    "duration": 7,
    "start_time": "2022-04-04T06:29:45.900Z"
   },
   {
    "duration": 12,
    "start_time": "2022-04-04T06:29:45.908Z"
   },
   {
    "duration": 20,
    "start_time": "2022-04-04T06:29:45.921Z"
   },
   {
    "duration": 8,
    "start_time": "2022-04-04T06:29:45.942Z"
   },
   {
    "duration": 13,
    "start_time": "2022-04-04T06:29:45.951Z"
   },
   {
    "duration": 11,
    "start_time": "2022-04-04T06:29:45.966Z"
   },
   {
    "duration": 6,
    "start_time": "2022-04-04T06:29:45.978Z"
   },
   {
    "duration": 8,
    "start_time": "2022-04-04T06:29:45.985Z"
   },
   {
    "duration": 55,
    "start_time": "2022-04-04T06:29:45.994Z"
   },
   {
    "duration": 21,
    "start_time": "2022-04-04T06:29:46.051Z"
   },
   {
    "duration": 4,
    "start_time": "2022-04-04T06:29:46.074Z"
   },
   {
    "duration": 11,
    "start_time": "2022-04-04T06:29:46.080Z"
   },
   {
    "duration": 5,
    "start_time": "2022-04-04T06:29:46.092Z"
   },
   {
    "duration": 361,
    "start_time": "2022-04-04T06:29:46.100Z"
   },
   {
    "duration": 31,
    "start_time": "2022-04-04T06:29:46.463Z"
   },
   {
    "duration": 8,
    "start_time": "2022-04-04T06:29:46.496Z"
   },
   {
    "duration": 338,
    "start_time": "2022-04-04T06:29:46.506Z"
   },
   {
    "duration": 37,
    "start_time": "2022-04-04T06:29:46.845Z"
   },
   {
    "duration": 10,
    "start_time": "2022-04-04T06:29:46.884Z"
   },
   {
    "duration": 364,
    "start_time": "2022-04-04T06:29:46.895Z"
   },
   {
    "duration": 11,
    "start_time": "2022-04-04T06:29:47.261Z"
   },
   {
    "duration": 8,
    "start_time": "2022-04-04T06:29:47.273Z"
   },
   {
    "duration": 20,
    "start_time": "2022-04-04T06:29:47.282Z"
   },
   {
    "duration": 78,
    "start_time": "2022-04-04T06:29:47.303Z"
   },
   {
    "duration": 28,
    "start_time": "2022-04-04T06:29:47.383Z"
   },
   {
    "duration": 3,
    "start_time": "2022-04-04T06:29:47.413Z"
   },
   {
    "duration": 28,
    "start_time": "2022-04-04T06:29:47.417Z"
   },
   {
    "duration": 1425,
    "start_time": "2022-04-04T06:29:47.447Z"
   },
   {
    "duration": 0,
    "start_time": "2022-04-04T06:29:48.874Z"
   },
   {
    "duration": 0,
    "start_time": "2022-04-04T06:29:48.875Z"
   },
   {
    "duration": 0,
    "start_time": "2022-04-04T06:29:48.876Z"
   },
   {
    "duration": 0,
    "start_time": "2022-04-04T06:29:48.877Z"
   },
   {
    "duration": 0,
    "start_time": "2022-04-04T06:29:48.878Z"
   },
   {
    "duration": 0,
    "start_time": "2022-04-04T06:29:48.879Z"
   },
   {
    "duration": 0,
    "start_time": "2022-04-04T06:29:48.880Z"
   },
   {
    "duration": 1806,
    "start_time": "2022-04-04T06:30:23.404Z"
   },
   {
    "duration": 11,
    "start_time": "2022-04-04T06:30:58.107Z"
   },
   {
    "duration": 16,
    "start_time": "2022-04-04T06:45:50.229Z"
   },
   {
    "duration": 1249,
    "start_time": "2022-04-04T06:46:35.553Z"
   },
   {
    "duration": 11,
    "start_time": "2022-04-04T06:46:36.817Z"
   },
   {
    "duration": 1210,
    "start_time": "2022-04-04T06:46:49.125Z"
   },
   {
    "duration": 377,
    "start_time": "2022-04-04T06:46:50.337Z"
   },
   {
    "duration": 13,
    "start_time": "2022-04-04T06:46:50.715Z"
   },
   {
    "duration": 25,
    "start_time": "2022-04-04T06:46:50.730Z"
   },
   {
    "duration": 20,
    "start_time": "2022-04-04T06:46:50.757Z"
   },
   {
    "duration": 126,
    "start_time": "2022-04-04T06:46:50.779Z"
   },
   {
    "duration": 9,
    "start_time": "2022-04-04T06:46:50.907Z"
   },
   {
    "duration": 38,
    "start_time": "2022-04-04T06:46:50.918Z"
   },
   {
    "duration": 17,
    "start_time": "2022-04-04T06:46:50.958Z"
   },
   {
    "duration": 88,
    "start_time": "2022-04-04T06:46:50.978Z"
   },
   {
    "duration": 8,
    "start_time": "2022-04-04T06:46:51.068Z"
   },
   {
    "duration": 24,
    "start_time": "2022-04-04T06:46:51.078Z"
   },
   {
    "duration": 15,
    "start_time": "2022-04-04T06:46:51.104Z"
   },
   {
    "duration": 62,
    "start_time": "2022-04-04T06:46:51.121Z"
   },
   {
    "duration": 8,
    "start_time": "2022-04-04T06:46:51.185Z"
   },
   {
    "duration": 12,
    "start_time": "2022-04-04T06:46:51.195Z"
   },
   {
    "duration": 30,
    "start_time": "2022-04-04T06:46:51.209Z"
   },
   {
    "duration": 8,
    "start_time": "2022-04-04T06:46:51.240Z"
   },
   {
    "duration": 14,
    "start_time": "2022-04-04T06:46:51.250Z"
   },
   {
    "duration": 12,
    "start_time": "2022-04-04T06:46:51.265Z"
   },
   {
    "duration": 9,
    "start_time": "2022-04-04T06:46:51.279Z"
   },
   {
    "duration": 5,
    "start_time": "2022-04-04T06:46:51.290Z"
   },
   {
    "duration": 49,
    "start_time": "2022-04-04T06:46:51.297Z"
   },
   {
    "duration": 21,
    "start_time": "2022-04-04T06:46:51.347Z"
   },
   {
    "duration": 5,
    "start_time": "2022-04-04T06:46:51.369Z"
   },
   {
    "duration": 12,
    "start_time": "2022-04-04T06:46:51.375Z"
   },
   {
    "duration": 6,
    "start_time": "2022-04-04T06:46:51.388Z"
   },
   {
    "duration": 365,
    "start_time": "2022-04-04T06:46:51.397Z"
   },
   {
    "duration": 30,
    "start_time": "2022-04-04T06:46:51.764Z"
   },
   {
    "duration": 8,
    "start_time": "2022-04-04T06:46:51.795Z"
   },
   {
    "duration": 343,
    "start_time": "2022-04-04T06:46:51.805Z"
   },
   {
    "duration": 36,
    "start_time": "2022-04-04T06:46:52.150Z"
   },
   {
    "duration": 9,
    "start_time": "2022-04-04T06:46:52.187Z"
   },
   {
    "duration": 353,
    "start_time": "2022-04-04T06:46:52.198Z"
   },
   {
    "duration": 12,
    "start_time": "2022-04-04T06:46:52.552Z"
   },
   {
    "duration": 7,
    "start_time": "2022-04-04T06:46:52.566Z"
   },
   {
    "duration": 17,
    "start_time": "2022-04-04T06:46:52.575Z"
   },
   {
    "duration": 86,
    "start_time": "2022-04-04T06:46:52.593Z"
   },
   {
    "duration": 28,
    "start_time": "2022-04-04T06:46:52.682Z"
   },
   {
    "duration": 3,
    "start_time": "2022-04-04T06:46:52.711Z"
   },
   {
    "duration": 25,
    "start_time": "2022-04-04T06:46:52.716Z"
   },
   {
    "duration": 10,
    "start_time": "2022-04-04T06:46:52.742Z"
   },
   {
    "duration": 12,
    "start_time": "2022-04-04T06:46:52.753Z"
   },
   {
    "duration": 11,
    "start_time": "2022-04-04T06:46:52.767Z"
   },
   {
    "duration": 5,
    "start_time": "2022-04-04T06:46:52.779Z"
   },
   {
    "duration": 7,
    "start_time": "2022-04-04T06:46:52.785Z"
   },
   {
    "duration": 139,
    "start_time": "2022-04-04T06:46:52.794Z"
   },
   {
    "duration": 1,
    "start_time": "2022-04-04T06:46:52.937Z"
   },
   {
    "duration": 1,
    "start_time": "2022-04-04T06:46:52.938Z"
   },
   {
    "duration": 14,
    "start_time": "2022-04-04T06:47:13.967Z"
   },
   {
    "duration": 100,
    "start_time": "2022-04-04T06:47:30.296Z"
   },
   {
    "duration": 17,
    "start_time": "2022-04-04T06:47:35.248Z"
   },
   {
    "duration": 8,
    "start_time": "2022-04-04T07:08:33.642Z"
   },
   {
    "duration": 3808,
    "start_time": "2022-04-04T07:08:43.384Z"
   },
   {
    "duration": 9,
    "start_time": "2022-04-04T07:08:52.904Z"
   },
   {
    "duration": 13,
    "start_time": "2022-04-04T07:09:05.416Z"
   },
   {
    "duration": 11,
    "start_time": "2022-04-04T07:11:00.549Z"
   },
   {
    "duration": 10,
    "start_time": "2022-04-04T07:11:40.853Z"
   },
   {
    "duration": 11,
    "start_time": "2022-04-04T07:12:11.732Z"
   },
   {
    "duration": 9,
    "start_time": "2022-04-04T07:13:01.247Z"
   },
   {
    "duration": 10,
    "start_time": "2022-04-04T07:13:14.838Z"
   },
   {
    "duration": 9,
    "start_time": "2022-04-04T07:13:40.591Z"
   },
   {
    "duration": 10,
    "start_time": "2022-04-04T07:13:53.671Z"
   },
   {
    "duration": 13,
    "start_time": "2022-04-04T07:15:06.856Z"
   },
   {
    "duration": 17,
    "start_time": "2022-04-04T07:15:20.562Z"
   },
   {
    "duration": 19,
    "start_time": "2022-04-04T07:17:55.070Z"
   },
   {
    "duration": 361,
    "start_time": "2022-04-04T07:17:58.771Z"
   },
   {
    "duration": 14,
    "start_time": "2022-04-04T07:17:59.396Z"
   },
   {
    "duration": 1167,
    "start_time": "2022-04-04T07:18:09.877Z"
   },
   {
    "duration": 392,
    "start_time": "2022-04-04T07:18:11.046Z"
   },
   {
    "duration": 11,
    "start_time": "2022-04-04T07:18:11.442Z"
   },
   {
    "duration": 30,
    "start_time": "2022-04-04T07:18:11.455Z"
   },
   {
    "duration": 21,
    "start_time": "2022-04-04T07:18:11.486Z"
   },
   {
    "duration": 142,
    "start_time": "2022-04-04T07:18:11.509Z"
   },
   {
    "duration": 8,
    "start_time": "2022-04-04T07:18:11.653Z"
   },
   {
    "duration": 25,
    "start_time": "2022-04-04T07:18:11.663Z"
   },
   {
    "duration": 18,
    "start_time": "2022-04-04T07:18:11.690Z"
   },
   {
    "duration": 101,
    "start_time": "2022-04-04T07:18:11.710Z"
   },
   {
    "duration": 9,
    "start_time": "2022-04-04T07:18:11.813Z"
   },
   {
    "duration": 33,
    "start_time": "2022-04-04T07:18:11.823Z"
   },
   {
    "duration": 15,
    "start_time": "2022-04-04T07:18:11.858Z"
   },
   {
    "duration": 73,
    "start_time": "2022-04-04T07:18:11.875Z"
   },
   {
    "duration": 9,
    "start_time": "2022-04-04T07:18:11.949Z"
   },
   {
    "duration": 14,
    "start_time": "2022-04-04T07:18:11.959Z"
   },
   {
    "duration": 9,
    "start_time": "2022-04-04T07:18:11.975Z"
   },
   {
    "duration": 7,
    "start_time": "2022-04-04T07:18:11.985Z"
   },
   {
    "duration": 20,
    "start_time": "2022-04-04T07:18:11.994Z"
   },
   {
    "duration": 30,
    "start_time": "2022-04-04T07:18:12.016Z"
   },
   {
    "duration": 9,
    "start_time": "2022-04-04T07:18:12.048Z"
   },
   {
    "duration": 13,
    "start_time": "2022-04-04T07:18:12.058Z"
   },
   {
    "duration": 35,
    "start_time": "2022-04-04T07:18:12.073Z"
   },
   {
    "duration": 34,
    "start_time": "2022-04-04T07:18:12.110Z"
   },
   {
    "duration": 5,
    "start_time": "2022-04-04T07:18:12.145Z"
   },
   {
    "duration": 12,
    "start_time": "2022-04-04T07:18:12.151Z"
   },
   {
    "duration": 5,
    "start_time": "2022-04-04T07:18:12.166Z"
   },
   {
    "duration": 382,
    "start_time": "2022-04-04T07:18:12.172Z"
   },
   {
    "duration": 30,
    "start_time": "2022-04-04T07:18:12.556Z"
   },
   {
    "duration": 8,
    "start_time": "2022-04-04T07:18:12.588Z"
   },
   {
    "duration": 350,
    "start_time": "2022-04-04T07:18:12.597Z"
   },
   {
    "duration": 37,
    "start_time": "2022-04-04T07:18:12.948Z"
   },
   {
    "duration": 9,
    "start_time": "2022-04-04T07:18:12.986Z"
   },
   {
    "duration": 361,
    "start_time": "2022-04-04T07:18:12.997Z"
   },
   {
    "duration": 11,
    "start_time": "2022-04-04T07:18:13.360Z"
   },
   {
    "duration": 8,
    "start_time": "2022-04-04T07:18:13.372Z"
   },
   {
    "duration": 19,
    "start_time": "2022-04-04T07:18:13.381Z"
   },
   {
    "duration": 83,
    "start_time": "2022-04-04T07:18:13.402Z"
   },
   {
    "duration": 28,
    "start_time": "2022-04-04T07:18:13.487Z"
   },
   {
    "duration": 2,
    "start_time": "2022-04-04T07:18:13.517Z"
   },
   {
    "duration": 10,
    "start_time": "2022-04-04T07:18:13.537Z"
   },
   {
    "duration": 16,
    "start_time": "2022-04-04T07:18:13.549Z"
   },
   {
    "duration": 10,
    "start_time": "2022-04-04T07:18:13.567Z"
   },
   {
    "duration": 11,
    "start_time": "2022-04-04T07:18:13.578Z"
   },
   {
    "duration": 4,
    "start_time": "2022-04-04T07:18:13.590Z"
   },
   {
    "duration": 41,
    "start_time": "2022-04-04T07:18:13.596Z"
   },
   {
    "duration": 113,
    "start_time": "2022-04-04T07:18:13.639Z"
   },
   {
    "duration": 0,
    "start_time": "2022-04-04T07:18:13.753Z"
   },
   {
    "duration": 0,
    "start_time": "2022-04-04T07:18:13.755Z"
   },
   {
    "duration": 16,
    "start_time": "2022-04-04T07:18:39.913Z"
   },
   {
    "duration": 17,
    "start_time": "2022-04-04T07:18:42.721Z"
   },
   {
    "duration": 12,
    "start_time": "2022-04-04T07:19:59.539Z"
   },
   {
    "duration": 12,
    "start_time": "2022-04-04T07:25:27.034Z"
   },
   {
    "duration": 173,
    "start_time": "2022-04-04T07:25:37.898Z"
   },
   {
    "duration": 370,
    "start_time": "2022-04-04T07:26:08.860Z"
   },
   {
    "duration": 92,
    "start_time": "2022-04-04T07:39:21.086Z"
   },
   {
    "duration": 86,
    "start_time": "2022-04-04T07:40:15.902Z"
   },
   {
    "duration": 92,
    "start_time": "2022-04-04T07:40:43.891Z"
   },
   {
    "duration": 5,
    "start_time": "2022-04-04T07:40:57.783Z"
   },
   {
    "duration": 3,
    "start_time": "2022-04-04T07:41:06.415Z"
   },
   {
    "duration": 1471,
    "start_time": "2022-04-04T07:44:19.587Z"
   },
   {
    "duration": 1574,
    "start_time": "2022-04-04T07:45:04.757Z"
   },
   {
    "duration": 89,
    "start_time": "2022-04-04T07:45:18.901Z"
   },
   {
    "duration": 81,
    "start_time": "2022-04-04T07:45:31.900Z"
   },
   {
    "duration": 12,
    "start_time": "2022-04-04T07:45:34.076Z"
   },
   {
    "duration": 98,
    "start_time": "2022-04-04T07:46:28.741Z"
   },
   {
    "duration": 410,
    "start_time": "2022-04-04T07:48:46.712Z"
   },
   {
    "duration": 13,
    "start_time": "2022-04-04T07:48:47.393Z"
   },
   {
    "duration": 1186,
    "start_time": "2022-04-04T07:48:54.246Z"
   },
   {
    "duration": 372,
    "start_time": "2022-04-04T07:48:55.434Z"
   },
   {
    "duration": 12,
    "start_time": "2022-04-04T07:48:55.807Z"
   },
   {
    "duration": 26,
    "start_time": "2022-04-04T07:48:55.821Z"
   },
   {
    "duration": 20,
    "start_time": "2022-04-04T07:48:55.848Z"
   },
   {
    "duration": 125,
    "start_time": "2022-04-04T07:48:55.870Z"
   },
   {
    "duration": 10,
    "start_time": "2022-04-04T07:48:55.996Z"
   },
   {
    "duration": 38,
    "start_time": "2022-04-04T07:48:56.008Z"
   },
   {
    "duration": 18,
    "start_time": "2022-04-04T07:48:56.047Z"
   },
   {
    "duration": 88,
    "start_time": "2022-04-04T07:48:56.068Z"
   },
   {
    "duration": 8,
    "start_time": "2022-04-04T07:48:56.157Z"
   },
   {
    "duration": 20,
    "start_time": "2022-04-04T07:48:56.166Z"
   },
   {
    "duration": 15,
    "start_time": "2022-04-04T07:48:56.187Z"
   },
   {
    "duration": 73,
    "start_time": "2022-04-04T07:48:56.204Z"
   },
   {
    "duration": 9,
    "start_time": "2022-04-04T07:48:56.279Z"
   },
   {
    "duration": 13,
    "start_time": "2022-04-04T07:48:56.289Z"
   },
   {
    "duration": 8,
    "start_time": "2022-04-04T07:48:56.303Z"
   },
   {
    "duration": 26,
    "start_time": "2022-04-04T07:48:56.312Z"
   },
   {
    "duration": 12,
    "start_time": "2022-04-04T07:48:56.340Z"
   },
   {
    "duration": 11,
    "start_time": "2022-04-04T07:48:56.354Z"
   },
   {
    "duration": 9,
    "start_time": "2022-04-04T07:48:56.366Z"
   },
   {
    "duration": 6,
    "start_time": "2022-04-04T07:48:56.377Z"
   },
   {
    "duration": 62,
    "start_time": "2022-04-04T07:48:56.385Z"
   },
   {
    "duration": 23,
    "start_time": "2022-04-04T07:48:56.449Z"
   },
   {
    "duration": 6,
    "start_time": "2022-04-04T07:48:56.473Z"
   },
   {
    "duration": 9,
    "start_time": "2022-04-04T07:48:56.481Z"
   },
   {
    "duration": 5,
    "start_time": "2022-04-04T07:48:56.492Z"
   },
   {
    "duration": 364,
    "start_time": "2022-04-04T07:48:56.501Z"
   },
   {
    "duration": 32,
    "start_time": "2022-04-04T07:48:56.867Z"
   },
   {
    "duration": 9,
    "start_time": "2022-04-04T07:48:56.901Z"
   },
   {
    "duration": 331,
    "start_time": "2022-04-04T07:48:56.911Z"
   },
   {
    "duration": 36,
    "start_time": "2022-04-04T07:48:57.244Z"
   },
   {
    "duration": 9,
    "start_time": "2022-04-04T07:48:57.281Z"
   },
   {
    "duration": 357,
    "start_time": "2022-04-04T07:48:57.291Z"
   },
   {
    "duration": 10,
    "start_time": "2022-04-04T07:48:57.650Z"
   },
   {
    "duration": 11,
    "start_time": "2022-04-04T07:48:57.662Z"
   },
   {
    "duration": 17,
    "start_time": "2022-04-04T07:48:57.675Z"
   },
   {
    "duration": 74,
    "start_time": "2022-04-04T07:48:57.693Z"
   },
   {
    "duration": 28,
    "start_time": "2022-04-04T07:48:57.769Z"
   },
   {
    "duration": 2,
    "start_time": "2022-04-04T07:48:57.799Z"
   },
   {
    "duration": 13,
    "start_time": "2022-04-04T07:48:57.803Z"
   },
   {
    "duration": 36,
    "start_time": "2022-04-04T07:48:57.818Z"
   },
   {
    "duration": 11,
    "start_time": "2022-04-04T07:48:57.855Z"
   },
   {
    "duration": 12,
    "start_time": "2022-04-04T07:48:57.868Z"
   },
   {
    "duration": 346,
    "start_time": "2022-04-04T07:48:57.881Z"
   },
   {
    "duration": 5,
    "start_time": "2022-04-04T07:48:58.237Z"
   },
   {
    "duration": 1672,
    "start_time": "2022-04-04T07:48:58.244Z"
   },
   {
    "duration": 0,
    "start_time": "2022-04-04T07:48:59.918Z"
   },
   {
    "duration": 0,
    "start_time": "2022-04-04T07:48:59.919Z"
   },
   {
    "duration": 0,
    "start_time": "2022-04-04T07:48:59.920Z"
   },
   {
    "duration": 0,
    "start_time": "2022-04-04T07:48:59.921Z"
   },
   {
    "duration": 0,
    "start_time": "2022-04-04T07:48:59.922Z"
   },
   {
    "duration": 1138,
    "start_time": "2022-04-04T07:49:41.407Z"
   },
   {
    "duration": 379,
    "start_time": "2022-04-04T07:49:42.547Z"
   },
   {
    "duration": 14,
    "start_time": "2022-04-04T07:49:42.928Z"
   },
   {
    "duration": 28,
    "start_time": "2022-04-04T07:49:42.944Z"
   },
   {
    "duration": 20,
    "start_time": "2022-04-04T07:49:42.974Z"
   },
   {
    "duration": 134,
    "start_time": "2022-04-04T07:49:42.996Z"
   },
   {
    "duration": 14,
    "start_time": "2022-04-04T07:49:43.131Z"
   },
   {
    "duration": 24,
    "start_time": "2022-04-04T07:49:43.147Z"
   },
   {
    "duration": 18,
    "start_time": "2022-04-04T07:49:43.172Z"
   },
   {
    "duration": 96,
    "start_time": "2022-04-04T07:49:43.193Z"
   },
   {
    "duration": 9,
    "start_time": "2022-04-04T07:49:43.291Z"
   },
   {
    "duration": 37,
    "start_time": "2022-04-04T07:49:43.301Z"
   },
   {
    "duration": 15,
    "start_time": "2022-04-04T07:49:43.340Z"
   },
   {
    "duration": 51,
    "start_time": "2022-04-04T07:49:43.356Z"
   },
   {
    "duration": 8,
    "start_time": "2022-04-04T07:49:43.409Z"
   },
   {
    "duration": 10,
    "start_time": "2022-04-04T07:49:43.438Z"
   },
   {
    "duration": 8,
    "start_time": "2022-04-04T07:49:43.450Z"
   },
   {
    "duration": 6,
    "start_time": "2022-04-04T07:49:43.459Z"
   },
   {
    "duration": 13,
    "start_time": "2022-04-04T07:49:43.466Z"
   },
   {
    "duration": 13,
    "start_time": "2022-04-04T07:49:43.481Z"
   },
   {
    "duration": 8,
    "start_time": "2022-04-04T07:49:43.496Z"
   },
   {
    "duration": 11,
    "start_time": "2022-04-04T07:49:43.539Z"
   },
   {
    "duration": 32,
    "start_time": "2022-04-04T07:49:43.552Z"
   },
   {
    "duration": 23,
    "start_time": "2022-04-04T07:49:43.585Z"
   },
   {
    "duration": 5,
    "start_time": "2022-04-04T07:49:43.610Z"
   },
   {
    "duration": 27,
    "start_time": "2022-04-04T07:49:43.616Z"
   },
   {
    "duration": 4,
    "start_time": "2022-04-04T07:49:43.645Z"
   },
   {
    "duration": 352,
    "start_time": "2022-04-04T07:49:43.653Z"
   },
   {
    "duration": 44,
    "start_time": "2022-04-04T07:49:44.007Z"
   },
   {
    "duration": 8,
    "start_time": "2022-04-04T07:49:44.053Z"
   },
   {
    "duration": 330,
    "start_time": "2022-04-04T07:49:44.062Z"
   },
   {
    "duration": 37,
    "start_time": "2022-04-04T07:49:44.393Z"
   },
   {
    "duration": 11,
    "start_time": "2022-04-04T07:49:44.432Z"
   },
   {
    "duration": 409,
    "start_time": "2022-04-04T07:49:44.445Z"
   },
   {
    "duration": 10,
    "start_time": "2022-04-04T07:49:44.856Z"
   },
   {
    "duration": 7,
    "start_time": "2022-04-04T07:49:44.868Z"
   },
   {
    "duration": 16,
    "start_time": "2022-04-04T07:49:44.877Z"
   },
   {
    "duration": 86,
    "start_time": "2022-04-04T07:49:44.895Z"
   },
   {
    "duration": 33,
    "start_time": "2022-04-04T07:49:44.983Z"
   },
   {
    "duration": 65,
    "start_time": "2022-04-04T07:49:45.018Z"
   },
   {
    "duration": 50,
    "start_time": "2022-04-04T07:49:45.085Z"
   },
   {
    "duration": 28,
    "start_time": "2022-04-04T07:49:45.137Z"
   },
   {
    "duration": 11,
    "start_time": "2022-04-04T07:49:45.167Z"
   },
   {
    "duration": 12,
    "start_time": "2022-04-04T07:49:45.180Z"
   },
   {
    "duration": 381,
    "start_time": "2022-04-04T07:49:45.194Z"
   },
   {
    "duration": 6,
    "start_time": "2022-04-04T07:49:45.576Z"
   },
   {
    "duration": 131,
    "start_time": "2022-04-04T07:49:45.583Z"
   },
   {
    "duration": 13,
    "start_time": "2022-04-04T07:49:45.716Z"
   },
   {
    "duration": 7,
    "start_time": "2022-04-04T07:49:45.738Z"
   },
   {
    "duration": 112,
    "start_time": "2022-04-04T07:49:45.747Z"
   },
   {
    "duration": 0,
    "start_time": "2022-04-04T07:49:45.861Z"
   },
   {
    "duration": 0,
    "start_time": "2022-04-04T07:49:45.862Z"
   },
   {
    "duration": 196,
    "start_time": "2022-04-04T07:50:11.501Z"
   },
   {
    "duration": 353,
    "start_time": "2022-04-04T07:50:43.718Z"
   },
   {
    "duration": 1181,
    "start_time": "2022-04-04T07:50:49.854Z"
   },
   {
    "duration": 370,
    "start_time": "2022-04-04T07:50:51.038Z"
   },
   {
    "duration": 14,
    "start_time": "2022-04-04T07:50:51.410Z"
   },
   {
    "duration": 27,
    "start_time": "2022-04-04T07:50:51.426Z"
   },
   {
    "duration": 22,
    "start_time": "2022-04-04T07:50:51.456Z"
   },
   {
    "duration": 144,
    "start_time": "2022-04-04T07:50:51.481Z"
   },
   {
    "duration": 15,
    "start_time": "2022-04-04T07:50:51.627Z"
   },
   {
    "duration": 26,
    "start_time": "2022-04-04T07:50:51.644Z"
   },
   {
    "duration": 19,
    "start_time": "2022-04-04T07:50:51.672Z"
   },
   {
    "duration": 98,
    "start_time": "2022-04-04T07:50:51.693Z"
   },
   {
    "duration": 8,
    "start_time": "2022-04-04T07:50:51.794Z"
   },
   {
    "duration": 38,
    "start_time": "2022-04-04T07:50:51.805Z"
   },
   {
    "duration": 15,
    "start_time": "2022-04-04T07:50:51.845Z"
   },
   {
    "duration": 61,
    "start_time": "2022-04-04T07:50:51.863Z"
   },
   {
    "duration": 18,
    "start_time": "2022-04-04T07:50:51.925Z"
   },
   {
    "duration": 12,
    "start_time": "2022-04-04T07:50:51.945Z"
   },
   {
    "duration": 9,
    "start_time": "2022-04-04T07:50:51.959Z"
   },
   {
    "duration": 7,
    "start_time": "2022-04-04T07:50:51.970Z"
   },
   {
    "duration": 12,
    "start_time": "2022-04-04T07:50:51.979Z"
   },
   {
    "duration": 16,
    "start_time": "2022-04-04T07:50:51.993Z"
   },
   {
    "duration": 7,
    "start_time": "2022-04-04T07:50:52.037Z"
   },
   {
    "duration": 8,
    "start_time": "2022-04-04T07:50:52.046Z"
   },
   {
    "duration": 30,
    "start_time": "2022-04-04T07:50:52.056Z"
   },
   {
    "duration": 22,
    "start_time": "2022-04-04T07:50:52.088Z"
   },
   {
    "duration": 28,
    "start_time": "2022-04-04T07:50:52.112Z"
   },
   {
    "duration": 14,
    "start_time": "2022-04-04T07:50:52.142Z"
   },
   {
    "duration": 5,
    "start_time": "2022-04-04T07:50:52.158Z"
   },
   {
    "duration": 421,
    "start_time": "2022-04-04T07:50:52.165Z"
   },
   {
    "duration": 31,
    "start_time": "2022-04-04T07:50:52.588Z"
   },
   {
    "duration": 17,
    "start_time": "2022-04-04T07:50:52.621Z"
   },
   {
    "duration": 331,
    "start_time": "2022-04-04T07:50:52.640Z"
   },
   {
    "duration": 38,
    "start_time": "2022-04-04T07:50:52.973Z"
   },
   {
    "duration": 24,
    "start_time": "2022-04-04T07:50:53.014Z"
   },
   {
    "duration": 337,
    "start_time": "2022-04-04T07:50:53.040Z"
   },
   {
    "duration": 10,
    "start_time": "2022-04-04T07:50:53.379Z"
   },
   {
    "duration": 8,
    "start_time": "2022-04-04T07:50:53.391Z"
   },
   {
    "duration": 19,
    "start_time": "2022-04-04T07:50:53.400Z"
   },
   {
    "duration": 58,
    "start_time": "2022-04-04T07:50:53.438Z"
   },
   {
    "duration": 46,
    "start_time": "2022-04-04T07:50:53.498Z"
   },
   {
    "duration": 3,
    "start_time": "2022-04-04T07:50:53.546Z"
   },
   {
    "duration": 14,
    "start_time": "2022-04-04T07:50:53.553Z"
   },
   {
    "duration": 17,
    "start_time": "2022-04-04T07:50:53.569Z"
   },
   {
    "duration": 13,
    "start_time": "2022-04-04T07:50:53.587Z"
   },
   {
    "duration": 42,
    "start_time": "2022-04-04T07:50:53.601Z"
   },
   {
    "duration": 300,
    "start_time": "2022-04-04T07:50:53.645Z"
   },
   {
    "duration": 5,
    "start_time": "2022-04-04T07:50:53.947Z"
   },
   {
    "duration": 128,
    "start_time": "2022-04-04T07:50:53.954Z"
   },
   {
    "duration": 12,
    "start_time": "2022-04-04T07:50:54.084Z"
   },
   {
    "duration": 8,
    "start_time": "2022-04-04T07:50:54.098Z"
   },
   {
    "duration": 218,
    "start_time": "2022-04-04T07:50:54.107Z"
   },
   {
    "duration": 103,
    "start_time": "2022-04-04T07:50:54.327Z"
   },
   {
    "duration": 0,
    "start_time": "2022-04-04T07:50:54.432Z"
   },
   {
    "duration": 591,
    "start_time": "2022-04-04T07:51:10.477Z"
   },
   {
    "duration": 13,
    "start_time": "2022-04-04T07:51:21.981Z"
   },
   {
    "duration": 10,
    "start_time": "2022-04-04T07:54:10.402Z"
   },
   {
    "duration": 1393,
    "start_time": "2022-04-04T15:13:16.450Z"
   },
   {
    "duration": 409,
    "start_time": "2022-04-04T15:13:17.846Z"
   },
   {
    "duration": 15,
    "start_time": "2022-04-04T15:13:18.257Z"
   },
   {
    "duration": 30,
    "start_time": "2022-04-04T15:13:18.275Z"
   },
   {
    "duration": 25,
    "start_time": "2022-04-04T15:13:18.307Z"
   },
   {
    "duration": 136,
    "start_time": "2022-04-04T15:13:18.334Z"
   },
   {
    "duration": 11,
    "start_time": "2022-04-04T15:13:18.472Z"
   },
   {
    "duration": 41,
    "start_time": "2022-04-04T15:13:18.485Z"
   },
   {
    "duration": 21,
    "start_time": "2022-04-04T15:13:18.528Z"
   },
   {
    "duration": 107,
    "start_time": "2022-04-04T15:13:18.554Z"
   },
   {
    "duration": 9,
    "start_time": "2022-04-04T15:13:18.664Z"
   },
   {
    "duration": 40,
    "start_time": "2022-04-04T15:13:18.675Z"
   },
   {
    "duration": 18,
    "start_time": "2022-04-04T15:13:18.718Z"
   },
   {
    "duration": 78,
    "start_time": "2022-04-04T15:13:18.738Z"
   },
   {
    "duration": 9,
    "start_time": "2022-04-04T15:13:18.819Z"
   },
   {
    "duration": 12,
    "start_time": "2022-04-04T15:13:18.830Z"
   },
   {
    "duration": 8,
    "start_time": "2022-04-04T15:13:18.845Z"
   },
   {
    "duration": 9,
    "start_time": "2022-04-04T15:13:18.855Z"
   },
   {
    "duration": 41,
    "start_time": "2022-04-04T15:13:18.865Z"
   },
   {
    "duration": 14,
    "start_time": "2022-04-04T15:13:18.908Z"
   },
   {
    "duration": 9,
    "start_time": "2022-04-04T15:13:18.924Z"
   },
   {
    "duration": 9,
    "start_time": "2022-04-04T15:13:18.935Z"
   },
   {
    "duration": 57,
    "start_time": "2022-04-04T15:13:18.946Z"
   },
   {
    "duration": 24,
    "start_time": "2022-04-04T15:13:19.005Z"
   },
   {
    "duration": 5,
    "start_time": "2022-04-04T15:13:19.031Z"
   },
   {
    "duration": 14,
    "start_time": "2022-04-04T15:13:19.038Z"
   },
   {
    "duration": 7,
    "start_time": "2022-04-04T15:13:19.054Z"
   },
   {
    "duration": 416,
    "start_time": "2022-04-04T15:13:19.066Z"
   },
   {
    "duration": 2016,
    "start_time": "2022-04-04T15:13:19.484Z"
   },
   {
    "duration": 0,
    "start_time": "2022-04-04T15:13:21.502Z"
   },
   {
    "duration": 1,
    "start_time": "2022-04-04T15:13:21.503Z"
   },
   {
    "duration": 0,
    "start_time": "2022-04-04T15:13:21.504Z"
   },
   {
    "duration": 0,
    "start_time": "2022-04-04T15:13:21.506Z"
   },
   {
    "duration": 0,
    "start_time": "2022-04-04T15:13:21.507Z"
   },
   {
    "duration": 0,
    "start_time": "2022-04-04T15:13:21.508Z"
   },
   {
    "duration": 0,
    "start_time": "2022-04-04T15:13:21.509Z"
   },
   {
    "duration": 0,
    "start_time": "2022-04-04T15:13:21.511Z"
   },
   {
    "duration": 0,
    "start_time": "2022-04-04T15:13:21.512Z"
   },
   {
    "duration": 0,
    "start_time": "2022-04-04T15:13:21.513Z"
   },
   {
    "duration": 0,
    "start_time": "2022-04-04T15:13:21.515Z"
   },
   {
    "duration": 0,
    "start_time": "2022-04-04T15:13:21.517Z"
   },
   {
    "duration": 0,
    "start_time": "2022-04-04T15:13:21.518Z"
   },
   {
    "duration": 0,
    "start_time": "2022-04-04T15:13:21.519Z"
   },
   {
    "duration": 0,
    "start_time": "2022-04-04T15:13:21.520Z"
   },
   {
    "duration": 0,
    "start_time": "2022-04-04T15:13:21.521Z"
   },
   {
    "duration": 0,
    "start_time": "2022-04-04T15:13:21.522Z"
   },
   {
    "duration": 0,
    "start_time": "2022-04-04T15:13:21.523Z"
   },
   {
    "duration": 0,
    "start_time": "2022-04-04T15:13:21.524Z"
   },
   {
    "duration": 0,
    "start_time": "2022-04-04T15:13:21.525Z"
   },
   {
    "duration": 0,
    "start_time": "2022-04-04T15:13:21.526Z"
   },
   {
    "duration": 0,
    "start_time": "2022-04-04T15:13:21.527Z"
   },
   {
    "duration": 0,
    "start_time": "2022-04-04T15:13:21.528Z"
   },
   {
    "duration": 0,
    "start_time": "2022-04-04T15:13:21.529Z"
   },
   {
    "duration": 1263,
    "start_time": "2022-04-04T15:18:31.555Z"
   },
   {
    "duration": 416,
    "start_time": "2022-04-04T15:18:32.820Z"
   },
   {
    "duration": 14,
    "start_time": "2022-04-04T15:18:33.238Z"
   },
   {
    "duration": 33,
    "start_time": "2022-04-04T15:18:33.254Z"
   },
   {
    "duration": 24,
    "start_time": "2022-04-04T15:18:33.289Z"
   },
   {
    "duration": 130,
    "start_time": "2022-04-04T15:18:33.314Z"
   },
   {
    "duration": 10,
    "start_time": "2022-04-04T15:18:33.445Z"
   },
   {
    "duration": 28,
    "start_time": "2022-04-04T15:18:33.457Z"
   },
   {
    "duration": 20,
    "start_time": "2022-04-04T15:18:33.501Z"
   },
   {
    "duration": 98,
    "start_time": "2022-04-04T15:18:33.524Z"
   },
   {
    "duration": 9,
    "start_time": "2022-04-04T15:18:33.624Z"
   },
   {
    "duration": 28,
    "start_time": "2022-04-04T15:18:33.634Z"
   },
   {
    "duration": 37,
    "start_time": "2022-04-04T15:18:33.664Z"
   },
   {
    "duration": 57,
    "start_time": "2022-04-04T15:18:33.703Z"
   },
   {
    "duration": 8,
    "start_time": "2022-04-04T15:18:33.762Z"
   },
   {
    "duration": 35,
    "start_time": "2022-04-04T15:18:33.772Z"
   },
   {
    "duration": 32,
    "start_time": "2022-04-04T15:18:33.809Z"
   },
   {
    "duration": 18,
    "start_time": "2022-04-04T15:18:33.844Z"
   },
   {
    "duration": 38,
    "start_time": "2022-04-04T15:18:33.864Z"
   },
   {
    "duration": 28,
    "start_time": "2022-04-04T15:18:33.904Z"
   },
   {
    "duration": 19,
    "start_time": "2022-04-04T15:18:33.934Z"
   },
   {
    "duration": 16,
    "start_time": "2022-04-04T15:18:33.955Z"
   },
   {
    "duration": 51,
    "start_time": "2022-04-04T15:18:33.973Z"
   },
   {
    "duration": 44,
    "start_time": "2022-04-04T15:18:34.026Z"
   },
   {
    "duration": 6,
    "start_time": "2022-04-04T15:18:34.072Z"
   },
   {
    "duration": 27,
    "start_time": "2022-04-04T15:18:34.080Z"
   },
   {
    "duration": 7,
    "start_time": "2022-04-04T15:18:34.109Z"
   },
   {
    "duration": 396,
    "start_time": "2022-04-04T15:18:34.121Z"
   },
   {
    "duration": 109,
    "start_time": "2022-04-04T15:18:34.519Z"
   },
   {
    "duration": 0,
    "start_time": "2022-04-04T15:18:34.630Z"
   },
   {
    "duration": 0,
    "start_time": "2022-04-04T15:18:34.631Z"
   },
   {
    "duration": 0,
    "start_time": "2022-04-04T15:18:34.632Z"
   },
   {
    "duration": 0,
    "start_time": "2022-04-04T15:18:34.633Z"
   },
   {
    "duration": 0,
    "start_time": "2022-04-04T15:18:34.635Z"
   },
   {
    "duration": 0,
    "start_time": "2022-04-04T15:18:34.636Z"
   },
   {
    "duration": 0,
    "start_time": "2022-04-04T15:18:34.638Z"
   },
   {
    "duration": 0,
    "start_time": "2022-04-04T15:18:34.639Z"
   },
   {
    "duration": 0,
    "start_time": "2022-04-04T15:18:34.641Z"
   },
   {
    "duration": 0,
    "start_time": "2022-04-04T15:18:34.642Z"
   },
   {
    "duration": 0,
    "start_time": "2022-04-04T15:18:34.643Z"
   },
   {
    "duration": 0,
    "start_time": "2022-04-04T15:18:34.645Z"
   },
   {
    "duration": 0,
    "start_time": "2022-04-04T15:18:34.646Z"
   },
   {
    "duration": 0,
    "start_time": "2022-04-04T15:18:34.647Z"
   },
   {
    "duration": 0,
    "start_time": "2022-04-04T15:18:34.649Z"
   },
   {
    "duration": 0,
    "start_time": "2022-04-04T15:18:34.650Z"
   },
   {
    "duration": 0,
    "start_time": "2022-04-04T15:18:34.652Z"
   },
   {
    "duration": 0,
    "start_time": "2022-04-04T15:18:34.653Z"
   },
   {
    "duration": 0,
    "start_time": "2022-04-04T15:18:34.655Z"
   },
   {
    "duration": 0,
    "start_time": "2022-04-04T15:18:34.657Z"
   },
   {
    "duration": 0,
    "start_time": "2022-04-04T15:18:34.658Z"
   },
   {
    "duration": 0,
    "start_time": "2022-04-04T15:18:34.660Z"
   },
   {
    "duration": 0,
    "start_time": "2022-04-04T15:18:34.661Z"
   },
   {
    "duration": 0,
    "start_time": "2022-04-04T15:18:34.663Z"
   },
   {
    "duration": 2319,
    "start_time": "2022-04-04T15:19:04.026Z"
   },
   {
    "duration": 42,
    "start_time": "2022-04-04T15:19:16.779Z"
   },
   {
    "duration": 10,
    "start_time": "2022-04-04T15:19:19.177Z"
   },
   {
    "duration": 347,
    "start_time": "2022-04-04T15:19:26.629Z"
   },
   {
    "duration": 2081,
    "start_time": "2022-04-04T15:19:32.236Z"
   },
   {
    "duration": 48,
    "start_time": "2022-04-04T15:19:41.389Z"
   },
   {
    "duration": 11,
    "start_time": "2022-04-04T15:19:43.125Z"
   },
   {
    "duration": 337,
    "start_time": "2022-04-04T15:19:45.095Z"
   },
   {
    "duration": 12,
    "start_time": "2022-04-04T15:19:48.618Z"
   },
   {
    "duration": 2397,
    "start_time": "2022-04-04T15:19:51.328Z"
   },
   {
    "duration": 11,
    "start_time": "2022-04-04T15:20:05.608Z"
   },
   {
    "duration": 19,
    "start_time": "2022-04-04T15:20:07.517Z"
   },
   {
    "duration": 94,
    "start_time": "2022-04-04T15:20:50.613Z"
   },
   {
    "duration": 103,
    "start_time": "2022-04-04T15:20:53.132Z"
   },
   {
    "duration": 1301,
    "start_time": "2022-04-04T15:25:19.952Z"
   },
   {
    "duration": 406,
    "start_time": "2022-04-04T15:25:21.256Z"
   },
   {
    "duration": 14,
    "start_time": "2022-04-04T15:25:21.664Z"
   },
   {
    "duration": 46,
    "start_time": "2022-04-04T15:25:21.681Z"
   },
   {
    "duration": 22,
    "start_time": "2022-04-04T15:25:21.729Z"
   },
   {
    "duration": 132,
    "start_time": "2022-04-04T15:25:21.753Z"
   },
   {
    "duration": 15,
    "start_time": "2022-04-04T15:25:21.887Z"
   },
   {
    "duration": 36,
    "start_time": "2022-04-04T15:25:21.904Z"
   },
   {
    "duration": 66,
    "start_time": "2022-04-04T15:25:21.942Z"
   },
   {
    "duration": 79,
    "start_time": "2022-04-04T15:25:22.011Z"
   },
   {
    "duration": 13,
    "start_time": "2022-04-04T15:25:22.101Z"
   },
   {
    "duration": 27,
    "start_time": "2022-04-04T15:25:22.116Z"
   },
   {
    "duration": 17,
    "start_time": "2022-04-04T15:25:22.144Z"
   },
   {
    "duration": 73,
    "start_time": "2022-04-04T15:25:22.163Z"
   },
   {
    "duration": 9,
    "start_time": "2022-04-04T15:25:22.238Z"
   },
   {
    "duration": 16,
    "start_time": "2022-04-04T15:25:22.249Z"
   },
   {
    "duration": 10,
    "start_time": "2022-04-04T15:25:22.267Z"
   },
   {
    "duration": 25,
    "start_time": "2022-04-04T15:25:22.279Z"
   },
   {
    "duration": 16,
    "start_time": "2022-04-04T15:25:22.306Z"
   },
   {
    "duration": 13,
    "start_time": "2022-04-04T15:25:22.324Z"
   },
   {
    "duration": 9,
    "start_time": "2022-04-04T15:25:22.339Z"
   },
   {
    "duration": 10,
    "start_time": "2022-04-04T15:25:22.349Z"
   },
   {
    "duration": 64,
    "start_time": "2022-04-04T15:25:22.360Z"
   },
   {
    "duration": 48,
    "start_time": "2022-04-04T15:25:22.426Z"
   },
   {
    "duration": 6,
    "start_time": "2022-04-04T15:25:22.476Z"
   },
   {
    "duration": 29,
    "start_time": "2022-04-04T15:25:22.484Z"
   },
   {
    "duration": 7,
    "start_time": "2022-04-04T15:25:22.515Z"
   },
   {
    "duration": 422,
    "start_time": "2022-04-04T15:25:22.526Z"
   },
   {
    "duration": 60,
    "start_time": "2022-04-04T15:25:22.950Z"
   },
   {
    "duration": 11,
    "start_time": "2022-04-04T15:25:23.013Z"
   },
   {
    "duration": 393,
    "start_time": "2022-04-04T15:25:23.026Z"
   },
   {
    "duration": 55,
    "start_time": "2022-04-04T15:25:23.421Z"
   },
   {
    "duration": 28,
    "start_time": "2022-04-04T15:25:23.479Z"
   },
   {
    "duration": 383,
    "start_time": "2022-04-04T15:25:23.510Z"
   },
   {
    "duration": 14,
    "start_time": "2022-04-04T15:25:23.902Z"
   },
   {
    "duration": 32,
    "start_time": "2022-04-04T15:25:23.917Z"
   },
   {
    "duration": 33,
    "start_time": "2022-04-04T15:25:23.952Z"
   },
   {
    "duration": 67,
    "start_time": "2022-04-04T15:25:23.986Z"
   },
   {
    "duration": 31,
    "start_time": "2022-04-04T15:25:24.055Z"
   },
   {
    "duration": 13,
    "start_time": "2022-04-04T15:25:24.088Z"
   },
   {
    "duration": 12,
    "start_time": "2022-04-04T15:25:24.103Z"
   },
   {
    "duration": 24,
    "start_time": "2022-04-04T15:25:24.117Z"
   },
   {
    "duration": 28,
    "start_time": "2022-04-04T15:25:24.143Z"
   },
   {
    "duration": 28,
    "start_time": "2022-04-04T15:25:24.174Z"
   },
   {
    "duration": 323,
    "start_time": "2022-04-04T15:25:24.204Z"
   },
   {
    "duration": 6,
    "start_time": "2022-04-04T15:25:24.528Z"
   },
   {
    "duration": 139,
    "start_time": "2022-04-04T15:25:24.536Z"
   },
   {
    "duration": 14,
    "start_time": "2022-04-04T15:25:24.677Z"
   },
   {
    "duration": 7,
    "start_time": "2022-04-04T15:25:24.701Z"
   },
   {
    "duration": 127,
    "start_time": "2022-04-04T15:25:24.710Z"
   },
   {
    "duration": 0,
    "start_time": "2022-04-04T15:25:24.838Z"
   },
   {
    "duration": 0,
    "start_time": "2022-04-04T15:25:24.840Z"
   },
   {
    "duration": 0,
    "start_time": "2022-04-04T15:25:24.841Z"
   },
   {
    "duration": 6,
    "start_time": "2022-04-04T15:31:54.115Z"
   },
   {
    "duration": 128,
    "start_time": "2022-04-04T15:31:55.355Z"
   },
   {
    "duration": 1271,
    "start_time": "2022-04-04T15:32:04.855Z"
   },
   {
    "duration": 402,
    "start_time": "2022-04-04T15:32:06.128Z"
   },
   {
    "duration": 13,
    "start_time": "2022-04-04T15:32:06.532Z"
   },
   {
    "duration": 28,
    "start_time": "2022-04-04T15:32:06.548Z"
   },
   {
    "duration": 38,
    "start_time": "2022-04-04T15:32:06.578Z"
   },
   {
    "duration": 127,
    "start_time": "2022-04-04T15:32:06.618Z"
   },
   {
    "duration": 10,
    "start_time": "2022-04-04T15:32:06.747Z"
   },
   {
    "duration": 32,
    "start_time": "2022-04-04T15:32:06.759Z"
   },
   {
    "duration": 24,
    "start_time": "2022-04-04T15:32:06.802Z"
   },
   {
    "duration": 94,
    "start_time": "2022-04-04T15:32:06.830Z"
   },
   {
    "duration": 11,
    "start_time": "2022-04-04T15:32:06.926Z"
   },
   {
    "duration": 24,
    "start_time": "2022-04-04T15:32:06.939Z"
   },
   {
    "duration": 37,
    "start_time": "2022-04-04T15:32:06.965Z"
   },
   {
    "duration": 54,
    "start_time": "2022-04-04T15:32:07.004Z"
   },
   {
    "duration": 9,
    "start_time": "2022-04-04T15:32:07.060Z"
   },
   {
    "duration": 37,
    "start_time": "2022-04-04T15:32:07.071Z"
   },
   {
    "duration": 7,
    "start_time": "2022-04-04T15:32:07.110Z"
   },
   {
    "duration": 10,
    "start_time": "2022-04-04T15:32:07.118Z"
   },
   {
    "duration": 16,
    "start_time": "2022-04-04T15:32:07.129Z"
   },
   {
    "duration": 21,
    "start_time": "2022-04-04T15:32:07.147Z"
   },
   {
    "duration": 8,
    "start_time": "2022-04-04T15:32:07.201Z"
   },
   {
    "duration": 7,
    "start_time": "2022-04-04T15:32:07.211Z"
   },
   {
    "duration": 38,
    "start_time": "2022-04-04T15:32:07.220Z"
   },
   {
    "duration": 70,
    "start_time": "2022-04-04T15:32:07.260Z"
   },
   {
    "duration": 6,
    "start_time": "2022-04-04T15:32:07.332Z"
   },
   {
    "duration": 22,
    "start_time": "2022-04-04T15:32:07.339Z"
   },
   {
    "duration": 17,
    "start_time": "2022-04-04T15:32:07.363Z"
   },
   {
    "duration": 398,
    "start_time": "2022-04-04T15:32:07.385Z"
   },
   {
    "duration": 51,
    "start_time": "2022-04-04T15:32:07.785Z"
   },
   {
    "duration": 11,
    "start_time": "2022-04-04T15:32:07.838Z"
   },
   {
    "duration": 383,
    "start_time": "2022-04-04T15:32:07.851Z"
   },
   {
    "duration": 69,
    "start_time": "2022-04-04T15:32:08.236Z"
   },
   {
    "duration": 11,
    "start_time": "2022-04-04T15:32:08.307Z"
   },
   {
    "duration": 493,
    "start_time": "2022-04-04T15:32:08.320Z"
   },
   {
    "duration": 17,
    "start_time": "2022-04-04T15:32:08.816Z"
   },
   {
    "duration": 26,
    "start_time": "2022-04-04T15:32:08.835Z"
   },
   {
    "duration": 30,
    "start_time": "2022-04-04T15:32:08.863Z"
   },
   {
    "duration": 77,
    "start_time": "2022-04-04T15:32:08.896Z"
   },
   {
    "duration": 40,
    "start_time": "2022-04-04T15:32:08.975Z"
   },
   {
    "duration": 3,
    "start_time": "2022-04-04T15:32:09.017Z"
   },
   {
    "duration": 26,
    "start_time": "2022-04-04T15:32:09.022Z"
   },
   {
    "duration": 27,
    "start_time": "2022-04-04T15:32:09.051Z"
   },
   {
    "duration": 23,
    "start_time": "2022-04-04T15:32:09.081Z"
   },
   {
    "duration": 34,
    "start_time": "2022-04-04T15:32:09.106Z"
   },
   {
    "duration": 365,
    "start_time": "2022-04-04T15:32:09.142Z"
   },
   {
    "duration": 7,
    "start_time": "2022-04-04T15:32:09.510Z"
   },
   {
    "duration": 145,
    "start_time": "2022-04-04T15:32:09.519Z"
   },
   {
    "duration": 18,
    "start_time": "2022-04-04T15:32:09.666Z"
   },
   {
    "duration": 18,
    "start_time": "2022-04-04T15:32:09.686Z"
   },
   {
    "duration": 122,
    "start_time": "2022-04-04T15:32:09.706Z"
   },
   {
    "duration": 0,
    "start_time": "2022-04-04T15:32:09.830Z"
   },
   {
    "duration": 0,
    "start_time": "2022-04-04T15:32:09.832Z"
   },
   {
    "duration": 0,
    "start_time": "2022-04-04T15:32:09.833Z"
   },
   {
    "duration": 18,
    "start_time": "2022-04-04T15:37:42.529Z"
   },
   {
    "duration": 94,
    "start_time": "2022-04-04T15:38:24.674Z"
   },
   {
    "duration": 92,
    "start_time": "2022-04-04T15:38:32.370Z"
   },
   {
    "duration": 13,
    "start_time": "2022-04-04T15:41:37.526Z"
   },
   {
    "duration": 17,
    "start_time": "2022-04-04T15:41:45.214Z"
   },
   {
    "duration": 601,
    "start_time": "2022-04-04T15:45:15.564Z"
   },
   {
    "duration": 7,
    "start_time": "2022-04-04T15:46:38.421Z"
   },
   {
    "duration": 498,
    "start_time": "2022-04-04T15:46:41.157Z"
   },
   {
    "duration": 214,
    "start_time": "2022-04-04T15:47:11.197Z"
   },
   {
    "duration": 224,
    "start_time": "2022-04-04T15:47:26.374Z"
   },
   {
    "duration": 535,
    "start_time": "2022-04-04T15:50:55.827Z"
   },
   {
    "duration": 499,
    "start_time": "2022-04-04T15:51:06.834Z"
   },
   {
    "duration": 228,
    "start_time": "2022-04-04T15:51:45.860Z"
   },
   {
    "duration": 615,
    "start_time": "2022-04-04T15:52:08.500Z"
   },
   {
    "duration": 481,
    "start_time": "2022-04-04T15:52:19.741Z"
   },
   {
    "duration": 725,
    "start_time": "2022-04-04T15:52:36.831Z"
   },
   {
    "duration": 212,
    "start_time": "2022-04-04T15:53:12.262Z"
   },
   {
    "duration": 18,
    "start_time": "2022-04-04T15:56:24.627Z"
   },
   {
    "duration": 11,
    "start_time": "2022-04-04T15:56:45.228Z"
   },
   {
    "duration": 1256,
    "start_time": "2022-04-04T15:56:57.717Z"
   },
   {
    "duration": 399,
    "start_time": "2022-04-04T15:56:58.975Z"
   },
   {
    "duration": 13,
    "start_time": "2022-04-04T15:56:59.376Z"
   },
   {
    "duration": 28,
    "start_time": "2022-04-04T15:56:59.391Z"
   },
   {
    "duration": 30,
    "start_time": "2022-04-04T15:56:59.421Z"
   },
   {
    "duration": 127,
    "start_time": "2022-04-04T15:56:59.453Z"
   },
   {
    "duration": 10,
    "start_time": "2022-04-04T15:56:59.581Z"
   },
   {
    "duration": 28,
    "start_time": "2022-04-04T15:56:59.600Z"
   },
   {
    "duration": 21,
    "start_time": "2022-04-04T15:56:59.630Z"
   },
   {
    "duration": 113,
    "start_time": "2022-04-04T15:56:59.654Z"
   },
   {
    "duration": 10,
    "start_time": "2022-04-04T15:56:59.769Z"
   },
   {
    "duration": 39,
    "start_time": "2022-04-04T15:56:59.780Z"
   },
   {
    "duration": 32,
    "start_time": "2022-04-04T15:56:59.821Z"
   },
   {
    "duration": 65,
    "start_time": "2022-04-04T15:56:59.855Z"
   },
   {
    "duration": 9,
    "start_time": "2022-04-04T15:56:59.922Z"
   },
   {
    "duration": 24,
    "start_time": "2022-04-04T15:56:59.934Z"
   },
   {
    "duration": 22,
    "start_time": "2022-04-04T15:56:59.960Z"
   },
   {
    "duration": 13,
    "start_time": "2022-04-04T15:56:59.984Z"
   },
   {
    "duration": 50,
    "start_time": "2022-04-04T15:57:00.000Z"
   },
   {
    "duration": 20,
    "start_time": "2022-04-04T15:57:00.052Z"
   },
   {
    "duration": 31,
    "start_time": "2022-04-04T15:57:00.074Z"
   },
   {
    "duration": 15,
    "start_time": "2022-04-04T15:57:00.107Z"
   },
   {
    "duration": 43,
    "start_time": "2022-04-04T15:57:00.124Z"
   },
   {
    "duration": 44,
    "start_time": "2022-04-04T15:57:00.169Z"
   },
   {
    "duration": 6,
    "start_time": "2022-04-04T15:57:00.215Z"
   },
   {
    "duration": 22,
    "start_time": "2022-04-04T15:57:00.223Z"
   },
   {
    "duration": 11,
    "start_time": "2022-04-04T15:57:00.246Z"
   },
   {
    "duration": 395,
    "start_time": "2022-04-04T15:57:00.262Z"
   },
   {
    "duration": 51,
    "start_time": "2022-04-04T15:57:00.659Z"
   },
   {
    "duration": 10,
    "start_time": "2022-04-04T15:57:00.712Z"
   },
   {
    "duration": 379,
    "start_time": "2022-04-04T15:57:00.724Z"
   },
   {
    "duration": 54,
    "start_time": "2022-04-04T15:57:01.106Z"
   },
   {
    "duration": 10,
    "start_time": "2022-04-04T15:57:01.162Z"
   },
   {
    "duration": 360,
    "start_time": "2022-04-04T15:57:01.174Z"
   },
   {
    "duration": 13,
    "start_time": "2022-04-04T15:57:01.536Z"
   },
   {
    "duration": 17,
    "start_time": "2022-04-04T15:57:01.550Z"
   },
   {
    "duration": 33,
    "start_time": "2022-04-04T15:57:01.569Z"
   },
   {
    "duration": 97,
    "start_time": "2022-04-04T15:57:01.605Z"
   },
   {
    "duration": 32,
    "start_time": "2022-04-04T15:57:01.704Z"
   },
   {
    "duration": 3,
    "start_time": "2022-04-04T15:57:01.738Z"
   },
   {
    "duration": 27,
    "start_time": "2022-04-04T15:57:01.743Z"
   },
   {
    "duration": 34,
    "start_time": "2022-04-04T15:57:01.772Z"
   },
   {
    "duration": 41,
    "start_time": "2022-04-04T15:57:01.807Z"
   },
   {
    "duration": 24,
    "start_time": "2022-04-04T15:57:01.850Z"
   },
   {
    "duration": 9,
    "start_time": "2022-04-04T15:57:01.876Z"
   },
   {
    "duration": 137,
    "start_time": "2022-04-04T15:57:01.886Z"
   },
   {
    "duration": 15,
    "start_time": "2022-04-04T15:57:02.025Z"
   },
   {
    "duration": 107,
    "start_time": "2022-04-04T15:57:02.042Z"
   },
   {
    "duration": 20,
    "start_time": "2022-04-04T15:57:02.150Z"
   },
   {
    "duration": 8,
    "start_time": "2022-04-04T15:57:02.172Z"
   },
   {
    "duration": 513,
    "start_time": "2022-04-04T15:57:02.181Z"
   },
   {
    "duration": 323,
    "start_time": "2022-04-04T15:57:02.696Z"
   },
   {
    "duration": 513,
    "start_time": "2022-04-04T15:57:03.021Z"
   },
   {
    "duration": 207,
    "start_time": "2022-04-04T15:57:03.537Z"
   },
   {
    "duration": 484,
    "start_time": "2022-04-04T15:57:03.746Z"
   },
   {
    "duration": 220,
    "start_time": "2022-04-04T15:57:04.232Z"
   },
   {
    "duration": 116,
    "start_time": "2022-04-04T15:57:04.454Z"
   },
   {
    "duration": 9,
    "start_time": "2022-04-04T15:57:29.699Z"
   },
   {
    "duration": 6,
    "start_time": "2022-04-04T16:03:20.901Z"
   },
   {
    "duration": 15,
    "start_time": "2022-04-04T16:03:22.525Z"
   },
   {
    "duration": 8,
    "start_time": "2022-04-04T16:04:07.461Z"
   },
   {
    "duration": 13,
    "start_time": "2022-04-04T16:04:24.581Z"
   },
   {
    "duration": 8,
    "start_time": "2022-04-04T16:06:02.768Z"
   },
   {
    "duration": 12,
    "start_time": "2022-04-04T16:42:03.258Z"
   },
   {
    "duration": 17,
    "start_time": "2022-04-04T16:43:03.789Z"
   },
   {
    "duration": 6,
    "start_time": "2022-04-04T16:47:33.426Z"
   },
   {
    "duration": 12,
    "start_time": "2022-04-04T16:48:57.763Z"
   },
   {
    "duration": 117,
    "start_time": "2022-04-04T16:50:06.541Z"
   },
   {
    "duration": 7,
    "start_time": "2022-04-04T16:50:12.988Z"
   },
   {
    "duration": 444,
    "start_time": "2022-04-04T16:57:34.175Z"
   },
   {
    "duration": 1405,
    "start_time": "2022-04-04T16:58:27.407Z"
   },
   {
    "duration": 168,
    "start_time": "2022-04-04T16:58:28.814Z"
   },
   {
    "duration": 0,
    "start_time": "2022-04-04T16:58:28.988Z"
   },
   {
    "duration": 0,
    "start_time": "2022-04-04T16:58:28.989Z"
   },
   {
    "duration": 0,
    "start_time": "2022-04-04T16:58:28.990Z"
   },
   {
    "duration": 0,
    "start_time": "2022-04-04T16:58:28.992Z"
   },
   {
    "duration": 0,
    "start_time": "2022-04-04T16:58:29.001Z"
   },
   {
    "duration": 0,
    "start_time": "2022-04-04T16:58:29.002Z"
   },
   {
    "duration": 0,
    "start_time": "2022-04-04T16:58:29.004Z"
   },
   {
    "duration": 0,
    "start_time": "2022-04-04T16:58:29.005Z"
   },
   {
    "duration": 0,
    "start_time": "2022-04-04T16:58:29.006Z"
   },
   {
    "duration": 0,
    "start_time": "2022-04-04T16:58:29.007Z"
   },
   {
    "duration": 0,
    "start_time": "2022-04-04T16:58:29.008Z"
   },
   {
    "duration": 0,
    "start_time": "2022-04-04T16:58:29.009Z"
   },
   {
    "duration": 0,
    "start_time": "2022-04-04T16:58:29.010Z"
   },
   {
    "duration": 0,
    "start_time": "2022-04-04T16:58:29.011Z"
   },
   {
    "duration": 0,
    "start_time": "2022-04-04T16:58:29.013Z"
   },
   {
    "duration": 0,
    "start_time": "2022-04-04T16:58:29.014Z"
   },
   {
    "duration": 0,
    "start_time": "2022-04-04T16:58:29.015Z"
   },
   {
    "duration": 0,
    "start_time": "2022-04-04T16:58:29.016Z"
   },
   {
    "duration": 0,
    "start_time": "2022-04-04T16:58:29.017Z"
   },
   {
    "duration": 0,
    "start_time": "2022-04-04T16:58:29.018Z"
   },
   {
    "duration": 0,
    "start_time": "2022-04-04T16:58:29.019Z"
   },
   {
    "duration": 0,
    "start_time": "2022-04-04T16:58:29.021Z"
   },
   {
    "duration": 0,
    "start_time": "2022-04-04T16:58:29.022Z"
   },
   {
    "duration": 0,
    "start_time": "2022-04-04T16:58:29.023Z"
   },
   {
    "duration": 0,
    "start_time": "2022-04-04T16:58:29.025Z"
   },
   {
    "duration": 0,
    "start_time": "2022-04-04T16:58:29.025Z"
   },
   {
    "duration": 0,
    "start_time": "2022-04-04T16:58:29.026Z"
   },
   {
    "duration": 1,
    "start_time": "2022-04-04T16:58:29.027Z"
   },
   {
    "duration": 0,
    "start_time": "2022-04-04T16:58:29.029Z"
   },
   {
    "duration": 0,
    "start_time": "2022-04-04T16:58:29.030Z"
   },
   {
    "duration": 0,
    "start_time": "2022-04-04T16:58:29.031Z"
   },
   {
    "duration": 0,
    "start_time": "2022-04-04T16:58:29.032Z"
   },
   {
    "duration": 0,
    "start_time": "2022-04-04T16:58:29.034Z"
   },
   {
    "duration": 0,
    "start_time": "2022-04-04T16:58:29.035Z"
   },
   {
    "duration": 0,
    "start_time": "2022-04-04T16:58:29.037Z"
   },
   {
    "duration": 0,
    "start_time": "2022-04-04T16:58:29.038Z"
   },
   {
    "duration": 0,
    "start_time": "2022-04-04T16:58:29.101Z"
   },
   {
    "duration": 0,
    "start_time": "2022-04-04T16:58:29.102Z"
   },
   {
    "duration": 0,
    "start_time": "2022-04-04T16:58:29.104Z"
   },
   {
    "duration": 0,
    "start_time": "2022-04-04T16:58:29.105Z"
   },
   {
    "duration": 0,
    "start_time": "2022-04-04T16:58:29.106Z"
   },
   {
    "duration": 0,
    "start_time": "2022-04-04T16:58:29.107Z"
   },
   {
    "duration": 0,
    "start_time": "2022-04-04T16:58:29.109Z"
   },
   {
    "duration": 0,
    "start_time": "2022-04-04T16:58:29.110Z"
   },
   {
    "duration": 0,
    "start_time": "2022-04-04T16:58:29.111Z"
   },
   {
    "duration": 0,
    "start_time": "2022-04-04T16:58:29.112Z"
   },
   {
    "duration": 0,
    "start_time": "2022-04-04T16:58:29.114Z"
   },
   {
    "duration": 0,
    "start_time": "2022-04-04T16:58:29.116Z"
   },
   {
    "duration": 0,
    "start_time": "2022-04-04T16:58:29.117Z"
   },
   {
    "duration": 0,
    "start_time": "2022-04-04T16:58:29.119Z"
   },
   {
    "duration": 0,
    "start_time": "2022-04-04T16:58:29.120Z"
   },
   {
    "duration": 0,
    "start_time": "2022-04-04T16:58:29.122Z"
   },
   {
    "duration": 0,
    "start_time": "2022-04-04T16:58:29.123Z"
   },
   {
    "duration": 0,
    "start_time": "2022-04-04T16:58:29.125Z"
   },
   {
    "duration": 0,
    "start_time": "2022-04-04T16:58:29.126Z"
   },
   {
    "duration": 0,
    "start_time": "2022-04-04T16:58:29.127Z"
   },
   {
    "duration": 0,
    "start_time": "2022-04-04T16:58:29.128Z"
   },
   {
    "duration": 1432,
    "start_time": "2022-04-04T17:00:55.796Z"
   },
   {
    "duration": 107,
    "start_time": "2022-04-04T17:00:57.230Z"
   },
   {
    "duration": 0,
    "start_time": "2022-04-04T17:00:57.340Z"
   },
   {
    "duration": 0,
    "start_time": "2022-04-04T17:00:57.342Z"
   },
   {
    "duration": 0,
    "start_time": "2022-04-04T17:00:57.343Z"
   },
   {
    "duration": 0,
    "start_time": "2022-04-04T17:00:57.344Z"
   },
   {
    "duration": 0,
    "start_time": "2022-04-04T17:00:57.346Z"
   },
   {
    "duration": 0,
    "start_time": "2022-04-04T17:00:57.347Z"
   },
   {
    "duration": 0,
    "start_time": "2022-04-04T17:00:57.348Z"
   },
   {
    "duration": 0,
    "start_time": "2022-04-04T17:00:57.349Z"
   },
   {
    "duration": 0,
    "start_time": "2022-04-04T17:00:57.351Z"
   },
   {
    "duration": 0,
    "start_time": "2022-04-04T17:00:57.352Z"
   },
   {
    "duration": 0,
    "start_time": "2022-04-04T17:00:57.353Z"
   },
   {
    "duration": 0,
    "start_time": "2022-04-04T17:00:57.354Z"
   },
   {
    "duration": 0,
    "start_time": "2022-04-04T17:00:57.355Z"
   },
   {
    "duration": 0,
    "start_time": "2022-04-04T17:00:57.356Z"
   },
   {
    "duration": 0,
    "start_time": "2022-04-04T17:00:57.358Z"
   },
   {
    "duration": 0,
    "start_time": "2022-04-04T17:00:57.359Z"
   },
   {
    "duration": 0,
    "start_time": "2022-04-04T17:00:57.359Z"
   },
   {
    "duration": 0,
    "start_time": "2022-04-04T17:00:57.360Z"
   },
   {
    "duration": 0,
    "start_time": "2022-04-04T17:00:57.361Z"
   },
   {
    "duration": 0,
    "start_time": "2022-04-04T17:00:57.362Z"
   },
   {
    "duration": 0,
    "start_time": "2022-04-04T17:00:57.363Z"
   },
   {
    "duration": 0,
    "start_time": "2022-04-04T17:00:57.401Z"
   },
   {
    "duration": 0,
    "start_time": "2022-04-04T17:00:57.402Z"
   },
   {
    "duration": 0,
    "start_time": "2022-04-04T17:00:57.404Z"
   },
   {
    "duration": 0,
    "start_time": "2022-04-04T17:00:57.405Z"
   },
   {
    "duration": 0,
    "start_time": "2022-04-04T17:00:57.406Z"
   },
   {
    "duration": 0,
    "start_time": "2022-04-04T17:00:57.408Z"
   },
   {
    "duration": 0,
    "start_time": "2022-04-04T17:00:57.409Z"
   },
   {
    "duration": 0,
    "start_time": "2022-04-04T17:00:57.411Z"
   },
   {
    "duration": 0,
    "start_time": "2022-04-04T17:00:57.413Z"
   },
   {
    "duration": 0,
    "start_time": "2022-04-04T17:00:57.414Z"
   },
   {
    "duration": 0,
    "start_time": "2022-04-04T17:00:57.415Z"
   },
   {
    "duration": 0,
    "start_time": "2022-04-04T17:00:57.416Z"
   },
   {
    "duration": 0,
    "start_time": "2022-04-04T17:00:57.417Z"
   },
   {
    "duration": 0,
    "start_time": "2022-04-04T17:00:57.419Z"
   },
   {
    "duration": 0,
    "start_time": "2022-04-04T17:00:57.420Z"
   },
   {
    "duration": 0,
    "start_time": "2022-04-04T17:00:57.422Z"
   },
   {
    "duration": 0,
    "start_time": "2022-04-04T17:00:57.423Z"
   },
   {
    "duration": 0,
    "start_time": "2022-04-04T17:00:57.424Z"
   },
   {
    "duration": 0,
    "start_time": "2022-04-04T17:00:57.426Z"
   },
   {
    "duration": 0,
    "start_time": "2022-04-04T17:00:57.427Z"
   },
   {
    "duration": 0,
    "start_time": "2022-04-04T17:00:57.428Z"
   },
   {
    "duration": 0,
    "start_time": "2022-04-04T17:00:57.430Z"
   },
   {
    "duration": 0,
    "start_time": "2022-04-04T17:00:57.431Z"
   },
   {
    "duration": 0,
    "start_time": "2022-04-04T17:00:57.433Z"
   },
   {
    "duration": 0,
    "start_time": "2022-04-04T17:00:57.434Z"
   },
   {
    "duration": 0,
    "start_time": "2022-04-04T17:00:57.435Z"
   },
   {
    "duration": 0,
    "start_time": "2022-04-04T17:00:57.437Z"
   },
   {
    "duration": 0,
    "start_time": "2022-04-04T17:00:57.438Z"
   },
   {
    "duration": 0,
    "start_time": "2022-04-04T17:00:57.502Z"
   },
   {
    "duration": 0,
    "start_time": "2022-04-04T17:00:57.503Z"
   },
   {
    "duration": 0,
    "start_time": "2022-04-04T17:00:57.505Z"
   },
   {
    "duration": 0,
    "start_time": "2022-04-04T17:00:57.506Z"
   },
   {
    "duration": 0,
    "start_time": "2022-04-04T17:00:57.508Z"
   },
   {
    "duration": 0,
    "start_time": "2022-04-04T17:00:57.509Z"
   },
   {
    "duration": 0,
    "start_time": "2022-04-04T17:00:57.511Z"
   },
   {
    "duration": 0,
    "start_time": "2022-04-04T17:00:57.512Z"
   },
   {
    "duration": 5,
    "start_time": "2022-04-04T17:01:23.581Z"
   },
   {
    "duration": 397,
    "start_time": "2022-04-04T17:01:29.796Z"
   },
   {
    "duration": 13,
    "start_time": "2022-04-04T17:01:34.245Z"
   },
   {
    "duration": 1299,
    "start_time": "2022-04-04T17:01:40.968Z"
   },
   {
    "duration": 387,
    "start_time": "2022-04-04T17:01:42.270Z"
   },
   {
    "duration": 14,
    "start_time": "2022-04-04T17:01:42.659Z"
   },
   {
    "duration": 28,
    "start_time": "2022-04-04T17:01:42.675Z"
   },
   {
    "duration": 22,
    "start_time": "2022-04-04T17:01:42.705Z"
   },
   {
    "duration": 134,
    "start_time": "2022-04-04T17:01:42.729Z"
   },
   {
    "duration": 10,
    "start_time": "2022-04-04T17:01:42.866Z"
   },
   {
    "duration": 48,
    "start_time": "2022-04-04T17:01:42.878Z"
   },
   {
    "duration": 23,
    "start_time": "2022-04-04T17:01:42.928Z"
   },
   {
    "duration": 97,
    "start_time": "2022-04-04T17:01:42.954Z"
   },
   {
    "duration": 9,
    "start_time": "2022-04-04T17:01:43.053Z"
   },
   {
    "duration": 39,
    "start_time": "2022-04-04T17:01:43.064Z"
   },
   {
    "duration": 17,
    "start_time": "2022-04-04T17:01:43.105Z"
   },
   {
    "duration": 59,
    "start_time": "2022-04-04T17:01:43.124Z"
   },
   {
    "duration": 10,
    "start_time": "2022-04-04T17:01:43.201Z"
   },
   {
    "duration": 15,
    "start_time": "2022-04-04T17:01:43.212Z"
   },
   {
    "duration": 11,
    "start_time": "2022-04-04T17:01:43.230Z"
   },
   {
    "duration": 16,
    "start_time": "2022-04-04T17:01:43.243Z"
   },
   {
    "duration": 19,
    "start_time": "2022-04-04T17:01:43.260Z"
   },
   {
    "duration": 28,
    "start_time": "2022-04-04T17:01:43.280Z"
   },
   {
    "duration": 15,
    "start_time": "2022-04-04T17:01:43.310Z"
   },
   {
    "duration": 9,
    "start_time": "2022-04-04T17:01:43.327Z"
   },
   {
    "duration": 39,
    "start_time": "2022-04-04T17:01:43.338Z"
   },
   {
    "duration": 57,
    "start_time": "2022-04-04T17:01:43.379Z"
   },
   {
    "duration": 5,
    "start_time": "2022-04-04T17:01:43.438Z"
   },
   {
    "duration": 12,
    "start_time": "2022-04-04T17:01:43.445Z"
   },
   {
    "duration": 7,
    "start_time": "2022-04-04T17:01:43.459Z"
   },
   {
    "duration": 534,
    "start_time": "2022-04-04T17:01:43.472Z"
   },
   {
    "duration": 52,
    "start_time": "2022-04-04T17:01:44.008Z"
   },
   {
    "duration": 11,
    "start_time": "2022-04-04T17:01:44.062Z"
   },
   {
    "duration": 398,
    "start_time": "2022-04-04T17:01:44.075Z"
   },
   {
    "duration": 65,
    "start_time": "2022-04-04T17:01:44.476Z"
   },
   {
    "duration": 11,
    "start_time": "2022-04-04T17:01:44.543Z"
   },
   {
    "duration": 363,
    "start_time": "2022-04-04T17:01:44.556Z"
   },
   {
    "duration": 12,
    "start_time": "2022-04-04T17:01:44.922Z"
   },
   {
    "duration": 12,
    "start_time": "2022-04-04T17:01:44.936Z"
   },
   {
    "duration": 26,
    "start_time": "2022-04-04T17:01:44.950Z"
   },
   {
    "duration": 95,
    "start_time": "2022-04-04T17:01:44.978Z"
   },
   {
    "duration": 46,
    "start_time": "2022-04-04T17:01:45.075Z"
   },
   {
    "duration": 3,
    "start_time": "2022-04-04T17:01:45.123Z"
   },
   {
    "duration": 21,
    "start_time": "2022-04-04T17:01:45.127Z"
   },
   {
    "duration": 23,
    "start_time": "2022-04-04T17:01:45.150Z"
   },
   {
    "duration": 27,
    "start_time": "2022-04-04T17:01:45.174Z"
   },
   {
    "duration": 22,
    "start_time": "2022-04-04T17:01:45.203Z"
   },
   {
    "duration": 6,
    "start_time": "2022-04-04T17:01:45.227Z"
   },
   {
    "duration": 149,
    "start_time": "2022-04-04T17:01:45.235Z"
   },
   {
    "duration": 23,
    "start_time": "2022-04-04T17:01:45.386Z"
   },
   {
    "duration": 101,
    "start_time": "2022-04-04T17:01:45.411Z"
   },
   {
    "duration": 29,
    "start_time": "2022-04-04T17:01:45.514Z"
   },
   {
    "duration": 12,
    "start_time": "2022-04-04T17:01:45.545Z"
   },
   {
    "duration": 858,
    "start_time": "2022-04-04T17:01:45.559Z"
   },
   {
    "duration": 236,
    "start_time": "2022-04-04T17:01:46.419Z"
   },
   {
    "duration": 489,
    "start_time": "2022-04-04T17:01:46.657Z"
   },
   {
    "duration": 220,
    "start_time": "2022-04-04T17:01:47.148Z"
   },
   {
    "duration": 529,
    "start_time": "2022-04-04T17:01:47.371Z"
   },
   {
    "duration": 230,
    "start_time": "2022-04-04T17:01:47.902Z"
   },
   {
    "duration": 8,
    "start_time": "2022-04-04T17:01:48.135Z"
   },
   {
    "duration": 12,
    "start_time": "2022-04-04T17:01:48.145Z"
   },
   {
    "duration": 23,
    "start_time": "2022-04-04T17:01:48.160Z"
   },
   {
    "duration": 9,
    "start_time": "2022-04-04T17:01:48.201Z"
   },
   {
    "duration": 6,
    "start_time": "2022-04-04T17:07:50.737Z"
   },
   {
    "duration": 128,
    "start_time": "2022-04-04T17:07:52.643Z"
   },
   {
    "duration": 15,
    "start_time": "2022-04-04T17:07:53.956Z"
   },
   {
    "duration": 88,
    "start_time": "2022-04-04T17:08:54.204Z"
   },
   {
    "duration": 1242,
    "start_time": "2022-04-04T17:09:11.790Z"
   },
   {
    "duration": 420,
    "start_time": "2022-04-04T17:09:13.034Z"
   },
   {
    "duration": 13,
    "start_time": "2022-04-04T17:09:13.459Z"
   },
   {
    "duration": 33,
    "start_time": "2022-04-04T17:09:13.474Z"
   },
   {
    "duration": 24,
    "start_time": "2022-04-04T17:09:13.509Z"
   },
   {
    "duration": 148,
    "start_time": "2022-04-04T17:09:13.534Z"
   },
   {
    "duration": 19,
    "start_time": "2022-04-04T17:09:13.684Z"
   },
   {
    "duration": 42,
    "start_time": "2022-04-04T17:09:13.705Z"
   },
   {
    "duration": 30,
    "start_time": "2022-04-04T17:09:13.751Z"
   },
   {
    "duration": 81,
    "start_time": "2022-04-04T17:09:13.800Z"
   },
   {
    "duration": 21,
    "start_time": "2022-04-04T17:09:13.883Z"
   },
   {
    "duration": 22,
    "start_time": "2022-04-04T17:09:13.905Z"
   },
   {
    "duration": 16,
    "start_time": "2022-04-04T17:09:13.929Z"
   },
   {
    "duration": 80,
    "start_time": "2022-04-04T17:09:13.947Z"
   },
   {
    "duration": 8,
    "start_time": "2022-04-04T17:09:14.029Z"
   },
   {
    "duration": 26,
    "start_time": "2022-04-04T17:09:14.039Z"
   },
   {
    "duration": 18,
    "start_time": "2022-04-04T17:09:14.067Z"
   },
   {
    "duration": 16,
    "start_time": "2022-04-04T17:09:14.087Z"
   },
   {
    "duration": 25,
    "start_time": "2022-04-04T17:09:14.106Z"
   },
   {
    "duration": 23,
    "start_time": "2022-04-04T17:09:14.133Z"
   },
   {
    "duration": 19,
    "start_time": "2022-04-04T17:09:14.158Z"
   },
   {
    "duration": 22,
    "start_time": "2022-04-04T17:09:14.179Z"
   },
   {
    "duration": 49,
    "start_time": "2022-04-04T17:09:14.203Z"
   },
   {
    "duration": 44,
    "start_time": "2022-04-04T17:09:14.254Z"
   },
   {
    "duration": 5,
    "start_time": "2022-04-04T17:09:14.300Z"
   },
   {
    "duration": 11,
    "start_time": "2022-04-04T17:09:14.307Z"
   },
   {
    "duration": 10,
    "start_time": "2022-04-04T17:09:14.323Z"
   },
   {
    "duration": 414,
    "start_time": "2022-04-04T17:09:14.336Z"
   },
   {
    "duration": 57,
    "start_time": "2022-04-04T17:09:14.752Z"
   },
   {
    "duration": 11,
    "start_time": "2022-04-04T17:09:14.811Z"
   },
   {
    "duration": 406,
    "start_time": "2022-04-04T17:09:14.824Z"
   },
   {
    "duration": 68,
    "start_time": "2022-04-04T17:09:15.233Z"
   },
   {
    "duration": 12,
    "start_time": "2022-04-04T17:09:15.303Z"
   },
   {
    "duration": 387,
    "start_time": "2022-04-04T17:09:15.316Z"
   },
   {
    "duration": 13,
    "start_time": "2022-04-04T17:09:15.706Z"
   },
   {
    "duration": 11,
    "start_time": "2022-04-04T17:09:15.722Z"
   },
   {
    "duration": 18,
    "start_time": "2022-04-04T17:09:15.735Z"
   },
   {
    "duration": 104,
    "start_time": "2022-04-04T17:09:15.755Z"
   },
   {
    "duration": 41,
    "start_time": "2022-04-04T17:09:15.861Z"
   },
   {
    "duration": 4,
    "start_time": "2022-04-04T17:09:15.904Z"
   },
   {
    "duration": 16,
    "start_time": "2022-04-04T17:09:15.910Z"
   },
   {
    "duration": 22,
    "start_time": "2022-04-04T17:09:15.928Z"
   },
   {
    "duration": 14,
    "start_time": "2022-04-04T17:09:15.952Z"
   },
   {
    "duration": 13,
    "start_time": "2022-04-04T17:09:16.001Z"
   },
   {
    "duration": 5,
    "start_time": "2022-04-04T17:09:16.016Z"
   },
   {
    "duration": 141,
    "start_time": "2022-04-04T17:09:16.023Z"
   },
   {
    "duration": 14,
    "start_time": "2022-04-04T17:09:16.166Z"
   },
   {
    "duration": 102,
    "start_time": "2022-04-04T17:09:16.182Z"
   },
   {
    "duration": 28,
    "start_time": "2022-04-04T17:09:16.286Z"
   },
   {
    "duration": 8,
    "start_time": "2022-04-04T17:09:16.315Z"
   },
   {
    "duration": 528,
    "start_time": "2022-04-04T17:09:16.325Z"
   },
   {
    "duration": 310,
    "start_time": "2022-04-04T17:09:16.855Z"
   },
   {
    "duration": 499,
    "start_time": "2022-04-04T17:09:17.167Z"
   },
   {
    "duration": 222,
    "start_time": "2022-04-04T17:09:17.668Z"
   },
   {
    "duration": 524,
    "start_time": "2022-04-04T17:09:17.891Z"
   },
   {
    "duration": 235,
    "start_time": "2022-04-04T17:09:18.417Z"
   },
   {
    "duration": 9,
    "start_time": "2022-04-04T17:09:18.653Z"
   },
   {
    "duration": 5,
    "start_time": "2022-04-04T17:09:18.664Z"
   },
   {
    "duration": 41,
    "start_time": "2022-04-04T17:09:18.670Z"
   },
   {
    "duration": 10,
    "start_time": "2022-04-04T17:09:18.713Z"
   },
   {
    "duration": 5,
    "start_time": "2022-04-04T17:14:55.057Z"
   },
   {
    "duration": 1990,
    "start_time": "2022-04-04T17:14:56.656Z"
   },
   {
    "duration": 13,
    "start_time": "2022-04-04T17:15:11.552Z"
   },
   {
    "duration": 1254,
    "start_time": "2022-04-04T17:15:50.982Z"
   },
   {
    "duration": 414,
    "start_time": "2022-04-04T17:15:52.238Z"
   },
   {
    "duration": 13,
    "start_time": "2022-04-04T17:15:52.654Z"
   },
   {
    "duration": 29,
    "start_time": "2022-04-04T17:15:52.669Z"
   },
   {
    "duration": 24,
    "start_time": "2022-04-04T17:15:52.700Z"
   },
   {
    "duration": 139,
    "start_time": "2022-04-04T17:15:52.726Z"
   },
   {
    "duration": 10,
    "start_time": "2022-04-04T17:15:52.867Z"
   },
   {
    "duration": 41,
    "start_time": "2022-04-04T17:15:52.879Z"
   },
   {
    "duration": 23,
    "start_time": "2022-04-04T17:15:52.922Z"
   },
   {
    "duration": 99,
    "start_time": "2022-04-04T17:15:52.948Z"
   },
   {
    "duration": 9,
    "start_time": "2022-04-04T17:15:53.049Z"
   },
   {
    "duration": 40,
    "start_time": "2022-04-04T17:15:53.061Z"
   },
   {
    "duration": 16,
    "start_time": "2022-04-04T17:15:53.103Z"
   },
   {
    "duration": 59,
    "start_time": "2022-04-04T17:15:53.121Z"
   },
   {
    "duration": 25,
    "start_time": "2022-04-04T17:15:53.182Z"
   },
   {
    "duration": 15,
    "start_time": "2022-04-04T17:15:53.209Z"
   },
   {
    "duration": 13,
    "start_time": "2022-04-04T17:15:53.226Z"
   },
   {
    "duration": 7,
    "start_time": "2022-04-04T17:15:53.240Z"
   },
   {
    "duration": 16,
    "start_time": "2022-04-04T17:15:53.249Z"
   },
   {
    "duration": 46,
    "start_time": "2022-04-04T17:15:53.267Z"
   },
   {
    "duration": 11,
    "start_time": "2022-04-04T17:15:53.315Z"
   },
   {
    "duration": 10,
    "start_time": "2022-04-04T17:15:53.329Z"
   },
   {
    "duration": 69,
    "start_time": "2022-04-04T17:15:53.341Z"
   },
   {
    "duration": 44,
    "start_time": "2022-04-04T17:15:53.413Z"
   },
   {
    "duration": 6,
    "start_time": "2022-04-04T17:15:53.459Z"
   },
   {
    "duration": 10,
    "start_time": "2022-04-04T17:15:53.467Z"
   },
   {
    "duration": 5,
    "start_time": "2022-04-04T17:15:53.502Z"
   },
   {
    "duration": 358,
    "start_time": "2022-04-04T17:15:53.511Z"
   },
   {
    "duration": 62,
    "start_time": "2022-04-04T17:15:53.871Z"
   },
   {
    "duration": 11,
    "start_time": "2022-04-04T17:15:53.935Z"
   },
   {
    "duration": 386,
    "start_time": "2022-04-04T17:15:53.948Z"
   },
   {
    "duration": 65,
    "start_time": "2022-04-04T17:15:54.336Z"
   },
   {
    "duration": 11,
    "start_time": "2022-04-04T17:15:54.404Z"
   },
   {
    "duration": 534,
    "start_time": "2022-04-04T17:15:54.417Z"
   },
   {
    "duration": 17,
    "start_time": "2022-04-04T17:15:54.954Z"
   },
   {
    "duration": 30,
    "start_time": "2022-04-04T17:15:54.974Z"
   },
   {
    "duration": 20,
    "start_time": "2022-04-04T17:15:55.007Z"
   },
   {
    "duration": 92,
    "start_time": "2022-04-04T17:15:55.029Z"
   },
   {
    "duration": 31,
    "start_time": "2022-04-04T17:15:55.123Z"
   },
   {
    "duration": 3,
    "start_time": "2022-04-04T17:15:55.156Z"
   },
   {
    "duration": 16,
    "start_time": "2022-04-04T17:15:55.160Z"
   },
   {
    "duration": 21,
    "start_time": "2022-04-04T17:15:55.201Z"
   },
   {
    "duration": 13,
    "start_time": "2022-04-04T17:15:55.224Z"
   },
   {
    "duration": 14,
    "start_time": "2022-04-04T17:15:55.239Z"
   },
   {
    "duration": 6,
    "start_time": "2022-04-04T17:15:55.255Z"
   },
   {
    "duration": 208,
    "start_time": "2022-04-04T17:15:55.263Z"
   },
   {
    "duration": 0,
    "start_time": "2022-04-04T17:15:55.474Z"
   },
   {
    "duration": 0,
    "start_time": "2022-04-04T17:15:55.476Z"
   },
   {
    "duration": 0,
    "start_time": "2022-04-04T17:15:55.477Z"
   },
   {
    "duration": 0,
    "start_time": "2022-04-04T17:15:55.479Z"
   },
   {
    "duration": 0,
    "start_time": "2022-04-04T17:15:55.480Z"
   },
   {
    "duration": 0,
    "start_time": "2022-04-04T17:15:55.482Z"
   },
   {
    "duration": 0,
    "start_time": "2022-04-04T17:15:55.484Z"
   },
   {
    "duration": 0,
    "start_time": "2022-04-04T17:15:55.501Z"
   },
   {
    "duration": 0,
    "start_time": "2022-04-04T17:15:55.503Z"
   },
   {
    "duration": 0,
    "start_time": "2022-04-04T17:15:55.505Z"
   },
   {
    "duration": 0,
    "start_time": "2022-04-04T17:15:55.507Z"
   },
   {
    "duration": 0,
    "start_time": "2022-04-04T17:15:55.508Z"
   },
   {
    "duration": 0,
    "start_time": "2022-04-04T17:15:55.510Z"
   },
   {
    "duration": 0,
    "start_time": "2022-04-04T17:15:55.512Z"
   },
   {
    "duration": 0,
    "start_time": "2022-04-04T17:15:55.514Z"
   },
   {
    "duration": 6,
    "start_time": "2022-04-04T17:16:22.700Z"
   },
   {
    "duration": 142,
    "start_time": "2022-04-04T17:16:24.120Z"
   },
   {
    "duration": 14,
    "start_time": "2022-04-04T17:16:26.012Z"
   },
   {
    "duration": 7,
    "start_time": "2022-04-04T17:16:32.916Z"
   },
   {
    "duration": 12,
    "start_time": "2022-04-04T17:16:33.973Z"
   },
   {
    "duration": 89,
    "start_time": "2022-04-04T17:16:38.333Z"
   },
   {
    "duration": 20,
    "start_time": "2022-04-04T17:16:47.509Z"
   },
   {
    "duration": 8,
    "start_time": "2022-04-04T17:19:33.010Z"
   },
   {
    "duration": 569,
    "start_time": "2022-04-04T17:19:33.656Z"
   },
   {
    "duration": 244,
    "start_time": "2022-04-04T17:20:35.738Z"
   },
   {
    "duration": 504,
    "start_time": "2022-04-04T17:23:35.552Z"
   },
   {
    "duration": 217,
    "start_time": "2022-04-04T17:23:42.487Z"
   },
   {
    "duration": 496,
    "start_time": "2022-04-04T17:23:43.695Z"
   },
   {
    "duration": 218,
    "start_time": "2022-04-04T17:23:50.767Z"
   },
   {
    "duration": 7,
    "start_time": "2022-04-04T17:25:37.162Z"
   },
   {
    "duration": 495,
    "start_time": "2022-04-04T17:25:37.930Z"
   },
   {
    "duration": 341,
    "start_time": "2022-04-04T17:27:15.707Z"
   },
   {
    "duration": 228,
    "start_time": "2022-04-04T17:29:21.182Z"
   },
   {
    "duration": 493,
    "start_time": "2022-04-04T17:31:42.194Z"
   },
   {
    "duration": 504,
    "start_time": "2022-04-04T17:32:22.797Z"
   },
   {
    "duration": 209,
    "start_time": "2022-04-04T17:33:32.692Z"
   },
   {
    "duration": 201,
    "start_time": "2022-04-04T17:35:54.160Z"
   },
   {
    "duration": 465,
    "start_time": "2022-04-04T17:37:09.370Z"
   },
   {
    "duration": 582,
    "start_time": "2022-04-04T17:37:25.626Z"
   },
   {
    "duration": 208,
    "start_time": "2022-04-04T17:39:13.861Z"
   },
   {
    "duration": 224,
    "start_time": "2022-04-04T17:41:49.368Z"
   },
   {
    "duration": 16,
    "start_time": "2022-04-04T17:42:08.840Z"
   },
   {
    "duration": 214,
    "start_time": "2022-04-04T17:42:34.466Z"
   },
   {
    "duration": 197,
    "start_time": "2022-04-04T17:43:23.266Z"
   },
   {
    "duration": 202,
    "start_time": "2022-04-04T17:44:37.638Z"
   },
   {
    "duration": 9,
    "start_time": "2022-04-04T17:48:57.082Z"
   },
   {
    "duration": 16,
    "start_time": "2022-04-04T17:49:03.322Z"
   },
   {
    "duration": 11,
    "start_time": "2022-04-04T17:50:56.541Z"
   },
   {
    "duration": 7,
    "start_time": "2022-04-04T17:52:14.023Z"
   },
   {
    "duration": 14,
    "start_time": "2022-04-04T17:53:56.251Z"
   },
   {
    "duration": 29,
    "start_time": "2022-04-04T17:54:02.993Z"
   },
   {
    "duration": 10,
    "start_time": "2022-04-04T17:55:38.531Z"
   },
   {
    "duration": 17,
    "start_time": "2022-04-04T17:59:20.161Z"
   },
   {
    "duration": 10,
    "start_time": "2022-04-04T17:59:28.601Z"
   },
   {
    "duration": 188,
    "start_time": "2022-04-04T18:02:59.215Z"
   },
   {
    "duration": 10,
    "start_time": "2022-04-04T18:05:10.233Z"
   },
   {
    "duration": 5,
    "start_time": "2022-04-04T18:05:16.072Z"
   },
   {
    "duration": 16,
    "start_time": "2022-04-04T18:05:17.585Z"
   },
   {
    "duration": 8,
    "start_time": "2022-04-04T18:05:19.681Z"
   },
   {
    "duration": 1238,
    "start_time": "2022-04-05T05:41:52.025Z"
   },
   {
    "duration": 435,
    "start_time": "2022-04-05T05:41:53.264Z"
   },
   {
    "duration": 12,
    "start_time": "2022-04-05T05:41:53.700Z"
   },
   {
    "duration": 24,
    "start_time": "2022-04-05T05:41:53.714Z"
   },
   {
    "duration": 20,
    "start_time": "2022-04-05T05:41:53.740Z"
   },
   {
    "duration": 105,
    "start_time": "2022-04-05T05:41:53.761Z"
   },
   {
    "duration": 17,
    "start_time": "2022-04-05T05:41:53.868Z"
   },
   {
    "duration": 20,
    "start_time": "2022-04-05T05:41:53.886Z"
   },
   {
    "duration": 15,
    "start_time": "2022-04-05T05:41:53.908Z"
   },
   {
    "duration": 86,
    "start_time": "2022-04-05T05:41:53.925Z"
   },
   {
    "duration": 7,
    "start_time": "2022-04-05T05:41:54.013Z"
   },
   {
    "duration": 18,
    "start_time": "2022-04-05T05:41:54.022Z"
   },
   {
    "duration": 13,
    "start_time": "2022-04-05T05:41:54.041Z"
   },
   {
    "duration": 56,
    "start_time": "2022-04-05T05:41:54.055Z"
   },
   {
    "duration": 7,
    "start_time": "2022-04-05T05:41:54.113Z"
   },
   {
    "duration": 10,
    "start_time": "2022-04-05T05:41:54.122Z"
   },
   {
    "duration": 6,
    "start_time": "2022-04-05T05:41:54.134Z"
   },
   {
    "duration": 5,
    "start_time": "2022-04-05T05:41:54.141Z"
   },
   {
    "duration": 34,
    "start_time": "2022-04-05T05:41:54.148Z"
   },
   {
    "duration": 11,
    "start_time": "2022-04-05T05:41:54.183Z"
   },
   {
    "duration": 7,
    "start_time": "2022-04-05T05:41:54.195Z"
   },
   {
    "duration": 6,
    "start_time": "2022-04-05T05:41:54.203Z"
   },
   {
    "duration": 29,
    "start_time": "2022-04-05T05:41:54.210Z"
   },
   {
    "duration": 56,
    "start_time": "2022-04-05T05:41:54.241Z"
   },
   {
    "duration": 5,
    "start_time": "2022-04-05T05:41:54.298Z"
   },
   {
    "duration": 10,
    "start_time": "2022-04-05T05:41:54.304Z"
   },
   {
    "duration": 5,
    "start_time": "2022-04-05T05:41:54.315Z"
   },
   {
    "duration": 406,
    "start_time": "2022-04-05T05:41:54.323Z"
   },
   {
    "duration": 41,
    "start_time": "2022-04-05T05:41:54.730Z"
   },
   {
    "duration": 14,
    "start_time": "2022-04-05T05:41:54.772Z"
   },
   {
    "duration": 304,
    "start_time": "2022-04-05T05:41:54.787Z"
   },
   {
    "duration": 46,
    "start_time": "2022-04-05T05:41:55.093Z"
   },
   {
    "duration": 8,
    "start_time": "2022-04-05T05:41:55.141Z"
   },
   {
    "duration": 339,
    "start_time": "2022-04-05T05:41:55.151Z"
   },
   {
    "duration": 9,
    "start_time": "2022-04-05T05:41:55.492Z"
   },
   {
    "duration": 10,
    "start_time": "2022-04-05T05:41:55.503Z"
   },
   {
    "duration": 17,
    "start_time": "2022-04-05T05:41:55.515Z"
   },
   {
    "duration": 75,
    "start_time": "2022-04-05T05:41:55.533Z"
   },
   {
    "duration": 25,
    "start_time": "2022-04-05T05:41:55.609Z"
   },
   {
    "duration": 3,
    "start_time": "2022-04-05T05:41:55.635Z"
   },
   {
    "duration": 9,
    "start_time": "2022-04-05T05:41:55.640Z"
   },
   {
    "duration": 33,
    "start_time": "2022-04-05T05:41:55.651Z"
   },
   {
    "duration": 10,
    "start_time": "2022-04-05T05:41:55.686Z"
   },
   {
    "duration": 13,
    "start_time": "2022-04-05T05:41:55.698Z"
   },
   {
    "duration": 5,
    "start_time": "2022-04-05T05:41:55.712Z"
   },
   {
    "duration": 131,
    "start_time": "2022-04-05T05:41:55.718Z"
   },
   {
    "duration": 12,
    "start_time": "2022-04-05T05:41:55.850Z"
   },
   {
    "duration": 18,
    "start_time": "2022-04-05T05:41:55.863Z"
   },
   {
    "duration": 78,
    "start_time": "2022-04-05T05:41:55.882Z"
   },
   {
    "duration": 24,
    "start_time": "2022-04-05T05:41:55.961Z"
   },
   {
    "duration": 6,
    "start_time": "2022-04-05T05:41:55.986Z"
   },
   {
    "duration": 518,
    "start_time": "2022-04-05T05:41:55.993Z"
   },
   {
    "duration": 195,
    "start_time": "2022-04-05T05:41:56.513Z"
   },
   {
    "duration": 448,
    "start_time": "2022-04-05T05:41:56.709Z"
   },
   {
    "duration": 181,
    "start_time": "2022-04-05T05:41:57.158Z"
   },
   {
    "duration": 413,
    "start_time": "2022-04-05T05:41:57.341Z"
   },
   {
    "duration": 194,
    "start_time": "2022-04-05T05:41:57.756Z"
   },
   {
    "duration": 8,
    "start_time": "2022-04-05T05:41:57.951Z"
   },
   {
    "duration": 159,
    "start_time": "2022-04-05T05:41:57.961Z"
   },
   {
    "duration": 8,
    "start_time": "2022-04-05T05:41:58.121Z"
   },
   {
    "duration": 5,
    "start_time": "2022-04-05T05:41:58.130Z"
   },
   {
    "duration": 15,
    "start_time": "2022-04-05T05:41:58.136Z"
   },
   {
    "duration": 8,
    "start_time": "2022-04-05T05:41:58.152Z"
   },
   {
    "duration": 122,
    "start_time": "2022-04-15T14:18:41.753Z"
   },
   {
    "duration": 148,
    "start_time": "2022-04-15T14:28:37.450Z"
   },
   {
    "duration": 55,
    "start_time": "2022-04-15T14:41:45.879Z"
   },
   {
    "duration": 1141,
    "start_time": "2022-04-15T14:41:52.539Z"
   },
   {
    "duration": 369,
    "start_time": "2022-04-15T14:41:53.682Z"
   },
   {
    "duration": 14,
    "start_time": "2022-04-15T14:41:54.053Z"
   },
   {
    "duration": 28,
    "start_time": "2022-04-15T14:41:54.069Z"
   },
   {
    "duration": 22,
    "start_time": "2022-04-15T14:41:54.100Z"
   },
   {
    "duration": 138,
    "start_time": "2022-04-15T14:41:54.125Z"
   },
   {
    "duration": 15,
    "start_time": "2022-04-15T14:41:54.265Z"
   },
   {
    "duration": 22,
    "start_time": "2022-04-15T14:41:54.282Z"
   },
   {
    "duration": 18,
    "start_time": "2022-04-15T14:41:54.307Z"
   },
   {
    "duration": 96,
    "start_time": "2022-04-15T14:41:54.327Z"
   },
   {
    "duration": 8,
    "start_time": "2022-04-15T14:41:54.425Z"
   },
   {
    "duration": 38,
    "start_time": "2022-04-15T14:41:54.435Z"
   },
   {
    "duration": 16,
    "start_time": "2022-04-15T14:41:54.476Z"
   },
   {
    "duration": 51,
    "start_time": "2022-04-15T14:41:54.496Z"
   },
   {
    "duration": 7,
    "start_time": "2022-04-15T14:41:54.574Z"
   },
   {
    "duration": 12,
    "start_time": "2022-04-15T14:41:54.583Z"
   },
   {
    "duration": 7,
    "start_time": "2022-04-15T14:41:54.598Z"
   },
   {
    "duration": 6,
    "start_time": "2022-04-15T14:41:54.607Z"
   },
   {
    "duration": 13,
    "start_time": "2022-04-15T14:41:54.615Z"
   },
   {
    "duration": 44,
    "start_time": "2022-04-15T14:41:54.630Z"
   },
   {
    "duration": 7,
    "start_time": "2022-04-15T14:41:54.676Z"
   },
   {
    "duration": 7,
    "start_time": "2022-04-15T14:41:54.685Z"
   },
   {
    "duration": 30,
    "start_time": "2022-04-15T14:41:54.694Z"
   },
   {
    "duration": 65,
    "start_time": "2022-04-15T14:41:54.726Z"
   },
   {
    "duration": 6,
    "start_time": "2022-04-15T14:41:54.793Z"
   },
   {
    "duration": 11,
    "start_time": "2022-04-15T14:41:54.801Z"
   },
   {
    "duration": 6,
    "start_time": "2022-04-15T14:41:54.814Z"
   },
   {
    "duration": 389,
    "start_time": "2022-04-15T14:41:54.821Z"
   },
   {
    "duration": 44,
    "start_time": "2022-04-15T14:41:55.212Z"
   },
   {
    "duration": 23,
    "start_time": "2022-04-15T14:41:55.258Z"
   },
   {
    "duration": 311,
    "start_time": "2022-04-15T14:41:55.283Z"
   },
   {
    "duration": 52,
    "start_time": "2022-04-15T14:41:55.595Z"
   },
   {
    "duration": 26,
    "start_time": "2022-04-15T14:41:55.648Z"
   },
   {
    "duration": 332,
    "start_time": "2022-04-15T14:41:55.675Z"
   },
   {
    "duration": 12,
    "start_time": "2022-04-15T14:41:56.009Z"
   },
   {
    "duration": 12,
    "start_time": "2022-04-15T14:41:56.022Z"
   },
   {
    "duration": 37,
    "start_time": "2022-04-15T14:41:56.036Z"
   },
   {
    "duration": 64,
    "start_time": "2022-04-15T14:41:56.075Z"
   },
   {
    "duration": 41,
    "start_time": "2022-04-15T14:41:56.141Z"
   },
   {
    "duration": 2,
    "start_time": "2022-04-15T14:41:56.184Z"
   },
   {
    "duration": 10,
    "start_time": "2022-04-15T14:41:56.190Z"
   },
   {
    "duration": 16,
    "start_time": "2022-04-15T14:41:56.202Z"
   },
   {
    "duration": 13,
    "start_time": "2022-04-15T14:41:56.219Z"
   },
   {
    "duration": 43,
    "start_time": "2022-04-15T14:41:56.234Z"
   },
   {
    "duration": 10,
    "start_time": "2022-04-15T14:41:56.279Z"
   },
   {
    "duration": 5,
    "start_time": "2022-04-15T14:41:56.291Z"
   },
   {
    "duration": 133,
    "start_time": "2022-04-15T14:41:56.297Z"
   },
   {
    "duration": 13,
    "start_time": "2022-04-15T14:41:56.431Z"
   },
   {
    "duration": 7,
    "start_time": "2022-04-15T14:41:56.445Z"
   },
   {
    "duration": 98,
    "start_time": "2022-04-15T14:41:56.454Z"
   },
   {
    "duration": 24,
    "start_time": "2022-04-15T14:41:56.554Z"
   },
   {
    "duration": 6,
    "start_time": "2022-04-15T14:41:56.580Z"
   },
   {
    "duration": 595,
    "start_time": "2022-04-15T14:41:56.588Z"
   },
   {
    "duration": 219,
    "start_time": "2022-04-15T14:41:57.184Z"
   },
   {
    "duration": 487,
    "start_time": "2022-04-15T14:41:57.405Z"
   },
   {
    "duration": 202,
    "start_time": "2022-04-15T14:41:57.894Z"
   },
   {
    "duration": 490,
    "start_time": "2022-04-15T14:41:58.098Z"
   },
   {
    "duration": 219,
    "start_time": "2022-04-15T14:41:58.590Z"
   },
   {
    "duration": 9,
    "start_time": "2022-04-15T14:41:58.811Z"
   },
   {
    "duration": 195,
    "start_time": "2022-04-15T14:41:58.822Z"
   },
   {
    "duration": 9,
    "start_time": "2022-04-15T14:41:59.019Z"
   },
   {
    "duration": 4,
    "start_time": "2022-04-15T14:41:59.030Z"
   },
   {
    "duration": 38,
    "start_time": "2022-04-15T14:41:59.036Z"
   },
   {
    "duration": 11,
    "start_time": "2022-04-15T14:41:59.076Z"
   },
   {
    "duration": 5,
    "start_time": "2022-04-15T14:47:23.629Z"
   },
   {
    "duration": 1181,
    "start_time": "2022-04-15T15:20:09.585Z"
   },
   {
    "duration": 415,
    "start_time": "2022-04-15T15:20:10.768Z"
   },
   {
    "duration": 13,
    "start_time": "2022-04-15T15:20:11.185Z"
   },
   {
    "duration": 29,
    "start_time": "2022-04-15T15:20:11.201Z"
   },
   {
    "duration": 22,
    "start_time": "2022-04-15T15:20:11.232Z"
   },
   {
    "duration": 140,
    "start_time": "2022-04-15T15:20:11.273Z"
   },
   {
    "duration": 12,
    "start_time": "2022-04-15T15:20:11.415Z"
   },
   {
    "duration": 27,
    "start_time": "2022-04-15T15:20:11.429Z"
   },
   {
    "duration": 40,
    "start_time": "2022-04-15T15:20:11.458Z"
   },
   {
    "duration": 112,
    "start_time": "2022-04-15T15:20:11.501Z"
   },
   {
    "duration": 7,
    "start_time": "2022-04-15T15:20:11.615Z"
   },
   {
    "duration": 27,
    "start_time": "2022-04-15T15:20:11.624Z"
   },
   {
    "duration": 37,
    "start_time": "2022-04-15T15:20:11.652Z"
   },
   {
    "duration": 57,
    "start_time": "2022-04-15T15:20:11.691Z"
   },
   {
    "duration": 24,
    "start_time": "2022-04-15T15:20:11.750Z"
   },
   {
    "duration": 12,
    "start_time": "2022-04-15T15:20:11.776Z"
   },
   {
    "duration": 9,
    "start_time": "2022-04-15T15:20:11.790Z"
   },
   {
    "duration": 6,
    "start_time": "2022-04-15T15:20:11.801Z"
   },
   {
    "duration": 21,
    "start_time": "2022-04-15T15:20:11.808Z"
   },
   {
    "duration": 18,
    "start_time": "2022-04-15T15:20:11.831Z"
   },
   {
    "duration": 27,
    "start_time": "2022-04-15T15:20:11.851Z"
   },
   {
    "duration": 7,
    "start_time": "2022-04-15T15:20:11.880Z"
   },
   {
    "duration": 34,
    "start_time": "2022-04-15T15:20:11.889Z"
   },
   {
    "duration": 62,
    "start_time": "2022-04-15T15:20:11.925Z"
   },
   {
    "duration": 6,
    "start_time": "2022-04-15T15:20:11.989Z"
   },
   {
    "duration": 13,
    "start_time": "2022-04-15T15:20:11.997Z"
   },
   {
    "duration": 6,
    "start_time": "2022-04-15T15:20:12.012Z"
   },
   {
    "duration": 406,
    "start_time": "2022-04-15T15:20:12.021Z"
   },
   {
    "duration": 54,
    "start_time": "2022-04-15T15:20:12.428Z"
   },
   {
    "duration": 9,
    "start_time": "2022-04-15T15:20:12.484Z"
   },
   {
    "duration": 367,
    "start_time": "2022-04-15T15:20:12.495Z"
   },
   {
    "duration": 57,
    "start_time": "2022-04-15T15:20:12.863Z"
   },
   {
    "duration": 10,
    "start_time": "2022-04-15T15:20:12.922Z"
   },
   {
    "duration": 372,
    "start_time": "2022-04-15T15:20:12.934Z"
   },
   {
    "duration": 11,
    "start_time": "2022-04-15T15:20:13.308Z"
   },
   {
    "duration": 9,
    "start_time": "2022-04-15T15:20:13.321Z"
   },
   {
    "duration": 22,
    "start_time": "2022-04-15T15:20:13.332Z"
   },
   {
    "duration": 61,
    "start_time": "2022-04-15T15:20:13.372Z"
   },
   {
    "duration": 46,
    "start_time": "2022-04-15T15:20:13.435Z"
   },
   {
    "duration": 3,
    "start_time": "2022-04-15T15:20:13.483Z"
   },
   {
    "duration": 15,
    "start_time": "2022-04-15T15:20:13.488Z"
   },
   {
    "duration": 23,
    "start_time": "2022-04-15T15:20:13.504Z"
   },
   {
    "duration": 13,
    "start_time": "2022-04-15T15:20:13.529Z"
   },
   {
    "duration": 41,
    "start_time": "2022-04-15T15:20:13.543Z"
   },
   {
    "duration": 10,
    "start_time": "2022-04-15T15:20:13.586Z"
   },
   {
    "duration": 150,
    "start_time": "2022-04-15T15:20:13.598Z"
   },
   {
    "duration": 12,
    "start_time": "2022-04-15T15:20:13.750Z"
   },
   {
    "duration": 13,
    "start_time": "2022-04-15T15:20:13.764Z"
   },
   {
    "duration": 96,
    "start_time": "2022-04-15T15:20:13.778Z"
   },
   {
    "duration": 16,
    "start_time": "2022-04-15T15:20:13.876Z"
   },
   {
    "duration": 7,
    "start_time": "2022-04-15T15:20:13.894Z"
   },
   {
    "duration": 608,
    "start_time": "2022-04-15T15:20:13.903Z"
   },
   {
    "duration": 275,
    "start_time": "2022-04-15T15:20:14.512Z"
   },
   {
    "duration": 515,
    "start_time": "2022-04-15T15:20:14.788Z"
   },
   {
    "duration": 218,
    "start_time": "2022-04-15T15:20:15.305Z"
   },
   {
    "duration": 481,
    "start_time": "2022-04-15T15:20:15.525Z"
   },
   {
    "duration": 253,
    "start_time": "2022-04-15T15:20:16.008Z"
   },
   {
    "duration": 14,
    "start_time": "2022-04-15T15:20:16.263Z"
   },
   {
    "duration": 198,
    "start_time": "2022-04-15T15:20:16.278Z"
   },
   {
    "duration": 10,
    "start_time": "2022-04-15T15:20:16.477Z"
   },
   {
    "duration": 8,
    "start_time": "2022-04-15T15:20:16.489Z"
   },
   {
    "duration": 29,
    "start_time": "2022-04-15T15:20:16.499Z"
   },
   {
    "duration": 9,
    "start_time": "2022-04-15T15:20:16.530Z"
   },
   {
    "duration": 71,
    "start_time": "2022-04-15T15:57:18.454Z"
   },
   {
    "duration": 8,
    "start_time": "2022-04-15T15:58:10.772Z"
   },
   {
    "duration": 1801,
    "start_time": "2022-04-15T16:01:27.668Z"
   },
   {
    "duration": 640,
    "start_time": "2022-04-15T16:01:29.471Z"
   },
   {
    "duration": 25,
    "start_time": "2022-04-15T16:01:31.530Z"
   },
   {
    "duration": 34,
    "start_time": "2022-04-15T16:01:33.363Z"
   },
   {
    "duration": 28,
    "start_time": "2022-04-15T16:01:34.434Z"
   },
   {
    "duration": 161,
    "start_time": "2022-04-15T16:01:35.924Z"
   },
   {
    "duration": 12,
    "start_time": "2022-04-15T16:01:38.124Z"
   },
   {
    "duration": 30,
    "start_time": "2022-04-15T16:01:39.930Z"
   },
   {
    "duration": 35,
    "start_time": "2022-04-15T16:01:41.098Z"
   },
   {
    "duration": 168,
    "start_time": "2022-04-15T16:01:42.011Z"
   },
   {
    "duration": 16,
    "start_time": "2022-04-15T16:01:44.612Z"
   },
   {
    "duration": 25,
    "start_time": "2022-04-15T16:01:46.372Z"
   },
   {
    "duration": 20,
    "start_time": "2022-04-15T16:01:47.803Z"
   },
   {
    "duration": 75,
    "start_time": "2022-04-15T16:01:49.403Z"
   },
   {
    "duration": 11,
    "start_time": "2022-04-15T16:01:52.059Z"
   },
   {
    "duration": 15,
    "start_time": "2022-04-15T16:01:55.884Z"
   },
   {
    "duration": 9,
    "start_time": "2022-04-15T16:01:56.955Z"
   },
   {
    "duration": 7,
    "start_time": "2022-04-15T16:01:58.796Z"
   },
   {
    "duration": 17,
    "start_time": "2022-04-15T16:02:00.612Z"
   },
   {
    "duration": 16,
    "start_time": "2022-04-15T16:02:02.170Z"
   },
   {
    "duration": 9,
    "start_time": "2022-04-15T16:02:03.179Z"
   },
   {
    "duration": 8,
    "start_time": "2022-04-15T16:02:04.835Z"
   },
   {
    "duration": 45,
    "start_time": "2022-04-15T16:02:07.579Z"
   },
   {
    "duration": 56,
    "start_time": "2022-04-15T16:02:09.849Z"
   },
   {
    "duration": 7,
    "start_time": "2022-04-15T16:02:11.453Z"
   },
   {
    "duration": 13,
    "start_time": "2022-04-15T16:02:13.148Z"
   },
   {
    "duration": 7,
    "start_time": "2022-04-15T16:02:15.011Z"
   },
   {
    "duration": 65,
    "start_time": "2022-04-15T16:02:21.515Z"
   },
   {
    "duration": 12,
    "start_time": "2022-04-15T16:02:23.108Z"
   },
   {
    "duration": 77,
    "start_time": "2022-04-15T16:02:30.172Z"
   },
   {
    "duration": 14,
    "start_time": "2022-04-15T16:02:30.932Z"
   },
   {
    "duration": 16,
    "start_time": "2022-04-15T16:02:33.837Z"
   },
   {
    "duration": 2228,
    "start_time": "2022-04-15T16:02:36.532Z"
   },
   {
    "duration": 780,
    "start_time": "2022-04-15T16:04:38.970Z"
   },
   {
    "duration": 5,
    "start_time": "2022-04-15T16:07:59.822Z"
   },
   {
    "duration": 23,
    "start_time": "2022-04-15T16:08:10.709Z"
   },
   {
    "duration": 23,
    "start_time": "2022-04-15T16:08:14.853Z"
   },
   {
    "duration": 15,
    "start_time": "2022-04-15T16:15:00.992Z"
   },
   {
    "duration": 25,
    "start_time": "2022-04-15T16:15:02.598Z"
   },
   {
    "duration": 81,
    "start_time": "2022-04-15T16:15:07.030Z"
   },
   {
    "duration": 42,
    "start_time": "2022-04-15T16:15:08.574Z"
   },
   {
    "duration": 4,
    "start_time": "2022-04-15T16:15:10.862Z"
   },
   {
    "duration": 20,
    "start_time": "2022-04-15T16:15:12.316Z"
   },
   {
    "duration": 28,
    "start_time": "2022-04-15T16:15:14.645Z"
   },
   {
    "duration": 19,
    "start_time": "2022-04-15T16:15:16.244Z"
   },
   {
    "duration": 19,
    "start_time": "2022-04-15T16:15:18.365Z"
   },
   {
    "duration": 8,
    "start_time": "2022-04-15T16:15:21.157Z"
   },
   {
    "duration": 145,
    "start_time": "2022-04-15T16:38:34.172Z"
   },
   {
    "duration": 125,
    "start_time": "2022-04-15T16:38:54.189Z"
   },
   {
    "duration": 138,
    "start_time": "2022-04-15T16:39:29.070Z"
   },
   {
    "duration": 5,
    "start_time": "2022-04-15T16:43:22.563Z"
   },
   {
    "duration": 13,
    "start_time": "2022-04-15T16:43:39.939Z"
   },
   {
    "duration": 145,
    "start_time": "2022-04-15T16:44:00.037Z"
   },
   {
    "duration": 144,
    "start_time": "2022-04-15T16:46:24.448Z"
   },
   {
    "duration": 146,
    "start_time": "2022-04-15T16:46:34.816Z"
   },
   {
    "duration": 11,
    "start_time": "2022-04-15T16:51:08.960Z"
   },
   {
    "duration": 25,
    "start_time": "2022-04-15T16:51:23.494Z"
   },
   {
    "duration": 24,
    "start_time": "2022-04-15T16:51:35.225Z"
   },
   {
    "duration": 25,
    "start_time": "2022-04-15T16:51:38.254Z"
   },
   {
    "duration": 14,
    "start_time": "2022-04-15T16:53:04.142Z"
   },
   {
    "duration": 25,
    "start_time": "2022-04-15T16:53:11.721Z"
   },
   {
    "duration": 27,
    "start_time": "2022-04-15T16:54:06.819Z"
   },
   {
    "duration": 139,
    "start_time": "2022-04-15T16:57:27.161Z"
   },
   {
    "duration": 138,
    "start_time": "2022-04-15T16:57:37.836Z"
   },
   {
    "duration": 146,
    "start_time": "2022-04-15T16:57:46.350Z"
   },
   {
    "duration": 125,
    "start_time": "2022-04-15T16:58:29.274Z"
   },
   {
    "duration": 162,
    "start_time": "2022-04-15T16:59:05.394Z"
   },
   {
    "duration": 136,
    "start_time": "2022-04-15T16:59:21.194Z"
   },
   {
    "duration": 155,
    "start_time": "2022-04-15T16:59:49.083Z"
   },
   {
    "duration": 135,
    "start_time": "2022-04-15T17:00:34.387Z"
   },
   {
    "duration": 10,
    "start_time": "2022-04-15T17:00:45.939Z"
   },
   {
    "duration": 19,
    "start_time": "2022-04-15T17:01:14.299Z"
   },
   {
    "duration": 25,
    "start_time": "2022-04-15T17:01:21.284Z"
   },
   {
    "duration": 26,
    "start_time": "2022-04-15T17:01:47.085Z"
   },
   {
    "duration": 26,
    "start_time": "2022-04-15T17:02:09.758Z"
   },
   {
    "duration": 24,
    "start_time": "2022-04-15T17:02:16.942Z"
   },
   {
    "duration": 25,
    "start_time": "2022-04-15T17:02:28.958Z"
   },
   {
    "duration": 38,
    "start_time": "2022-04-15T17:04:05.561Z"
   },
   {
    "duration": 37,
    "start_time": "2022-04-15T17:04:29.993Z"
   },
   {
    "duration": 17,
    "start_time": "2022-04-15T17:04:41.969Z"
   },
   {
    "duration": 7,
    "start_time": "2022-04-15T17:05:00.562Z"
   },
   {
    "duration": 503,
    "start_time": "2022-04-15T17:05:01.785Z"
   },
   {
    "duration": 12,
    "start_time": "2022-04-15T17:05:04.819Z"
   },
   {
    "duration": 32,
    "start_time": "2022-04-15T17:05:06.570Z"
   },
   {
    "duration": 26,
    "start_time": "2022-04-15T17:05:07.474Z"
   },
   {
    "duration": 136,
    "start_time": "2022-04-15T17:05:09.258Z"
   },
   {
    "duration": 12,
    "start_time": "2022-04-15T17:05:11.106Z"
   },
   {
    "duration": 28,
    "start_time": "2022-04-15T17:05:12.626Z"
   },
   {
    "duration": 23,
    "start_time": "2022-04-15T17:05:13.890Z"
   },
   {
    "duration": 122,
    "start_time": "2022-04-15T17:05:15.033Z"
   },
   {
    "duration": 11,
    "start_time": "2022-04-15T17:05:17.313Z"
   },
   {
    "duration": 26,
    "start_time": "2022-04-15T17:05:19.058Z"
   },
   {
    "duration": 21,
    "start_time": "2022-04-15T17:05:21.035Z"
   },
   {
    "duration": 98,
    "start_time": "2022-04-15T17:05:21.746Z"
   },
   {
    "duration": 12,
    "start_time": "2022-04-15T17:05:23.858Z"
   },
   {
    "duration": 15,
    "start_time": "2022-04-15T17:05:25.498Z"
   },
   {
    "duration": 7,
    "start_time": "2022-04-15T17:05:26.826Z"
   },
   {
    "duration": 1553,
    "start_time": "2022-04-15T17:05:34.265Z"
   },
   {
    "duration": 513,
    "start_time": "2022-04-15T17:05:35.820Z"
   },
   {
    "duration": 18,
    "start_time": "2022-04-15T17:05:36.335Z"
   },
   {
    "duration": 34,
    "start_time": "2022-04-15T17:05:36.357Z"
   },
   {
    "duration": 48,
    "start_time": "2022-04-15T17:05:36.393Z"
   },
   {
    "duration": 174,
    "start_time": "2022-04-15T17:05:36.443Z"
   },
   {
    "duration": 13,
    "start_time": "2022-04-15T17:05:36.619Z"
   },
   {
    "duration": 30,
    "start_time": "2022-04-15T17:05:36.634Z"
   },
   {
    "duration": 23,
    "start_time": "2022-04-15T17:05:36.666Z"
   },
   {
    "duration": 129,
    "start_time": "2022-04-15T17:05:36.724Z"
   },
   {
    "duration": 11,
    "start_time": "2022-04-15T17:05:36.855Z"
   },
   {
    "duration": 28,
    "start_time": "2022-04-15T17:05:36.868Z"
   },
   {
    "duration": 35,
    "start_time": "2022-04-15T17:05:36.898Z"
   },
   {
    "duration": 89,
    "start_time": "2022-04-15T17:05:36.935Z"
   },
   {
    "duration": 13,
    "start_time": "2022-04-15T17:05:37.026Z"
   },
   {
    "duration": 18,
    "start_time": "2022-04-15T17:05:37.041Z"
   },
   {
    "duration": 14,
    "start_time": "2022-04-15T17:05:37.061Z"
   },
   {
    "duration": 10,
    "start_time": "2022-04-15T17:05:37.077Z"
   },
   {
    "duration": 47,
    "start_time": "2022-04-15T17:05:37.090Z"
   },
   {
    "duration": 23,
    "start_time": "2022-04-15T17:05:37.140Z"
   },
   {
    "duration": 63,
    "start_time": "2022-04-15T17:05:37.165Z"
   },
   {
    "duration": 20,
    "start_time": "2022-04-15T17:05:37.231Z"
   },
   {
    "duration": 56,
    "start_time": "2022-04-15T17:05:37.254Z"
   },
   {
    "duration": 62,
    "start_time": "2022-04-15T17:05:37.312Z"
   },
   {
    "duration": 8,
    "start_time": "2022-04-15T17:05:37.376Z"
   },
   {
    "duration": 41,
    "start_time": "2022-04-15T17:05:37.386Z"
   },
   {
    "duration": 8,
    "start_time": "2022-04-15T17:05:37.429Z"
   },
   {
    "duration": 520,
    "start_time": "2022-04-15T17:05:37.443Z"
   },
   {
    "duration": 70,
    "start_time": "2022-04-15T17:05:37.965Z"
   },
   {
    "duration": 13,
    "start_time": "2022-04-15T17:05:38.037Z"
   },
   {
    "duration": 490,
    "start_time": "2022-04-15T17:05:38.053Z"
   },
   {
    "duration": 87,
    "start_time": "2022-04-15T17:05:38.545Z"
   },
   {
    "duration": 14,
    "start_time": "2022-04-15T17:05:38.634Z"
   },
   {
    "duration": 501,
    "start_time": "2022-04-15T17:05:38.650Z"
   },
   {
    "duration": 15,
    "start_time": "2022-04-15T17:05:39.154Z"
   },
   {
    "duration": 15,
    "start_time": "2022-04-15T17:05:39.171Z"
   },
   {
    "duration": 46,
    "start_time": "2022-04-15T17:05:39.188Z"
   },
   {
    "duration": 31,
    "start_time": "2022-04-15T17:05:39.236Z"
   },
   {
    "duration": 101,
    "start_time": "2022-04-15T17:05:39.269Z"
   },
   {
    "duration": 56,
    "start_time": "2022-04-15T17:05:39.372Z"
   },
   {
    "duration": 4,
    "start_time": "2022-04-15T17:05:39.430Z"
   },
   {
    "duration": 49,
    "start_time": "2022-04-15T17:05:39.436Z"
   },
   {
    "duration": 46,
    "start_time": "2022-04-15T17:05:39.487Z"
   },
   {
    "duration": 71,
    "start_time": "2022-04-15T17:05:39.535Z"
   },
   {
    "duration": 23,
    "start_time": "2022-04-15T17:05:39.608Z"
   },
   {
    "duration": 17,
    "start_time": "2022-04-15T17:05:39.634Z"
   },
   {
    "duration": 57,
    "start_time": "2022-04-15T17:05:39.653Z"
   },
   {
    "duration": 168,
    "start_time": "2022-04-15T17:05:39.713Z"
   },
   {
    "duration": 0,
    "start_time": "2022-04-15T17:05:39.883Z"
   },
   {
    "duration": 0,
    "start_time": "2022-04-15T17:05:39.884Z"
   },
   {
    "duration": 0,
    "start_time": "2022-04-15T17:05:39.886Z"
   },
   {
    "duration": 0,
    "start_time": "2022-04-15T17:05:39.888Z"
   },
   {
    "duration": 0,
    "start_time": "2022-04-15T17:05:39.889Z"
   },
   {
    "duration": 0,
    "start_time": "2022-04-15T17:05:39.891Z"
   },
   {
    "duration": 0,
    "start_time": "2022-04-15T17:05:39.892Z"
   },
   {
    "duration": 0,
    "start_time": "2022-04-15T17:05:39.893Z"
   },
   {
    "duration": 0,
    "start_time": "2022-04-15T17:05:39.894Z"
   },
   {
    "duration": 0,
    "start_time": "2022-04-15T17:05:39.895Z"
   },
   {
    "duration": 0,
    "start_time": "2022-04-15T17:05:39.896Z"
   },
   {
    "duration": 0,
    "start_time": "2022-04-15T17:05:39.897Z"
   },
   {
    "duration": 0,
    "start_time": "2022-04-15T17:05:39.898Z"
   },
   {
    "duration": 0,
    "start_time": "2022-04-15T17:05:39.926Z"
   },
   {
    "duration": 0,
    "start_time": "2022-04-15T17:05:39.927Z"
   },
   {
    "duration": 0,
    "start_time": "2022-04-15T17:05:39.929Z"
   },
   {
    "duration": 0,
    "start_time": "2022-04-15T17:05:39.930Z"
   },
   {
    "duration": 0,
    "start_time": "2022-04-15T17:05:39.932Z"
   },
   {
    "duration": 26,
    "start_time": "2022-04-15T17:07:25.768Z"
   },
   {
    "duration": 33,
    "start_time": "2022-04-15T17:07:40.042Z"
   },
   {
    "duration": 33,
    "start_time": "2022-04-15T17:08:31.978Z"
   },
   {
    "duration": 1550,
    "start_time": "2022-04-15T17:08:41.027Z"
   },
   {
    "duration": 509,
    "start_time": "2022-04-15T17:08:42.580Z"
   },
   {
    "duration": 18,
    "start_time": "2022-04-15T17:08:43.091Z"
   },
   {
    "duration": 36,
    "start_time": "2022-04-15T17:08:43.112Z"
   },
   {
    "duration": 29,
    "start_time": "2022-04-15T17:08:43.150Z"
   },
   {
    "duration": 189,
    "start_time": "2022-04-15T17:08:43.182Z"
   },
   {
    "duration": 13,
    "start_time": "2022-04-15T17:08:43.373Z"
   },
   {
    "duration": 47,
    "start_time": "2022-04-15T17:08:43.389Z"
   },
   {
    "duration": 24,
    "start_time": "2022-04-15T17:08:43.439Z"
   },
   {
    "duration": 141,
    "start_time": "2022-04-15T17:08:43.467Z"
   },
   {
    "duration": 20,
    "start_time": "2022-04-15T17:08:43.610Z"
   },
   {
    "duration": 31,
    "start_time": "2022-04-15T17:08:43.633Z"
   },
   {
    "duration": 20,
    "start_time": "2022-04-15T17:08:43.666Z"
   },
   {
    "duration": 100,
    "start_time": "2022-04-15T17:08:43.688Z"
   },
   {
    "duration": 12,
    "start_time": "2022-04-15T17:08:43.791Z"
   },
   {
    "duration": 16,
    "start_time": "2022-04-15T17:08:43.824Z"
   },
   {
    "duration": 9,
    "start_time": "2022-04-15T17:08:43.843Z"
   },
   {
    "duration": 11,
    "start_time": "2022-04-15T17:08:43.854Z"
   },
   {
    "duration": 18,
    "start_time": "2022-04-15T17:08:43.867Z"
   },
   {
    "duration": 50,
    "start_time": "2022-04-15T17:08:43.887Z"
   },
   {
    "duration": 10,
    "start_time": "2022-04-15T17:08:43.940Z"
   },
   {
    "duration": 9,
    "start_time": "2022-04-15T17:08:43.952Z"
   },
   {
    "duration": 78,
    "start_time": "2022-04-15T17:08:43.963Z"
   },
   {
    "duration": 57,
    "start_time": "2022-04-15T17:08:44.043Z"
   },
   {
    "duration": 23,
    "start_time": "2022-04-15T17:08:44.102Z"
   },
   {
    "duration": 13,
    "start_time": "2022-04-15T17:08:44.127Z"
   },
   {
    "duration": 9,
    "start_time": "2022-04-15T17:08:44.142Z"
   },
   {
    "duration": 547,
    "start_time": "2022-04-15T17:08:44.157Z"
   },
   {
    "duration": 67,
    "start_time": "2022-04-15T17:08:44.706Z"
   },
   {
    "duration": 13,
    "start_time": "2022-04-15T17:08:44.775Z"
   },
   {
    "duration": 525,
    "start_time": "2022-04-15T17:08:44.790Z"
   },
   {
    "duration": 80,
    "start_time": "2022-04-15T17:08:45.318Z"
   },
   {
    "duration": 32,
    "start_time": "2022-04-15T17:08:45.400Z"
   },
   {
    "duration": 649,
    "start_time": "2022-04-15T17:08:45.434Z"
   },
   {
    "duration": 16,
    "start_time": "2022-04-15T17:08:46.085Z"
   },
   {
    "duration": 34,
    "start_time": "2022-04-15T17:08:46.103Z"
   },
   {
    "duration": 15,
    "start_time": "2022-04-15T17:08:46.140Z"
   },
   {
    "duration": 46,
    "start_time": "2022-04-15T17:08:46.157Z"
   },
   {
    "duration": 99,
    "start_time": "2022-04-15T17:08:46.205Z"
   },
   {
    "duration": 52,
    "start_time": "2022-04-15T17:08:46.306Z"
   },
   {
    "duration": 4,
    "start_time": "2022-04-15T17:08:46.360Z"
   },
   {
    "duration": 22,
    "start_time": "2022-04-15T17:08:46.366Z"
   },
   {
    "duration": 49,
    "start_time": "2022-04-15T17:08:46.391Z"
   },
   {
    "duration": 19,
    "start_time": "2022-04-15T17:08:46.442Z"
   },
   {
    "duration": 19,
    "start_time": "2022-04-15T17:08:46.463Z"
   },
   {
    "duration": 4,
    "start_time": "2022-04-15T17:08:46.485Z"
   },
   {
    "duration": 14,
    "start_time": "2022-04-15T17:08:46.525Z"
   },
   {
    "duration": 194,
    "start_time": "2022-04-15T17:08:46.541Z"
   },
   {
    "duration": 0,
    "start_time": "2022-04-15T17:08:46.737Z"
   },
   {
    "duration": 0,
    "start_time": "2022-04-15T17:08:46.739Z"
   },
   {
    "duration": 0,
    "start_time": "2022-04-15T17:08:46.740Z"
   },
   {
    "duration": 0,
    "start_time": "2022-04-15T17:08:46.741Z"
   },
   {
    "duration": 0,
    "start_time": "2022-04-15T17:08:46.743Z"
   },
   {
    "duration": 1,
    "start_time": "2022-04-15T17:08:46.744Z"
   },
   {
    "duration": 0,
    "start_time": "2022-04-15T17:08:46.746Z"
   },
   {
    "duration": 0,
    "start_time": "2022-04-15T17:08:46.748Z"
   },
   {
    "duration": 0,
    "start_time": "2022-04-15T17:08:46.749Z"
   },
   {
    "duration": 0,
    "start_time": "2022-04-15T17:08:46.751Z"
   },
   {
    "duration": 0,
    "start_time": "2022-04-15T17:08:46.752Z"
   },
   {
    "duration": 1,
    "start_time": "2022-04-15T17:08:46.753Z"
   },
   {
    "duration": 0,
    "start_time": "2022-04-15T17:08:46.755Z"
   },
   {
    "duration": 0,
    "start_time": "2022-04-15T17:08:46.757Z"
   },
   {
    "duration": 0,
    "start_time": "2022-04-15T17:08:46.758Z"
   },
   {
    "duration": 0,
    "start_time": "2022-04-15T17:08:46.759Z"
   },
   {
    "duration": 0,
    "start_time": "2022-04-15T17:08:46.761Z"
   },
   {
    "duration": 0,
    "start_time": "2022-04-15T17:08:46.763Z"
   },
   {
    "duration": 5,
    "start_time": "2022-04-15T17:10:56.307Z"
   },
   {
    "duration": 32,
    "start_time": "2022-04-15T17:11:01.289Z"
   },
   {
    "duration": 34,
    "start_time": "2022-04-15T17:11:23.666Z"
   },
   {
    "duration": 1563,
    "start_time": "2022-04-15T17:12:03.921Z"
   },
   {
    "duration": 499,
    "start_time": "2022-04-15T17:12:05.487Z"
   },
   {
    "duration": 18,
    "start_time": "2022-04-15T17:12:05.988Z"
   },
   {
    "duration": 39,
    "start_time": "2022-04-15T17:12:06.009Z"
   },
   {
    "duration": 27,
    "start_time": "2022-04-15T17:12:06.050Z"
   },
   {
    "duration": 180,
    "start_time": "2022-04-15T17:12:06.079Z"
   },
   {
    "duration": 13,
    "start_time": "2022-04-15T17:12:06.261Z"
   },
   {
    "duration": 52,
    "start_time": "2022-04-15T17:12:06.277Z"
   },
   {
    "duration": 25,
    "start_time": "2022-04-15T17:12:06.332Z"
   },
   {
    "duration": 146,
    "start_time": "2022-04-15T17:12:06.363Z"
   },
   {
    "duration": 21,
    "start_time": "2022-04-15T17:12:06.511Z"
   },
   {
    "duration": 45,
    "start_time": "2022-04-15T17:12:06.534Z"
   },
   {
    "duration": 24,
    "start_time": "2022-04-15T17:12:06.582Z"
   },
   {
    "duration": 82,
    "start_time": "2022-04-15T17:12:06.608Z"
   },
   {
    "duration": 12,
    "start_time": "2022-04-15T17:12:06.692Z"
   },
   {
    "duration": 27,
    "start_time": "2022-04-15T17:12:06.706Z"
   },
   {
    "duration": 29,
    "start_time": "2022-04-15T17:12:06.735Z"
   },
   {
    "duration": 24,
    "start_time": "2022-04-15T17:12:06.766Z"
   },
   {
    "duration": 27,
    "start_time": "2022-04-15T17:12:06.792Z"
   },
   {
    "duration": 30,
    "start_time": "2022-04-15T17:12:06.822Z"
   },
   {
    "duration": 10,
    "start_time": "2022-04-15T17:12:06.854Z"
   },
   {
    "duration": 11,
    "start_time": "2022-04-15T17:12:06.866Z"
   },
   {
    "duration": 64,
    "start_time": "2022-04-15T17:12:06.879Z"
   },
   {
    "duration": 55,
    "start_time": "2022-04-15T17:12:06.946Z"
   },
   {
    "duration": 7,
    "start_time": "2022-04-15T17:12:07.003Z"
   },
   {
    "duration": 14,
    "start_time": "2022-04-15T17:12:07.024Z"
   },
   {
    "duration": 15,
    "start_time": "2022-04-15T17:12:07.040Z"
   },
   {
    "duration": 569,
    "start_time": "2022-04-15T17:12:07.061Z"
   },
   {
    "duration": 62,
    "start_time": "2022-04-15T17:12:07.633Z"
   },
   {
    "duration": 30,
    "start_time": "2022-04-15T17:12:07.697Z"
   },
   {
    "duration": 520,
    "start_time": "2022-04-15T17:12:07.729Z"
   },
   {
    "duration": 87,
    "start_time": "2022-04-15T17:12:08.251Z"
   },
   {
    "duration": 15,
    "start_time": "2022-04-15T17:12:08.340Z"
   },
   {
    "duration": 525,
    "start_time": "2022-04-15T17:12:08.358Z"
   },
   {
    "duration": 16,
    "start_time": "2022-04-15T17:12:08.885Z"
   },
   {
    "duration": 33,
    "start_time": "2022-04-15T17:12:08.904Z"
   },
   {
    "duration": 14,
    "start_time": "2022-04-15T17:12:08.939Z"
   },
   {
    "duration": 38,
    "start_time": "2022-04-15T17:12:08.955Z"
   },
   {
    "duration": 107,
    "start_time": "2022-04-15T17:12:08.995Z"
   },
   {
    "duration": 50,
    "start_time": "2022-04-15T17:12:09.104Z"
   },
   {
    "duration": 5,
    "start_time": "2022-04-15T17:12:09.156Z"
   },
   {
    "duration": 31,
    "start_time": "2022-04-15T17:12:09.163Z"
   },
   {
    "duration": 41,
    "start_time": "2022-04-15T17:12:09.197Z"
   },
   {
    "duration": 17,
    "start_time": "2022-04-15T17:12:09.240Z"
   },
   {
    "duration": 30,
    "start_time": "2022-04-15T17:12:09.260Z"
   },
   {
    "duration": 4,
    "start_time": "2022-04-15T17:12:09.293Z"
   },
   {
    "duration": 51,
    "start_time": "2022-04-15T17:12:09.299Z"
   },
   {
    "duration": 38,
    "start_time": "2022-04-15T17:12:09.353Z"
   },
   {
    "duration": 3,
    "start_time": "2022-04-15T17:12:09.394Z"
   },
   {
    "duration": 38,
    "start_time": "2022-04-15T17:12:09.400Z"
   },
   {
    "duration": 33,
    "start_time": "2022-04-15T17:12:09.441Z"
   },
   {
    "duration": 2437,
    "start_time": "2022-04-15T17:12:09.477Z"
   },
   {
    "duration": 0,
    "start_time": "2022-04-15T17:12:11.916Z"
   },
   {
    "duration": 0,
    "start_time": "2022-04-15T17:12:11.918Z"
   },
   {
    "duration": 0,
    "start_time": "2022-04-15T17:12:11.920Z"
   },
   {
    "duration": 0,
    "start_time": "2022-04-15T17:12:11.922Z"
   },
   {
    "duration": 0,
    "start_time": "2022-04-15T17:12:11.923Z"
   },
   {
    "duration": 0,
    "start_time": "2022-04-15T17:12:11.925Z"
   },
   {
    "duration": 0,
    "start_time": "2022-04-15T17:12:11.926Z"
   },
   {
    "duration": 0,
    "start_time": "2022-04-15T17:12:11.928Z"
   },
   {
    "duration": 0,
    "start_time": "2022-04-15T17:12:11.930Z"
   },
   {
    "duration": 0,
    "start_time": "2022-04-15T17:12:11.931Z"
   },
   {
    "duration": 0,
    "start_time": "2022-04-15T17:12:11.933Z"
   },
   {
    "duration": 0,
    "start_time": "2022-04-15T17:12:11.934Z"
   },
   {
    "duration": 0,
    "start_time": "2022-04-15T17:12:11.936Z"
   },
   {
    "duration": 0,
    "start_time": "2022-04-15T17:12:11.938Z"
   },
   {
    "duration": 7,
    "start_time": "2022-04-15T17:15:37.023Z"
   },
   {
    "duration": 6,
    "start_time": "2022-04-15T17:17:58.947Z"
   },
   {
    "duration": 348,
    "start_time": "2022-04-15T17:26:33.247Z"
   },
   {
    "duration": 398,
    "start_time": "2022-04-15T17:26:52.858Z"
   },
   {
    "duration": 1202,
    "start_time": "2022-04-15T17:34:55.442Z"
   },
   {
    "duration": 12,
    "start_time": "2022-04-15T17:35:45.608Z"
   },
   {
    "duration": 595,
    "start_time": "2022-04-15T17:38:44.253Z"
   },
   {
    "duration": 7,
    "start_time": "2022-04-15T17:43:19.389Z"
   },
   {
    "duration": 1147,
    "start_time": "2022-04-15T17:43:21.738Z"
   },
   {
    "duration": 137,
    "start_time": "2022-04-15T17:47:29.240Z"
   },
   {
    "duration": 137,
    "start_time": "2022-04-15T17:47:38.414Z"
   },
   {
    "duration": 209,
    "start_time": "2022-04-15T17:47:46.086Z"
   },
   {
    "duration": 1097,
    "start_time": "2022-04-15T17:49:49.723Z"
   },
   {
    "duration": 2023,
    "start_time": "2022-04-15T17:52:26.670Z"
   },
   {
    "duration": 28,
    "start_time": "2022-04-15T17:53:04.774Z"
   },
   {
    "duration": 28,
    "start_time": "2022-04-15T17:53:38.576Z"
   },
   {
    "duration": 756,
    "start_time": "2022-04-15T18:04:05.651Z"
   },
   {
    "duration": 2184,
    "start_time": "2022-04-15T18:04:19.345Z"
   },
   {
    "duration": 852,
    "start_time": "2022-04-15T18:04:21.533Z"
   },
   {
    "duration": 24,
    "start_time": "2022-04-15T18:04:22.388Z"
   },
   {
    "duration": 76,
    "start_time": "2022-04-15T18:04:22.415Z"
   },
   {
    "duration": 41,
    "start_time": "2022-04-15T18:04:22.494Z"
   },
   {
    "duration": 222,
    "start_time": "2022-04-15T18:04:22.540Z"
   },
   {
    "duration": 16,
    "start_time": "2022-04-15T18:04:22.769Z"
   },
   {
    "duration": 72,
    "start_time": "2022-04-15T18:04:22.787Z"
   },
   {
    "duration": 35,
    "start_time": "2022-04-15T18:04:22.862Z"
   },
   {
    "duration": 178,
    "start_time": "2022-04-15T18:04:22.900Z"
   },
   {
    "duration": 13,
    "start_time": "2022-04-15T18:04:23.081Z"
   },
   {
    "duration": 68,
    "start_time": "2022-04-15T18:04:23.097Z"
   },
   {
    "duration": 44,
    "start_time": "2022-04-15T18:04:23.168Z"
   },
   {
    "duration": 129,
    "start_time": "2022-04-15T18:04:23.217Z"
   },
   {
    "duration": 20,
    "start_time": "2022-04-15T18:04:23.350Z"
   },
   {
    "duration": 41,
    "start_time": "2022-04-15T18:04:23.374Z"
   },
   {
    "duration": 28,
    "start_time": "2022-04-15T18:04:23.418Z"
   },
   {
    "duration": 56,
    "start_time": "2022-04-15T18:04:23.449Z"
   },
   {
    "duration": 23,
    "start_time": "2022-04-15T18:04:23.509Z"
   },
   {
    "duration": 79,
    "start_time": "2022-04-15T18:04:23.534Z"
   },
   {
    "duration": 30,
    "start_time": "2022-04-15T18:04:23.615Z"
   },
   {
    "duration": 58,
    "start_time": "2022-04-15T18:04:23.648Z"
   },
   {
    "duration": 91,
    "start_time": "2022-04-15T18:04:23.708Z"
   },
   {
    "duration": 100,
    "start_time": "2022-04-15T18:04:23.802Z"
   },
   {
    "duration": 7,
    "start_time": "2022-04-15T18:04:23.904Z"
   },
   {
    "duration": 22,
    "start_time": "2022-04-15T18:04:23.914Z"
   },
   {
    "duration": 65,
    "start_time": "2022-04-15T18:04:23.938Z"
   },
   {
    "duration": 754,
    "start_time": "2022-04-15T18:04:24.005Z"
   },
   {
    "duration": 97,
    "start_time": "2022-04-15T18:04:24.765Z"
   },
   {
    "duration": 21,
    "start_time": "2022-04-15T18:04:24.865Z"
   },
   {
    "duration": 613,
    "start_time": "2022-04-15T18:04:24.889Z"
   },
   {
    "duration": 98,
    "start_time": "2022-04-15T18:04:25.505Z"
   },
   {
    "duration": 29,
    "start_time": "2022-04-15T18:04:25.605Z"
   },
   {
    "duration": 640,
    "start_time": "2022-04-15T18:04:25.638Z"
   },
   {
    "duration": 24,
    "start_time": "2022-04-15T18:04:26.281Z"
   },
   {
    "duration": 46,
    "start_time": "2022-04-15T18:04:26.308Z"
   },
   {
    "duration": 36,
    "start_time": "2022-04-15T18:04:26.357Z"
   },
   {
    "duration": 41,
    "start_time": "2022-04-15T18:04:26.396Z"
   },
   {
    "duration": 145,
    "start_time": "2022-04-15T18:04:26.441Z"
   },
   {
    "duration": 49,
    "start_time": "2022-04-15T18:04:26.589Z"
   },
   {
    "duration": 5,
    "start_time": "2022-04-15T18:04:26.649Z"
   },
   {
    "duration": 48,
    "start_time": "2022-04-15T18:04:26.657Z"
   },
   {
    "duration": 48,
    "start_time": "2022-04-15T18:04:26.707Z"
   },
   {
    "duration": 42,
    "start_time": "2022-04-15T18:04:26.758Z"
   },
   {
    "duration": 24,
    "start_time": "2022-04-15T18:04:26.803Z"
   },
   {
    "duration": 6,
    "start_time": "2022-04-15T18:04:26.830Z"
   },
   {
    "duration": 69,
    "start_time": "2022-04-15T18:04:26.839Z"
   },
   {
    "duration": 34,
    "start_time": "2022-04-15T18:04:26.910Z"
   },
   {
    "duration": 9,
    "start_time": "2022-04-15T18:04:26.947Z"
   },
   {
    "duration": 965,
    "start_time": "2022-04-15T18:04:26.959Z"
   },
   {
    "duration": 0,
    "start_time": "2022-04-15T18:04:27.933Z"
   },
   {
    "duration": 0,
    "start_time": "2022-04-15T18:04:27.936Z"
   },
   {
    "duration": 0,
    "start_time": "2022-04-15T18:04:27.938Z"
   },
   {
    "duration": 0,
    "start_time": "2022-04-15T18:04:27.940Z"
   },
   {
    "duration": 0,
    "start_time": "2022-04-15T18:04:27.948Z"
   },
   {
    "duration": 1,
    "start_time": "2022-04-15T18:04:27.950Z"
   },
   {
    "duration": 0,
    "start_time": "2022-04-15T18:04:27.953Z"
   },
   {
    "duration": 0,
    "start_time": "2022-04-15T18:04:27.956Z"
   },
   {
    "duration": 0,
    "start_time": "2022-04-15T18:04:27.960Z"
   },
   {
    "duration": 0,
    "start_time": "2022-04-15T18:04:27.966Z"
   },
   {
    "duration": 0,
    "start_time": "2022-04-15T18:04:27.973Z"
   },
   {
    "duration": 0,
    "start_time": "2022-04-15T18:04:27.978Z"
   },
   {
    "duration": 0,
    "start_time": "2022-04-15T18:04:27.981Z"
   },
   {
    "duration": 798,
    "start_time": "2022-04-15T18:05:36.509Z"
   },
   {
    "duration": 793,
    "start_time": "2022-04-15T18:05:57.717Z"
   },
   {
    "duration": 6,
    "start_time": "2022-04-15T18:06:23.382Z"
   },
   {
    "duration": 982,
    "start_time": "2022-04-15T18:06:30.979Z"
   },
   {
    "duration": 862,
    "start_time": "2022-04-15T18:06:41.806Z"
   },
   {
    "duration": 763,
    "start_time": "2022-04-15T18:07:10.164Z"
   },
   {
    "duration": 7,
    "start_time": "2022-04-15T18:16:17.376Z"
   },
   {
    "duration": 920,
    "start_time": "2022-04-15T18:16:19.709Z"
   },
   {
    "duration": 7,
    "start_time": "2022-04-15T18:18:43.003Z"
   },
   {
    "duration": 548,
    "start_time": "2022-04-15T18:19:41.154Z"
   },
   {
    "duration": 1702,
    "start_time": "2022-04-15T18:19:52.717Z"
   },
   {
    "duration": 559,
    "start_time": "2022-04-15T18:19:54.422Z"
   },
   {
    "duration": 18,
    "start_time": "2022-04-15T18:19:54.984Z"
   },
   {
    "duration": 68,
    "start_time": "2022-04-15T18:19:55.007Z"
   },
   {
    "duration": 31,
    "start_time": "2022-04-15T18:19:55.079Z"
   },
   {
    "duration": 173,
    "start_time": "2022-04-15T18:19:55.125Z"
   },
   {
    "duration": 24,
    "start_time": "2022-04-15T18:19:55.300Z"
   },
   {
    "duration": 46,
    "start_time": "2022-04-15T18:19:55.327Z"
   },
   {
    "duration": 49,
    "start_time": "2022-04-15T18:19:55.377Z"
   },
   {
    "duration": 139,
    "start_time": "2022-04-15T18:19:55.430Z"
   },
   {
    "duration": 13,
    "start_time": "2022-04-15T18:19:55.572Z"
   },
   {
    "duration": 50,
    "start_time": "2022-04-15T18:19:55.587Z"
   },
   {
    "duration": 21,
    "start_time": "2022-04-15T18:19:55.640Z"
   },
   {
    "duration": 95,
    "start_time": "2022-04-15T18:19:55.663Z"
   },
   {
    "duration": 13,
    "start_time": "2022-04-15T18:19:55.760Z"
   },
   {
    "duration": 18,
    "start_time": "2022-04-15T18:19:55.775Z"
   },
   {
    "duration": 10,
    "start_time": "2022-04-15T18:19:55.824Z"
   },
   {
    "duration": 11,
    "start_time": "2022-04-15T18:19:55.837Z"
   },
   {
    "duration": 28,
    "start_time": "2022-04-15T18:19:55.851Z"
   },
   {
    "duration": 53,
    "start_time": "2022-04-15T18:19:55.881Z"
   },
   {
    "duration": 10,
    "start_time": "2022-04-15T18:19:55.937Z"
   },
   {
    "duration": 14,
    "start_time": "2022-04-15T18:19:55.950Z"
   },
   {
    "duration": 76,
    "start_time": "2022-04-15T18:19:55.966Z"
   },
   {
    "duration": 56,
    "start_time": "2022-04-15T18:19:56.045Z"
   },
   {
    "duration": 24,
    "start_time": "2022-04-15T18:19:56.103Z"
   },
   {
    "duration": 18,
    "start_time": "2022-04-15T18:19:56.130Z"
   },
   {
    "duration": 19,
    "start_time": "2022-04-15T18:19:56.151Z"
   },
   {
    "duration": 559,
    "start_time": "2022-04-15T18:19:56.176Z"
   },
   {
    "duration": 64,
    "start_time": "2022-04-15T18:19:56.738Z"
   },
   {
    "duration": 33,
    "start_time": "2022-04-15T18:19:56.804Z"
   },
   {
    "duration": 494,
    "start_time": "2022-04-15T18:19:56.840Z"
   },
   {
    "duration": 131,
    "start_time": "2022-04-15T18:19:57.337Z"
   },
   {
    "duration": 22,
    "start_time": "2022-04-15T18:19:57.471Z"
   },
   {
    "duration": 742,
    "start_time": "2022-04-15T18:19:57.495Z"
   },
   {
    "duration": 17,
    "start_time": "2022-04-15T18:19:58.240Z"
   },
   {
    "duration": 18,
    "start_time": "2022-04-15T18:19:58.259Z"
   },
   {
    "duration": 48,
    "start_time": "2022-04-15T18:19:58.280Z"
   },
   {
    "duration": 41,
    "start_time": "2022-04-15T18:19:58.330Z"
   },
   {
    "duration": 101,
    "start_time": "2022-04-15T18:19:58.373Z"
   },
   {
    "duration": 57,
    "start_time": "2022-04-15T18:19:58.476Z"
   },
   {
    "duration": 5,
    "start_time": "2022-04-15T18:19:58.535Z"
   },
   {
    "duration": 26,
    "start_time": "2022-04-15T18:19:58.542Z"
   },
   {
    "duration": 28,
    "start_time": "2022-04-15T18:19:58.570Z"
   },
   {
    "duration": 19,
    "start_time": "2022-04-15T18:19:58.625Z"
   },
   {
    "duration": 19,
    "start_time": "2022-04-15T18:19:58.646Z"
   },
   {
    "duration": 4,
    "start_time": "2022-04-15T18:19:58.668Z"
   },
   {
    "duration": 52,
    "start_time": "2022-04-15T18:19:58.674Z"
   },
   {
    "duration": 27,
    "start_time": "2022-04-15T18:19:58.728Z"
   },
   {
    "duration": 6,
    "start_time": "2022-04-15T18:19:58.757Z"
   },
   {
    "duration": 776,
    "start_time": "2022-04-15T18:19:58.766Z"
   },
   {
    "duration": 0,
    "start_time": "2022-04-15T18:19:59.544Z"
   },
   {
    "duration": 0,
    "start_time": "2022-04-15T18:19:59.546Z"
   },
   {
    "duration": 0,
    "start_time": "2022-04-15T18:19:59.549Z"
   },
   {
    "duration": 0,
    "start_time": "2022-04-15T18:19:59.551Z"
   },
   {
    "duration": 0,
    "start_time": "2022-04-15T18:19:59.554Z"
   },
   {
    "duration": 0,
    "start_time": "2022-04-15T18:19:59.558Z"
   },
   {
    "duration": 0,
    "start_time": "2022-04-15T18:19:59.560Z"
   },
   {
    "duration": 0,
    "start_time": "2022-04-15T18:19:59.563Z"
   },
   {
    "duration": 0,
    "start_time": "2022-04-15T18:19:59.566Z"
   },
   {
    "duration": 0,
    "start_time": "2022-04-15T18:19:59.568Z"
   },
   {
    "duration": 0,
    "start_time": "2022-04-15T18:19:59.571Z"
   },
   {
    "duration": 0,
    "start_time": "2022-04-15T18:19:59.574Z"
   },
   {
    "duration": 0,
    "start_time": "2022-04-15T18:19:59.577Z"
   },
   {
    "duration": 657,
    "start_time": "2022-04-15T18:21:16.853Z"
   },
   {
    "duration": 545,
    "start_time": "2022-04-15T18:21:25.021Z"
   },
   {
    "duration": 8,
    "start_time": "2022-04-15T18:22:01.686Z"
   },
   {
    "duration": 551,
    "start_time": "2022-04-15T18:22:03.653Z"
   },
   {
    "duration": 6,
    "start_time": "2022-04-15T18:22:45.446Z"
   },
   {
    "duration": 43,
    "start_time": "2022-04-15T18:36:00.635Z"
   },
   {
    "duration": 47,
    "start_time": "2022-04-15T18:36:46.491Z"
   },
   {
    "duration": 41,
    "start_time": "2022-04-15T18:37:00.108Z"
   },
   {
    "duration": 1575,
    "start_time": "2022-04-15T18:38:27.418Z"
   },
   {
    "duration": 524,
    "start_time": "2022-04-15T18:38:28.996Z"
   },
   {
    "duration": 18,
    "start_time": "2022-04-15T18:38:29.522Z"
   },
   {
    "duration": 35,
    "start_time": "2022-04-15T18:38:29.544Z"
   },
   {
    "duration": 59,
    "start_time": "2022-04-15T18:38:29.582Z"
   },
   {
    "duration": 180,
    "start_time": "2022-04-15T18:38:29.644Z"
   },
   {
    "duration": 14,
    "start_time": "2022-04-15T18:38:29.827Z"
   },
   {
    "duration": 38,
    "start_time": "2022-04-15T18:38:29.844Z"
   },
   {
    "duration": 45,
    "start_time": "2022-04-15T18:38:29.885Z"
   },
   {
    "duration": 144,
    "start_time": "2022-04-15T18:38:29.934Z"
   },
   {
    "duration": 12,
    "start_time": "2022-04-15T18:38:30.081Z"
   },
   {
    "duration": 51,
    "start_time": "2022-04-15T18:38:30.095Z"
   },
   {
    "duration": 28,
    "start_time": "2022-04-15T18:38:30.149Z"
   },
   {
    "duration": 102,
    "start_time": "2022-04-15T18:38:30.181Z"
   },
   {
    "duration": 15,
    "start_time": "2022-04-15T18:38:30.286Z"
   },
   {
    "duration": 47,
    "start_time": "2022-04-15T18:38:30.304Z"
   },
   {
    "duration": 31,
    "start_time": "2022-04-15T18:38:30.354Z"
   },
   {
    "duration": 18,
    "start_time": "2022-04-15T18:38:30.388Z"
   },
   {
    "duration": 30,
    "start_time": "2022-04-15T18:38:30.409Z"
   },
   {
    "duration": 39,
    "start_time": "2022-04-15T18:38:30.441Z"
   },
   {
    "duration": 19,
    "start_time": "2022-04-15T18:38:30.483Z"
   },
   {
    "duration": 12,
    "start_time": "2022-04-15T18:38:30.505Z"
   },
   {
    "duration": 53,
    "start_time": "2022-04-15T18:38:30.520Z"
   },
   {
    "duration": 72,
    "start_time": "2022-04-15T18:38:30.575Z"
   },
   {
    "duration": 7,
    "start_time": "2022-04-15T18:38:30.650Z"
   },
   {
    "duration": 23,
    "start_time": "2022-04-15T18:38:30.660Z"
   },
   {
    "duration": 17,
    "start_time": "2022-04-15T18:38:30.685Z"
   },
   {
    "duration": 593,
    "start_time": "2022-04-15T18:38:30.708Z"
   },
   {
    "duration": 102,
    "start_time": "2022-04-15T18:38:31.303Z"
   },
   {
    "duration": 29,
    "start_time": "2022-04-15T18:38:31.409Z"
   },
   {
    "duration": 776,
    "start_time": "2022-04-15T18:38:31.441Z"
   },
   {
    "duration": 74,
    "start_time": "2022-04-15T18:38:32.224Z"
   },
   {
    "duration": 31,
    "start_time": "2022-04-15T18:38:32.301Z"
   },
   {
    "duration": 525,
    "start_time": "2022-04-15T18:38:32.335Z"
   },
   {
    "duration": 16,
    "start_time": "2022-04-15T18:38:32.862Z"
   },
   {
    "duration": 22,
    "start_time": "2022-04-15T18:38:32.880Z"
   },
   {
    "duration": 16,
    "start_time": "2022-04-15T18:38:32.924Z"
   },
   {
    "duration": 50,
    "start_time": "2022-04-15T18:38:32.943Z"
   },
   {
    "duration": 91,
    "start_time": "2022-04-15T18:38:32.996Z"
   },
   {
    "duration": 55,
    "start_time": "2022-04-15T18:38:33.090Z"
   },
   {
    "duration": 4,
    "start_time": "2022-04-15T18:38:33.148Z"
   },
   {
    "duration": 19,
    "start_time": "2022-04-15T18:38:33.155Z"
   },
   {
    "duration": 56,
    "start_time": "2022-04-15T18:38:33.176Z"
   },
   {
    "duration": 17,
    "start_time": "2022-04-15T18:38:33.234Z"
   },
   {
    "duration": 40,
    "start_time": "2022-04-15T18:38:33.253Z"
   },
   {
    "duration": 28,
    "start_time": "2022-04-15T18:38:33.296Z"
   },
   {
    "duration": 49,
    "start_time": "2022-04-15T18:38:33.327Z"
   },
   {
    "duration": 13,
    "start_time": "2022-04-15T18:38:33.379Z"
   },
   {
    "duration": 30,
    "start_time": "2022-04-15T18:38:33.395Z"
   },
   {
    "duration": 684,
    "start_time": "2022-04-15T18:38:33.427Z"
   },
   {
    "duration": 0,
    "start_time": "2022-04-15T18:38:34.114Z"
   },
   {
    "duration": 0,
    "start_time": "2022-04-15T18:38:34.116Z"
   },
   {
    "duration": 0,
    "start_time": "2022-04-15T18:38:34.118Z"
   },
   {
    "duration": 0,
    "start_time": "2022-04-15T18:38:34.121Z"
   },
   {
    "duration": 0,
    "start_time": "2022-04-15T18:38:34.122Z"
   },
   {
    "duration": 0,
    "start_time": "2022-04-15T18:38:34.125Z"
   },
   {
    "duration": 0,
    "start_time": "2022-04-15T18:38:34.127Z"
   },
   {
    "duration": 0,
    "start_time": "2022-04-15T18:38:34.130Z"
   },
   {
    "duration": 0,
    "start_time": "2022-04-15T18:38:34.132Z"
   },
   {
    "duration": 0,
    "start_time": "2022-04-15T18:38:34.134Z"
   },
   {
    "duration": 0,
    "start_time": "2022-04-15T18:38:34.136Z"
   },
   {
    "duration": 0,
    "start_time": "2022-04-15T18:38:34.138Z"
   },
   {
    "duration": 0,
    "start_time": "2022-04-15T18:38:34.140Z"
   },
   {
    "duration": 11,
    "start_time": "2022-04-15T18:39:55.510Z"
   },
   {
    "duration": 283,
    "start_time": "2022-04-15T18:41:36.655Z"
   },
   {
    "duration": 294,
    "start_time": "2022-04-15T18:41:48.808Z"
   },
   {
    "duration": 300,
    "start_time": "2022-04-15T18:41:56.040Z"
   },
   {
    "duration": 306,
    "start_time": "2022-04-15T18:42:06.113Z"
   },
   {
    "duration": 8,
    "start_time": "2022-04-15T18:42:20.153Z"
   },
   {
    "duration": 405,
    "start_time": "2022-04-15T18:42:21.250Z"
   },
   {
    "duration": 270,
    "start_time": "2022-04-15T18:42:52.939Z"
   },
   {
    "duration": 35,
    "start_time": "2022-04-15T18:45:32.173Z"
   },
   {
    "duration": 2134,
    "start_time": "2022-04-15T18:46:52.395Z"
   },
   {
    "duration": 35,
    "start_time": "2022-04-15T18:47:39.984Z"
   },
   {
    "duration": 1628,
    "start_time": "2022-04-15T18:47:59.108Z"
   },
   {
    "duration": 803,
    "start_time": "2022-04-15T18:48:00.740Z"
   },
   {
    "duration": 26,
    "start_time": "2022-04-15T18:48:01.548Z"
   },
   {
    "duration": 46,
    "start_time": "2022-04-15T18:48:01.579Z"
   },
   {
    "duration": 28,
    "start_time": "2022-04-15T18:48:01.627Z"
   },
   {
    "duration": 181,
    "start_time": "2022-04-15T18:48:01.658Z"
   },
   {
    "duration": 14,
    "start_time": "2022-04-15T18:48:01.842Z"
   },
   {
    "duration": 111,
    "start_time": "2022-04-15T18:48:01.858Z"
   },
   {
    "duration": 24,
    "start_time": "2022-04-15T18:48:01.971Z"
   },
   {
    "duration": 130,
    "start_time": "2022-04-15T18:48:01.999Z"
   },
   {
    "duration": 11,
    "start_time": "2022-04-15T18:48:02.132Z"
   },
   {
    "duration": 120,
    "start_time": "2022-04-15T18:48:02.145Z"
   },
   {
    "duration": 29,
    "start_time": "2022-04-15T18:48:02.267Z"
   },
   {
    "duration": 76,
    "start_time": "2022-04-15T18:48:02.298Z"
   },
   {
    "duration": 12,
    "start_time": "2022-04-15T18:48:02.377Z"
   },
   {
    "duration": 41,
    "start_time": "2022-04-15T18:48:02.391Z"
   },
   {
    "duration": 35,
    "start_time": "2022-04-15T18:48:02.434Z"
   },
   {
    "duration": 35,
    "start_time": "2022-04-15T18:48:02.471Z"
   },
   {
    "duration": 25,
    "start_time": "2022-04-15T18:48:02.508Z"
   },
   {
    "duration": 37,
    "start_time": "2022-04-15T18:48:02.535Z"
   },
   {
    "duration": 23,
    "start_time": "2022-04-15T18:48:02.574Z"
   },
   {
    "duration": 22,
    "start_time": "2022-04-15T18:48:02.599Z"
   },
   {
    "duration": 61,
    "start_time": "2022-04-15T18:48:02.623Z"
   },
   {
    "duration": 55,
    "start_time": "2022-04-15T18:48:02.686Z"
   },
   {
    "duration": 7,
    "start_time": "2022-04-15T18:48:02.743Z"
   },
   {
    "duration": 15,
    "start_time": "2022-04-15T18:48:02.752Z"
   },
   {
    "duration": 7,
    "start_time": "2022-04-15T18:48:02.769Z"
   },
   {
    "duration": 549,
    "start_time": "2022-04-15T18:48:02.781Z"
   },
   {
    "duration": 65,
    "start_time": "2022-04-15T18:48:03.332Z"
   },
   {
    "duration": 29,
    "start_time": "2022-04-15T18:48:03.399Z"
   },
   {
    "duration": 511,
    "start_time": "2022-04-15T18:48:03.430Z"
   },
   {
    "duration": 92,
    "start_time": "2022-04-15T18:48:03.943Z"
   },
   {
    "duration": 15,
    "start_time": "2022-04-15T18:48:04.038Z"
   },
   {
    "duration": 505,
    "start_time": "2022-04-15T18:48:04.055Z"
   },
   {
    "duration": 15,
    "start_time": "2022-04-15T18:48:04.563Z"
   },
   {
    "duration": 16,
    "start_time": "2022-04-15T18:48:04.580Z"
   },
   {
    "duration": 36,
    "start_time": "2022-04-15T18:48:04.598Z"
   },
   {
    "duration": 36,
    "start_time": "2022-04-15T18:48:04.636Z"
   },
   {
    "duration": 99,
    "start_time": "2022-04-15T18:48:04.674Z"
   },
   {
    "duration": 55,
    "start_time": "2022-04-15T18:48:04.776Z"
   },
   {
    "duration": 4,
    "start_time": "2022-04-15T18:48:04.834Z"
   },
   {
    "duration": 65,
    "start_time": "2022-04-15T18:48:04.841Z"
   },
   {
    "duration": 40,
    "start_time": "2022-04-15T18:48:04.908Z"
   },
   {
    "duration": 25,
    "start_time": "2022-04-15T18:48:04.950Z"
   },
   {
    "duration": 19,
    "start_time": "2022-04-15T18:48:04.977Z"
   },
   {
    "duration": 38,
    "start_time": "2022-04-15T18:48:04.998Z"
   },
   {
    "duration": 37,
    "start_time": "2022-04-15T18:48:05.038Z"
   },
   {
    "duration": 9,
    "start_time": "2022-04-15T18:48:05.077Z"
   },
   {
    "duration": 322,
    "start_time": "2022-04-15T18:48:05.089Z"
   },
   {
    "duration": 12,
    "start_time": "2022-04-15T18:48:05.413Z"
   },
   {
    "duration": 699,
    "start_time": "2022-04-15T18:48:05.427Z"
   },
   {
    "duration": 0,
    "start_time": "2022-04-15T18:48:06.129Z"
   },
   {
    "duration": 0,
    "start_time": "2022-04-15T18:48:06.131Z"
   },
   {
    "duration": 0,
    "start_time": "2022-04-15T18:48:06.132Z"
   },
   {
    "duration": 0,
    "start_time": "2022-04-15T18:48:06.134Z"
   },
   {
    "duration": 0,
    "start_time": "2022-04-15T18:48:06.135Z"
   },
   {
    "duration": 0,
    "start_time": "2022-04-15T18:48:06.136Z"
   },
   {
    "duration": 0,
    "start_time": "2022-04-15T18:48:06.138Z"
   },
   {
    "duration": 0,
    "start_time": "2022-04-15T18:48:06.140Z"
   },
   {
    "duration": 0,
    "start_time": "2022-04-15T18:48:06.141Z"
   },
   {
    "duration": 0,
    "start_time": "2022-04-15T18:48:06.143Z"
   },
   {
    "duration": 0,
    "start_time": "2022-04-15T18:48:06.144Z"
   },
   {
    "duration": 0,
    "start_time": "2022-04-15T18:48:06.146Z"
   },
   {
    "duration": 0,
    "start_time": "2022-04-15T18:48:06.147Z"
   },
   {
    "duration": 38,
    "start_time": "2022-04-15T18:48:41.400Z"
   },
   {
    "duration": 34,
    "start_time": "2022-04-15T18:48:57.770Z"
   },
   {
    "duration": 1638,
    "start_time": "2022-04-15T18:49:41.291Z"
   },
   {
    "duration": 514,
    "start_time": "2022-04-15T18:49:42.932Z"
   },
   {
    "duration": 20,
    "start_time": "2022-04-15T18:49:43.448Z"
   },
   {
    "duration": 46,
    "start_time": "2022-04-15T18:49:43.471Z"
   },
   {
    "duration": 27,
    "start_time": "2022-04-15T18:49:43.519Z"
   },
   {
    "duration": 169,
    "start_time": "2022-04-15T18:49:43.548Z"
   },
   {
    "duration": 13,
    "start_time": "2022-04-15T18:49:43.720Z"
   },
   {
    "duration": 55,
    "start_time": "2022-04-15T18:49:43.735Z"
   },
   {
    "duration": 34,
    "start_time": "2022-04-15T18:49:43.793Z"
   },
   {
    "duration": 123,
    "start_time": "2022-04-15T18:49:43.831Z"
   },
   {
    "duration": 11,
    "start_time": "2022-04-15T18:49:43.956Z"
   },
   {
    "duration": 53,
    "start_time": "2022-04-15T18:49:43.969Z"
   },
   {
    "duration": 41,
    "start_time": "2022-04-15T18:49:44.024Z"
   },
   {
    "duration": 97,
    "start_time": "2022-04-15T18:49:44.068Z"
   },
   {
    "duration": 11,
    "start_time": "2022-04-15T18:49:44.167Z"
   },
   {
    "duration": 42,
    "start_time": "2022-04-15T18:49:44.181Z"
   },
   {
    "duration": 36,
    "start_time": "2022-04-15T18:49:44.225Z"
   },
   {
    "duration": 16,
    "start_time": "2022-04-15T18:49:44.264Z"
   },
   {
    "duration": 29,
    "start_time": "2022-04-15T18:49:44.282Z"
   },
   {
    "duration": 26,
    "start_time": "2022-04-15T18:49:44.313Z"
   },
   {
    "duration": 29,
    "start_time": "2022-04-15T18:49:44.342Z"
   },
   {
    "duration": 24,
    "start_time": "2022-04-15T18:49:44.373Z"
   },
   {
    "duration": 74,
    "start_time": "2022-04-15T18:49:44.399Z"
   },
   {
    "duration": 56,
    "start_time": "2022-04-15T18:49:44.475Z"
   },
   {
    "duration": 6,
    "start_time": "2022-04-15T18:49:44.534Z"
   },
   {
    "duration": 31,
    "start_time": "2022-04-15T18:49:44.542Z"
   },
   {
    "duration": 14,
    "start_time": "2022-04-15T18:49:44.575Z"
   },
   {
    "duration": 507,
    "start_time": "2022-04-15T18:49:44.595Z"
   },
   {
    "duration": 66,
    "start_time": "2022-04-15T18:49:45.104Z"
   },
   {
    "duration": 13,
    "start_time": "2022-04-15T18:49:45.172Z"
   },
   {
    "duration": 493,
    "start_time": "2022-04-15T18:49:45.188Z"
   },
   {
    "duration": 89,
    "start_time": "2022-04-15T18:49:45.683Z"
   },
   {
    "duration": 15,
    "start_time": "2022-04-15T18:49:45.775Z"
   },
   {
    "duration": 538,
    "start_time": "2022-04-15T18:49:45.794Z"
   },
   {
    "duration": 18,
    "start_time": "2022-04-15T18:49:46.334Z"
   },
   {
    "duration": 21,
    "start_time": "2022-04-15T18:49:46.354Z"
   },
   {
    "duration": 49,
    "start_time": "2022-04-15T18:49:46.377Z"
   },
   {
    "duration": 44,
    "start_time": "2022-04-15T18:49:46.428Z"
   },
   {
    "duration": 105,
    "start_time": "2022-04-15T18:49:46.474Z"
   },
   {
    "duration": 55,
    "start_time": "2022-04-15T18:49:46.581Z"
   },
   {
    "duration": 5,
    "start_time": "2022-04-15T18:49:46.638Z"
   },
   {
    "duration": 38,
    "start_time": "2022-04-15T18:49:46.646Z"
   },
   {
    "duration": 40,
    "start_time": "2022-04-15T18:49:46.686Z"
   },
   {
    "duration": 17,
    "start_time": "2022-04-15T18:49:46.728Z"
   },
   {
    "duration": 43,
    "start_time": "2022-04-15T18:49:46.747Z"
   },
   {
    "duration": 16,
    "start_time": "2022-04-15T18:49:46.793Z"
   },
   {
    "duration": 35,
    "start_time": "2022-04-15T18:49:46.812Z"
   },
   {
    "duration": 9,
    "start_time": "2022-04-15T18:49:46.849Z"
   },
   {
    "duration": 310,
    "start_time": "2022-04-15T18:49:46.860Z"
   },
   {
    "duration": 3,
    "start_time": "2022-04-15T18:49:47.173Z"
   },
   {
    "duration": 14,
    "start_time": "2022-04-15T18:49:47.178Z"
   },
   {
    "duration": 844,
    "start_time": "2022-04-15T18:49:47.194Z"
   },
   {
    "duration": 514,
    "start_time": "2022-04-15T18:49:48.041Z"
   },
   {
    "duration": 766,
    "start_time": "2022-04-15T18:49:48.558Z"
   },
   {
    "duration": 370,
    "start_time": "2022-04-15T18:49:49.326Z"
   },
   {
    "duration": 732,
    "start_time": "2022-04-15T18:49:49.698Z"
   },
   {
    "duration": 382,
    "start_time": "2022-04-15T18:49:50.432Z"
   },
   {
    "duration": 18,
    "start_time": "2022-04-15T18:49:50.816Z"
   },
   {
    "duration": 2220,
    "start_time": "2022-04-15T18:49:50.836Z"
   },
   {
    "duration": 0,
    "start_time": "2022-04-15T18:49:53.058Z"
   },
   {
    "duration": 0,
    "start_time": "2022-04-15T18:49:53.060Z"
   },
   {
    "duration": 0,
    "start_time": "2022-04-15T18:49:53.062Z"
   },
   {
    "duration": 0,
    "start_time": "2022-04-15T18:49:53.063Z"
   },
   {
    "duration": 34,
    "start_time": "2022-04-15T18:50:25.313Z"
   },
   {
    "duration": 1513,
    "start_time": "2022-04-15T18:50:33.468Z"
   },
   {
    "duration": 537,
    "start_time": "2022-04-15T18:50:34.984Z"
   },
   {
    "duration": 19,
    "start_time": "2022-04-15T18:50:35.523Z"
   },
   {
    "duration": 42,
    "start_time": "2022-04-15T18:50:35.546Z"
   },
   {
    "duration": 41,
    "start_time": "2022-04-15T18:50:35.590Z"
   },
   {
    "duration": 171,
    "start_time": "2022-04-15T18:50:35.634Z"
   },
   {
    "duration": 17,
    "start_time": "2022-04-15T18:50:35.808Z"
   },
   {
    "duration": 30,
    "start_time": "2022-04-15T18:50:35.828Z"
   },
   {
    "duration": 23,
    "start_time": "2022-04-15T18:50:35.860Z"
   },
   {
    "duration": 168,
    "start_time": "2022-04-15T18:50:35.887Z"
   },
   {
    "duration": 12,
    "start_time": "2022-04-15T18:50:36.058Z"
   },
   {
    "duration": 30,
    "start_time": "2022-04-15T18:50:36.072Z"
   },
   {
    "duration": 19,
    "start_time": "2022-04-15T18:50:36.125Z"
   },
   {
    "duration": 93,
    "start_time": "2022-04-15T18:50:36.146Z"
   },
   {
    "duration": 15,
    "start_time": "2022-04-15T18:50:36.242Z"
   },
   {
    "duration": 31,
    "start_time": "2022-04-15T18:50:36.260Z"
   },
   {
    "duration": 32,
    "start_time": "2022-04-15T18:50:36.294Z"
   },
   {
    "duration": 8,
    "start_time": "2022-04-15T18:50:36.329Z"
   },
   {
    "duration": 22,
    "start_time": "2022-04-15T18:50:36.339Z"
   },
   {
    "duration": 18,
    "start_time": "2022-04-15T18:50:36.363Z"
   },
   {
    "duration": 45,
    "start_time": "2022-04-15T18:50:36.384Z"
   },
   {
    "duration": 10,
    "start_time": "2022-04-15T18:50:36.432Z"
   },
   {
    "duration": 50,
    "start_time": "2022-04-15T18:50:36.444Z"
   },
   {
    "duration": 76,
    "start_time": "2022-04-15T18:50:36.497Z"
   },
   {
    "duration": 6,
    "start_time": "2022-04-15T18:50:36.576Z"
   },
   {
    "duration": 16,
    "start_time": "2022-04-15T18:50:36.584Z"
   },
   {
    "duration": 6,
    "start_time": "2022-04-15T18:50:36.625Z"
   },
   {
    "duration": 570,
    "start_time": "2022-04-15T18:50:36.637Z"
   },
   {
    "duration": 66,
    "start_time": "2022-04-15T18:50:37.211Z"
   },
   {
    "duration": 14,
    "start_time": "2022-04-15T18:50:37.280Z"
   },
   {
    "duration": 528,
    "start_time": "2022-04-15T18:50:37.296Z"
   },
   {
    "duration": 78,
    "start_time": "2022-04-15T18:50:37.827Z"
   },
   {
    "duration": 28,
    "start_time": "2022-04-15T18:50:37.907Z"
   },
   {
    "duration": 536,
    "start_time": "2022-04-15T18:50:37.937Z"
   },
   {
    "duration": 16,
    "start_time": "2022-04-15T18:50:38.475Z"
   },
   {
    "duration": 35,
    "start_time": "2022-04-15T18:50:38.493Z"
   },
   {
    "duration": 13,
    "start_time": "2022-04-15T18:50:38.530Z"
   },
   {
    "duration": 46,
    "start_time": "2022-04-15T18:50:38.546Z"
   },
   {
    "duration": 97,
    "start_time": "2022-04-15T18:50:38.595Z"
   },
   {
    "duration": 60,
    "start_time": "2022-04-15T18:50:38.695Z"
   },
   {
    "duration": 4,
    "start_time": "2022-04-15T18:50:38.758Z"
   },
   {
    "duration": 17,
    "start_time": "2022-04-15T18:50:38.764Z"
   },
   {
    "duration": 53,
    "start_time": "2022-04-15T18:50:38.783Z"
   },
   {
    "duration": 18,
    "start_time": "2022-04-15T18:50:38.838Z"
   },
   {
    "duration": 19,
    "start_time": "2022-04-15T18:50:38.858Z"
   },
   {
    "duration": 47,
    "start_time": "2022-04-15T18:50:38.880Z"
   },
   {
    "duration": 36,
    "start_time": "2022-04-15T18:50:38.930Z"
   },
   {
    "duration": 10,
    "start_time": "2022-04-15T18:50:38.971Z"
   },
   {
    "duration": 308,
    "start_time": "2022-04-15T18:50:38.983Z"
   },
   {
    "duration": 3,
    "start_time": "2022-04-15T18:50:39.293Z"
   },
   {
    "duration": 27,
    "start_time": "2022-04-15T18:50:39.298Z"
   },
   {
    "duration": 943,
    "start_time": "2022-04-15T18:50:39.327Z"
   },
   {
    "duration": 398,
    "start_time": "2022-04-15T18:50:40.274Z"
   },
   {
    "duration": 738,
    "start_time": "2022-04-15T18:50:40.675Z"
   },
   {
    "duration": 638,
    "start_time": "2022-04-15T18:50:41.415Z"
   },
   {
    "duration": 1290,
    "start_time": "2022-04-15T18:50:42.056Z"
   },
   {
    "duration": 707,
    "start_time": "2022-04-15T18:50:43.348Z"
   },
   {
    "duration": 68,
    "start_time": "2022-04-15T18:50:44.057Z"
   },
   {
    "duration": 2337,
    "start_time": "2022-04-15T18:50:44.127Z"
   },
   {
    "duration": 0,
    "start_time": "2022-04-15T18:50:46.467Z"
   },
   {
    "duration": 0,
    "start_time": "2022-04-15T18:50:46.469Z"
   },
   {
    "duration": 0,
    "start_time": "2022-04-15T18:50:46.470Z"
   },
   {
    "duration": 0,
    "start_time": "2022-04-15T18:50:46.472Z"
   },
   {
    "duration": 37,
    "start_time": "2022-04-15T18:52:39.948Z"
   },
   {
    "duration": 1597,
    "start_time": "2022-04-15T18:52:51.683Z"
   },
   {
    "duration": 521,
    "start_time": "2022-04-15T18:52:53.283Z"
   },
   {
    "duration": 18,
    "start_time": "2022-04-15T18:52:53.806Z"
   },
   {
    "duration": 44,
    "start_time": "2022-04-15T18:52:53.827Z"
   },
   {
    "duration": 57,
    "start_time": "2022-04-15T18:52:53.873Z"
   },
   {
    "duration": 195,
    "start_time": "2022-04-15T18:52:53.932Z"
   },
   {
    "duration": 13,
    "start_time": "2022-04-15T18:52:54.130Z"
   },
   {
    "duration": 37,
    "start_time": "2022-04-15T18:52:54.145Z"
   },
   {
    "duration": 48,
    "start_time": "2022-04-15T18:52:54.184Z"
   },
   {
    "duration": 140,
    "start_time": "2022-04-15T18:52:54.236Z"
   },
   {
    "duration": 13,
    "start_time": "2022-04-15T18:52:54.378Z"
   },
   {
    "duration": 43,
    "start_time": "2022-04-15T18:52:54.393Z"
   },
   {
    "duration": 20,
    "start_time": "2022-04-15T18:52:54.438Z"
   },
   {
    "duration": 109,
    "start_time": "2022-04-15T18:52:54.460Z"
   },
   {
    "duration": 13,
    "start_time": "2022-04-15T18:52:54.571Z"
   },
   {
    "duration": 39,
    "start_time": "2022-04-15T18:52:54.587Z"
   },
   {
    "duration": 15,
    "start_time": "2022-04-15T18:52:54.628Z"
   },
   {
    "duration": 12,
    "start_time": "2022-04-15T18:52:54.645Z"
   },
   {
    "duration": 18,
    "start_time": "2022-04-15T18:52:54.660Z"
   },
   {
    "duration": 54,
    "start_time": "2022-04-15T18:52:54.681Z"
   },
   {
    "duration": 11,
    "start_time": "2022-04-15T18:52:54.738Z"
   },
   {
    "duration": 12,
    "start_time": "2022-04-15T18:52:54.751Z"
   },
   {
    "duration": 84,
    "start_time": "2022-04-15T18:52:54.765Z"
   },
   {
    "duration": 56,
    "start_time": "2022-04-15T18:52:54.852Z"
   },
   {
    "duration": 18,
    "start_time": "2022-04-15T18:52:54.910Z"
   },
   {
    "duration": 16,
    "start_time": "2022-04-15T18:52:54.931Z"
   },
   {
    "duration": 7,
    "start_time": "2022-04-15T18:52:54.950Z"
   },
   {
    "duration": 532,
    "start_time": "2022-04-15T18:52:54.963Z"
   },
   {
    "duration": 72,
    "start_time": "2022-04-15T18:52:55.498Z"
   },
   {
    "duration": 13,
    "start_time": "2022-04-15T18:52:55.572Z"
   },
   {
    "duration": 466,
    "start_time": "2022-04-15T18:52:55.588Z"
   },
   {
    "duration": 81,
    "start_time": "2022-04-15T18:52:56.057Z"
   },
   {
    "duration": 19,
    "start_time": "2022-04-15T18:52:56.141Z"
   },
   {
    "duration": 737,
    "start_time": "2022-04-15T18:52:56.162Z"
   },
   {
    "duration": 32,
    "start_time": "2022-04-15T18:52:56.901Z"
   },
   {
    "duration": 15,
    "start_time": "2022-04-15T18:52:56.936Z"
   },
   {
    "duration": 13,
    "start_time": "2022-04-15T18:52:56.953Z"
   },
   {
    "duration": 58,
    "start_time": "2022-04-15T18:52:56.968Z"
   },
   {
    "duration": 110,
    "start_time": "2022-04-15T18:52:57.029Z"
   },
   {
    "duration": 61,
    "start_time": "2022-04-15T18:52:57.142Z"
   },
   {
    "duration": 21,
    "start_time": "2022-04-15T18:52:57.206Z"
   },
   {
    "duration": 22,
    "start_time": "2022-04-15T18:52:57.230Z"
   },
   {
    "duration": 40,
    "start_time": "2022-04-15T18:52:57.255Z"
   },
   {
    "duration": 49,
    "start_time": "2022-04-15T18:52:57.297Z"
   },
   {
    "duration": 24,
    "start_time": "2022-04-15T18:52:57.348Z"
   },
   {
    "duration": 51,
    "start_time": "2022-04-15T18:52:57.374Z"
   },
   {
    "duration": 26,
    "start_time": "2022-04-15T18:52:57.427Z"
   },
   {
    "duration": 8,
    "start_time": "2022-04-15T18:52:57.455Z"
   },
   {
    "duration": 322,
    "start_time": "2022-04-15T18:52:57.465Z"
   },
   {
    "duration": 3,
    "start_time": "2022-04-15T18:52:57.789Z"
   },
   {
    "duration": 11,
    "start_time": "2022-04-15T18:52:57.794Z"
   },
   {
    "duration": 795,
    "start_time": "2022-04-15T18:52:57.824Z"
   },
   {
    "duration": 411,
    "start_time": "2022-04-15T18:52:58.624Z"
   },
   {
    "duration": 726,
    "start_time": "2022-04-15T18:52:59.037Z"
   },
   {
    "duration": 362,
    "start_time": "2022-04-15T18:52:59.765Z"
   },
   {
    "duration": 704,
    "start_time": "2022-04-15T18:53:00.130Z"
   },
   {
    "duration": 387,
    "start_time": "2022-04-15T18:53:00.837Z"
   },
   {
    "duration": 14,
    "start_time": "2022-04-15T18:53:01.226Z"
   },
   {
    "duration": 2366,
    "start_time": "2022-04-15T18:53:01.242Z"
   },
   {
    "duration": 0,
    "start_time": "2022-04-15T18:53:03.612Z"
   },
   {
    "duration": 0,
    "start_time": "2022-04-15T18:53:03.613Z"
   },
   {
    "duration": 0,
    "start_time": "2022-04-15T18:53:03.616Z"
   },
   {
    "duration": 0,
    "start_time": "2022-04-15T18:53:03.618Z"
   },
   {
    "duration": 507,
    "start_time": "2022-04-15T18:55:15.758Z"
   },
   {
    "duration": 9,
    "start_time": "2022-04-15T18:57:28.608Z"
   },
   {
    "duration": 491,
    "start_time": "2022-04-15T18:57:31.152Z"
   },
   {
    "duration": 9,
    "start_time": "2022-04-15T18:58:52.377Z"
   },
   {
    "duration": 298,
    "start_time": "2022-04-15T18:58:53.834Z"
   },
   {
    "duration": 8,
    "start_time": "2022-04-15T18:59:09.204Z"
   },
   {
    "duration": 296,
    "start_time": "2022-04-15T18:59:12.579Z"
   },
   {
    "duration": 11,
    "start_time": "2022-04-15T18:59:52.652Z"
   },
   {
    "duration": 321,
    "start_time": "2022-04-15T18:59:54.060Z"
   },
   {
    "duration": 8,
    "start_time": "2022-04-15T19:00:23.620Z"
   },
   {
    "duration": 292,
    "start_time": "2022-04-15T19:00:24.227Z"
   },
   {
    "duration": 10,
    "start_time": "2022-04-15T19:01:17.444Z"
   },
   {
    "duration": 290,
    "start_time": "2022-04-15T19:01:18.278Z"
   },
   {
    "duration": 10,
    "start_time": "2022-04-15T19:01:52.438Z"
   },
   {
    "duration": 301,
    "start_time": "2022-04-15T19:01:53.247Z"
   },
   {
    "duration": 9,
    "start_time": "2022-04-15T19:02:48.335Z"
   },
   {
    "duration": 305,
    "start_time": "2022-04-15T19:02:49.320Z"
   },
   {
    "duration": 9,
    "start_time": "2022-04-15T19:04:19.771Z"
   },
   {
    "duration": 297,
    "start_time": "2022-04-15T19:04:22.369Z"
   },
   {
    "duration": 291,
    "start_time": "2022-04-15T19:04:45.458Z"
   },
   {
    "duration": 12,
    "start_time": "2022-04-15T19:07:46.863Z"
   },
   {
    "duration": 6,
    "start_time": "2022-04-15T19:07:50.759Z"
   },
   {
    "duration": 30,
    "start_time": "2022-04-15T19:07:53.214Z"
   },
   {
    "duration": 10,
    "start_time": "2022-04-15T19:08:33.744Z"
   },
   {
    "duration": 453,
    "start_time": "2022-04-15T19:08:35.920Z"
   },
   {
    "duration": 6,
    "start_time": "2022-04-15T19:09:46.825Z"
   },
   {
    "duration": 348,
    "start_time": "2022-04-15T19:09:48.562Z"
   },
   {
    "duration": 366,
    "start_time": "2022-04-15T19:10:55.427Z"
   },
   {
    "duration": 6,
    "start_time": "2022-04-15T19:11:17.971Z"
   },
   {
    "duration": 286,
    "start_time": "2022-04-15T19:11:20.052Z"
   },
   {
    "duration": 7,
    "start_time": "2022-04-15T19:12:08.750Z"
   },
   {
    "duration": 596,
    "start_time": "2022-04-15T19:12:10.485Z"
   },
   {
    "duration": 6,
    "start_time": "2022-04-15T19:12:59.958Z"
   },
   {
    "duration": 580,
    "start_time": "2022-04-15T19:13:02.038Z"
   },
   {
    "duration": 6,
    "start_time": "2022-04-15T19:13:17.838Z"
   },
   {
    "duration": 289,
    "start_time": "2022-04-15T19:13:19.445Z"
   },
   {
    "duration": 6,
    "start_time": "2022-04-15T19:14:20.599Z"
   },
   {
    "duration": 522,
    "start_time": "2022-04-15T19:14:22.040Z"
   },
   {
    "duration": 5,
    "start_time": "2022-04-15T19:14:44.288Z"
   },
   {
    "duration": 585,
    "start_time": "2022-04-15T19:14:46.768Z"
   },
   {
    "duration": 8,
    "start_time": "2022-04-15T19:15:04.961Z"
   },
   {
    "duration": 308,
    "start_time": "2022-04-15T19:15:07.169Z"
   },
   {
    "duration": 1638,
    "start_time": "2022-04-15T19:15:46.301Z"
   },
   {
    "duration": 521,
    "start_time": "2022-04-15T19:15:47.942Z"
   },
   {
    "duration": 18,
    "start_time": "2022-04-15T19:15:48.465Z"
   },
   {
    "duration": 40,
    "start_time": "2022-04-15T19:15:48.486Z"
   },
   {
    "duration": 27,
    "start_time": "2022-04-15T19:15:48.528Z"
   },
   {
    "duration": 193,
    "start_time": "2022-04-15T19:15:48.558Z"
   },
   {
    "duration": 13,
    "start_time": "2022-04-15T19:15:48.753Z"
   },
   {
    "duration": 56,
    "start_time": "2022-04-15T19:15:48.768Z"
   },
   {
    "duration": 25,
    "start_time": "2022-04-15T19:15:48.827Z"
   },
   {
    "duration": 158,
    "start_time": "2022-04-15T19:15:48.856Z"
   },
   {
    "duration": 17,
    "start_time": "2022-04-15T19:15:49.016Z"
   },
   {
    "duration": 38,
    "start_time": "2022-04-15T19:15:49.035Z"
   },
   {
    "duration": 19,
    "start_time": "2022-04-15T19:15:49.075Z"
   },
   {
    "duration": 96,
    "start_time": "2022-04-15T19:15:49.096Z"
   },
   {
    "duration": 36,
    "start_time": "2022-04-15T19:15:49.195Z"
   },
   {
    "duration": 20,
    "start_time": "2022-04-15T19:15:49.234Z"
   },
   {
    "duration": 12,
    "start_time": "2022-04-15T19:15:49.256Z"
   },
   {
    "duration": 12,
    "start_time": "2022-04-15T19:15:49.270Z"
   },
   {
    "duration": 53,
    "start_time": "2022-04-15T19:15:49.285Z"
   },
   {
    "duration": 20,
    "start_time": "2022-04-15T19:15:49.340Z"
   },
   {
    "duration": 10,
    "start_time": "2022-04-15T19:15:49.362Z"
   },
   {
    "duration": 11,
    "start_time": "2022-04-15T19:15:49.374Z"
   },
   {
    "duration": 45,
    "start_time": "2022-04-15T19:15:49.425Z"
   },
   {
    "duration": 81,
    "start_time": "2022-04-15T19:15:49.472Z"
   },
   {
    "duration": 8,
    "start_time": "2022-04-15T19:15:49.555Z"
   },
   {
    "duration": 16,
    "start_time": "2022-04-15T19:15:49.565Z"
   },
   {
    "duration": 8,
    "start_time": "2022-04-15T19:15:49.583Z"
   },
   {
    "duration": 572,
    "start_time": "2022-04-15T19:15:49.627Z"
   },
   {
    "duration": 68,
    "start_time": "2022-04-15T19:15:50.201Z"
   },
   {
    "duration": 18,
    "start_time": "2022-04-15T19:15:50.272Z"
   },
   {
    "duration": 623,
    "start_time": "2022-04-15T19:15:50.293Z"
   },
   {
    "duration": 122,
    "start_time": "2022-04-15T19:15:50.919Z"
   },
   {
    "duration": 21,
    "start_time": "2022-04-15T19:15:51.043Z"
   },
   {
    "duration": 718,
    "start_time": "2022-04-15T19:15:51.068Z"
   },
   {
    "duration": 16,
    "start_time": "2022-04-15T19:15:51.789Z"
   },
   {
    "duration": 16,
    "start_time": "2022-04-15T19:15:51.824Z"
   },
   {
    "duration": 14,
    "start_time": "2022-04-15T19:15:51.842Z"
   },
   {
    "duration": 32,
    "start_time": "2022-04-15T19:15:51.858Z"
   },
   {
    "duration": 150,
    "start_time": "2022-04-15T19:15:51.893Z"
   },
   {
    "duration": 50,
    "start_time": "2022-04-15T19:15:52.046Z"
   },
   {
    "duration": 29,
    "start_time": "2022-04-15T19:15:52.099Z"
   },
   {
    "duration": 18,
    "start_time": "2022-04-15T19:15:52.131Z"
   },
   {
    "duration": 46,
    "start_time": "2022-04-15T19:15:52.151Z"
   },
   {
    "duration": 45,
    "start_time": "2022-04-15T19:15:52.200Z"
   },
   {
    "duration": 26,
    "start_time": "2022-04-15T19:15:52.247Z"
   },
   {
    "duration": 14,
    "start_time": "2022-04-15T19:15:52.275Z"
   },
   {
    "duration": 55,
    "start_time": "2022-04-15T19:15:52.291Z"
   },
   {
    "duration": 8,
    "start_time": "2022-04-15T19:15:52.349Z"
   },
   {
    "duration": 312,
    "start_time": "2022-04-15T19:15:52.359Z"
   },
   {
    "duration": 8,
    "start_time": "2022-04-15T19:15:52.673Z"
   },
   {
    "duration": 326,
    "start_time": "2022-04-15T19:15:52.684Z"
   },
   {
    "duration": 15,
    "start_time": "2022-04-15T19:15:53.013Z"
   },
   {
    "duration": 734,
    "start_time": "2022-04-15T19:15:53.030Z"
   },
   {
    "duration": 743,
    "start_time": "2022-04-15T19:15:53.767Z"
   },
   {
    "duration": 837,
    "start_time": "2022-04-15T19:15:54.513Z"
   },
   {
    "duration": 1076,
    "start_time": "2022-04-15T19:15:55.353Z"
   },
   {
    "duration": 1998,
    "start_time": "2022-04-15T19:15:56.432Z"
   },
   {
    "duration": 1032,
    "start_time": "2022-04-15T19:15:58.433Z"
   },
   {
    "duration": 69,
    "start_time": "2022-04-15T19:15:59.467Z"
   },
   {
    "duration": 465,
    "start_time": "2022-04-15T19:15:59.539Z"
   },
   {
    "duration": 24,
    "start_time": "2022-04-15T19:16:00.007Z"
   },
   {
    "duration": 21,
    "start_time": "2022-04-15T19:16:00.034Z"
   },
   {
    "duration": 51,
    "start_time": "2022-04-15T19:16:00.057Z"
   },
   {
    "duration": 19,
    "start_time": "2022-04-15T19:16:00.110Z"
   },
   {
    "duration": 11,
    "start_time": "2022-04-15T19:16:42.033Z"
   },
   {
    "duration": 299,
    "start_time": "2022-04-15T19:16:43.758Z"
   },
   {
    "duration": 2065,
    "start_time": "2022-04-15T19:17:07.371Z"
   },
   {
    "duration": 549,
    "start_time": "2022-04-15T19:17:09.441Z"
   },
   {
    "duration": 25,
    "start_time": "2022-04-15T19:17:09.993Z"
   },
   {
    "duration": 52,
    "start_time": "2022-04-15T19:17:10.021Z"
   },
   {
    "duration": 26,
    "start_time": "2022-04-15T19:17:10.076Z"
   },
   {
    "duration": 183,
    "start_time": "2022-04-15T19:17:10.132Z"
   },
   {
    "duration": 21,
    "start_time": "2022-04-15T19:17:10.325Z"
   },
   {
    "duration": 47,
    "start_time": "2022-04-15T19:17:10.349Z"
   },
   {
    "duration": 53,
    "start_time": "2022-04-15T19:17:10.398Z"
   },
   {
    "duration": 153,
    "start_time": "2022-04-15T19:17:10.456Z"
   },
   {
    "duration": 16,
    "start_time": "2022-04-15T19:17:10.611Z"
   },
   {
    "duration": 42,
    "start_time": "2022-04-15T19:17:10.629Z"
   },
   {
    "duration": 58,
    "start_time": "2022-04-15T19:17:10.673Z"
   },
   {
    "duration": 80,
    "start_time": "2022-04-15T19:17:10.734Z"
   },
   {
    "duration": 14,
    "start_time": "2022-04-15T19:17:10.830Z"
   },
   {
    "duration": 27,
    "start_time": "2022-04-15T19:17:10.847Z"
   },
   {
    "duration": 16,
    "start_time": "2022-04-15T19:17:10.877Z"
   },
   {
    "duration": 37,
    "start_time": "2022-04-15T19:17:10.896Z"
   },
   {
    "duration": 39,
    "start_time": "2022-04-15T19:17:10.936Z"
   },
   {
    "duration": 17,
    "start_time": "2022-04-15T19:17:10.978Z"
   },
   {
    "duration": 40,
    "start_time": "2022-04-15T19:17:10.997Z"
   },
   {
    "duration": 12,
    "start_time": "2022-04-15T19:17:11.040Z"
   },
   {
    "duration": 90,
    "start_time": "2022-04-15T19:17:11.054Z"
   },
   {
    "duration": 58,
    "start_time": "2022-04-15T19:17:11.147Z"
   },
   {
    "duration": 28,
    "start_time": "2022-04-15T19:17:11.208Z"
   },
   {
    "duration": 22,
    "start_time": "2022-04-15T19:17:11.239Z"
   },
   {
    "duration": 9,
    "start_time": "2022-04-15T19:17:11.263Z"
   },
   {
    "duration": 612,
    "start_time": "2022-04-15T19:17:11.278Z"
   },
   {
    "duration": 85,
    "start_time": "2022-04-15T19:17:11.892Z"
   },
   {
    "duration": 14,
    "start_time": "2022-04-15T19:17:11.979Z"
   },
   {
    "duration": 598,
    "start_time": "2022-04-15T19:17:11.997Z"
   },
   {
    "duration": 100,
    "start_time": "2022-04-15T19:17:12.599Z"
   },
   {
    "duration": 24,
    "start_time": "2022-04-15T19:17:12.702Z"
   },
   {
    "duration": 556,
    "start_time": "2022-04-15T19:17:12.735Z"
   },
   {
    "duration": 44,
    "start_time": "2022-04-15T19:17:13.293Z"
   },
   {
    "duration": 19,
    "start_time": "2022-04-15T19:17:13.340Z"
   },
   {
    "duration": 15,
    "start_time": "2022-04-15T19:17:13.362Z"
   },
   {
    "duration": 56,
    "start_time": "2022-04-15T19:17:13.379Z"
   },
   {
    "duration": 137,
    "start_time": "2022-04-15T19:17:13.438Z"
   },
   {
    "duration": 72,
    "start_time": "2022-04-15T19:17:13.578Z"
   },
   {
    "duration": 5,
    "start_time": "2022-04-15T19:17:13.653Z"
   },
   {
    "duration": 18,
    "start_time": "2022-04-15T19:17:13.661Z"
   },
   {
    "duration": 61,
    "start_time": "2022-04-15T19:17:13.682Z"
   },
   {
    "duration": 20,
    "start_time": "2022-04-15T19:17:13.745Z"
   },
   {
    "duration": 21,
    "start_time": "2022-04-15T19:17:13.767Z"
   },
   {
    "duration": 40,
    "start_time": "2022-04-15T19:17:13.790Z"
   },
   {
    "duration": 47,
    "start_time": "2022-04-15T19:17:13.832Z"
   },
   {
    "duration": 8,
    "start_time": "2022-04-15T19:17:13.882Z"
   },
   {
    "duration": 422,
    "start_time": "2022-04-15T19:17:13.893Z"
   },
   {
    "duration": 12,
    "start_time": "2022-04-15T19:17:14.317Z"
   },
   {
    "duration": 307,
    "start_time": "2022-04-15T19:17:14.332Z"
   },
   {
    "duration": 15,
    "start_time": "2022-04-15T19:17:14.642Z"
   },
   {
    "duration": 1048,
    "start_time": "2022-04-15T19:17:14.660Z"
   },
   {
    "duration": 733,
    "start_time": "2022-04-15T19:17:15.712Z"
   },
   {
    "duration": 919,
    "start_time": "2022-04-15T19:17:16.448Z"
   },
   {
    "duration": 401,
    "start_time": "2022-04-15T19:17:17.370Z"
   },
   {
    "duration": 751,
    "start_time": "2022-04-15T19:17:17.774Z"
   },
   {
    "duration": 716,
    "start_time": "2022-04-15T19:17:18.528Z"
   },
   {
    "duration": 19,
    "start_time": "2022-04-15T19:17:19.249Z"
   },
   {
    "duration": 691,
    "start_time": "2022-04-15T19:17:19.272Z"
   },
   {
    "duration": 66,
    "start_time": "2022-04-15T19:17:19.965Z"
   },
   {
    "duration": 18,
    "start_time": "2022-04-15T19:17:20.034Z"
   },
   {
    "duration": 94,
    "start_time": "2022-04-15T19:17:20.055Z"
   },
   {
    "duration": 22,
    "start_time": "2022-04-15T19:17:20.151Z"
   },
   {
    "duration": 6,
    "start_time": "2022-04-15T19:18:55.857Z"
   },
   {
    "duration": 346,
    "start_time": "2022-04-15T19:18:57.682Z"
   },
   {
    "duration": 1617,
    "start_time": "2022-04-15T19:19:15.598Z"
   },
   {
    "duration": 509,
    "start_time": "2022-04-15T19:19:17.218Z"
   },
   {
    "duration": 24,
    "start_time": "2022-04-15T19:19:17.730Z"
   },
   {
    "duration": 71,
    "start_time": "2022-04-15T19:19:17.758Z"
   },
   {
    "duration": 45,
    "start_time": "2022-04-15T19:19:17.832Z"
   },
   {
    "duration": 235,
    "start_time": "2022-04-15T19:19:17.880Z"
   },
   {
    "duration": 18,
    "start_time": "2022-04-15T19:19:18.125Z"
   },
   {
    "duration": 45,
    "start_time": "2022-04-15T19:19:18.146Z"
   },
   {
    "duration": 37,
    "start_time": "2022-04-15T19:19:18.194Z"
   },
   {
    "duration": 152,
    "start_time": "2022-04-15T19:19:18.238Z"
   },
   {
    "duration": 12,
    "start_time": "2022-04-15T19:19:18.393Z"
   },
   {
    "duration": 45,
    "start_time": "2022-04-15T19:19:18.408Z"
   },
   {
    "duration": 21,
    "start_time": "2022-04-15T19:19:18.456Z"
   },
   {
    "duration": 105,
    "start_time": "2022-04-15T19:19:18.479Z"
   },
   {
    "duration": 12,
    "start_time": "2022-04-15T19:19:18.586Z"
   },
   {
    "duration": 35,
    "start_time": "2022-04-15T19:19:18.601Z"
   },
   {
    "duration": 22,
    "start_time": "2022-04-15T19:19:18.638Z"
   },
   {
    "duration": 10,
    "start_time": "2022-04-15T19:19:18.662Z"
   },
   {
    "duration": 20,
    "start_time": "2022-04-15T19:19:18.674Z"
   },
   {
    "duration": 43,
    "start_time": "2022-04-15T19:19:18.696Z"
   },
   {
    "duration": 17,
    "start_time": "2022-04-15T19:19:18.742Z"
   },
   {
    "duration": 16,
    "start_time": "2022-04-15T19:19:18.761Z"
   },
   {
    "duration": 72,
    "start_time": "2022-04-15T19:19:18.780Z"
   },
   {
    "duration": 70,
    "start_time": "2022-04-15T19:19:18.854Z"
   },
   {
    "duration": 7,
    "start_time": "2022-04-15T19:19:18.926Z"
   },
   {
    "duration": 15,
    "start_time": "2022-04-15T19:19:18.936Z"
   },
   {
    "duration": 8,
    "start_time": "2022-04-15T19:19:18.954Z"
   },
   {
    "duration": 508,
    "start_time": "2022-04-15T19:19:18.968Z"
   },
   {
    "duration": 75,
    "start_time": "2022-04-15T19:19:19.478Z"
   },
   {
    "duration": 13,
    "start_time": "2022-04-15T19:19:19.556Z"
   },
   {
    "duration": 465,
    "start_time": "2022-04-15T19:19:19.571Z"
   },
   {
    "duration": 88,
    "start_time": "2022-04-15T19:19:20.038Z"
   },
   {
    "duration": 15,
    "start_time": "2022-04-15T19:19:20.128Z"
   },
   {
    "duration": 502,
    "start_time": "2022-04-15T19:19:20.145Z"
   },
   {
    "duration": 17,
    "start_time": "2022-04-15T19:19:20.649Z"
   },
   {
    "duration": 16,
    "start_time": "2022-04-15T19:19:20.668Z"
   },
   {
    "duration": 46,
    "start_time": "2022-04-15T19:19:20.686Z"
   },
   {
    "duration": 30,
    "start_time": "2022-04-15T19:19:20.735Z"
   },
   {
    "duration": 103,
    "start_time": "2022-04-15T19:19:20.767Z"
   },
   {
    "duration": 52,
    "start_time": "2022-04-15T19:19:20.872Z"
   },
   {
    "duration": 4,
    "start_time": "2022-04-15T19:19:20.927Z"
   },
   {
    "duration": 22,
    "start_time": "2022-04-15T19:19:20.933Z"
   },
   {
    "duration": 38,
    "start_time": "2022-04-15T19:19:20.958Z"
   },
   {
    "duration": 36,
    "start_time": "2022-04-15T19:19:20.999Z"
   },
   {
    "duration": 21,
    "start_time": "2022-04-15T19:19:21.038Z"
   },
   {
    "duration": 13,
    "start_time": "2022-04-15T19:19:21.062Z"
   },
   {
    "duration": 55,
    "start_time": "2022-04-15T19:19:21.078Z"
   },
   {
    "duration": 8,
    "start_time": "2022-04-15T19:19:21.136Z"
   },
   {
    "duration": 293,
    "start_time": "2022-04-15T19:19:21.147Z"
   },
   {
    "duration": 7,
    "start_time": "2022-04-15T19:19:21.442Z"
   },
   {
    "duration": 317,
    "start_time": "2022-04-15T19:19:21.451Z"
   },
   {
    "duration": 10,
    "start_time": "2022-04-15T19:19:21.771Z"
   },
   {
    "duration": 830,
    "start_time": "2022-04-15T19:19:21.784Z"
   },
   {
    "duration": 560,
    "start_time": "2022-04-15T19:19:22.617Z"
   },
   {
    "duration": 726,
    "start_time": "2022-04-15T19:19:23.180Z"
   },
   {
    "duration": 373,
    "start_time": "2022-04-15T19:19:23.908Z"
   },
   {
    "duration": 706,
    "start_time": "2022-04-15T19:19:24.283Z"
   },
   {
    "duration": 381,
    "start_time": "2022-04-15T19:19:24.991Z"
   },
   {
    "duration": 13,
    "start_time": "2022-04-15T19:19:25.375Z"
   },
   {
    "duration": 312,
    "start_time": "2022-04-15T19:19:25.391Z"
   },
   {
    "duration": 24,
    "start_time": "2022-04-15T19:19:25.706Z"
   },
   {
    "duration": 8,
    "start_time": "2022-04-15T19:19:25.732Z"
   },
   {
    "duration": 32,
    "start_time": "2022-04-15T19:19:25.742Z"
   },
   {
    "duration": 49,
    "start_time": "2022-04-15T19:19:25.777Z"
   },
   {
    "duration": 15,
    "start_time": "2022-04-15T19:28:05.236Z"
   },
   {
    "duration": 1170,
    "start_time": "2022-04-15T19:28:08.650Z"
   },
   {
    "duration": 1917,
    "start_time": "2022-04-15T19:56:25.683Z"
   },
   {
    "duration": 509,
    "start_time": "2022-04-15T19:56:27.603Z"
   },
   {
    "duration": 17,
    "start_time": "2022-04-15T19:56:28.114Z"
   },
   {
    "duration": 34,
    "start_time": "2022-04-15T19:56:28.135Z"
   },
   {
    "duration": 27,
    "start_time": "2022-04-15T19:56:28.171Z"
   },
   {
    "duration": 173,
    "start_time": "2022-04-15T19:56:28.224Z"
   },
   {
    "duration": 26,
    "start_time": "2022-04-15T19:56:28.399Z"
   },
   {
    "duration": 30,
    "start_time": "2022-04-15T19:56:28.427Z"
   },
   {
    "duration": 22,
    "start_time": "2022-04-15T19:56:28.459Z"
   },
   {
    "duration": 177,
    "start_time": "2022-04-15T19:56:28.484Z"
   },
   {
    "duration": 11,
    "start_time": "2022-04-15T19:56:28.663Z"
   },
   {
    "duration": 48,
    "start_time": "2022-04-15T19:56:28.676Z"
   },
   {
    "duration": 18,
    "start_time": "2022-04-15T19:56:28.727Z"
   },
   {
    "duration": 95,
    "start_time": "2022-04-15T19:56:28.748Z"
   },
   {
    "duration": 12,
    "start_time": "2022-04-15T19:56:28.845Z"
   },
   {
    "duration": 16,
    "start_time": "2022-04-15T19:56:28.859Z"
   },
   {
    "duration": 12,
    "start_time": "2022-04-15T19:56:28.877Z"
   },
   {
    "duration": 35,
    "start_time": "2022-04-15T19:56:28.891Z"
   },
   {
    "duration": 23,
    "start_time": "2022-04-15T19:56:28.928Z"
   },
   {
    "duration": 23,
    "start_time": "2022-04-15T19:56:28.953Z"
   },
   {
    "duration": 10,
    "start_time": "2022-04-15T19:56:28.979Z"
   },
   {
    "duration": 38,
    "start_time": "2022-04-15T19:56:28.991Z"
   },
   {
    "duration": 47,
    "start_time": "2022-04-15T19:56:29.031Z"
   },
   {
    "duration": 72,
    "start_time": "2022-04-15T19:56:29.081Z"
   },
   {
    "duration": 6,
    "start_time": "2022-04-15T19:56:29.155Z"
   },
   {
    "duration": 23,
    "start_time": "2022-04-15T19:56:29.164Z"
   },
   {
    "duration": 13,
    "start_time": "2022-04-15T19:56:29.189Z"
   },
   {
    "duration": 522,
    "start_time": "2022-04-15T19:56:29.224Z"
   },
   {
    "duration": 62,
    "start_time": "2022-04-15T19:56:29.749Z"
   },
   {
    "duration": 13,
    "start_time": "2022-04-15T19:56:29.824Z"
   },
   {
    "duration": 494,
    "start_time": "2022-04-15T19:56:29.839Z"
   },
   {
    "duration": 73,
    "start_time": "2022-04-15T19:56:30.336Z"
   },
   {
    "duration": 28,
    "start_time": "2022-04-15T19:56:30.411Z"
   },
   {
    "duration": 538,
    "start_time": "2022-04-15T19:56:30.441Z"
   },
   {
    "duration": 18,
    "start_time": "2022-04-15T19:56:30.982Z"
   },
   {
    "duration": 34,
    "start_time": "2022-04-15T19:56:31.003Z"
   },
   {
    "duration": 18,
    "start_time": "2022-04-15T19:56:31.039Z"
   },
   {
    "duration": 34,
    "start_time": "2022-04-15T19:56:31.060Z"
   },
   {
    "duration": 91,
    "start_time": "2022-04-15T19:56:31.124Z"
   },
   {
    "duration": 46,
    "start_time": "2022-04-15T19:56:31.226Z"
   },
   {
    "duration": 5,
    "start_time": "2022-04-15T19:56:31.275Z"
   },
   {
    "duration": 44,
    "start_time": "2022-04-15T19:56:31.283Z"
   },
   {
    "duration": 42,
    "start_time": "2022-04-15T19:56:31.331Z"
   },
   {
    "duration": 52,
    "start_time": "2022-04-15T19:56:31.376Z"
   },
   {
    "duration": 25,
    "start_time": "2022-04-15T19:56:31.431Z"
   },
   {
    "duration": 14,
    "start_time": "2022-04-15T19:56:31.458Z"
   },
   {
    "duration": 61,
    "start_time": "2022-04-15T19:56:31.474Z"
   },
   {
    "duration": 11,
    "start_time": "2022-04-15T19:56:31.538Z"
   },
   {
    "duration": 543,
    "start_time": "2022-04-15T19:56:31.553Z"
   },
   {
    "duration": 8,
    "start_time": "2022-04-15T19:56:32.099Z"
   },
   {
    "duration": 604,
    "start_time": "2022-04-15T19:56:32.110Z"
   },
   {
    "duration": 15,
    "start_time": "2022-04-15T19:56:32.717Z"
   },
   {
    "duration": 951,
    "start_time": "2022-04-15T19:56:32.735Z"
   },
   {
    "duration": 404,
    "start_time": "2022-04-15T19:56:33.689Z"
   },
   {
    "duration": 873,
    "start_time": "2022-04-15T19:56:34.096Z"
   },
   {
    "duration": 545,
    "start_time": "2022-04-15T19:56:34.971Z"
   },
   {
    "duration": 1072,
    "start_time": "2022-04-15T19:56:35.519Z"
   },
   {
    "duration": 571,
    "start_time": "2022-04-15T19:56:36.594Z"
   },
   {
    "duration": 18,
    "start_time": "2022-04-15T19:56:37.168Z"
   },
   {
    "duration": 491,
    "start_time": "2022-04-15T19:56:37.189Z"
   },
   {
    "duration": 16,
    "start_time": "2022-04-15T19:56:37.683Z"
   },
   {
    "duration": 25,
    "start_time": "2022-04-15T19:56:37.702Z"
   },
   {
    "duration": 37,
    "start_time": "2022-04-15T19:56:37.729Z"
   },
   {
    "duration": 14,
    "start_time": "2022-04-15T19:56:37.770Z"
   },
   {
    "duration": 154,
    "start_time": "2022-04-16T16:00:08.241Z"
   },
   {
    "duration": 40,
    "start_time": "2022-04-16T16:01:48.809Z"
   },
   {
    "duration": 5,
    "start_time": "2022-04-16T16:01:56.482Z"
   },
   {
    "duration": 1145,
    "start_time": "2022-04-16T16:02:01.016Z"
   },
   {
    "duration": 362,
    "start_time": "2022-04-16T16:02:02.163Z"
   },
   {
    "duration": 11,
    "start_time": "2022-04-16T16:02:02.526Z"
   },
   {
    "duration": 28,
    "start_time": "2022-04-16T16:02:02.539Z"
   },
   {
    "duration": 20,
    "start_time": "2022-04-16T16:02:02.568Z"
   },
   {
    "duration": 127,
    "start_time": "2022-04-16T16:02:02.589Z"
   },
   {
    "duration": 9,
    "start_time": "2022-04-16T16:02:02.717Z"
   },
   {
    "duration": 29,
    "start_time": "2022-04-16T16:02:02.727Z"
   },
   {
    "duration": 16,
    "start_time": "2022-04-16T16:02:02.758Z"
   },
   {
    "duration": 98,
    "start_time": "2022-04-16T16:02:02.777Z"
   },
   {
    "duration": 8,
    "start_time": "2022-04-16T16:02:02.878Z"
   },
   {
    "duration": 19,
    "start_time": "2022-04-16T16:02:02.888Z"
   },
   {
    "duration": 39,
    "start_time": "2022-04-16T16:02:02.909Z"
   },
   {
    "duration": 47,
    "start_time": "2022-04-16T16:02:02.950Z"
   },
   {
    "duration": 8,
    "start_time": "2022-04-16T16:02:02.998Z"
   },
   {
    "duration": 12,
    "start_time": "2022-04-16T16:02:03.007Z"
   },
   {
    "duration": 28,
    "start_time": "2022-04-16T16:02:03.020Z"
   },
   {
    "duration": 5,
    "start_time": "2022-04-16T16:02:03.050Z"
   },
   {
    "duration": 11,
    "start_time": "2022-04-16T16:02:03.056Z"
   },
   {
    "duration": 12,
    "start_time": "2022-04-16T16:02:03.068Z"
   },
   {
    "duration": 7,
    "start_time": "2022-04-16T16:02:03.081Z"
   },
   {
    "duration": 8,
    "start_time": "2022-04-16T16:02:03.090Z"
   },
   {
    "duration": 54,
    "start_time": "2022-04-16T16:02:03.099Z"
   },
   {
    "duration": 40,
    "start_time": "2022-04-16T16:02:03.155Z"
   },
   {
    "duration": 5,
    "start_time": "2022-04-16T16:02:03.197Z"
   },
   {
    "duration": 9,
    "start_time": "2022-04-16T16:02:03.204Z"
   },
   {
    "duration": 4,
    "start_time": "2022-04-16T16:02:03.215Z"
   },
   {
    "duration": 324,
    "start_time": "2022-04-16T16:02:03.248Z"
   },
   {
    "duration": 42,
    "start_time": "2022-04-16T16:02:03.574Z"
   },
   {
    "duration": 8,
    "start_time": "2022-04-16T16:02:03.618Z"
   },
   {
    "duration": 292,
    "start_time": "2022-04-16T16:02:03.646Z"
   },
   {
    "duration": 49,
    "start_time": "2022-04-16T16:02:03.947Z"
   },
   {
    "duration": 11,
    "start_time": "2022-04-16T16:02:03.998Z"
   },
   {
    "duration": 329,
    "start_time": "2022-04-16T16:02:04.010Z"
   },
   {
    "duration": 11,
    "start_time": "2022-04-16T16:02:04.347Z"
   },
   {
    "duration": 10,
    "start_time": "2022-04-16T16:02:04.360Z"
   },
   {
    "duration": 9,
    "start_time": "2022-04-16T16:02:04.372Z"
   },
   {
    "duration": 17,
    "start_time": "2022-04-16T16:02:04.383Z"
   },
   {
    "duration": 92,
    "start_time": "2022-04-16T16:02:04.402Z"
   },
   {
    "duration": 26,
    "start_time": "2022-04-16T16:02:04.496Z"
   },
   {
    "duration": 3,
    "start_time": "2022-04-16T16:02:04.523Z"
   },
   {
    "duration": 25,
    "start_time": "2022-04-16T16:02:04.527Z"
   },
   {
    "duration": 24,
    "start_time": "2022-04-16T16:02:04.553Z"
   },
   {
    "duration": 13,
    "start_time": "2022-04-16T16:02:04.578Z"
   },
   {
    "duration": 10,
    "start_time": "2022-04-16T16:02:04.593Z"
   },
   {
    "duration": 11,
    "start_time": "2022-04-16T16:02:04.605Z"
   },
   {
    "duration": 37,
    "start_time": "2022-04-16T16:02:04.618Z"
   },
   {
    "duration": 5,
    "start_time": "2022-04-16T16:02:04.657Z"
   },
   {
    "duration": 157,
    "start_time": "2022-04-16T16:02:04.663Z"
   },
   {
    "duration": 4,
    "start_time": "2022-04-16T16:02:04.821Z"
   },
   {
    "duration": 167,
    "start_time": "2022-04-16T16:02:04.826Z"
   },
   {
    "duration": 4,
    "start_time": "2022-04-16T16:02:04.995Z"
   },
   {
    "duration": 8,
    "start_time": "2022-04-16T16:02:05.000Z"
   },
   {
    "duration": 434,
    "start_time": "2022-04-16T16:02:05.010Z"
   },
   {
    "duration": 272,
    "start_time": "2022-04-16T16:02:05.446Z"
   },
   {
    "duration": 419,
    "start_time": "2022-04-16T16:02:05.720Z"
   },
   {
    "duration": 187,
    "start_time": "2022-04-16T16:02:06.140Z"
   },
   {
    "duration": 402,
    "start_time": "2022-04-16T16:02:06.329Z"
   },
   {
    "duration": 191,
    "start_time": "2022-04-16T16:02:06.732Z"
   },
   {
    "duration": 8,
    "start_time": "2022-04-16T16:02:06.925Z"
   },
   {
    "duration": 164,
    "start_time": "2022-04-16T16:02:06.935Z"
   },
   {
    "duration": 9,
    "start_time": "2022-04-16T16:02:07.100Z"
   },
   {
    "duration": 8,
    "start_time": "2022-04-16T16:02:07.110Z"
   },
   {
    "duration": 36,
    "start_time": "2022-04-16T16:02:07.120Z"
   },
   {
    "duration": 8,
    "start_time": "2022-04-16T16:02:07.157Z"
   },
   {
    "duration": 102,
    "start_time": "2022-04-16T16:19:58.844Z"
   },
   {
    "duration": 1136,
    "start_time": "2022-04-16T16:30:57.438Z"
   },
   {
    "duration": 379,
    "start_time": "2022-04-16T16:30:58.576Z"
   },
   {
    "duration": 11,
    "start_time": "2022-04-16T16:30:58.957Z"
   },
   {
    "duration": 24,
    "start_time": "2022-04-16T16:30:58.970Z"
   },
   {
    "duration": 20,
    "start_time": "2022-04-16T16:30:58.996Z"
   },
   {
    "duration": 138,
    "start_time": "2022-04-16T16:30:59.018Z"
   },
   {
    "duration": 9,
    "start_time": "2022-04-16T16:30:59.157Z"
   },
   {
    "duration": 21,
    "start_time": "2022-04-16T16:30:59.168Z"
   },
   {
    "duration": 16,
    "start_time": "2022-04-16T16:30:59.191Z"
   },
   {
    "duration": 95,
    "start_time": "2022-04-16T16:30:59.210Z"
   },
   {
    "duration": 8,
    "start_time": "2022-04-16T16:30:59.307Z"
   },
   {
    "duration": 35,
    "start_time": "2022-04-16T16:30:59.316Z"
   },
   {
    "duration": 14,
    "start_time": "2022-04-16T16:30:59.353Z"
   },
   {
    "duration": 47,
    "start_time": "2022-04-16T16:30:59.368Z"
   },
   {
    "duration": 8,
    "start_time": "2022-04-16T16:30:59.416Z"
   },
   {
    "duration": 31,
    "start_time": "2022-04-16T16:30:59.425Z"
   },
   {
    "duration": 7,
    "start_time": "2022-04-16T16:30:59.457Z"
   },
   {
    "duration": 5,
    "start_time": "2022-04-16T16:30:59.466Z"
   },
   {
    "duration": 11,
    "start_time": "2022-04-16T16:30:59.473Z"
   },
   {
    "duration": 12,
    "start_time": "2022-04-16T16:30:59.485Z"
   },
   {
    "duration": 8,
    "start_time": "2022-04-16T16:30:59.499Z"
   },
   {
    "duration": 6,
    "start_time": "2022-04-16T16:30:59.548Z"
   },
   {
    "duration": 28,
    "start_time": "2022-04-16T16:30:59.555Z"
   },
   {
    "duration": 38,
    "start_time": "2022-04-16T16:30:59.585Z"
   },
   {
    "duration": 25,
    "start_time": "2022-04-16T16:30:59.625Z"
   },
   {
    "duration": 9,
    "start_time": "2022-04-16T16:30:59.652Z"
   },
   {
    "duration": 4,
    "start_time": "2022-04-16T16:30:59.663Z"
   },
   {
    "duration": 456,
    "start_time": "2022-04-16T16:30:59.671Z"
   },
   {
    "duration": 48,
    "start_time": "2022-04-16T16:31:00.129Z"
   },
   {
    "duration": 8,
    "start_time": "2022-04-16T16:31:00.179Z"
   },
   {
    "duration": 342,
    "start_time": "2022-04-16T16:31:00.188Z"
   },
   {
    "duration": 62,
    "start_time": "2022-04-16T16:31:00.532Z"
   },
   {
    "duration": 9,
    "start_time": "2022-04-16T16:31:00.596Z"
   },
   {
    "duration": 361,
    "start_time": "2022-04-16T16:31:00.606Z"
   },
   {
    "duration": 11,
    "start_time": "2022-04-16T16:31:00.969Z"
   },
   {
    "duration": 12,
    "start_time": "2022-04-16T16:31:00.981Z"
   },
   {
    "duration": 10,
    "start_time": "2022-04-16T16:31:00.995Z"
   },
   {
    "duration": 42,
    "start_time": "2022-04-16T16:31:01.006Z"
   },
   {
    "duration": 63,
    "start_time": "2022-04-16T16:31:01.049Z"
   },
   {
    "duration": 42,
    "start_time": "2022-04-16T16:31:01.114Z"
   },
   {
    "duration": 3,
    "start_time": "2022-04-16T16:31:01.158Z"
   },
   {
    "duration": 17,
    "start_time": "2022-04-16T16:31:01.162Z"
   },
   {
    "duration": 23,
    "start_time": "2022-04-16T16:31:01.181Z"
   },
   {
    "duration": 15,
    "start_time": "2022-04-16T16:31:01.205Z"
   },
   {
    "duration": 33,
    "start_time": "2022-04-16T16:31:01.222Z"
   },
   {
    "duration": 8,
    "start_time": "2022-04-16T16:31:01.256Z"
   },
   {
    "duration": 22,
    "start_time": "2022-04-16T16:31:01.266Z"
   },
   {
    "duration": 5,
    "start_time": "2022-04-16T16:31:01.290Z"
   },
   {
    "duration": 168,
    "start_time": "2022-04-16T16:31:01.297Z"
   },
   {
    "duration": 4,
    "start_time": "2022-04-16T16:31:01.467Z"
   },
   {
    "duration": 175,
    "start_time": "2022-04-16T16:31:01.473Z"
   },
   {
    "duration": 7,
    "start_time": "2022-04-16T16:31:01.649Z"
   },
   {
    "duration": 471,
    "start_time": "2022-04-16T16:31:01.658Z"
   },
   {
    "duration": 287,
    "start_time": "2022-04-16T16:31:02.131Z"
   },
   {
    "duration": 426,
    "start_time": "2022-04-16T16:31:02.419Z"
   },
   {
    "duration": 195,
    "start_time": "2022-04-16T16:31:02.847Z"
   },
   {
    "duration": 547,
    "start_time": "2022-04-16T16:31:03.048Z"
   },
   {
    "duration": 192,
    "start_time": "2022-04-16T16:31:03.596Z"
   },
   {
    "duration": 9,
    "start_time": "2022-04-16T16:31:03.789Z"
   },
   {
    "duration": 173,
    "start_time": "2022-04-16T16:31:03.799Z"
   },
   {
    "duration": 8,
    "start_time": "2022-04-16T16:31:03.974Z"
   },
   {
    "duration": 10,
    "start_time": "2022-04-16T16:31:03.983Z"
   },
   {
    "duration": 19,
    "start_time": "2022-04-16T16:31:03.995Z"
   },
   {
    "duration": 33,
    "start_time": "2022-04-16T16:31:04.015Z"
   },
   {
    "duration": 1125,
    "start_time": "2022-04-16T16:32:27.409Z"
   },
   {
    "duration": 371,
    "start_time": "2022-04-16T16:32:28.535Z"
   },
   {
    "duration": 12,
    "start_time": "2022-04-16T16:32:28.908Z"
   },
   {
    "duration": 26,
    "start_time": "2022-04-16T16:32:28.921Z"
   },
   {
    "duration": 21,
    "start_time": "2022-04-16T16:32:28.950Z"
   },
   {
    "duration": 123,
    "start_time": "2022-04-16T16:32:28.973Z"
   },
   {
    "duration": 9,
    "start_time": "2022-04-16T16:32:29.098Z"
   },
   {
    "duration": 39,
    "start_time": "2022-04-16T16:32:29.109Z"
   },
   {
    "duration": 17,
    "start_time": "2022-04-16T16:32:29.150Z"
   },
   {
    "duration": 84,
    "start_time": "2022-04-16T16:32:29.168Z"
   },
   {
    "duration": 8,
    "start_time": "2022-04-16T16:32:29.254Z"
   },
   {
    "duration": 20,
    "start_time": "2022-04-16T16:32:29.263Z"
   },
   {
    "duration": 14,
    "start_time": "2022-04-16T16:32:29.285Z"
   },
   {
    "duration": 71,
    "start_time": "2022-04-16T16:32:29.302Z"
   },
   {
    "duration": 8,
    "start_time": "2022-04-16T16:32:29.376Z"
   },
   {
    "duration": 11,
    "start_time": "2022-04-16T16:32:29.385Z"
   },
   {
    "duration": 8,
    "start_time": "2022-04-16T16:32:29.398Z"
   },
   {
    "duration": 8,
    "start_time": "2022-04-16T16:32:29.408Z"
   },
   {
    "duration": 31,
    "start_time": "2022-04-16T16:32:29.417Z"
   },
   {
    "duration": 9,
    "start_time": "2022-04-16T16:32:29.450Z"
   },
   {
    "duration": 8,
    "start_time": "2022-04-16T16:32:29.461Z"
   },
   {
    "duration": 6,
    "start_time": "2022-04-16T16:32:29.470Z"
   },
   {
    "duration": 29,
    "start_time": "2022-04-16T16:32:29.478Z"
   },
   {
    "duration": 62,
    "start_time": "2022-04-16T16:32:29.509Z"
   },
   {
    "duration": 5,
    "start_time": "2022-04-16T16:32:29.572Z"
   },
   {
    "duration": 11,
    "start_time": "2022-04-16T16:32:29.578Z"
   },
   {
    "duration": 4,
    "start_time": "2022-04-16T16:32:29.591Z"
   },
   {
    "duration": 361,
    "start_time": "2022-04-16T16:32:29.596Z"
   },
   {
    "duration": 46,
    "start_time": "2022-04-16T16:32:29.959Z"
   },
   {
    "duration": 9,
    "start_time": "2022-04-16T16:32:30.008Z"
   },
   {
    "duration": 331,
    "start_time": "2022-04-16T16:32:30.019Z"
   },
   {
    "duration": 52,
    "start_time": "2022-04-16T16:32:30.351Z"
   },
   {
    "duration": 10,
    "start_time": "2022-04-16T16:32:30.404Z"
   },
   {
    "duration": 339,
    "start_time": "2022-04-16T16:32:30.416Z"
   },
   {
    "duration": 10,
    "start_time": "2022-04-16T16:32:30.758Z"
   },
   {
    "duration": 14,
    "start_time": "2022-04-16T16:32:30.770Z"
   },
   {
    "duration": 10,
    "start_time": "2022-04-16T16:32:30.786Z"
   },
   {
    "duration": 20,
    "start_time": "2022-04-16T16:32:30.798Z"
   },
   {
    "duration": 87,
    "start_time": "2022-04-16T16:32:30.820Z"
   },
   {
    "duration": 28,
    "start_time": "2022-04-16T16:32:30.909Z"
   },
   {
    "duration": 3,
    "start_time": "2022-04-16T16:32:30.951Z"
   },
   {
    "duration": 11,
    "start_time": "2022-04-16T16:32:30.956Z"
   },
   {
    "duration": 18,
    "start_time": "2022-04-16T16:32:30.969Z"
   },
   {
    "duration": 11,
    "start_time": "2022-04-16T16:32:30.989Z"
   },
   {
    "duration": 46,
    "start_time": "2022-04-16T16:32:31.002Z"
   },
   {
    "duration": 9,
    "start_time": "2022-04-16T16:32:31.049Z"
   },
   {
    "duration": 22,
    "start_time": "2022-04-16T16:32:31.060Z"
   },
   {
    "duration": 5,
    "start_time": "2022-04-16T16:32:31.084Z"
   },
   {
    "duration": 248,
    "start_time": "2022-04-16T16:32:31.091Z"
   },
   {
    "duration": 9,
    "start_time": "2022-04-16T16:32:31.341Z"
   },
   {
    "duration": 253,
    "start_time": "2022-04-16T16:32:31.351Z"
   },
   {
    "duration": 9,
    "start_time": "2022-04-16T16:32:31.606Z"
   },
   {
    "duration": 446,
    "start_time": "2022-04-16T16:32:31.617Z"
   },
   {
    "duration": 292,
    "start_time": "2022-04-16T16:32:32.065Z"
   },
   {
    "duration": 466,
    "start_time": "2022-04-16T16:32:32.359Z"
   },
   {
    "duration": 192,
    "start_time": "2022-04-16T16:32:32.827Z"
   },
   {
    "duration": 415,
    "start_time": "2022-04-16T16:32:33.021Z"
   },
   {
    "duration": 201,
    "start_time": "2022-04-16T16:32:33.438Z"
   },
   {
    "duration": 10,
    "start_time": "2022-04-16T16:32:33.647Z"
   },
   {
    "duration": 169,
    "start_time": "2022-04-16T16:32:33.659Z"
   },
   {
    "duration": 18,
    "start_time": "2022-04-16T16:32:33.830Z"
   },
   {
    "duration": 5,
    "start_time": "2022-04-16T16:32:33.850Z"
   },
   {
    "duration": 20,
    "start_time": "2022-04-16T16:32:33.856Z"
   },
   {
    "duration": 8,
    "start_time": "2022-04-16T16:32:33.878Z"
   },
   {
    "duration": 1263,
    "start_time": "2022-04-16T17:43:52.774Z"
   },
   {
    "duration": 355,
    "start_time": "2022-04-16T17:43:54.039Z"
   },
   {
    "duration": 11,
    "start_time": "2022-04-16T17:43:54.395Z"
   },
   {
    "duration": 23,
    "start_time": "2022-04-16T17:43:54.408Z"
   },
   {
    "duration": 19,
    "start_time": "2022-04-16T17:43:54.433Z"
   },
   {
    "duration": 108,
    "start_time": "2022-04-16T17:43:54.454Z"
   },
   {
    "duration": 7,
    "start_time": "2022-04-16T17:43:54.564Z"
   },
   {
    "duration": 20,
    "start_time": "2022-04-16T17:43:54.573Z"
   },
   {
    "duration": 15,
    "start_time": "2022-04-16T17:43:54.595Z"
   },
   {
    "duration": 67,
    "start_time": "2022-04-16T17:43:54.613Z"
   },
   {
    "duration": 7,
    "start_time": "2022-04-16T17:43:54.682Z"
   },
   {
    "duration": 19,
    "start_time": "2022-04-16T17:43:54.690Z"
   },
   {
    "duration": 14,
    "start_time": "2022-04-16T17:43:54.711Z"
   },
   {
    "duration": 64,
    "start_time": "2022-04-16T17:43:54.726Z"
   },
   {
    "duration": 7,
    "start_time": "2022-04-16T17:43:54.792Z"
   },
   {
    "duration": 12,
    "start_time": "2022-04-16T17:43:54.800Z"
   },
   {
    "duration": 7,
    "start_time": "2022-04-16T17:43:54.813Z"
   },
   {
    "duration": 30,
    "start_time": "2022-04-16T17:43:54.821Z"
   },
   {
    "duration": 11,
    "start_time": "2022-04-16T17:43:54.853Z"
   },
   {
    "duration": 10,
    "start_time": "2022-04-16T17:43:54.866Z"
   },
   {
    "duration": 6,
    "start_time": "2022-04-16T17:43:54.878Z"
   },
   {
    "duration": 7,
    "start_time": "2022-04-16T17:43:54.885Z"
   },
   {
    "duration": 55,
    "start_time": "2022-04-16T17:43:54.893Z"
   },
   {
    "duration": 39,
    "start_time": "2022-04-16T17:43:54.949Z"
   },
   {
    "duration": 5,
    "start_time": "2022-04-16T17:43:54.989Z"
   },
   {
    "duration": 10,
    "start_time": "2022-04-16T17:43:54.995Z"
   },
   {
    "duration": 6,
    "start_time": "2022-04-16T17:43:55.007Z"
   },
   {
    "duration": 388,
    "start_time": "2022-04-16T17:43:55.016Z"
   },
   {
    "duration": 45,
    "start_time": "2022-04-16T17:43:55.406Z"
   },
   {
    "duration": 9,
    "start_time": "2022-04-16T17:43:55.453Z"
   },
   {
    "duration": 292,
    "start_time": "2022-04-16T17:43:55.463Z"
   },
   {
    "duration": 47,
    "start_time": "2022-04-16T17:43:55.756Z"
   },
   {
    "duration": 9,
    "start_time": "2022-04-16T17:43:55.804Z"
   },
   {
    "duration": 334,
    "start_time": "2022-04-16T17:43:55.815Z"
   },
   {
    "duration": 10,
    "start_time": "2022-04-16T17:43:56.152Z"
   },
   {
    "duration": 21,
    "start_time": "2022-04-16T17:43:56.163Z"
   },
   {
    "duration": 66,
    "start_time": "2022-04-16T17:43:56.185Z"
   },
   {
    "duration": 27,
    "start_time": "2022-04-16T17:43:56.253Z"
   },
   {
    "duration": 2,
    "start_time": "2022-04-16T17:43:56.282Z"
   },
   {
    "duration": 10,
    "start_time": "2022-04-16T17:43:56.286Z"
   },
   {
    "duration": 17,
    "start_time": "2022-04-16T17:43:56.298Z"
   },
   {
    "duration": 40,
    "start_time": "2022-04-16T17:43:56.316Z"
   },
   {
    "duration": 11,
    "start_time": "2022-04-16T17:43:56.357Z"
   },
   {
    "duration": 8,
    "start_time": "2022-04-16T17:43:56.369Z"
   },
   {
    "duration": 16,
    "start_time": "2022-04-16T17:43:56.378Z"
   },
   {
    "duration": 5,
    "start_time": "2022-04-16T17:43:56.396Z"
   },
   {
    "duration": 8,
    "start_time": "2022-04-16T17:43:56.402Z"
   },
   {
    "duration": 170,
    "start_time": "2022-04-16T17:43:56.411Z"
   },
   {
    "duration": 3,
    "start_time": "2022-04-16T17:43:56.583Z"
   },
   {
    "duration": 179,
    "start_time": "2022-04-16T17:43:56.588Z"
   },
   {
    "duration": 6,
    "start_time": "2022-04-16T17:43:56.768Z"
   },
   {
    "duration": 521,
    "start_time": "2022-04-16T17:43:56.776Z"
   },
   {
    "duration": 198,
    "start_time": "2022-04-16T17:43:57.299Z"
   },
   {
    "duration": 444,
    "start_time": "2022-04-16T17:43:57.499Z"
   },
   {
    "duration": 175,
    "start_time": "2022-04-16T17:43:57.945Z"
   },
   {
    "duration": 410,
    "start_time": "2022-04-16T17:43:58.121Z"
   },
   {
    "duration": 191,
    "start_time": "2022-04-16T17:43:58.533Z"
   },
   {
    "duration": 9,
    "start_time": "2022-04-16T17:43:58.725Z"
   },
   {
    "duration": 166,
    "start_time": "2022-04-16T17:43:58.736Z"
   },
   {
    "duration": 8,
    "start_time": "2022-04-16T17:43:58.903Z"
   },
   {
    "duration": 6,
    "start_time": "2022-04-16T17:43:58.912Z"
   },
   {
    "duration": 31,
    "start_time": "2022-04-16T17:43:58.919Z"
   },
   {
    "duration": 8,
    "start_time": "2022-04-16T17:43:58.952Z"
   },
   {
    "duration": 14,
    "start_time": "2022-04-16T17:45:50.115Z"
   },
   {
    "duration": 5,
    "start_time": "2022-04-16T17:46:06.211Z"
   },
   {
    "duration": 43,
    "start_time": "2022-04-17T17:46:10.444Z"
   },
   {
    "duration": 1157,
    "start_time": "2022-04-17T17:46:15.707Z"
   },
   {
    "duration": 567,
    "start_time": "2022-04-17T17:46:16.866Z"
   },
   {
    "duration": 15,
    "start_time": "2022-04-17T17:46:17.435Z"
   },
   {
    "duration": 40,
    "start_time": "2022-04-17T17:46:17.453Z"
   },
   {
    "duration": 34,
    "start_time": "2022-04-17T17:46:17.495Z"
   },
   {
    "duration": 140,
    "start_time": "2022-04-17T17:46:17.531Z"
   },
   {
    "duration": 10,
    "start_time": "2022-04-17T17:46:17.673Z"
   },
   {
    "duration": 43,
    "start_time": "2022-04-17T17:46:17.685Z"
   },
   {
    "duration": 26,
    "start_time": "2022-04-17T17:46:17.730Z"
   },
   {
    "duration": 54,
    "start_time": "2022-04-17T17:46:17.759Z"
   },
   {
    "duration": 7,
    "start_time": "2022-04-17T17:46:17.814Z"
   },
   {
    "duration": 29,
    "start_time": "2022-04-17T17:46:17.823Z"
   },
   {
    "duration": 23,
    "start_time": "2022-04-17T17:46:17.854Z"
   },
   {
    "duration": 76,
    "start_time": "2022-04-17T17:46:17.879Z"
   },
   {
    "duration": 10,
    "start_time": "2022-04-17T17:46:17.957Z"
   },
   {
    "duration": 32,
    "start_time": "2022-04-17T17:46:17.969Z"
   },
   {
    "duration": 6,
    "start_time": "2022-04-17T17:46:18.003Z"
   },
   {
    "duration": 8,
    "start_time": "2022-04-17T17:46:18.011Z"
   },
   {
    "duration": 16,
    "start_time": "2022-04-17T17:46:18.021Z"
   },
   {
    "duration": 12,
    "start_time": "2022-04-17T17:46:18.039Z"
   },
   {
    "duration": 7,
    "start_time": "2022-04-17T17:46:18.052Z"
   },
   {
    "duration": 7,
    "start_time": "2022-04-17T17:46:18.060Z"
   },
   {
    "duration": 67,
    "start_time": "2022-04-17T17:46:18.068Z"
   },
   {
    "duration": 50,
    "start_time": "2022-04-17T17:46:18.137Z"
   },
   {
    "duration": 13,
    "start_time": "2022-04-17T17:46:18.189Z"
   },
   {
    "duration": 9,
    "start_time": "2022-04-17T17:46:18.204Z"
   },
   {
    "duration": 6,
    "start_time": "2022-04-17T17:46:18.215Z"
   },
   {
    "duration": 447,
    "start_time": "2022-04-17T17:46:18.225Z"
   },
   {
    "duration": 60,
    "start_time": "2022-04-17T17:46:18.674Z"
   },
   {
    "duration": 11,
    "start_time": "2022-04-17T17:46:18.736Z"
   },
   {
    "duration": 386,
    "start_time": "2022-04-17T17:46:18.748Z"
   },
   {
    "duration": 71,
    "start_time": "2022-04-17T17:46:19.136Z"
   },
   {
    "duration": 11,
    "start_time": "2022-04-17T17:46:19.209Z"
   },
   {
    "duration": 350,
    "start_time": "2022-04-17T17:46:19.222Z"
   },
   {
    "duration": 10,
    "start_time": "2022-04-17T17:46:19.574Z"
   },
   {
    "duration": 26,
    "start_time": "2022-04-17T17:46:19.586Z"
   },
   {
    "duration": 57,
    "start_time": "2022-04-17T17:46:19.613Z"
   },
   {
    "duration": 35,
    "start_time": "2022-04-17T17:46:19.672Z"
   },
   {
    "duration": 3,
    "start_time": "2022-04-17T17:46:19.708Z"
   },
   {
    "duration": 12,
    "start_time": "2022-04-17T17:46:19.713Z"
   },
   {
    "duration": 21,
    "start_time": "2022-04-17T17:46:19.727Z"
   },
   {
    "duration": 10,
    "start_time": "2022-04-17T17:46:19.750Z"
   },
   {
    "duration": 15,
    "start_time": "2022-04-17T17:46:19.762Z"
   },
   {
    "duration": 23,
    "start_time": "2022-04-17T17:46:19.779Z"
   },
   {
    "duration": 25,
    "start_time": "2022-04-17T17:46:19.804Z"
   },
   {
    "duration": 6,
    "start_time": "2022-04-17T17:46:19.831Z"
   },
   {
    "duration": 21,
    "start_time": "2022-04-17T17:46:19.838Z"
   },
   {
    "duration": 223,
    "start_time": "2022-04-17T17:46:19.861Z"
   },
   {
    "duration": 5,
    "start_time": "2022-04-17T17:46:20.086Z"
   },
   {
    "duration": 273,
    "start_time": "2022-04-17T17:46:20.092Z"
   },
   {
    "duration": 5,
    "start_time": "2022-04-17T17:46:20.367Z"
   },
   {
    "duration": 6,
    "start_time": "2022-04-17T17:46:20.374Z"
   },
   {
    "duration": 499,
    "start_time": "2022-04-17T17:46:20.382Z"
   },
   {
    "duration": 210,
    "start_time": "2022-04-17T17:46:20.883Z"
   },
   {
    "duration": 429,
    "start_time": "2022-04-17T17:46:21.094Z"
   },
   {
    "duration": 186,
    "start_time": "2022-04-17T17:46:21.524Z"
   },
   {
    "duration": 481,
    "start_time": "2022-04-17T17:46:21.712Z"
   },
   {
    "duration": 192,
    "start_time": "2022-04-17T17:46:22.195Z"
   },
   {
    "duration": 15,
    "start_time": "2022-04-17T17:46:22.388Z"
   },
   {
    "duration": 172,
    "start_time": "2022-04-17T17:46:22.405Z"
   },
   {
    "duration": 21,
    "start_time": "2022-04-17T17:46:22.579Z"
   },
   {
    "duration": 4,
    "start_time": "2022-04-17T17:46:22.602Z"
   },
   {
    "duration": 21,
    "start_time": "2022-04-17T17:46:22.608Z"
   },
   {
    "duration": 8,
    "start_time": "2022-04-17T17:46:22.630Z"
   },
   {
    "duration": 208,
    "start_time": "2022-04-17T17:50:39.182Z"
   },
   {
    "duration": 197,
    "start_time": "2022-04-17T18:04:06.253Z"
   },
   {
    "duration": 1157,
    "start_time": "2022-04-17T18:07:19.352Z"
   },
   {
    "duration": 441,
    "start_time": "2022-04-17T18:07:20.512Z"
   },
   {
    "duration": 11,
    "start_time": "2022-04-17T18:07:20.954Z"
   },
   {
    "duration": 23,
    "start_time": "2022-04-17T18:07:20.967Z"
   },
   {
    "duration": 30,
    "start_time": "2022-04-17T18:07:20.992Z"
   },
   {
    "duration": 115,
    "start_time": "2022-04-17T18:07:21.023Z"
   },
   {
    "duration": 10,
    "start_time": "2022-04-17T18:07:21.140Z"
   },
   {
    "duration": 29,
    "start_time": "2022-04-17T18:07:21.151Z"
   },
   {
    "duration": 28,
    "start_time": "2022-04-17T18:07:21.182Z"
   },
   {
    "duration": 61,
    "start_time": "2022-04-17T18:07:21.214Z"
   },
   {
    "duration": 7,
    "start_time": "2022-04-17T18:07:21.277Z"
   },
   {
    "duration": 35,
    "start_time": "2022-04-17T18:07:21.285Z"
   },
   {
    "duration": 21,
    "start_time": "2022-04-17T18:07:21.322Z"
   },
   {
    "duration": 56,
    "start_time": "2022-04-17T18:07:21.345Z"
   },
   {
    "duration": 10,
    "start_time": "2022-04-17T18:07:21.403Z"
   },
   {
    "duration": 31,
    "start_time": "2022-04-17T18:07:21.415Z"
   },
   {
    "duration": 13,
    "start_time": "2022-04-17T18:07:21.447Z"
   },
   {
    "duration": 14,
    "start_time": "2022-04-17T18:07:21.462Z"
   },
   {
    "duration": 35,
    "start_time": "2022-04-17T18:07:21.477Z"
   },
   {
    "duration": 21,
    "start_time": "2022-04-17T18:07:21.514Z"
   },
   {
    "duration": 23,
    "start_time": "2022-04-17T18:07:21.537Z"
   },
   {
    "duration": 16,
    "start_time": "2022-04-17T18:07:21.561Z"
   },
   {
    "duration": 58,
    "start_time": "2022-04-17T18:07:21.578Z"
   },
   {
    "duration": 37,
    "start_time": "2022-04-17T18:07:21.638Z"
   },
   {
    "duration": 4,
    "start_time": "2022-04-17T18:07:21.676Z"
   },
   {
    "duration": 45,
    "start_time": "2022-04-17T18:07:21.682Z"
   },
   {
    "duration": 9,
    "start_time": "2022-04-17T18:07:21.728Z"
   },
   {
    "duration": 352,
    "start_time": "2022-04-17T18:07:21.740Z"
   },
   {
    "duration": 58,
    "start_time": "2022-04-17T18:07:22.094Z"
   },
   {
    "duration": 8,
    "start_time": "2022-04-17T18:07:22.154Z"
   },
   {
    "duration": 362,
    "start_time": "2022-04-17T18:07:22.163Z"
   },
   {
    "duration": 48,
    "start_time": "2022-04-17T18:07:22.527Z"
   },
   {
    "duration": 9,
    "start_time": "2022-04-17T18:07:22.576Z"
   },
   {
    "duration": 363,
    "start_time": "2022-04-17T18:07:22.586Z"
   },
   {
    "duration": 10,
    "start_time": "2022-04-17T18:07:22.950Z"
   },
   {
    "duration": 18,
    "start_time": "2022-04-17T18:07:22.961Z"
   },
   {
    "duration": 79,
    "start_time": "2022-04-17T18:07:22.981Z"
   },
   {
    "duration": 25,
    "start_time": "2022-04-17T18:07:23.061Z"
   },
   {
    "duration": 17,
    "start_time": "2022-04-17T18:07:23.088Z"
   },
   {
    "duration": 13,
    "start_time": "2022-04-17T18:07:23.108Z"
   },
   {
    "duration": 26,
    "start_time": "2022-04-17T18:07:23.123Z"
   },
   {
    "duration": 10,
    "start_time": "2022-04-17T18:07:23.151Z"
   },
   {
    "duration": 11,
    "start_time": "2022-04-17T18:07:23.162Z"
   },
   {
    "duration": 42,
    "start_time": "2022-04-17T18:07:23.175Z"
   },
   {
    "duration": 18,
    "start_time": "2022-04-17T18:07:23.219Z"
   },
   {
    "duration": 6,
    "start_time": "2022-04-17T18:07:23.238Z"
   },
   {
    "duration": 8,
    "start_time": "2022-04-17T18:07:23.246Z"
   },
   {
    "duration": 179,
    "start_time": "2022-04-17T18:07:23.255Z"
   },
   {
    "duration": 3,
    "start_time": "2022-04-17T18:07:23.436Z"
   },
   {
    "duration": 217,
    "start_time": "2022-04-17T18:07:23.441Z"
   },
   {
    "duration": 3,
    "start_time": "2022-04-17T18:07:23.660Z"
   },
   {
    "duration": 9,
    "start_time": "2022-04-17T18:07:23.665Z"
   },
   {
    "duration": 584,
    "start_time": "2022-04-17T18:07:23.675Z"
   },
   {
    "duration": 290,
    "start_time": "2022-04-17T18:07:24.260Z"
   },
   {
    "duration": 456,
    "start_time": "2022-04-17T18:07:24.552Z"
   },
   {
    "duration": 215,
    "start_time": "2022-04-17T18:07:25.010Z"
   },
   {
    "duration": 465,
    "start_time": "2022-04-17T18:07:25.227Z"
   },
   {
    "duration": 230,
    "start_time": "2022-04-17T18:07:25.693Z"
   },
   {
    "duration": 9,
    "start_time": "2022-04-17T18:07:25.926Z"
   },
   {
    "duration": 214,
    "start_time": "2022-04-17T18:07:25.937Z"
   },
   {
    "duration": 8,
    "start_time": "2022-04-17T18:07:26.153Z"
   },
   {
    "duration": 6,
    "start_time": "2022-04-17T18:07:26.162Z"
   },
   {
    "duration": 17,
    "start_time": "2022-04-17T18:07:26.170Z"
   },
   {
    "duration": 24,
    "start_time": "2022-04-17T18:07:26.188Z"
   },
   {
    "duration": 19,
    "start_time": "2022-04-17T19:39:30.900Z"
   },
   {
    "duration": 1954,
    "start_time": "2022-04-17T19:48:17.118Z"
   },
   {
    "duration": 699,
    "start_time": "2022-04-17T19:48:19.075Z"
   },
   {
    "duration": 25,
    "start_time": "2022-04-17T19:48:19.776Z"
   },
   {
    "duration": 60,
    "start_time": "2022-04-17T19:48:19.806Z"
   },
   {
    "duration": 64,
    "start_time": "2022-04-17T19:48:19.869Z"
   },
   {
    "duration": 237,
    "start_time": "2022-04-17T19:48:19.936Z"
   },
   {
    "duration": 18,
    "start_time": "2022-04-17T19:48:20.177Z"
   },
   {
    "duration": 73,
    "start_time": "2022-04-17T19:48:20.197Z"
   },
   {
    "duration": 24,
    "start_time": "2022-04-17T19:48:20.273Z"
   },
   {
    "duration": 99,
    "start_time": "2022-04-17T19:48:20.302Z"
   },
   {
    "duration": 25,
    "start_time": "2022-04-17T19:48:20.403Z"
   },
   {
    "duration": 32,
    "start_time": "2022-04-17T19:48:20.430Z"
   },
   {
    "duration": 20,
    "start_time": "2022-04-17T19:48:20.464Z"
   },
   {
    "duration": 111,
    "start_time": "2022-04-17T19:48:20.486Z"
   },
   {
    "duration": 27,
    "start_time": "2022-04-17T19:48:20.600Z"
   },
   {
    "duration": 26,
    "start_time": "2022-04-17T19:48:20.629Z"
   },
   {
    "duration": 14,
    "start_time": "2022-04-17T19:48:20.658Z"
   },
   {
    "duration": 10,
    "start_time": "2022-04-17T19:48:20.674Z"
   },
   {
    "duration": 66,
    "start_time": "2022-04-17T19:48:20.687Z"
   },
   {
    "duration": 22,
    "start_time": "2022-04-17T19:48:20.756Z"
   },
   {
    "duration": 16,
    "start_time": "2022-04-17T19:48:20.780Z"
   },
   {
    "duration": 11,
    "start_time": "2022-04-17T19:48:20.799Z"
   },
   {
    "duration": 99,
    "start_time": "2022-04-17T19:48:20.825Z"
   },
   {
    "duration": 76,
    "start_time": "2022-04-17T19:48:20.927Z"
   },
   {
    "duration": 19,
    "start_time": "2022-04-17T19:48:21.006Z"
   },
   {
    "duration": 17,
    "start_time": "2022-04-17T19:48:21.028Z"
   },
   {
    "duration": 13,
    "start_time": "2022-04-17T19:48:21.048Z"
   },
   {
    "duration": 671,
    "start_time": "2022-04-17T19:48:21.067Z"
   },
   {
    "duration": 63,
    "start_time": "2022-04-17T19:48:21.741Z"
   },
   {
    "duration": 21,
    "start_time": "2022-04-17T19:48:21.806Z"
   },
   {
    "duration": 498,
    "start_time": "2022-04-17T19:48:21.829Z"
   },
   {
    "duration": 124,
    "start_time": "2022-04-17T19:48:22.330Z"
   },
   {
    "duration": 72,
    "start_time": "2022-04-17T19:48:22.458Z"
   },
   {
    "duration": 862,
    "start_time": "2022-04-17T19:48:22.533Z"
   },
   {
    "duration": 29,
    "start_time": "2022-04-17T19:48:23.398Z"
   },
   {
    "duration": 57,
    "start_time": "2022-04-17T19:48:23.429Z"
   },
   {
    "duration": 80,
    "start_time": "2022-04-17T19:48:23.489Z"
   },
   {
    "duration": 68,
    "start_time": "2022-04-17T19:48:23.572Z"
   },
   {
    "duration": 8,
    "start_time": "2022-04-17T19:48:23.642Z"
   },
   {
    "duration": 20,
    "start_time": "2022-04-17T19:48:23.653Z"
   },
   {
    "duration": 34,
    "start_time": "2022-04-17T19:48:23.676Z"
   },
   {
    "duration": 42,
    "start_time": "2022-04-17T19:48:23.712Z"
   },
   {
    "duration": 36,
    "start_time": "2022-04-17T19:48:23.757Z"
   },
   {
    "duration": 72,
    "start_time": "2022-04-17T19:48:23.796Z"
   },
   {
    "duration": 100,
    "start_time": "2022-04-17T19:48:23.871Z"
   },
   {
    "duration": 32,
    "start_time": "2022-04-17T19:48:23.974Z"
   },
   {
    "duration": 15,
    "start_time": "2022-04-17T19:48:24.008Z"
   },
   {
    "duration": 7,
    "start_time": "2022-04-17T19:48:24.025Z"
   },
   {
    "duration": 173,
    "start_time": "2022-04-17T19:48:24.034Z"
   },
   {
    "duration": 0,
    "start_time": "2022-04-17T19:48:24.210Z"
   },
   {
    "duration": 0,
    "start_time": "2022-04-17T19:48:24.212Z"
   },
   {
    "duration": 0,
    "start_time": "2022-04-17T19:48:24.213Z"
   },
   {
    "duration": 0,
    "start_time": "2022-04-17T19:48:24.225Z"
   },
   {
    "duration": 0,
    "start_time": "2022-04-17T19:48:24.226Z"
   },
   {
    "duration": 0,
    "start_time": "2022-04-17T19:48:24.228Z"
   },
   {
    "duration": 0,
    "start_time": "2022-04-17T19:48:24.229Z"
   },
   {
    "duration": 0,
    "start_time": "2022-04-17T19:48:24.231Z"
   },
   {
    "duration": 0,
    "start_time": "2022-04-17T19:48:24.233Z"
   },
   {
    "duration": 0,
    "start_time": "2022-04-17T19:48:24.235Z"
   },
   {
    "duration": 0,
    "start_time": "2022-04-17T19:48:24.236Z"
   },
   {
    "duration": 0,
    "start_time": "2022-04-17T19:48:24.238Z"
   },
   {
    "duration": 0,
    "start_time": "2022-04-17T19:48:24.240Z"
   },
   {
    "duration": 0,
    "start_time": "2022-04-17T19:48:24.241Z"
   },
   {
    "duration": 6,
    "start_time": "2022-04-17T19:56:35.622Z"
   },
   {
    "duration": 342,
    "start_time": "2022-04-17T19:56:40.166Z"
   },
   {
    "duration": 6,
    "start_time": "2022-04-17T19:57:10.504Z"
   },
   {
    "duration": 10,
    "start_time": "2022-04-17T19:57:54.649Z"
   },
   {
    "duration": 723,
    "start_time": "2022-04-17T19:57:56.457Z"
   },
   {
    "duration": 10,
    "start_time": "2022-04-17T19:59:53.405Z"
   },
   {
    "duration": 854,
    "start_time": "2022-04-17T19:59:56.508Z"
   },
   {
    "duration": 127,
    "start_time": "2022-04-17T20:01:19.934Z"
   },
   {
    "duration": 539,
    "start_time": "2022-04-17T20:01:31.374Z"
   },
   {
    "duration": 743,
    "start_time": "2022-04-17T20:01:36.343Z"
   },
   {
    "duration": 361,
    "start_time": "2022-04-17T20:01:52.641Z"
   },
   {
    "duration": 671,
    "start_time": "2022-04-17T20:02:04.254Z"
   },
   {
    "duration": 390,
    "start_time": "2022-04-17T20:02:21.574Z"
   },
   {
    "duration": 13,
    "start_time": "2022-04-17T20:02:27.048Z"
   },
   {
    "duration": 287,
    "start_time": "2022-04-17T20:02:34.799Z"
   },
   {
    "duration": 1695,
    "start_time": "2022-04-17T20:03:12.550Z"
   },
   {
    "duration": 540,
    "start_time": "2022-04-17T20:03:14.247Z"
   },
   {
    "duration": 17,
    "start_time": "2022-04-17T20:03:14.789Z"
   },
   {
    "duration": 53,
    "start_time": "2022-04-17T20:03:14.808Z"
   },
   {
    "duration": 26,
    "start_time": "2022-04-17T20:03:14.864Z"
   },
   {
    "duration": 196,
    "start_time": "2022-04-17T20:03:14.893Z"
   },
   {
    "duration": 13,
    "start_time": "2022-04-17T20:03:15.092Z"
   },
   {
    "duration": 64,
    "start_time": "2022-04-17T20:03:15.107Z"
   },
   {
    "duration": 22,
    "start_time": "2022-04-17T20:03:15.175Z"
   },
   {
    "duration": 113,
    "start_time": "2022-04-17T20:03:15.200Z"
   },
   {
    "duration": 12,
    "start_time": "2022-04-17T20:03:15.316Z"
   },
   {
    "duration": 48,
    "start_time": "2022-04-17T20:03:15.331Z"
   },
   {
    "duration": 21,
    "start_time": "2022-04-17T20:03:15.381Z"
   },
   {
    "duration": 81,
    "start_time": "2022-04-17T20:03:15.425Z"
   },
   {
    "duration": 36,
    "start_time": "2022-04-17T20:03:15.509Z"
   },
   {
    "duration": 16,
    "start_time": "2022-04-17T20:03:15.547Z"
   },
   {
    "duration": 13,
    "start_time": "2022-04-17T20:03:15.565Z"
   },
   {
    "duration": 46,
    "start_time": "2022-04-17T20:03:15.580Z"
   },
   {
    "duration": 23,
    "start_time": "2022-04-17T20:03:15.630Z"
   },
   {
    "duration": 16,
    "start_time": "2022-04-17T20:03:15.655Z"
   },
   {
    "duration": 12,
    "start_time": "2022-04-17T20:03:15.673Z"
   },
   {
    "duration": 44,
    "start_time": "2022-04-17T20:03:15.688Z"
   },
   {
    "duration": 61,
    "start_time": "2022-04-17T20:03:15.736Z"
   },
   {
    "duration": 72,
    "start_time": "2022-04-17T20:03:15.799Z"
   },
   {
    "duration": 6,
    "start_time": "2022-04-17T20:03:15.873Z"
   },
   {
    "duration": 21,
    "start_time": "2022-04-17T20:03:15.881Z"
   },
   {
    "duration": 23,
    "start_time": "2022-04-17T20:03:15.905Z"
   },
   {
    "duration": 548,
    "start_time": "2022-04-17T20:03:15.931Z"
   },
   {
    "duration": 76,
    "start_time": "2022-04-17T20:03:16.481Z"
   },
   {
    "duration": 13,
    "start_time": "2022-04-17T20:03:16.559Z"
   },
   {
    "duration": 502,
    "start_time": "2022-04-17T20:03:16.574Z"
   },
   {
    "duration": 87,
    "start_time": "2022-04-17T20:03:17.078Z"
   },
   {
    "duration": 13,
    "start_time": "2022-04-17T20:03:17.168Z"
   },
   {
    "duration": 569,
    "start_time": "2022-04-17T20:03:17.184Z"
   },
   {
    "duration": 15,
    "start_time": "2022-04-17T20:03:17.755Z"
   },
   {
    "duration": 30,
    "start_time": "2022-04-17T20:03:17.772Z"
   },
   {
    "duration": 97,
    "start_time": "2022-04-17T20:03:17.804Z"
   },
   {
    "duration": 61,
    "start_time": "2022-04-17T20:03:17.903Z"
   },
   {
    "duration": 7,
    "start_time": "2022-04-17T20:03:17.966Z"
   },
   {
    "duration": 13,
    "start_time": "2022-04-17T20:03:17.975Z"
   },
   {
    "duration": 46,
    "start_time": "2022-04-17T20:03:17.993Z"
   },
   {
    "duration": 29,
    "start_time": "2022-04-17T20:03:18.042Z"
   },
   {
    "duration": 18,
    "start_time": "2022-04-17T20:03:18.073Z"
   },
   {
    "duration": 51,
    "start_time": "2022-04-17T20:03:18.093Z"
   },
   {
    "duration": 12,
    "start_time": "2022-04-17T20:03:18.146Z"
   },
   {
    "duration": 29,
    "start_time": "2022-04-17T20:03:18.160Z"
   },
   {
    "duration": 38,
    "start_time": "2022-04-17T20:03:18.191Z"
   },
   {
    "duration": 16,
    "start_time": "2022-04-17T20:03:18.232Z"
   },
   {
    "duration": 349,
    "start_time": "2022-04-17T20:03:18.251Z"
   },
   {
    "duration": 7,
    "start_time": "2022-04-17T20:03:18.603Z"
   },
   {
    "duration": 22,
    "start_time": "2022-04-17T20:03:18.626Z"
   },
   {
    "duration": 783,
    "start_time": "2022-04-17T20:03:18.650Z"
   },
   {
    "duration": 512,
    "start_time": "2022-04-17T20:03:19.436Z"
   },
   {
    "duration": 779,
    "start_time": "2022-04-17T20:03:19.950Z"
   },
   {
    "duration": 379,
    "start_time": "2022-04-17T20:03:20.732Z"
   },
   {
    "duration": 750,
    "start_time": "2022-04-17T20:03:21.113Z"
   },
   {
    "duration": 516,
    "start_time": "2022-04-17T20:03:21.865Z"
   },
   {
    "duration": 14,
    "start_time": "2022-04-17T20:03:22.383Z"
   },
   {
    "duration": 342,
    "start_time": "2022-04-17T20:03:22.400Z"
   },
   {
    "duration": 12,
    "start_time": "2022-04-17T20:03:22.745Z"
   },
   {
    "duration": 15,
    "start_time": "2022-04-17T20:03:22.760Z"
   },
   {
    "duration": 27,
    "start_time": "2022-04-17T20:03:22.777Z"
   },
   {
    "duration": 16,
    "start_time": "2022-04-17T20:03:22.826Z"
   },
   {
    "duration": 1695,
    "start_time": "2022-04-18T12:53:47.058Z"
   },
   {
    "duration": 720,
    "start_time": "2022-04-18T12:53:48.756Z"
   },
   {
    "duration": 18,
    "start_time": "2022-04-18T12:53:49.478Z"
   },
   {
    "duration": 82,
    "start_time": "2022-04-18T12:53:49.500Z"
   },
   {
    "duration": 42,
    "start_time": "2022-04-18T12:53:49.586Z"
   },
   {
    "duration": 217,
    "start_time": "2022-04-18T12:53:49.631Z"
   },
   {
    "duration": 20,
    "start_time": "2022-04-18T12:53:49.851Z"
   },
   {
    "duration": 56,
    "start_time": "2022-04-18T12:53:49.873Z"
   },
   {
    "duration": 39,
    "start_time": "2022-04-18T12:53:49.932Z"
   },
   {
    "duration": 87,
    "start_time": "2022-04-18T12:53:49.992Z"
   },
   {
    "duration": 21,
    "start_time": "2022-04-18T12:53:50.095Z"
   },
   {
    "duration": 52,
    "start_time": "2022-04-18T12:53:50.119Z"
   },
   {
    "duration": 50,
    "start_time": "2022-04-18T12:53:50.175Z"
   },
   {
    "duration": 109,
    "start_time": "2022-04-18T12:53:50.233Z"
   },
   {
    "duration": 21,
    "start_time": "2022-04-18T12:53:50.346Z"
   },
   {
    "duration": 44,
    "start_time": "2022-04-18T12:53:50.370Z"
   },
   {
    "duration": 20,
    "start_time": "2022-04-18T12:53:50.418Z"
   },
   {
    "duration": 12,
    "start_time": "2022-04-18T12:53:50.440Z"
   },
   {
    "duration": 55,
    "start_time": "2022-04-18T12:53:50.455Z"
   },
   {
    "duration": 40,
    "start_time": "2022-04-18T12:53:50.513Z"
   },
   {
    "duration": 11,
    "start_time": "2022-04-18T12:53:50.556Z"
   },
   {
    "duration": 25,
    "start_time": "2022-04-18T12:53:50.570Z"
   },
   {
    "duration": 68,
    "start_time": "2022-04-18T12:53:50.598Z"
   },
   {
    "duration": 65,
    "start_time": "2022-04-18T12:53:50.669Z"
   },
   {
    "duration": 7,
    "start_time": "2022-04-18T12:53:50.737Z"
   },
   {
    "duration": 14,
    "start_time": "2022-04-18T12:53:50.746Z"
   },
   {
    "duration": 32,
    "start_time": "2022-04-18T12:53:50.792Z"
   },
   {
    "duration": 671,
    "start_time": "2022-04-18T12:53:50.827Z"
   },
   {
    "duration": 91,
    "start_time": "2022-04-18T12:53:51.503Z"
   },
   {
    "duration": 17,
    "start_time": "2022-04-18T12:53:51.597Z"
   },
   {
    "duration": 607,
    "start_time": "2022-04-18T12:53:51.619Z"
   },
   {
    "duration": 129,
    "start_time": "2022-04-18T12:53:52.229Z"
   },
   {
    "duration": 18,
    "start_time": "2022-04-18T12:53:52.361Z"
   },
   {
    "duration": 564,
    "start_time": "2022-04-18T12:53:52.394Z"
   },
   {
    "duration": 32,
    "start_time": "2022-04-18T12:53:52.961Z"
   },
   {
    "duration": 56,
    "start_time": "2022-04-18T12:53:52.998Z"
   },
   {
    "duration": 610,
    "start_time": "2022-04-18T12:53:53.057Z"
   },
   {
    "duration": 66,
    "start_time": "2022-04-18T12:53:53.670Z"
   },
   {
    "duration": 8,
    "start_time": "2022-04-18T12:53:53.738Z"
   },
   {
    "duration": 5,
    "start_time": "2022-04-18T12:53:53.748Z"
   },
   {
    "duration": 54,
    "start_time": "2022-04-18T12:53:53.762Z"
   },
   {
    "duration": 45,
    "start_time": "2022-04-18T12:53:53.819Z"
   },
   {
    "duration": 43,
    "start_time": "2022-04-18T12:53:53.867Z"
   },
   {
    "duration": 32,
    "start_time": "2022-04-18T12:53:53.913Z"
   },
   {
    "duration": 17,
    "start_time": "2022-04-18T12:53:53.950Z"
   },
   {
    "duration": 64,
    "start_time": "2022-04-18T12:53:53.969Z"
   },
   {
    "duration": 1026,
    "start_time": "2022-04-18T12:53:54.036Z"
   },
   {
    "duration": 0,
    "start_time": "2022-04-18T12:53:55.065Z"
   },
   {
    "duration": 0,
    "start_time": "2022-04-18T12:53:55.068Z"
   },
   {
    "duration": 0,
    "start_time": "2022-04-18T12:53:55.070Z"
   },
   {
    "duration": 0,
    "start_time": "2022-04-18T12:53:55.072Z"
   },
   {
    "duration": 0,
    "start_time": "2022-04-18T12:53:55.075Z"
   },
   {
    "duration": 0,
    "start_time": "2022-04-18T12:53:55.078Z"
   },
   {
    "duration": 0,
    "start_time": "2022-04-18T12:53:55.080Z"
   },
   {
    "duration": 1,
    "start_time": "2022-04-18T12:53:55.082Z"
   },
   {
    "duration": 0,
    "start_time": "2022-04-18T12:53:55.085Z"
   },
   {
    "duration": 0,
    "start_time": "2022-04-18T12:53:55.088Z"
   },
   {
    "duration": 0,
    "start_time": "2022-04-18T12:53:55.090Z"
   },
   {
    "duration": 0,
    "start_time": "2022-04-18T12:53:55.092Z"
   },
   {
    "duration": 0,
    "start_time": "2022-04-18T12:53:55.094Z"
   },
   {
    "duration": 0,
    "start_time": "2022-04-18T12:53:55.097Z"
   },
   {
    "duration": 0,
    "start_time": "2022-04-18T12:53:55.099Z"
   },
   {
    "duration": 0,
    "start_time": "2022-04-18T12:53:55.101Z"
   },
   {
    "duration": 2040,
    "start_time": "2022-04-18T12:54:33.773Z"
   },
   {
    "duration": 532,
    "start_time": "2022-04-18T12:54:35.817Z"
   },
   {
    "duration": 20,
    "start_time": "2022-04-18T12:54:36.351Z"
   },
   {
    "duration": 53,
    "start_time": "2022-04-18T12:54:36.374Z"
   },
   {
    "duration": 62,
    "start_time": "2022-04-18T12:54:36.432Z"
   },
   {
    "duration": 201,
    "start_time": "2022-04-18T12:54:36.497Z"
   },
   {
    "duration": 16,
    "start_time": "2022-04-18T12:54:36.700Z"
   },
   {
    "duration": 35,
    "start_time": "2022-04-18T12:54:36.719Z"
   },
   {
    "duration": 55,
    "start_time": "2022-04-18T12:54:36.756Z"
   },
   {
    "duration": 109,
    "start_time": "2022-04-18T12:54:36.814Z"
   },
   {
    "duration": 12,
    "start_time": "2022-04-18T12:54:36.925Z"
   },
   {
    "duration": 60,
    "start_time": "2022-04-18T12:54:36.939Z"
   },
   {
    "duration": 29,
    "start_time": "2022-04-18T12:54:37.001Z"
   },
   {
    "duration": 118,
    "start_time": "2022-04-18T12:54:37.036Z"
   },
   {
    "duration": 17,
    "start_time": "2022-04-18T12:54:37.156Z"
   },
   {
    "duration": 31,
    "start_time": "2022-04-18T12:54:37.175Z"
   },
   {
    "duration": 17,
    "start_time": "2022-04-18T12:54:37.209Z"
   },
   {
    "duration": 9,
    "start_time": "2022-04-18T12:54:37.230Z"
   },
   {
    "duration": 55,
    "start_time": "2022-04-18T12:54:37.242Z"
   },
   {
    "duration": 19,
    "start_time": "2022-04-18T12:54:37.300Z"
   },
   {
    "duration": 15,
    "start_time": "2022-04-18T12:54:37.321Z"
   },
   {
    "duration": 11,
    "start_time": "2022-04-18T12:54:37.338Z"
   },
   {
    "duration": 113,
    "start_time": "2022-04-18T12:54:37.351Z"
   },
   {
    "duration": 83,
    "start_time": "2022-04-18T12:54:37.467Z"
   },
   {
    "duration": 7,
    "start_time": "2022-04-18T12:54:37.553Z"
   },
   {
    "duration": 32,
    "start_time": "2022-04-18T12:54:37.562Z"
   },
   {
    "duration": 7,
    "start_time": "2022-04-18T12:54:37.597Z"
   },
   {
    "duration": 572,
    "start_time": "2022-04-18T12:54:37.606Z"
   },
   {
    "duration": 62,
    "start_time": "2022-04-18T12:54:38.180Z"
   },
   {
    "duration": 13,
    "start_time": "2022-04-18T12:54:38.245Z"
   },
   {
    "duration": 510,
    "start_time": "2022-04-18T12:54:38.261Z"
   },
   {
    "duration": 81,
    "start_time": "2022-04-18T12:54:38.773Z"
   },
   {
    "duration": 14,
    "start_time": "2022-04-18T12:54:38.857Z"
   },
   {
    "duration": 549,
    "start_time": "2022-04-18T12:54:38.893Z"
   },
   {
    "duration": 14,
    "start_time": "2022-04-18T12:54:39.446Z"
   },
   {
    "duration": 43,
    "start_time": "2022-04-18T12:54:39.463Z"
   },
   {
    "duration": 793,
    "start_time": "2022-04-18T12:54:39.509Z"
   },
   {
    "duration": 65,
    "start_time": "2022-04-18T12:54:40.305Z"
   },
   {
    "duration": 20,
    "start_time": "2022-04-18T12:54:40.373Z"
   },
   {
    "duration": 7,
    "start_time": "2022-04-18T12:54:40.396Z"
   },
   {
    "duration": 15,
    "start_time": "2022-04-18T12:54:40.414Z"
   },
   {
    "duration": 78,
    "start_time": "2022-04-18T12:54:40.432Z"
   },
   {
    "duration": 18,
    "start_time": "2022-04-18T12:54:40.512Z"
   },
   {
    "duration": 19,
    "start_time": "2022-04-18T12:54:40.532Z"
   },
   {
    "duration": 46,
    "start_time": "2022-04-18T12:54:40.553Z"
   },
   {
    "duration": 38,
    "start_time": "2022-04-18T12:54:40.602Z"
   },
   {
    "duration": 1252,
    "start_time": "2022-04-18T12:54:40.643Z"
   },
   {
    "duration": 0,
    "start_time": "2022-04-18T12:54:41.898Z"
   },
   {
    "duration": 0,
    "start_time": "2022-04-18T12:54:41.902Z"
   },
   {
    "duration": 0,
    "start_time": "2022-04-18T12:54:41.904Z"
   },
   {
    "duration": 0,
    "start_time": "2022-04-18T12:54:41.905Z"
   },
   {
    "duration": 0,
    "start_time": "2022-04-18T12:54:41.908Z"
   },
   {
    "duration": 0,
    "start_time": "2022-04-18T12:54:41.911Z"
   },
   {
    "duration": 0,
    "start_time": "2022-04-18T12:54:41.913Z"
   },
   {
    "duration": 0,
    "start_time": "2022-04-18T12:54:41.915Z"
   },
   {
    "duration": 0,
    "start_time": "2022-04-18T12:54:41.916Z"
   },
   {
    "duration": 0,
    "start_time": "2022-04-18T12:54:41.919Z"
   },
   {
    "duration": 0,
    "start_time": "2022-04-18T12:54:41.920Z"
   },
   {
    "duration": 0,
    "start_time": "2022-04-18T12:54:41.926Z"
   },
   {
    "duration": 0,
    "start_time": "2022-04-18T12:54:41.928Z"
   },
   {
    "duration": 0,
    "start_time": "2022-04-18T12:54:41.930Z"
   },
   {
    "duration": 0,
    "start_time": "2022-04-18T12:54:41.933Z"
   },
   {
    "duration": 0,
    "start_time": "2022-04-18T12:54:41.935Z"
   },
   {
    "duration": 10,
    "start_time": "2022-04-18T12:56:23.845Z"
   },
   {
    "duration": 853,
    "start_time": "2022-04-18T12:56:31.683Z"
   },
   {
    "duration": 8,
    "start_time": "2022-04-18T12:56:36.074Z"
   },
   {
    "duration": 1561,
    "start_time": "2022-04-18T12:56:44.121Z"
   },
   {
    "duration": 563,
    "start_time": "2022-04-18T12:56:45.685Z"
   },
   {
    "duration": 20,
    "start_time": "2022-04-18T12:56:46.250Z"
   },
   {
    "duration": 35,
    "start_time": "2022-04-18T12:56:46.272Z"
   },
   {
    "duration": 27,
    "start_time": "2022-04-18T12:56:46.311Z"
   },
   {
    "duration": 219,
    "start_time": "2022-04-18T12:56:46.341Z"
   },
   {
    "duration": 12,
    "start_time": "2022-04-18T12:56:46.563Z"
   },
   {
    "duration": 33,
    "start_time": "2022-04-18T12:56:46.594Z"
   },
   {
    "duration": 25,
    "start_time": "2022-04-18T12:56:46.630Z"
   },
   {
    "duration": 128,
    "start_time": "2022-04-18T12:56:46.657Z"
   },
   {
    "duration": 13,
    "start_time": "2022-04-18T12:56:46.792Z"
   },
   {
    "duration": 55,
    "start_time": "2022-04-18T12:56:46.807Z"
   },
   {
    "duration": 38,
    "start_time": "2022-04-18T12:56:46.865Z"
   },
   {
    "duration": 90,
    "start_time": "2022-04-18T12:56:46.910Z"
   },
   {
    "duration": 13,
    "start_time": "2022-04-18T12:56:47.002Z"
   },
   {
    "duration": 18,
    "start_time": "2022-04-18T12:56:47.017Z"
   },
   {
    "duration": 11,
    "start_time": "2022-04-18T12:56:47.038Z"
   },
   {
    "duration": 42,
    "start_time": "2022-04-18T12:56:47.052Z"
   },
   {
    "duration": 26,
    "start_time": "2022-04-18T12:56:47.097Z"
   },
   {
    "duration": 20,
    "start_time": "2022-04-18T12:56:47.126Z"
   },
   {
    "duration": 9,
    "start_time": "2022-04-18T12:56:47.148Z"
   },
   {
    "duration": 39,
    "start_time": "2022-04-18T12:56:47.160Z"
   },
   {
    "duration": 74,
    "start_time": "2022-04-18T12:56:47.201Z"
   },
   {
    "duration": 76,
    "start_time": "2022-04-18T12:56:47.294Z"
   },
   {
    "duration": 21,
    "start_time": "2022-04-18T12:56:47.373Z"
   },
   {
    "duration": 16,
    "start_time": "2022-04-18T12:56:47.396Z"
   },
   {
    "duration": 8,
    "start_time": "2022-04-18T12:56:47.415Z"
   },
   {
    "duration": 506,
    "start_time": "2022-04-18T12:56:47.425Z"
   },
   {
    "duration": 76,
    "start_time": "2022-04-18T12:56:47.933Z"
   },
   {
    "duration": 13,
    "start_time": "2022-04-18T12:56:48.011Z"
   },
   {
    "duration": 496,
    "start_time": "2022-04-18T12:56:48.026Z"
   },
   {
    "duration": 88,
    "start_time": "2022-04-18T12:56:48.525Z"
   },
   {
    "duration": 13,
    "start_time": "2022-04-18T12:56:48.615Z"
   },
   {
    "duration": 639,
    "start_time": "2022-04-18T12:56:48.630Z"
   },
   {
    "duration": 27,
    "start_time": "2022-04-18T12:56:49.273Z"
   },
   {
    "duration": 33,
    "start_time": "2022-04-18T12:56:49.303Z"
   },
   {
    "duration": 531,
    "start_time": "2022-04-18T12:56:49.338Z"
   },
   {
    "duration": 47,
    "start_time": "2022-04-18T12:56:49.874Z"
   },
   {
    "duration": 7,
    "start_time": "2022-04-18T12:56:49.924Z"
   },
   {
    "duration": 12,
    "start_time": "2022-04-18T12:56:49.933Z"
   },
   {
    "duration": 41,
    "start_time": "2022-04-18T12:56:49.952Z"
   },
   {
    "duration": 32,
    "start_time": "2022-04-18T12:56:49.995Z"
   },
   {
    "duration": 20,
    "start_time": "2022-04-18T12:56:50.030Z"
   },
   {
    "duration": 53,
    "start_time": "2022-04-18T12:56:50.053Z"
   },
   {
    "duration": 14,
    "start_time": "2022-04-18T12:56:50.109Z"
   },
   {
    "duration": 44,
    "start_time": "2022-04-18T12:56:50.126Z"
   },
   {
    "duration": 25,
    "start_time": "2022-04-18T12:56:50.172Z"
   },
   {
    "duration": 9,
    "start_time": "2022-04-18T12:56:50.200Z"
   },
   {
    "duration": 208,
    "start_time": "2022-04-18T12:56:50.212Z"
   },
   {
    "duration": 0,
    "start_time": "2022-04-18T12:56:50.423Z"
   },
   {
    "duration": 0,
    "start_time": "2022-04-18T12:56:50.425Z"
   },
   {
    "duration": 0,
    "start_time": "2022-04-18T12:56:50.427Z"
   },
   {
    "duration": 0,
    "start_time": "2022-04-18T12:56:50.429Z"
   },
   {
    "duration": 0,
    "start_time": "2022-04-18T12:56:50.431Z"
   },
   {
    "duration": 0,
    "start_time": "2022-04-18T12:56:50.432Z"
   },
   {
    "duration": 0,
    "start_time": "2022-04-18T12:56:50.434Z"
   },
   {
    "duration": 0,
    "start_time": "2022-04-18T12:56:50.435Z"
   },
   {
    "duration": 0,
    "start_time": "2022-04-18T12:56:50.437Z"
   },
   {
    "duration": 0,
    "start_time": "2022-04-18T12:56:50.438Z"
   },
   {
    "duration": 0,
    "start_time": "2022-04-18T12:56:50.439Z"
   },
   {
    "duration": 0,
    "start_time": "2022-04-18T12:56:50.440Z"
   },
   {
    "duration": 0,
    "start_time": "2022-04-18T12:56:50.442Z"
   },
   {
    "duration": 1,
    "start_time": "2022-04-18T12:56:50.443Z"
   },
   {
    "duration": 2041,
    "start_time": "2022-04-18T12:57:55.147Z"
   },
   {
    "duration": 772,
    "start_time": "2022-04-18T12:57:57.191Z"
   },
   {
    "duration": 21,
    "start_time": "2022-04-18T12:57:57.966Z"
   },
   {
    "duration": 39,
    "start_time": "2022-04-18T12:57:57.990Z"
   },
   {
    "duration": 62,
    "start_time": "2022-04-18T12:57:58.033Z"
   },
   {
    "duration": 205,
    "start_time": "2022-04-18T12:57:58.098Z"
   },
   {
    "duration": 16,
    "start_time": "2022-04-18T12:57:58.306Z"
   },
   {
    "duration": 45,
    "start_time": "2022-04-18T12:57:58.325Z"
   },
   {
    "duration": 35,
    "start_time": "2022-04-18T12:57:58.394Z"
   },
   {
    "duration": 123,
    "start_time": "2022-04-18T12:57:58.431Z"
   },
   {
    "duration": 14,
    "start_time": "2022-04-18T12:57:58.559Z"
   },
   {
    "duration": 39,
    "start_time": "2022-04-18T12:57:58.592Z"
   },
   {
    "duration": 30,
    "start_time": "2022-04-18T12:57:58.633Z"
   },
   {
    "duration": 124,
    "start_time": "2022-04-18T12:57:58.695Z"
   },
   {
    "duration": 12,
    "start_time": "2022-04-18T12:57:58.821Z"
   },
   {
    "duration": 17,
    "start_time": "2022-04-18T12:57:58.835Z"
   },
   {
    "duration": 38,
    "start_time": "2022-04-18T12:57:58.855Z"
   },
   {
    "duration": 14,
    "start_time": "2022-04-18T12:57:58.897Z"
   },
   {
    "duration": 33,
    "start_time": "2022-04-18T12:57:58.914Z"
   },
   {
    "duration": 50,
    "start_time": "2022-04-18T12:57:58.951Z"
   },
   {
    "duration": 12,
    "start_time": "2022-04-18T12:57:59.004Z"
   },
   {
    "duration": 16,
    "start_time": "2022-04-18T12:57:59.018Z"
   },
   {
    "duration": 93,
    "start_time": "2022-04-18T12:57:59.036Z"
   },
   {
    "duration": 88,
    "start_time": "2022-04-18T12:57:59.131Z"
   },
   {
    "duration": 6,
    "start_time": "2022-04-18T12:57:59.222Z"
   },
   {
    "duration": 18,
    "start_time": "2022-04-18T12:57:59.231Z"
   },
   {
    "duration": 10,
    "start_time": "2022-04-18T12:57:59.252Z"
   },
   {
    "duration": 527,
    "start_time": "2022-04-18T12:57:59.264Z"
   },
   {
    "duration": 90,
    "start_time": "2022-04-18T12:57:59.793Z"
   },
   {
    "duration": 17,
    "start_time": "2022-04-18T12:57:59.894Z"
   },
   {
    "duration": 489,
    "start_time": "2022-04-18T12:57:59.914Z"
   },
   {
    "duration": 87,
    "start_time": "2022-04-18T12:58:00.406Z"
   },
   {
    "duration": 17,
    "start_time": "2022-04-18T12:58:00.499Z"
   },
   {
    "duration": 723,
    "start_time": "2022-04-18T12:58:00.519Z"
   },
   {
    "duration": 18,
    "start_time": "2022-04-18T12:58:01.245Z"
   },
   {
    "duration": 58,
    "start_time": "2022-04-18T12:58:01.267Z"
   },
   {
    "duration": 130,
    "start_time": "2022-04-18T12:58:01.328Z"
   },
   {
    "duration": 52,
    "start_time": "2022-04-18T12:58:01.461Z"
   },
   {
    "duration": 7,
    "start_time": "2022-04-18T12:58:01.516Z"
   },
   {
    "duration": 30,
    "start_time": "2022-04-18T12:58:01.525Z"
   },
   {
    "duration": 17,
    "start_time": "2022-04-18T12:58:01.561Z"
   },
   {
    "duration": 60,
    "start_time": "2022-04-18T12:58:01.580Z"
   },
   {
    "duration": 22,
    "start_time": "2022-04-18T12:58:01.643Z"
   },
   {
    "duration": 36,
    "start_time": "2022-04-18T12:58:01.667Z"
   },
   {
    "duration": 13,
    "start_time": "2022-04-18T12:58:01.706Z"
   },
   {
    "duration": 42,
    "start_time": "2022-04-18T12:58:01.722Z"
   },
   {
    "duration": 10,
    "start_time": "2022-04-18T12:58:01.792Z"
   },
   {
    "duration": 16,
    "start_time": "2022-04-18T12:58:01.804Z"
   },
   {
    "duration": 324,
    "start_time": "2022-04-18T12:58:01.823Z"
   },
   {
    "duration": 7,
    "start_time": "2022-04-18T12:58:02.150Z"
   },
   {
    "duration": 35,
    "start_time": "2022-04-18T12:58:02.159Z"
   },
   {
    "duration": 1114,
    "start_time": "2022-04-18T12:58:02.197Z"
   },
   {
    "duration": 481,
    "start_time": "2022-04-18T12:58:03.313Z"
   },
   {
    "duration": 731,
    "start_time": "2022-04-18T12:58:03.797Z"
   },
   {
    "duration": 554,
    "start_time": "2022-04-18T12:58:04.532Z"
   },
   {
    "duration": 964,
    "start_time": "2022-04-18T12:58:05.089Z"
   },
   {
    "duration": 571,
    "start_time": "2022-04-18T12:58:06.055Z"
   },
   {
    "duration": 17,
    "start_time": "2022-04-18T12:58:06.628Z"
   },
   {
    "duration": 307,
    "start_time": "2022-04-18T12:58:06.647Z"
   },
   {
    "duration": 13,
    "start_time": "2022-04-18T12:58:06.956Z"
   },
   {
    "duration": 7,
    "start_time": "2022-04-18T12:58:06.994Z"
   },
   {
    "duration": 37,
    "start_time": "2022-04-18T12:58:07.004Z"
   },
   {
    "duration": 18,
    "start_time": "2022-04-18T12:58:07.043Z"
   },
   {
    "duration": 6,
    "start_time": "2022-04-18T13:06:48.461Z"
   },
   {
    "duration": 7,
    "start_time": "2022-04-18T13:07:19.462Z"
   },
   {
    "duration": 7,
    "start_time": "2022-04-18T13:07:30.984Z"
   },
   {
    "duration": 1530,
    "start_time": "2022-04-18T13:10:43.694Z"
   },
   {
    "duration": 536,
    "start_time": "2022-04-18T13:10:45.226Z"
   },
   {
    "duration": 23,
    "start_time": "2022-04-18T13:10:45.764Z"
   },
   {
    "duration": 58,
    "start_time": "2022-04-18T13:10:45.791Z"
   },
   {
    "duration": 41,
    "start_time": "2022-04-18T13:10:45.852Z"
   },
   {
    "duration": 160,
    "start_time": "2022-04-18T13:10:45.896Z"
   },
   {
    "duration": 13,
    "start_time": "2022-04-18T13:10:46.058Z"
   },
   {
    "duration": 43,
    "start_time": "2022-04-18T13:10:46.073Z"
   },
   {
    "duration": 24,
    "start_time": "2022-04-18T13:10:46.119Z"
   },
   {
    "duration": 103,
    "start_time": "2022-04-18T13:10:46.147Z"
   },
   {
    "duration": 11,
    "start_time": "2022-04-18T13:10:46.253Z"
   },
   {
    "duration": 47,
    "start_time": "2022-04-18T13:10:46.267Z"
   },
   {
    "duration": 22,
    "start_time": "2022-04-18T13:10:46.316Z"
   },
   {
    "duration": 95,
    "start_time": "2022-04-18T13:10:46.340Z"
   },
   {
    "duration": 16,
    "start_time": "2022-04-18T13:10:46.438Z"
   },
   {
    "duration": 39,
    "start_time": "2022-04-18T13:10:46.457Z"
   },
   {
    "duration": 10,
    "start_time": "2022-04-18T13:10:46.499Z"
   },
   {
    "duration": 7,
    "start_time": "2022-04-18T13:10:46.512Z"
   },
   {
    "duration": 18,
    "start_time": "2022-04-18T13:10:46.522Z"
   },
   {
    "duration": 50,
    "start_time": "2022-04-18T13:10:46.543Z"
   },
   {
    "duration": 12,
    "start_time": "2022-04-18T13:10:46.595Z"
   },
   {
    "duration": 10,
    "start_time": "2022-04-18T13:10:46.610Z"
   },
   {
    "duration": 77,
    "start_time": "2022-04-18T13:10:46.623Z"
   },
   {
    "duration": 55,
    "start_time": "2022-04-18T13:10:46.702Z"
   },
   {
    "duration": 6,
    "start_time": "2022-04-18T13:10:46.759Z"
   },
   {
    "duration": 42,
    "start_time": "2022-04-18T13:10:46.767Z"
   },
   {
    "duration": 10,
    "start_time": "2022-04-18T13:10:46.811Z"
   },
   {
    "duration": 528,
    "start_time": "2022-04-18T13:10:46.827Z"
   },
   {
    "duration": 73,
    "start_time": "2022-04-18T13:10:47.358Z"
   },
   {
    "duration": 13,
    "start_time": "2022-04-18T13:10:47.433Z"
   },
   {
    "duration": 477,
    "start_time": "2022-04-18T13:10:47.448Z"
   },
   {
    "duration": 88,
    "start_time": "2022-04-18T13:10:47.928Z"
   },
   {
    "duration": 14,
    "start_time": "2022-04-18T13:10:48.018Z"
   },
   {
    "duration": 507,
    "start_time": "2022-04-18T13:10:48.035Z"
   },
   {
    "duration": 15,
    "start_time": "2022-04-18T13:10:48.545Z"
   },
   {
    "duration": 45,
    "start_time": "2022-04-18T13:10:48.563Z"
   },
   {
    "duration": 91,
    "start_time": "2022-04-18T13:10:48.611Z"
   },
   {
    "duration": 41,
    "start_time": "2022-04-18T13:10:48.705Z"
   },
   {
    "duration": 9,
    "start_time": "2022-04-18T13:10:48.748Z"
   },
   {
    "duration": 5,
    "start_time": "2022-04-18T13:10:48.760Z"
   },
   {
    "duration": 21,
    "start_time": "2022-04-18T13:10:48.794Z"
   },
   {
    "duration": 40,
    "start_time": "2022-04-18T13:10:48.817Z"
   },
   {
    "duration": 52,
    "start_time": "2022-04-18T13:10:48.860Z"
   },
   {
    "duration": 24,
    "start_time": "2022-04-18T13:10:48.915Z"
   },
   {
    "duration": 18,
    "start_time": "2022-04-18T13:10:48.942Z"
   },
   {
    "duration": 56,
    "start_time": "2022-04-18T13:10:48.963Z"
   },
   {
    "duration": 8,
    "start_time": "2022-04-18T13:10:49.021Z"
   },
   {
    "duration": 10,
    "start_time": "2022-04-18T13:10:49.031Z"
   },
   {
    "duration": 479,
    "start_time": "2022-04-18T13:10:49.043Z"
   },
   {
    "duration": 6,
    "start_time": "2022-04-18T13:10:49.524Z"
   },
   {
    "duration": 11,
    "start_time": "2022-04-18T13:10:49.532Z"
   },
   {
    "duration": 897,
    "start_time": "2022-04-18T13:10:49.545Z"
   },
   {
    "duration": 484,
    "start_time": "2022-04-18T13:10:50.445Z"
   },
   {
    "duration": 758,
    "start_time": "2022-04-18T13:10:50.931Z"
   },
   {
    "duration": 362,
    "start_time": "2022-04-18T13:10:51.693Z"
   },
   {
    "duration": 740,
    "start_time": "2022-04-18T13:10:52.057Z"
   },
   {
    "duration": 376,
    "start_time": "2022-04-18T13:10:52.799Z"
   },
   {
    "duration": 23,
    "start_time": "2022-04-18T13:10:53.177Z"
   },
   {
    "duration": 179,
    "start_time": "2022-04-18T13:10:53.202Z"
   },
   {
    "duration": 0,
    "start_time": "2022-04-18T13:10:53.383Z"
   },
   {
    "duration": 0,
    "start_time": "2022-04-18T13:10:53.384Z"
   },
   {
    "duration": 0,
    "start_time": "2022-04-18T13:10:53.393Z"
   },
   {
    "duration": 0,
    "start_time": "2022-04-18T13:10:53.396Z"
   },
   {
    "duration": 2110,
    "start_time": "2022-04-18T13:11:42.983Z"
   },
   {
    "duration": 652,
    "start_time": "2022-04-18T13:11:45.097Z"
   },
   {
    "duration": 22,
    "start_time": "2022-04-18T13:11:45.752Z"
   },
   {
    "duration": 58,
    "start_time": "2022-04-18T13:11:45.777Z"
   },
   {
    "duration": 60,
    "start_time": "2022-04-18T13:11:45.840Z"
   },
   {
    "duration": 204,
    "start_time": "2022-04-18T13:11:45.904Z"
   },
   {
    "duration": 13,
    "start_time": "2022-04-18T13:11:46.110Z"
   },
   {
    "duration": 71,
    "start_time": "2022-04-18T13:11:46.125Z"
   },
   {
    "duration": 35,
    "start_time": "2022-04-18T13:11:46.199Z"
   },
   {
    "duration": 117,
    "start_time": "2022-04-18T13:11:46.237Z"
   },
   {
    "duration": 17,
    "start_time": "2022-04-18T13:11:46.357Z"
   },
   {
    "duration": 26,
    "start_time": "2022-04-18T13:11:46.392Z"
   },
   {
    "duration": 19,
    "start_time": "2022-04-18T13:11:46.420Z"
   },
   {
    "duration": 97,
    "start_time": "2022-04-18T13:11:46.445Z"
   },
   {
    "duration": 13,
    "start_time": "2022-04-18T13:11:46.544Z"
   },
   {
    "duration": 39,
    "start_time": "2022-04-18T13:11:46.559Z"
   },
   {
    "duration": 10,
    "start_time": "2022-04-18T13:11:46.601Z"
   },
   {
    "duration": 9,
    "start_time": "2022-04-18T13:11:46.614Z"
   },
   {
    "duration": 26,
    "start_time": "2022-04-18T13:11:46.626Z"
   },
   {
    "duration": 58,
    "start_time": "2022-04-18T13:11:46.654Z"
   },
   {
    "duration": 33,
    "start_time": "2022-04-18T13:11:46.714Z"
   },
   {
    "duration": 9,
    "start_time": "2022-04-18T13:11:46.750Z"
   },
   {
    "duration": 84,
    "start_time": "2022-04-18T13:11:46.762Z"
   },
   {
    "duration": 83,
    "start_time": "2022-04-18T13:11:46.849Z"
   },
   {
    "duration": 7,
    "start_time": "2022-04-18T13:11:46.935Z"
   },
   {
    "duration": 20,
    "start_time": "2022-04-18T13:11:46.944Z"
   },
   {
    "duration": 30,
    "start_time": "2022-04-18T13:11:46.967Z"
   },
   {
    "duration": 821,
    "start_time": "2022-04-18T13:11:46.999Z"
   },
   {
    "duration": 112,
    "start_time": "2022-04-18T13:11:47.823Z"
   },
   {
    "duration": 18,
    "start_time": "2022-04-18T13:11:47.938Z"
   },
   {
    "duration": 605,
    "start_time": "2022-04-18T13:11:47.959Z"
   },
   {
    "duration": 116,
    "start_time": "2022-04-18T13:11:48.566Z"
   },
   {
    "duration": 17,
    "start_time": "2022-04-18T13:11:48.692Z"
   },
   {
    "duration": 743,
    "start_time": "2022-04-18T13:11:48.712Z"
   },
   {
    "duration": 37,
    "start_time": "2022-04-18T13:11:49.459Z"
   },
   {
    "duration": 46,
    "start_time": "2022-04-18T13:11:49.499Z"
   },
   {
    "duration": 123,
    "start_time": "2022-04-18T13:11:49.548Z"
   },
   {
    "duration": 73,
    "start_time": "2022-04-18T13:11:49.674Z"
   },
   {
    "duration": 7,
    "start_time": "2022-04-18T13:11:49.751Z"
   },
   {
    "duration": 6,
    "start_time": "2022-04-18T13:11:49.761Z"
   },
   {
    "duration": 20,
    "start_time": "2022-04-18T13:11:49.799Z"
   },
   {
    "duration": 44,
    "start_time": "2022-04-18T13:11:49.822Z"
   },
   {
    "duration": 42,
    "start_time": "2022-04-18T13:11:49.869Z"
   },
   {
    "duration": 21,
    "start_time": "2022-04-18T13:11:49.914Z"
   },
   {
    "duration": 13,
    "start_time": "2022-04-18T13:11:49.938Z"
   },
   {
    "duration": 34,
    "start_time": "2022-04-18T13:11:49.993Z"
   },
   {
    "duration": 9,
    "start_time": "2022-04-18T13:11:50.030Z"
   },
   {
    "duration": 12,
    "start_time": "2022-04-18T13:11:50.042Z"
   },
   {
    "duration": 371,
    "start_time": "2022-04-18T13:11:50.057Z"
   },
   {
    "duration": 6,
    "start_time": "2022-04-18T13:11:50.430Z"
   },
   {
    "duration": 15,
    "start_time": "2022-04-18T13:11:50.439Z"
   },
   {
    "duration": 1174,
    "start_time": "2022-04-18T13:11:50.456Z"
   },
   {
    "duration": 669,
    "start_time": "2022-04-18T13:11:51.633Z"
   },
   {
    "duration": 1000,
    "start_time": "2022-04-18T13:11:52.305Z"
   },
   {
    "duration": 555,
    "start_time": "2022-04-18T13:11:53.307Z"
   },
   {
    "duration": 933,
    "start_time": "2022-04-18T13:11:53.865Z"
   },
   {
    "duration": 448,
    "start_time": "2022-04-18T13:11:54.801Z"
   },
   {
    "duration": 17,
    "start_time": "2022-04-18T13:11:55.253Z"
   },
   {
    "duration": 340,
    "start_time": "2022-04-18T13:11:55.292Z"
   },
   {
    "duration": 13,
    "start_time": "2022-04-18T13:11:55.634Z"
   },
   {
    "duration": 21,
    "start_time": "2022-04-18T13:11:55.650Z"
   },
   {
    "duration": 39,
    "start_time": "2022-04-18T13:11:55.674Z"
   },
   {
    "duration": 16,
    "start_time": "2022-04-18T13:11:55.718Z"
   },
   {
    "duration": 1557,
    "start_time": "2022-04-18T13:13:11.942Z"
   },
   {
    "duration": 535,
    "start_time": "2022-04-18T13:13:13.502Z"
   },
   {
    "duration": 17,
    "start_time": "2022-04-18T13:13:14.039Z"
   },
   {
    "duration": 36,
    "start_time": "2022-04-18T13:13:14.059Z"
   },
   {
    "duration": 27,
    "start_time": "2022-04-18T13:13:14.098Z"
   },
   {
    "duration": 164,
    "start_time": "2022-04-18T13:13:14.128Z"
   },
   {
    "duration": 11,
    "start_time": "2022-04-18T13:13:14.295Z"
   },
   {
    "duration": 29,
    "start_time": "2022-04-18T13:13:14.308Z"
   },
   {
    "duration": 54,
    "start_time": "2022-04-18T13:13:14.339Z"
   },
   {
    "duration": 70,
    "start_time": "2022-04-18T13:13:14.399Z"
   },
   {
    "duration": 28,
    "start_time": "2022-04-18T13:13:14.471Z"
   },
   {
    "duration": 33,
    "start_time": "2022-04-18T13:13:14.501Z"
   },
   {
    "duration": 20,
    "start_time": "2022-04-18T13:13:14.536Z"
   },
   {
    "duration": 102,
    "start_time": "2022-04-18T13:13:14.559Z"
   },
   {
    "duration": 13,
    "start_time": "2022-04-18T13:13:14.663Z"
   },
   {
    "duration": 20,
    "start_time": "2022-04-18T13:13:14.694Z"
   },
   {
    "duration": 9,
    "start_time": "2022-04-18T13:13:14.716Z"
   },
   {
    "duration": 6,
    "start_time": "2022-04-18T13:13:14.728Z"
   },
   {
    "duration": 58,
    "start_time": "2022-04-18T13:13:14.736Z"
   },
   {
    "duration": 15,
    "start_time": "2022-04-18T13:13:14.796Z"
   },
   {
    "duration": 18,
    "start_time": "2022-04-18T13:13:14.813Z"
   },
   {
    "duration": 10,
    "start_time": "2022-04-18T13:13:14.834Z"
   },
   {
    "duration": 74,
    "start_time": "2022-04-18T13:13:14.847Z"
   },
   {
    "duration": 55,
    "start_time": "2022-04-18T13:13:14.923Z"
   },
   {
    "duration": 16,
    "start_time": "2022-04-18T13:13:14.980Z"
   },
   {
    "duration": 26,
    "start_time": "2022-04-18T13:13:14.998Z"
   },
   {
    "duration": 14,
    "start_time": "2022-04-18T13:13:15.026Z"
   },
   {
    "duration": 512,
    "start_time": "2022-04-18T13:13:15.046Z"
   },
   {
    "duration": 70,
    "start_time": "2022-04-18T13:13:15.560Z"
   },
   {
    "duration": 13,
    "start_time": "2022-04-18T13:13:15.633Z"
   },
   {
    "duration": 683,
    "start_time": "2022-04-18T13:13:15.649Z"
   },
   {
    "duration": 101,
    "start_time": "2022-04-18T13:13:16.335Z"
   },
   {
    "duration": 15,
    "start_time": "2022-04-18T13:13:16.438Z"
   },
   {
    "duration": 521,
    "start_time": "2022-04-18T13:13:16.456Z"
   },
   {
    "duration": 21,
    "start_time": "2022-04-18T13:13:16.979Z"
   },
   {
    "duration": 33,
    "start_time": "2022-04-18T13:13:17.003Z"
   },
   {
    "duration": 98,
    "start_time": "2022-04-18T13:13:17.039Z"
   },
   {
    "duration": 55,
    "start_time": "2022-04-18T13:13:17.139Z"
   },
   {
    "duration": 9,
    "start_time": "2022-04-18T13:13:17.197Z"
   },
   {
    "duration": 16,
    "start_time": "2022-04-18T13:13:17.208Z"
   },
   {
    "duration": 22,
    "start_time": "2022-04-18T13:13:17.226Z"
   },
   {
    "duration": 44,
    "start_time": "2022-04-18T13:13:17.250Z"
   },
   {
    "duration": 19,
    "start_time": "2022-04-18T13:13:17.297Z"
   },
   {
    "duration": 24,
    "start_time": "2022-04-18T13:13:17.318Z"
   },
   {
    "duration": 15,
    "start_time": "2022-04-18T13:13:17.345Z"
   },
   {
    "duration": 28,
    "start_time": "2022-04-18T13:13:17.394Z"
   },
   {
    "duration": 9,
    "start_time": "2022-04-18T13:13:17.425Z"
   },
   {
    "duration": 10,
    "start_time": "2022-04-18T13:13:17.437Z"
   },
   {
    "duration": 331,
    "start_time": "2022-04-18T13:13:17.450Z"
   },
   {
    "duration": 6,
    "start_time": "2022-04-18T13:13:17.792Z"
   },
   {
    "duration": 12,
    "start_time": "2022-04-18T13:13:17.801Z"
   },
   {
    "duration": 750,
    "start_time": "2022-04-18T13:13:17.815Z"
   },
   {
    "duration": 562,
    "start_time": "2022-04-18T13:13:18.568Z"
   },
   {
    "duration": 869,
    "start_time": "2022-04-18T13:13:19.132Z"
   },
   {
    "duration": 477,
    "start_time": "2022-04-18T13:13:20.004Z"
   },
   {
    "duration": 714,
    "start_time": "2022-04-18T13:13:20.484Z"
   },
   {
    "duration": 379,
    "start_time": "2022-04-18T13:13:21.201Z"
   },
   {
    "duration": 12,
    "start_time": "2022-04-18T13:13:21.583Z"
   },
   {
    "duration": 495,
    "start_time": "2022-04-18T13:13:21.597Z"
   },
   {
    "duration": 14,
    "start_time": "2022-04-18T13:13:22.095Z"
   },
   {
    "duration": 9,
    "start_time": "2022-04-18T13:13:22.112Z"
   },
   {
    "duration": 34,
    "start_time": "2022-04-18T13:13:22.126Z"
   },
   {
    "duration": 12,
    "start_time": "2022-04-18T13:13:22.195Z"
   },
   {
    "duration": 1471,
    "start_time": "2022-04-18T13:14:19.628Z"
   },
   {
    "duration": 524,
    "start_time": "2022-04-18T13:14:21.102Z"
   },
   {
    "duration": 20,
    "start_time": "2022-04-18T13:14:21.631Z"
   },
   {
    "duration": 34,
    "start_time": "2022-04-18T13:14:21.654Z"
   },
   {
    "duration": 29,
    "start_time": "2022-04-18T13:14:21.691Z"
   },
   {
    "duration": 226,
    "start_time": "2022-04-18T13:14:21.723Z"
   },
   {
    "duration": 18,
    "start_time": "2022-04-18T13:14:21.951Z"
   },
   {
    "duration": 65,
    "start_time": "2022-04-18T13:14:21.972Z"
   },
   {
    "duration": 53,
    "start_time": "2022-04-18T13:14:22.039Z"
   },
   {
    "duration": 76,
    "start_time": "2022-04-18T13:14:22.095Z"
   },
   {
    "duration": 32,
    "start_time": "2022-04-18T13:14:22.174Z"
   },
   {
    "duration": 45,
    "start_time": "2022-04-18T13:14:22.210Z"
   },
   {
    "duration": 43,
    "start_time": "2022-04-18T13:14:22.257Z"
   },
   {
    "duration": 92,
    "start_time": "2022-04-18T13:14:22.308Z"
   },
   {
    "duration": 12,
    "start_time": "2022-04-18T13:14:22.402Z"
   },
   {
    "duration": 18,
    "start_time": "2022-04-18T13:14:22.416Z"
   },
   {
    "duration": 17,
    "start_time": "2022-04-18T13:14:22.437Z"
   },
   {
    "duration": 38,
    "start_time": "2022-04-18T13:14:22.457Z"
   },
   {
    "duration": 18,
    "start_time": "2022-04-18T13:14:22.498Z"
   },
   {
    "duration": 22,
    "start_time": "2022-04-18T13:14:22.518Z"
   },
   {
    "duration": 13,
    "start_time": "2022-04-18T13:14:22.542Z"
   },
   {
    "duration": 42,
    "start_time": "2022-04-18T13:14:22.557Z"
   },
   {
    "duration": 57,
    "start_time": "2022-04-18T13:14:22.601Z"
   },
   {
    "duration": 74,
    "start_time": "2022-04-18T13:14:22.660Z"
   },
   {
    "duration": 6,
    "start_time": "2022-04-18T13:14:22.737Z"
   },
   {
    "duration": 16,
    "start_time": "2022-04-18T13:14:22.746Z"
   },
   {
    "duration": 31,
    "start_time": "2022-04-18T13:14:22.764Z"
   },
   {
    "duration": 554,
    "start_time": "2022-04-18T13:14:22.799Z"
   },
   {
    "duration": 103,
    "start_time": "2022-04-18T13:14:23.356Z"
   },
   {
    "duration": 17,
    "start_time": "2022-04-18T13:14:23.463Z"
   },
   {
    "duration": 632,
    "start_time": "2022-04-18T13:14:23.493Z"
   },
   {
    "duration": 91,
    "start_time": "2022-04-18T13:14:24.129Z"
   },
   {
    "duration": 15,
    "start_time": "2022-04-18T13:14:24.222Z"
   },
   {
    "duration": 742,
    "start_time": "2022-04-18T13:14:24.239Z"
   },
   {
    "duration": 24,
    "start_time": "2022-04-18T13:14:24.984Z"
   },
   {
    "duration": 43,
    "start_time": "2022-04-18T13:14:25.011Z"
   },
   {
    "duration": 136,
    "start_time": "2022-04-18T13:14:25.057Z"
   },
   {
    "duration": 62,
    "start_time": "2022-04-18T13:14:25.196Z"
   },
   {
    "duration": 8,
    "start_time": "2022-04-18T13:14:25.261Z"
   },
   {
    "duration": 5,
    "start_time": "2022-04-18T13:14:25.294Z"
   },
   {
    "duration": 15,
    "start_time": "2022-04-18T13:14:25.310Z"
   },
   {
    "duration": 29,
    "start_time": "2022-04-18T13:14:25.327Z"
   },
   {
    "duration": 18,
    "start_time": "2022-04-18T13:14:25.392Z"
   },
   {
    "duration": 18,
    "start_time": "2022-04-18T13:14:25.413Z"
   },
   {
    "duration": 13,
    "start_time": "2022-04-18T13:14:25.433Z"
   },
   {
    "duration": 83,
    "start_time": "2022-04-18T13:14:25.448Z"
   },
   {
    "duration": 11,
    "start_time": "2022-04-18T13:14:25.534Z"
   },
   {
    "duration": 12,
    "start_time": "2022-04-18T13:14:25.548Z"
   },
   {
    "duration": 308,
    "start_time": "2022-04-18T13:14:25.593Z"
   },
   {
    "duration": 10,
    "start_time": "2022-04-18T13:14:25.903Z"
   },
   {
    "duration": 15,
    "start_time": "2022-04-18T13:14:25.916Z"
   },
   {
    "duration": 794,
    "start_time": "2022-04-18T13:14:25.934Z"
   },
   {
    "duration": 697,
    "start_time": "2022-04-18T13:14:26.731Z"
   },
   {
    "duration": 1133,
    "start_time": "2022-04-18T13:14:27.430Z"
   },
   {
    "duration": 540,
    "start_time": "2022-04-18T13:14:28.566Z"
   },
   {
    "duration": 1110,
    "start_time": "2022-04-18T13:14:29.109Z"
   },
   {
    "duration": 501,
    "start_time": "2022-04-18T13:14:30.223Z"
   },
   {
    "duration": 18,
    "start_time": "2022-04-18T13:14:30.727Z"
   },
   {
    "duration": 412,
    "start_time": "2022-04-18T13:14:30.748Z"
   },
   {
    "duration": 30,
    "start_time": "2022-04-18T13:14:31.163Z"
   },
   {
    "duration": 18,
    "start_time": "2022-04-18T13:14:31.196Z"
   },
   {
    "duration": 45,
    "start_time": "2022-04-18T13:14:31.218Z"
   },
   {
    "duration": 29,
    "start_time": "2022-04-18T13:14:31.266Z"
   },
   {
    "duration": 7,
    "start_time": "2022-04-18T13:14:46.198Z"
   },
   {
    "duration": 10,
    "start_time": "2022-04-18T13:15:51.640Z"
   },
   {
    "duration": 1623,
    "start_time": "2022-04-18T13:17:00.197Z"
   },
   {
    "duration": 558,
    "start_time": "2022-04-18T13:17:01.823Z"
   },
   {
    "duration": 16,
    "start_time": "2022-04-18T13:17:02.384Z"
   },
   {
    "duration": 42,
    "start_time": "2022-04-18T13:17:02.402Z"
   },
   {
    "duration": 27,
    "start_time": "2022-04-18T13:17:02.449Z"
   },
   {
    "duration": 166,
    "start_time": "2022-04-18T13:17:02.478Z"
   },
   {
    "duration": 12,
    "start_time": "2022-04-18T13:17:02.646Z"
   },
   {
    "duration": 56,
    "start_time": "2022-04-18T13:17:02.660Z"
   },
   {
    "duration": 23,
    "start_time": "2022-04-18T13:17:02.718Z"
   },
   {
    "duration": 102,
    "start_time": "2022-04-18T13:17:02.743Z"
   },
   {
    "duration": 13,
    "start_time": "2022-04-18T13:17:02.848Z"
   },
   {
    "duration": 55,
    "start_time": "2022-04-18T13:17:02.864Z"
   },
   {
    "duration": 32,
    "start_time": "2022-04-18T13:17:02.922Z"
   },
   {
    "duration": 95,
    "start_time": "2022-04-18T13:17:02.959Z"
   },
   {
    "duration": 12,
    "start_time": "2022-04-18T13:17:03.057Z"
   },
   {
    "duration": 34,
    "start_time": "2022-04-18T13:17:03.072Z"
   },
   {
    "duration": 22,
    "start_time": "2022-04-18T13:17:03.109Z"
   },
   {
    "duration": 9,
    "start_time": "2022-04-18T13:17:03.133Z"
   },
   {
    "duration": 21,
    "start_time": "2022-04-18T13:17:03.145Z"
   },
   {
    "duration": 33,
    "start_time": "2022-04-18T13:17:03.169Z"
   },
   {
    "duration": 9,
    "start_time": "2022-04-18T13:17:03.204Z"
   },
   {
    "duration": 10,
    "start_time": "2022-04-18T13:17:03.215Z"
   },
   {
    "duration": 104,
    "start_time": "2022-04-18T13:17:03.227Z"
   },
   {
    "duration": 87,
    "start_time": "2022-04-18T13:17:03.335Z"
   },
   {
    "duration": 7,
    "start_time": "2022-04-18T13:17:03.424Z"
   },
   {
    "duration": 18,
    "start_time": "2022-04-18T13:17:03.433Z"
   },
   {
    "duration": 11,
    "start_time": "2022-04-18T13:17:03.453Z"
   },
   {
    "duration": 544,
    "start_time": "2022-04-18T13:17:03.492Z"
   },
   {
    "duration": 71,
    "start_time": "2022-04-18T13:17:04.039Z"
   },
   {
    "duration": 13,
    "start_time": "2022-04-18T13:17:04.113Z"
   },
   {
    "duration": 509,
    "start_time": "2022-04-18T13:17:04.128Z"
   },
   {
    "duration": 90,
    "start_time": "2022-04-18T13:17:04.640Z"
   },
   {
    "duration": 14,
    "start_time": "2022-04-18T13:17:04.733Z"
   },
   {
    "duration": 523,
    "start_time": "2022-04-18T13:17:04.750Z"
   },
   {
    "duration": 28,
    "start_time": "2022-04-18T13:17:05.275Z"
   },
   {
    "duration": 26,
    "start_time": "2022-04-18T13:17:05.307Z"
   },
   {
    "duration": 92,
    "start_time": "2022-04-18T13:17:05.336Z"
   },
   {
    "duration": 6,
    "start_time": "2022-04-18T13:17:05.431Z"
   },
   {
    "duration": 57,
    "start_time": "2022-04-18T13:17:05.439Z"
   },
   {
    "duration": 4,
    "start_time": "2022-04-18T13:17:05.499Z"
   },
   {
    "duration": 6,
    "start_time": "2022-04-18T13:17:05.513Z"
   },
   {
    "duration": 19,
    "start_time": "2022-04-18T13:17:05.521Z"
   },
   {
    "duration": 77,
    "start_time": "2022-04-18T13:17:05.543Z"
   },
   {
    "duration": 17,
    "start_time": "2022-04-18T13:17:05.621Z"
   },
   {
    "duration": 29,
    "start_time": "2022-04-18T13:17:05.642Z"
   },
   {
    "duration": 30,
    "start_time": "2022-04-18T13:17:05.674Z"
   },
   {
    "duration": 33,
    "start_time": "2022-04-18T13:17:05.706Z"
   },
   {
    "duration": 9,
    "start_time": "2022-04-18T13:17:05.742Z"
   },
   {
    "duration": 36,
    "start_time": "2022-04-18T13:17:05.757Z"
   },
   {
    "duration": 329,
    "start_time": "2022-04-18T13:17:05.799Z"
   },
   {
    "duration": 6,
    "start_time": "2022-04-18T13:17:06.131Z"
   },
   {
    "duration": 15,
    "start_time": "2022-04-18T13:17:06.140Z"
   },
   {
    "duration": 795,
    "start_time": "2022-04-18T13:17:06.159Z"
   },
   {
    "duration": 543,
    "start_time": "2022-04-18T13:17:06.957Z"
   },
   {
    "duration": 777,
    "start_time": "2022-04-18T13:17:07.502Z"
   },
   {
    "duration": 357,
    "start_time": "2022-04-18T13:17:08.282Z"
   },
   {
    "duration": 1229,
    "start_time": "2022-04-18T13:17:08.642Z"
   },
   {
    "duration": 421,
    "start_time": "2022-04-18T13:17:09.875Z"
   },
   {
    "duration": 13,
    "start_time": "2022-04-18T13:17:10.299Z"
   },
   {
    "duration": 379,
    "start_time": "2022-04-18T13:17:10.314Z"
   },
   {
    "duration": 15,
    "start_time": "2022-04-18T13:17:10.696Z"
   },
   {
    "duration": 22,
    "start_time": "2022-04-18T13:17:10.714Z"
   },
   {
    "duration": 36,
    "start_time": "2022-04-18T13:17:10.739Z"
   },
   {
    "duration": 15,
    "start_time": "2022-04-18T13:17:10.778Z"
   },
   {
    "duration": 1562,
    "start_time": "2022-04-18T13:18:29.032Z"
   },
   {
    "duration": 590,
    "start_time": "2022-04-18T13:18:30.597Z"
   },
   {
    "duration": 17,
    "start_time": "2022-04-18T13:18:31.190Z"
   },
   {
    "duration": 35,
    "start_time": "2022-04-18T13:18:31.210Z"
   },
   {
    "duration": 51,
    "start_time": "2022-04-18T13:18:31.248Z"
   },
   {
    "duration": 166,
    "start_time": "2022-04-18T13:18:31.302Z"
   },
   {
    "duration": 12,
    "start_time": "2022-04-18T13:18:31.471Z"
   },
   {
    "duration": 35,
    "start_time": "2022-04-18T13:18:31.493Z"
   },
   {
    "duration": 22,
    "start_time": "2022-04-18T13:18:31.530Z"
   },
   {
    "duration": 95,
    "start_time": "2022-04-18T13:18:31.557Z"
   },
   {
    "duration": 10,
    "start_time": "2022-04-18T13:18:31.655Z"
   },
   {
    "duration": 51,
    "start_time": "2022-04-18T13:18:31.667Z"
   },
   {
    "duration": 21,
    "start_time": "2022-04-18T13:18:31.720Z"
   },
   {
    "duration": 93,
    "start_time": "2022-04-18T13:18:31.743Z"
   },
   {
    "duration": 13,
    "start_time": "2022-04-18T13:18:31.838Z"
   },
   {
    "duration": 120,
    "start_time": "2022-04-18T13:18:31.854Z"
   },
   {
    "duration": 28,
    "start_time": "2022-04-18T13:18:31.976Z"
   },
   {
    "duration": 29,
    "start_time": "2022-04-18T13:18:32.006Z"
   },
   {
    "duration": 31,
    "start_time": "2022-04-18T13:18:32.037Z"
   },
   {
    "duration": 31,
    "start_time": "2022-04-18T13:18:32.071Z"
   },
   {
    "duration": 15,
    "start_time": "2022-04-18T13:18:32.105Z"
   },
   {
    "duration": 21,
    "start_time": "2022-04-18T13:18:32.122Z"
   },
   {
    "duration": 65,
    "start_time": "2022-04-18T13:18:32.145Z"
   },
   {
    "duration": 55,
    "start_time": "2022-04-18T13:18:32.213Z"
   },
   {
    "duration": 23,
    "start_time": "2022-04-18T13:18:32.270Z"
   },
   {
    "duration": 15,
    "start_time": "2022-04-18T13:18:32.295Z"
   },
   {
    "duration": 10,
    "start_time": "2022-04-18T13:18:32.312Z"
   },
   {
    "duration": 524,
    "start_time": "2022-04-18T13:18:32.330Z"
   },
   {
    "duration": 65,
    "start_time": "2022-04-18T13:18:32.856Z"
   },
   {
    "duration": 94,
    "start_time": "2022-04-18T13:18:32.923Z"
   },
   {
    "duration": 468,
    "start_time": "2022-04-18T13:18:33.019Z"
   },
   {
    "duration": 79,
    "start_time": "2022-04-18T13:18:33.492Z"
   },
   {
    "duration": 32,
    "start_time": "2022-04-18T13:18:33.574Z"
   },
   {
    "duration": 523,
    "start_time": "2022-04-18T13:18:33.608Z"
   },
   {
    "duration": 14,
    "start_time": "2022-04-18T13:18:34.133Z"
   },
   {
    "duration": 48,
    "start_time": "2022-04-18T13:18:34.150Z"
   },
   {
    "duration": 83,
    "start_time": "2022-04-18T13:18:34.200Z"
   },
   {
    "duration": 47,
    "start_time": "2022-04-18T13:18:34.285Z"
   },
   {
    "duration": 7,
    "start_time": "2022-04-18T13:18:34.334Z"
   },
   {
    "duration": 6,
    "start_time": "2022-04-18T13:18:34.344Z"
   },
   {
    "duration": 43,
    "start_time": "2022-04-18T13:18:34.353Z"
   },
   {
    "duration": 28,
    "start_time": "2022-04-18T13:18:34.398Z"
   },
   {
    "duration": 20,
    "start_time": "2022-04-18T13:18:34.429Z"
   },
   {
    "duration": 50,
    "start_time": "2022-04-18T13:18:34.452Z"
   },
   {
    "duration": 13,
    "start_time": "2022-04-18T13:18:34.505Z"
   },
   {
    "duration": 28,
    "start_time": "2022-04-18T13:18:34.521Z"
   },
   {
    "duration": 10,
    "start_time": "2022-04-18T13:18:34.552Z"
   },
   {
    "duration": 34,
    "start_time": "2022-04-18T13:18:34.563Z"
   },
   {
    "duration": 314,
    "start_time": "2022-04-18T13:18:34.600Z"
   },
   {
    "duration": 7,
    "start_time": "2022-04-18T13:18:34.916Z"
   },
   {
    "duration": 11,
    "start_time": "2022-04-18T13:18:34.925Z"
   },
   {
    "duration": 785,
    "start_time": "2022-04-18T13:18:34.939Z"
   },
   {
    "duration": 493,
    "start_time": "2022-04-18T13:18:35.727Z"
   },
   {
    "duration": 750,
    "start_time": "2022-04-18T13:18:36.223Z"
   },
   {
    "duration": 366,
    "start_time": "2022-04-18T13:18:36.975Z"
   },
   {
    "duration": 721,
    "start_time": "2022-04-18T13:18:37.343Z"
   },
   {
    "duration": 375,
    "start_time": "2022-04-18T13:18:38.066Z"
   },
   {
    "duration": 13,
    "start_time": "2022-04-18T13:18:38.443Z"
   },
   {
    "duration": 298,
    "start_time": "2022-04-18T13:18:38.458Z"
   },
   {
    "duration": 10,
    "start_time": "2022-04-18T13:18:38.759Z"
   },
   {
    "duration": 24,
    "start_time": "2022-04-18T13:18:38.772Z"
   },
   {
    "duration": 23,
    "start_time": "2022-04-18T13:18:38.798Z"
   },
   {
    "duration": 14,
    "start_time": "2022-04-18T13:18:38.824Z"
   },
   {
    "duration": 8,
    "start_time": "2022-04-18T13:22:20.881Z"
   },
   {
    "duration": 21,
    "start_time": "2022-04-18T13:26:59.422Z"
   },
   {
    "duration": 146,
    "start_time": "2022-04-18T13:28:00.128Z"
   },
   {
    "duration": 21,
    "start_time": "2022-04-18T13:28:11.948Z"
   },
   {
    "duration": 212,
    "start_time": "2022-04-18T13:46:45.812Z"
   },
   {
    "duration": 1615,
    "start_time": "2022-04-18T13:48:38.120Z"
   },
   {
    "duration": 547,
    "start_time": "2022-04-18T13:48:39.737Z"
   },
   {
    "duration": 23,
    "start_time": "2022-04-18T13:48:40.287Z"
   },
   {
    "duration": 37,
    "start_time": "2022-04-18T13:48:40.312Z"
   },
   {
    "duration": 45,
    "start_time": "2022-04-18T13:48:40.352Z"
   },
   {
    "duration": 201,
    "start_time": "2022-04-18T13:48:40.400Z"
   },
   {
    "duration": 18,
    "start_time": "2022-04-18T13:48:40.604Z"
   },
   {
    "duration": 30,
    "start_time": "2022-04-18T13:48:40.625Z"
   },
   {
    "duration": 48,
    "start_time": "2022-04-18T13:48:40.658Z"
   },
   {
    "duration": 100,
    "start_time": "2022-04-18T13:48:40.708Z"
   },
   {
    "duration": 11,
    "start_time": "2022-04-18T13:48:40.810Z"
   },
   {
    "duration": 26,
    "start_time": "2022-04-18T13:48:40.823Z"
   },
   {
    "duration": 43,
    "start_time": "2022-04-18T13:48:40.851Z"
   },
   {
    "duration": 63,
    "start_time": "2022-04-18T13:48:40.899Z"
   },
   {
    "duration": 30,
    "start_time": "2022-04-18T13:48:40.965Z"
   },
   {
    "duration": 19,
    "start_time": "2022-04-18T13:48:40.998Z"
   },
   {
    "duration": 13,
    "start_time": "2022-04-18T13:48:41.019Z"
   },
   {
    "duration": 7,
    "start_time": "2022-04-18T13:48:41.034Z"
   },
   {
    "duration": 51,
    "start_time": "2022-04-18T13:48:41.043Z"
   },
   {
    "duration": 16,
    "start_time": "2022-04-18T13:48:41.096Z"
   },
   {
    "duration": 10,
    "start_time": "2022-04-18T13:48:41.114Z"
   },
   {
    "duration": 8,
    "start_time": "2022-04-18T13:48:41.126Z"
   },
   {
    "duration": 80,
    "start_time": "2022-04-18T13:48:41.136Z"
   },
   {
    "duration": 57,
    "start_time": "2022-04-18T13:48:41.218Z"
   },
   {
    "duration": 18,
    "start_time": "2022-04-18T13:48:41.277Z"
   },
   {
    "duration": 13,
    "start_time": "2022-04-18T13:48:41.297Z"
   },
   {
    "duration": 8,
    "start_time": "2022-04-18T13:48:41.312Z"
   },
   {
    "duration": 537,
    "start_time": "2022-04-18T13:48:41.322Z"
   },
   {
    "duration": 78,
    "start_time": "2022-04-18T13:48:41.861Z"
   },
   {
    "duration": 14,
    "start_time": "2022-04-18T13:48:41.942Z"
   },
   {
    "duration": 500,
    "start_time": "2022-04-18T13:48:41.959Z"
   },
   {
    "duration": 80,
    "start_time": "2022-04-18T13:48:42.461Z"
   },
   {
    "duration": 13,
    "start_time": "2022-04-18T13:48:42.543Z"
   },
   {
    "duration": 501,
    "start_time": "2022-04-18T13:48:42.558Z"
   },
   {
    "duration": 13,
    "start_time": "2022-04-18T13:48:43.062Z"
   },
   {
    "duration": 36,
    "start_time": "2022-04-18T13:48:43.077Z"
   },
   {
    "duration": 92,
    "start_time": "2022-04-18T13:48:43.115Z"
   },
   {
    "duration": 40,
    "start_time": "2022-04-18T13:48:43.210Z"
   },
   {
    "duration": 8,
    "start_time": "2022-04-18T13:48:43.252Z"
   },
   {
    "duration": 30,
    "start_time": "2022-04-18T13:48:43.262Z"
   },
   {
    "duration": 13,
    "start_time": "2022-04-18T13:48:43.300Z"
   },
   {
    "duration": 27,
    "start_time": "2022-04-18T13:48:43.316Z"
   },
   {
    "duration": 52,
    "start_time": "2022-04-18T13:48:43.346Z"
   },
   {
    "duration": 20,
    "start_time": "2022-04-18T13:48:43.401Z"
   },
   {
    "duration": 13,
    "start_time": "2022-04-18T13:48:43.423Z"
   },
   {
    "duration": 57,
    "start_time": "2022-04-18T13:48:43.438Z"
   },
   {
    "duration": 8,
    "start_time": "2022-04-18T13:48:43.497Z"
   },
   {
    "duration": 6,
    "start_time": "2022-04-18T13:48:43.508Z"
   },
   {
    "duration": 312,
    "start_time": "2022-04-18T13:48:43.517Z"
   },
   {
    "duration": 10,
    "start_time": "2022-04-18T13:48:43.831Z"
   },
   {
    "duration": 719,
    "start_time": "2022-04-18T13:48:43.844Z"
   },
   {
    "duration": 554,
    "start_time": "2022-04-18T13:48:44.565Z"
   },
   {
    "duration": 668,
    "start_time": "2022-04-18T13:48:45.121Z"
   },
   {
    "duration": 332,
    "start_time": "2022-04-18T13:48:45.793Z"
   },
   {
    "duration": 687,
    "start_time": "2022-04-18T13:48:46.127Z"
   },
   {
    "duration": 350,
    "start_time": "2022-04-18T13:48:46.817Z"
   },
   {
    "duration": 12,
    "start_time": "2022-04-18T13:48:47.170Z"
   },
   {
    "duration": 305,
    "start_time": "2022-04-18T13:48:47.193Z"
   },
   {
    "duration": 12,
    "start_time": "2022-04-18T13:48:47.500Z"
   },
   {
    "duration": 5,
    "start_time": "2022-04-18T13:48:47.514Z"
   },
   {
    "duration": 21,
    "start_time": "2022-04-18T13:48:47.522Z"
   },
   {
    "duration": 48,
    "start_time": "2022-04-18T13:48:47.545Z"
   },
   {
    "duration": 163,
    "start_time": "2022-04-18T14:30:30.167Z"
   },
   {
    "duration": 2355,
    "start_time": "2022-04-18T14:37:08.129Z"
   },
   {
    "duration": 537,
    "start_time": "2022-04-18T14:37:10.486Z"
   },
   {
    "duration": 21,
    "start_time": "2022-04-18T14:37:11.025Z"
   },
   {
    "duration": 40,
    "start_time": "2022-04-18T14:37:11.049Z"
   },
   {
    "duration": 55,
    "start_time": "2022-04-18T14:37:11.091Z"
   },
   {
    "duration": 162,
    "start_time": "2022-04-18T14:37:11.148Z"
   },
   {
    "duration": 28,
    "start_time": "2022-04-18T14:37:11.312Z"
   },
   {
    "duration": 53,
    "start_time": "2022-04-18T14:37:11.343Z"
   },
   {
    "duration": 22,
    "start_time": "2022-04-18T14:37:11.399Z"
   },
   {
    "duration": 80,
    "start_time": "2022-04-18T14:37:11.426Z"
   },
   {
    "duration": 33,
    "start_time": "2022-04-18T14:37:11.508Z"
   },
   {
    "duration": 29,
    "start_time": "2022-04-18T14:37:11.544Z"
   },
   {
    "duration": 21,
    "start_time": "2022-04-18T14:37:11.576Z"
   },
   {
    "duration": 92,
    "start_time": "2022-04-18T14:37:11.600Z"
   },
   {
    "duration": 34,
    "start_time": "2022-04-18T14:37:11.694Z"
   },
   {
    "duration": 21,
    "start_time": "2022-04-18T14:37:11.731Z"
   },
   {
    "duration": 9,
    "start_time": "2022-04-18T14:37:11.755Z"
   },
   {
    "duration": 10,
    "start_time": "2022-04-18T14:37:11.767Z"
   },
   {
    "duration": 62,
    "start_time": "2022-04-18T14:37:11.779Z"
   },
   {
    "duration": 18,
    "start_time": "2022-04-18T14:37:11.843Z"
   },
   {
    "duration": 16,
    "start_time": "2022-04-18T14:37:11.863Z"
   },
   {
    "duration": 13,
    "start_time": "2022-04-18T14:37:11.882Z"
   },
   {
    "duration": 81,
    "start_time": "2022-04-18T14:37:11.938Z"
   },
   {
    "duration": 80,
    "start_time": "2022-04-18T14:37:12.022Z"
   },
   {
    "duration": 21,
    "start_time": "2022-04-18T14:37:12.107Z"
   },
   {
    "duration": 28,
    "start_time": "2022-04-18T14:37:12.131Z"
   },
   {
    "duration": 7,
    "start_time": "2022-04-18T14:37:12.162Z"
   },
   {
    "duration": 602,
    "start_time": "2022-04-18T14:37:12.175Z"
   },
   {
    "duration": 90,
    "start_time": "2022-04-18T14:37:12.780Z"
   },
   {
    "duration": 14,
    "start_time": "2022-04-18T14:37:12.873Z"
   },
   {
    "duration": 491,
    "start_time": "2022-04-18T14:37:12.889Z"
   },
   {
    "duration": 103,
    "start_time": "2022-04-18T14:37:13.383Z"
   },
   {
    "duration": 14,
    "start_time": "2022-04-18T14:37:13.489Z"
   },
   {
    "duration": 824,
    "start_time": "2022-04-18T14:37:13.506Z"
   },
   {
    "duration": 18,
    "start_time": "2022-04-18T14:37:14.336Z"
   },
   {
    "duration": 24,
    "start_time": "2022-04-18T14:37:14.357Z"
   },
   {
    "duration": 108,
    "start_time": "2022-04-18T14:37:14.383Z"
   },
   {
    "duration": 62,
    "start_time": "2022-04-18T14:37:14.493Z"
   },
   {
    "duration": 8,
    "start_time": "2022-04-18T14:37:14.558Z"
   },
   {
    "duration": 4,
    "start_time": "2022-04-18T14:37:14.569Z"
   },
   {
    "duration": 18,
    "start_time": "2022-04-18T14:37:14.575Z"
   },
   {
    "duration": 62,
    "start_time": "2022-04-18T14:37:14.595Z"
   },
   {
    "duration": 20,
    "start_time": "2022-04-18T14:37:14.660Z"
   },
   {
    "duration": 44,
    "start_time": "2022-04-18T14:37:14.683Z"
   },
   {
    "duration": 17,
    "start_time": "2022-04-18T14:37:14.729Z"
   },
   {
    "duration": 26,
    "start_time": "2022-04-18T14:37:14.748Z"
   },
   {
    "duration": 9,
    "start_time": "2022-04-18T14:37:14.777Z"
   },
   {
    "duration": 44,
    "start_time": "2022-04-18T14:37:14.789Z"
   },
   {
    "duration": 375,
    "start_time": "2022-04-18T14:37:14.837Z"
   },
   {
    "duration": 15,
    "start_time": "2022-04-18T14:37:15.214Z"
   },
   {
    "duration": 791,
    "start_time": "2022-04-18T14:37:15.233Z"
   },
   {
    "duration": 671,
    "start_time": "2022-04-18T14:37:16.027Z"
   },
   {
    "duration": 1160,
    "start_time": "2022-04-18T14:37:16.701Z"
   },
   {
    "duration": 375,
    "start_time": "2022-04-18T14:37:17.864Z"
   },
   {
    "duration": 1177,
    "start_time": "2022-04-18T14:37:18.242Z"
   },
   {
    "duration": 668,
    "start_time": "2022-04-18T14:37:19.428Z"
   },
   {
    "duration": 13,
    "start_time": "2022-04-18T14:37:20.098Z"
   },
   {
    "duration": 412,
    "start_time": "2022-04-18T14:37:20.130Z"
   },
   {
    "duration": 12,
    "start_time": "2022-04-18T14:37:20.544Z"
   },
   {
    "duration": 14,
    "start_time": "2022-04-18T14:37:20.558Z"
   },
   {
    "duration": 28,
    "start_time": "2022-04-18T14:37:20.575Z"
   },
   {
    "duration": 15,
    "start_time": "2022-04-18T14:37:20.631Z"
   },
   {
    "duration": 7,
    "start_time": "2022-04-18T14:38:30.725Z"
   },
   {
    "duration": 7,
    "start_time": "2022-04-18T15:09:34.291Z"
   },
   {
    "duration": 8,
    "start_time": "2022-04-18T15:14:13.948Z"
   },
   {
    "duration": 2097,
    "start_time": "2022-04-18T15:14:46.428Z"
   },
   {
    "duration": 843,
    "start_time": "2022-04-18T15:14:48.528Z"
   },
   {
    "duration": 18,
    "start_time": "2022-04-18T15:14:49.373Z"
   },
   {
    "duration": 41,
    "start_time": "2022-04-18T15:14:49.394Z"
   },
   {
    "duration": 68,
    "start_time": "2022-04-18T15:14:49.437Z"
   },
   {
    "duration": 221,
    "start_time": "2022-04-18T15:14:49.507Z"
   },
   {
    "duration": 13,
    "start_time": "2022-04-18T15:14:49.730Z"
   },
   {
    "duration": 52,
    "start_time": "2022-04-18T15:14:49.745Z"
   },
   {
    "duration": 21,
    "start_time": "2022-04-18T15:14:49.799Z"
   },
   {
    "duration": 99,
    "start_time": "2022-04-18T15:14:49.825Z"
   },
   {
    "duration": 10,
    "start_time": "2022-04-18T15:14:49.927Z"
   },
   {
    "duration": 54,
    "start_time": "2022-04-18T15:14:49.939Z"
   },
   {
    "duration": 33,
    "start_time": "2022-04-18T15:14:49.996Z"
   },
   {
    "duration": 114,
    "start_time": "2022-04-18T15:14:50.031Z"
   },
   {
    "duration": 17,
    "start_time": "2022-04-18T15:14:50.148Z"
   },
   {
    "duration": 33,
    "start_time": "2022-04-18T15:14:50.168Z"
   },
   {
    "duration": 11,
    "start_time": "2022-04-18T15:14:50.204Z"
   },
   {
    "duration": 9,
    "start_time": "2022-04-18T15:14:50.217Z"
   },
   {
    "duration": 19,
    "start_time": "2022-04-18T15:14:50.229Z"
   },
   {
    "duration": 55,
    "start_time": "2022-04-18T15:14:50.251Z"
   },
   {
    "duration": 15,
    "start_time": "2022-04-18T15:14:50.309Z"
   },
   {
    "duration": 14,
    "start_time": "2022-04-18T15:14:50.326Z"
   },
   {
    "duration": 90,
    "start_time": "2022-04-18T15:14:50.343Z"
   },
   {
    "duration": 86,
    "start_time": "2022-04-18T15:14:50.436Z"
   },
   {
    "duration": 7,
    "start_time": "2022-04-18T15:14:50.525Z"
   },
   {
    "duration": 19,
    "start_time": "2022-04-18T15:14:50.535Z"
   },
   {
    "duration": 13,
    "start_time": "2022-04-18T15:14:50.557Z"
   },
   {
    "duration": 515,
    "start_time": "2022-04-18T15:14:50.596Z"
   },
   {
    "duration": 61,
    "start_time": "2022-04-18T15:14:51.114Z"
   },
   {
    "duration": 25,
    "start_time": "2022-04-18T15:14:51.178Z"
   },
   {
    "duration": 488,
    "start_time": "2022-04-18T15:14:51.205Z"
   },
   {
    "duration": 76,
    "start_time": "2022-04-18T15:14:51.695Z"
   },
   {
    "duration": 27,
    "start_time": "2022-04-18T15:14:51.774Z"
   },
   {
    "duration": 527,
    "start_time": "2022-04-18T15:14:51.804Z"
   },
   {
    "duration": 18,
    "start_time": "2022-04-18T15:14:52.334Z"
   },
   {
    "duration": 57,
    "start_time": "2022-04-18T15:14:52.355Z"
   },
   {
    "duration": 95,
    "start_time": "2022-04-18T15:14:52.414Z"
   },
   {
    "duration": 44,
    "start_time": "2022-04-18T15:14:52.512Z"
   },
   {
    "duration": 35,
    "start_time": "2022-04-18T15:14:52.559Z"
   },
   {
    "duration": 10,
    "start_time": "2022-04-18T15:14:52.596Z"
   },
   {
    "duration": 24,
    "start_time": "2022-04-18T15:14:52.608Z"
   },
   {
    "duration": 30,
    "start_time": "2022-04-18T15:14:52.635Z"
   },
   {
    "duration": 39,
    "start_time": "2022-04-18T15:14:52.667Z"
   },
   {
    "duration": 19,
    "start_time": "2022-04-18T15:14:52.708Z"
   },
   {
    "duration": 13,
    "start_time": "2022-04-18T15:14:52.729Z"
   },
   {
    "duration": 59,
    "start_time": "2022-04-18T15:14:52.744Z"
   },
   {
    "duration": 8,
    "start_time": "2022-04-18T15:14:52.805Z"
   },
   {
    "duration": 13,
    "start_time": "2022-04-18T15:14:52.815Z"
   },
   {
    "duration": 0,
    "start_time": "2022-04-18T15:14:52.830Z"
   },
   {
    "duration": 0,
    "start_time": "2022-04-18T15:14:52.832Z"
   },
   {
    "duration": 0,
    "start_time": "2022-04-18T15:14:52.835Z"
   },
   {
    "duration": 0,
    "start_time": "2022-04-18T15:14:52.837Z"
   },
   {
    "duration": 0,
    "start_time": "2022-04-18T15:14:52.839Z"
   },
   {
    "duration": 0,
    "start_time": "2022-04-18T15:14:52.842Z"
   },
   {
    "duration": 0,
    "start_time": "2022-04-18T15:14:52.843Z"
   },
   {
    "duration": 0,
    "start_time": "2022-04-18T15:14:52.845Z"
   },
   {
    "duration": 0,
    "start_time": "2022-04-18T15:14:52.848Z"
   },
   {
    "duration": 0,
    "start_time": "2022-04-18T15:14:52.893Z"
   },
   {
    "duration": 0,
    "start_time": "2022-04-18T15:14:52.896Z"
   },
   {
    "duration": 0,
    "start_time": "2022-04-18T15:14:52.898Z"
   },
   {
    "duration": 0,
    "start_time": "2022-04-18T15:14:52.900Z"
   },
   {
    "duration": 0,
    "start_time": "2022-04-18T15:14:52.902Z"
   },
   {
    "duration": 0,
    "start_time": "2022-04-18T15:14:52.904Z"
   },
   {
    "duration": 1539,
    "start_time": "2022-04-18T15:15:25.204Z"
   },
   {
    "duration": 555,
    "start_time": "2022-04-18T15:15:26.746Z"
   },
   {
    "duration": 16,
    "start_time": "2022-04-18T15:15:27.304Z"
   },
   {
    "duration": 36,
    "start_time": "2022-04-18T15:15:27.323Z"
   },
   {
    "duration": 43,
    "start_time": "2022-04-18T15:15:27.361Z"
   },
   {
    "duration": 168,
    "start_time": "2022-04-18T15:15:27.406Z"
   },
   {
    "duration": 21,
    "start_time": "2022-04-18T15:15:27.576Z"
   },
   {
    "duration": 31,
    "start_time": "2022-04-18T15:15:27.599Z"
   },
   {
    "duration": 22,
    "start_time": "2022-04-18T15:15:27.632Z"
   },
   {
    "duration": 104,
    "start_time": "2022-04-18T15:15:27.658Z"
   },
   {
    "duration": 11,
    "start_time": "2022-04-18T15:15:27.764Z"
   },
   {
    "duration": 29,
    "start_time": "2022-04-18T15:15:27.793Z"
   },
   {
    "duration": 19,
    "start_time": "2022-04-18T15:15:27.824Z"
   },
   {
    "duration": 113,
    "start_time": "2022-04-18T15:15:27.845Z"
   },
   {
    "duration": 12,
    "start_time": "2022-04-18T15:15:27.961Z"
   },
   {
    "duration": 16,
    "start_time": "2022-04-18T15:15:27.993Z"
   },
   {
    "duration": 22,
    "start_time": "2022-04-18T15:15:28.012Z"
   },
   {
    "duration": 12,
    "start_time": "2022-04-18T15:15:28.037Z"
   },
   {
    "duration": 57,
    "start_time": "2022-04-18T15:15:28.051Z"
   },
   {
    "duration": 23,
    "start_time": "2022-04-18T15:15:28.111Z"
   },
   {
    "duration": 11,
    "start_time": "2022-04-18T15:15:28.137Z"
   },
   {
    "duration": 44,
    "start_time": "2022-04-18T15:15:28.150Z"
   },
   {
    "duration": 71,
    "start_time": "2022-04-18T15:15:28.199Z"
   },
   {
    "duration": 88,
    "start_time": "2022-04-18T15:15:28.273Z"
   },
   {
    "duration": 7,
    "start_time": "2022-04-18T15:15:28.363Z"
   },
   {
    "duration": 36,
    "start_time": "2022-04-18T15:15:28.372Z"
   },
   {
    "duration": 10,
    "start_time": "2022-04-18T15:15:28.410Z"
   },
   {
    "duration": 522,
    "start_time": "2022-04-18T15:15:28.426Z"
   },
   {
    "duration": 77,
    "start_time": "2022-04-18T15:15:28.950Z"
   },
   {
    "duration": 13,
    "start_time": "2022-04-18T15:15:29.030Z"
   },
   {
    "duration": 489,
    "start_time": "2022-04-18T15:15:29.046Z"
   },
   {
    "duration": 89,
    "start_time": "2022-04-18T15:15:29.537Z"
   },
   {
    "duration": 15,
    "start_time": "2022-04-18T15:15:29.628Z"
   },
   {
    "duration": 549,
    "start_time": "2022-04-18T15:15:29.646Z"
   },
   {
    "duration": 14,
    "start_time": "2022-04-18T15:15:30.198Z"
   },
   {
    "duration": 27,
    "start_time": "2022-04-18T15:15:30.214Z"
   },
   {
    "duration": 104,
    "start_time": "2022-04-18T15:15:30.243Z"
   },
   {
    "duration": 55,
    "start_time": "2022-04-18T15:15:30.349Z"
   },
   {
    "duration": 7,
    "start_time": "2022-04-18T15:15:30.406Z"
   },
   {
    "duration": 17,
    "start_time": "2022-04-18T15:15:30.415Z"
   },
   {
    "duration": 21,
    "start_time": "2022-04-18T15:15:30.434Z"
   },
   {
    "duration": 48,
    "start_time": "2022-04-18T15:15:30.457Z"
   },
   {
    "duration": 19,
    "start_time": "2022-04-18T15:15:30.508Z"
   },
   {
    "duration": 17,
    "start_time": "2022-04-18T15:15:30.530Z"
   },
   {
    "duration": 13,
    "start_time": "2022-04-18T15:15:30.549Z"
   },
   {
    "duration": 27,
    "start_time": "2022-04-18T15:15:30.594Z"
   },
   {
    "duration": 9,
    "start_time": "2022-04-18T15:15:30.623Z"
   },
   {
    "duration": 14,
    "start_time": "2022-04-18T15:15:30.634Z"
   },
   {
    "duration": 0,
    "start_time": "2022-04-18T15:15:30.650Z"
   },
   {
    "duration": 0,
    "start_time": "2022-04-18T15:15:30.652Z"
   },
   {
    "duration": 0,
    "start_time": "2022-04-18T15:15:30.653Z"
   },
   {
    "duration": 0,
    "start_time": "2022-04-18T15:15:30.693Z"
   },
   {
    "duration": 0,
    "start_time": "2022-04-18T15:15:30.695Z"
   },
   {
    "duration": 0,
    "start_time": "2022-04-18T15:15:30.696Z"
   },
   {
    "duration": 0,
    "start_time": "2022-04-18T15:15:30.698Z"
   },
   {
    "duration": 0,
    "start_time": "2022-04-18T15:15:30.699Z"
   },
   {
    "duration": 0,
    "start_time": "2022-04-18T15:15:30.701Z"
   },
   {
    "duration": 0,
    "start_time": "2022-04-18T15:15:30.702Z"
   },
   {
    "duration": 0,
    "start_time": "2022-04-18T15:15:30.703Z"
   },
   {
    "duration": 0,
    "start_time": "2022-04-18T15:15:30.706Z"
   },
   {
    "duration": 0,
    "start_time": "2022-04-18T15:15:30.707Z"
   },
   {
    "duration": 0,
    "start_time": "2022-04-18T15:15:30.708Z"
   },
   {
    "duration": 0,
    "start_time": "2022-04-18T15:15:30.710Z"
   },
   {
    "duration": 6,
    "start_time": "2022-04-18T15:15:43.251Z"
   },
   {
    "duration": 9,
    "start_time": "2022-04-18T15:15:48.452Z"
   },
   {
    "duration": 8,
    "start_time": "2022-04-18T15:15:51.744Z"
   },
   {
    "duration": 1597,
    "start_time": "2022-04-18T15:15:57.664Z"
   },
   {
    "duration": 550,
    "start_time": "2022-04-18T15:15:59.263Z"
   },
   {
    "duration": 16,
    "start_time": "2022-04-18T15:15:59.815Z"
   },
   {
    "duration": 35,
    "start_time": "2022-04-18T15:15:59.834Z"
   },
   {
    "duration": 34,
    "start_time": "2022-04-18T15:15:59.871Z"
   },
   {
    "duration": 169,
    "start_time": "2022-04-18T15:15:59.907Z"
   },
   {
    "duration": 17,
    "start_time": "2022-04-18T15:16:00.078Z"
   },
   {
    "duration": 37,
    "start_time": "2022-04-18T15:16:00.097Z"
   },
   {
    "duration": 21,
    "start_time": "2022-04-18T15:16:00.136Z"
   },
   {
    "duration": 99,
    "start_time": "2022-04-18T15:16:00.162Z"
   },
   {
    "duration": 11,
    "start_time": "2022-04-18T15:16:00.264Z"
   },
   {
    "duration": 59,
    "start_time": "2022-04-18T15:16:00.294Z"
   },
   {
    "duration": 20,
    "start_time": "2022-04-18T15:16:00.355Z"
   },
   {
    "duration": 79,
    "start_time": "2022-04-18T15:16:00.377Z"
   },
   {
    "duration": 13,
    "start_time": "2022-04-18T15:16:00.458Z"
   },
   {
    "duration": 25,
    "start_time": "2022-04-18T15:16:00.492Z"
   },
   {
    "duration": 34,
    "start_time": "2022-04-18T15:16:00.521Z"
   },
   {
    "duration": 30,
    "start_time": "2022-04-18T15:16:00.558Z"
   },
   {
    "duration": 50,
    "start_time": "2022-04-18T15:16:00.591Z"
   },
   {
    "duration": 26,
    "start_time": "2022-04-18T15:16:00.644Z"
   },
   {
    "duration": 43,
    "start_time": "2022-04-18T15:16:00.672Z"
   },
   {
    "duration": 23,
    "start_time": "2022-04-18T15:16:00.717Z"
   },
   {
    "duration": 76,
    "start_time": "2022-04-18T15:16:00.743Z"
   },
   {
    "duration": 76,
    "start_time": "2022-04-18T15:16:00.822Z"
   },
   {
    "duration": 6,
    "start_time": "2022-04-18T15:16:00.901Z"
   },
   {
    "duration": 21,
    "start_time": "2022-04-18T15:16:00.909Z"
   },
   {
    "duration": 10,
    "start_time": "2022-04-18T15:16:00.932Z"
   },
   {
    "duration": 578,
    "start_time": "2022-04-18T15:16:00.948Z"
   },
   {
    "duration": 72,
    "start_time": "2022-04-18T15:16:01.528Z"
   },
   {
    "duration": 13,
    "start_time": "2022-04-18T15:16:01.602Z"
   },
   {
    "duration": 504,
    "start_time": "2022-04-18T15:16:01.617Z"
   },
   {
    "duration": 86,
    "start_time": "2022-04-18T15:16:02.123Z"
   },
   {
    "duration": 13,
    "start_time": "2022-04-18T15:16:02.211Z"
   },
   {
    "duration": 608,
    "start_time": "2022-04-18T15:16:02.226Z"
   },
   {
    "duration": 14,
    "start_time": "2022-04-18T15:16:02.837Z"
   },
   {
    "duration": 44,
    "start_time": "2022-04-18T15:16:02.854Z"
   },
   {
    "duration": 134,
    "start_time": "2022-04-18T15:16:02.901Z"
   },
   {
    "duration": 62,
    "start_time": "2022-04-18T15:16:03.037Z"
   },
   {
    "duration": 45,
    "start_time": "2022-04-18T15:16:03.102Z"
   },
   {
    "duration": 9,
    "start_time": "2022-04-18T15:16:03.149Z"
   },
   {
    "duration": 23,
    "start_time": "2022-04-18T15:16:03.160Z"
   },
   {
    "duration": 29,
    "start_time": "2022-04-18T15:16:03.186Z"
   },
   {
    "duration": 19,
    "start_time": "2022-04-18T15:16:03.218Z"
   },
   {
    "duration": 19,
    "start_time": "2022-04-18T15:16:03.240Z"
   },
   {
    "duration": 42,
    "start_time": "2022-04-18T15:16:03.261Z"
   },
   {
    "duration": 27,
    "start_time": "2022-04-18T15:16:03.307Z"
   },
   {
    "duration": 10,
    "start_time": "2022-04-18T15:16:03.337Z"
   },
   {
    "duration": 44,
    "start_time": "2022-04-18T15:16:03.349Z"
   },
   {
    "duration": 344,
    "start_time": "2022-04-18T15:16:03.396Z"
   },
   {
    "duration": 6,
    "start_time": "2022-04-18T15:16:03.742Z"
   },
   {
    "duration": 11,
    "start_time": "2022-04-18T15:16:03.751Z"
   },
   {
    "duration": 748,
    "start_time": "2022-04-18T15:16:03.764Z"
   },
   {
    "duration": 463,
    "start_time": "2022-04-18T15:16:04.514Z"
   },
   {
    "duration": 707,
    "start_time": "2022-04-18T15:16:04.980Z"
   },
   {
    "duration": 355,
    "start_time": "2022-04-18T15:16:05.692Z"
   },
   {
    "duration": 748,
    "start_time": "2022-04-18T15:16:06.050Z"
   },
   {
    "duration": 393,
    "start_time": "2022-04-18T15:16:06.800Z"
   },
   {
    "duration": 15,
    "start_time": "2022-04-18T15:16:07.196Z"
   },
   {
    "duration": 313,
    "start_time": "2022-04-18T15:16:07.213Z"
   },
   {
    "duration": 11,
    "start_time": "2022-04-18T15:16:07.529Z"
   },
   {
    "duration": 16,
    "start_time": "2022-04-18T15:16:07.542Z"
   },
   {
    "duration": 43,
    "start_time": "2022-04-18T15:16:07.560Z"
   },
   {
    "duration": 11,
    "start_time": "2022-04-18T15:16:07.605Z"
   },
   {
    "duration": 1551,
    "start_time": "2022-04-18T15:17:04.870Z"
   },
   {
    "duration": 559,
    "start_time": "2022-04-18T15:17:06.424Z"
   },
   {
    "duration": 17,
    "start_time": "2022-04-18T15:17:06.985Z"
   },
   {
    "duration": 46,
    "start_time": "2022-04-18T15:17:07.005Z"
   },
   {
    "duration": 41,
    "start_time": "2022-04-18T15:17:07.053Z"
   },
   {
    "duration": 167,
    "start_time": "2022-04-18T15:17:07.096Z"
   },
   {
    "duration": 13,
    "start_time": "2022-04-18T15:17:07.265Z"
   },
   {
    "duration": 29,
    "start_time": "2022-04-18T15:17:07.293Z"
   },
   {
    "duration": 22,
    "start_time": "2022-04-18T15:17:07.326Z"
   },
   {
    "duration": 106,
    "start_time": "2022-04-18T15:17:07.353Z"
   },
   {
    "duration": 11,
    "start_time": "2022-04-18T15:17:07.462Z"
   },
   {
    "duration": 43,
    "start_time": "2022-04-18T15:17:07.476Z"
   },
   {
    "duration": 25,
    "start_time": "2022-04-18T15:17:07.521Z"
   },
   {
    "duration": 100,
    "start_time": "2022-04-18T15:17:07.548Z"
   },
   {
    "duration": 13,
    "start_time": "2022-04-18T15:17:07.650Z"
   },
   {
    "duration": 36,
    "start_time": "2022-04-18T15:17:07.666Z"
   },
   {
    "duration": 19,
    "start_time": "2022-04-18T15:17:07.704Z"
   },
   {
    "duration": 19,
    "start_time": "2022-04-18T15:17:07.725Z"
   },
   {
    "duration": 28,
    "start_time": "2022-04-18T15:17:07.747Z"
   },
   {
    "duration": 22,
    "start_time": "2022-04-18T15:17:07.778Z"
   },
   {
    "duration": 18,
    "start_time": "2022-04-18T15:17:07.803Z"
   },
   {
    "duration": 16,
    "start_time": "2022-04-18T15:17:07.823Z"
   },
   {
    "duration": 67,
    "start_time": "2022-04-18T15:17:07.841Z"
   },
   {
    "duration": 55,
    "start_time": "2022-04-18T15:17:07.910Z"
   },
   {
    "duration": 6,
    "start_time": "2022-04-18T15:17:07.967Z"
   },
   {
    "duration": 12,
    "start_time": "2022-04-18T15:17:07.994Z"
   },
   {
    "duration": 11,
    "start_time": "2022-04-18T15:17:08.009Z"
   },
   {
    "duration": 503,
    "start_time": "2022-04-18T15:17:08.026Z"
   },
   {
    "duration": 75,
    "start_time": "2022-04-18T15:17:08.532Z"
   },
   {
    "duration": 12,
    "start_time": "2022-04-18T15:17:08.610Z"
   },
   {
    "duration": 471,
    "start_time": "2022-04-18T15:17:08.625Z"
   },
   {
    "duration": 72,
    "start_time": "2022-04-18T15:17:09.098Z"
   },
   {
    "duration": 25,
    "start_time": "2022-04-18T15:17:09.172Z"
   },
   {
    "duration": 510,
    "start_time": "2022-04-18T15:17:09.199Z"
   },
   {
    "duration": 15,
    "start_time": "2022-04-18T15:17:09.712Z"
   },
   {
    "duration": 29,
    "start_time": "2022-04-18T15:17:09.729Z"
   },
   {
    "duration": 100,
    "start_time": "2022-04-18T15:17:09.761Z"
   },
   {
    "duration": 50,
    "start_time": "2022-04-18T15:17:09.863Z"
   },
   {
    "duration": 6,
    "start_time": "2022-04-18T15:17:09.916Z"
   },
   {
    "duration": 7,
    "start_time": "2022-04-18T15:17:09.925Z"
   },
   {
    "duration": 18,
    "start_time": "2022-04-18T15:17:09.934Z"
   },
   {
    "duration": 59,
    "start_time": "2022-04-18T15:17:09.954Z"
   },
   {
    "duration": 20,
    "start_time": "2022-04-18T15:17:10.015Z"
   },
   {
    "duration": 27,
    "start_time": "2022-04-18T15:17:10.038Z"
   },
   {
    "duration": 13,
    "start_time": "2022-04-18T15:17:10.093Z"
   },
   {
    "duration": 27,
    "start_time": "2022-04-18T15:17:10.108Z"
   },
   {
    "duration": 8,
    "start_time": "2022-04-18T15:17:10.137Z"
   },
   {
    "duration": 7,
    "start_time": "2022-04-18T15:17:10.147Z"
   },
   {
    "duration": 325,
    "start_time": "2022-04-18T15:17:10.194Z"
   },
   {
    "duration": 11,
    "start_time": "2022-04-18T15:17:10.521Z"
   },
   {
    "duration": 786,
    "start_time": "2022-04-18T15:17:10.535Z"
   },
   {
    "duration": 474,
    "start_time": "2022-04-18T15:17:11.324Z"
   },
   {
    "duration": 709,
    "start_time": "2022-04-18T15:17:11.800Z"
   },
   {
    "duration": 373,
    "start_time": "2022-04-18T15:17:12.512Z"
   },
   {
    "duration": 723,
    "start_time": "2022-04-18T15:17:12.887Z"
   },
   {
    "duration": 380,
    "start_time": "2022-04-18T15:17:13.613Z"
   },
   {
    "duration": 14,
    "start_time": "2022-04-18T15:17:13.995Z"
   },
   {
    "duration": 306,
    "start_time": "2022-04-18T15:17:14.011Z"
   },
   {
    "duration": 11,
    "start_time": "2022-04-18T15:17:14.320Z"
   },
   {
    "duration": 8,
    "start_time": "2022-04-18T15:17:14.334Z"
   },
   {
    "duration": 56,
    "start_time": "2022-04-18T15:17:14.344Z"
   },
   {
    "duration": 13,
    "start_time": "2022-04-18T15:17:14.403Z"
   },
   {
    "duration": 2155,
    "start_time": "2022-04-18T15:18:00.759Z"
   },
   {
    "duration": 765,
    "start_time": "2022-04-18T15:18:02.917Z"
   },
   {
    "duration": 19,
    "start_time": "2022-04-18T15:18:03.685Z"
   },
   {
    "duration": 38,
    "start_time": "2022-04-18T15:18:03.706Z"
   },
   {
    "duration": 47,
    "start_time": "2022-04-18T15:18:03.748Z"
   },
   {
    "duration": 175,
    "start_time": "2022-04-18T15:18:03.798Z"
   },
   {
    "duration": 21,
    "start_time": "2022-04-18T15:18:03.975Z"
   },
   {
    "duration": 55,
    "start_time": "2022-04-18T15:18:03.999Z"
   },
   {
    "duration": 59,
    "start_time": "2022-04-18T15:18:04.058Z"
   },
   {
    "duration": 93,
    "start_time": "2022-04-18T15:18:04.119Z"
   },
   {
    "duration": 11,
    "start_time": "2022-04-18T15:18:04.214Z"
   },
   {
    "duration": 65,
    "start_time": "2022-04-18T15:18:04.228Z"
   },
   {
    "duration": 30,
    "start_time": "2022-04-18T15:18:04.296Z"
   },
   {
    "duration": 122,
    "start_time": "2022-04-18T15:18:04.330Z"
   },
   {
    "duration": 18,
    "start_time": "2022-04-18T15:18:04.455Z"
   },
   {
    "duration": 34,
    "start_time": "2022-04-18T15:18:04.476Z"
   },
   {
    "duration": 10,
    "start_time": "2022-04-18T15:18:04.513Z"
   },
   {
    "duration": 10,
    "start_time": "2022-04-18T15:18:04.526Z"
   },
   {
    "duration": 17,
    "start_time": "2022-04-18T15:18:04.538Z"
   },
   {
    "duration": 15,
    "start_time": "2022-04-18T15:18:04.594Z"
   },
   {
    "duration": 11,
    "start_time": "2022-04-18T15:18:04.612Z"
   },
   {
    "duration": 8,
    "start_time": "2022-04-18T15:18:04.625Z"
   },
   {
    "duration": 100,
    "start_time": "2022-04-18T15:18:04.636Z"
   },
   {
    "duration": 70,
    "start_time": "2022-04-18T15:18:04.739Z"
   },
   {
    "duration": 5,
    "start_time": "2022-04-18T15:18:04.812Z"
   },
   {
    "duration": 14,
    "start_time": "2022-04-18T15:18:04.820Z"
   },
   {
    "duration": 8,
    "start_time": "2022-04-18T15:18:04.837Z"
   },
   {
    "duration": 551,
    "start_time": "2022-04-18T15:18:04.847Z"
   },
   {
    "duration": 64,
    "start_time": "2022-04-18T15:18:05.401Z"
   },
   {
    "duration": 39,
    "start_time": "2022-04-18T15:18:05.468Z"
   },
   {
    "duration": 693,
    "start_time": "2022-04-18T15:18:05.509Z"
   },
   {
    "duration": 124,
    "start_time": "2022-04-18T15:18:06.205Z"
   },
   {
    "duration": 20,
    "start_time": "2022-04-18T15:18:06.332Z"
   },
   {
    "duration": 748,
    "start_time": "2022-04-18T15:18:06.355Z"
   },
   {
    "duration": 14,
    "start_time": "2022-04-18T15:18:07.106Z"
   },
   {
    "duration": 30,
    "start_time": "2022-04-18T15:18:07.123Z"
   },
   {
    "duration": 109,
    "start_time": "2022-04-18T15:18:07.155Z"
   },
   {
    "duration": 52,
    "start_time": "2022-04-18T15:18:07.267Z"
   },
   {
    "duration": 8,
    "start_time": "2022-04-18T15:18:07.322Z"
   },
   {
    "duration": 8,
    "start_time": "2022-04-18T15:18:07.333Z"
   },
   {
    "duration": 49,
    "start_time": "2022-04-18T15:18:07.350Z"
   },
   {
    "duration": 30,
    "start_time": "2022-04-18T15:18:07.401Z"
   },
   {
    "duration": 16,
    "start_time": "2022-04-18T15:18:07.433Z"
   },
   {
    "duration": 62,
    "start_time": "2022-04-18T15:18:07.453Z"
   },
   {
    "duration": 17,
    "start_time": "2022-04-18T15:18:07.518Z"
   },
   {
    "duration": 28,
    "start_time": "2022-04-18T15:18:07.538Z"
   },
   {
    "duration": 29,
    "start_time": "2022-04-18T15:18:07.569Z"
   },
   {
    "duration": 11,
    "start_time": "2022-04-18T15:18:07.600Z"
   },
   {
    "duration": 355,
    "start_time": "2022-04-18T15:18:07.613Z"
   },
   {
    "duration": 6,
    "start_time": "2022-04-18T15:18:07.970Z"
   },
   {
    "duration": 11,
    "start_time": "2022-04-18T15:18:07.994Z"
   },
   {
    "duration": 731,
    "start_time": "2022-04-18T15:18:08.008Z"
   },
   {
    "duration": 487,
    "start_time": "2022-04-18T15:18:08.741Z"
   },
   {
    "duration": 766,
    "start_time": "2022-04-18T15:18:09.230Z"
   },
   {
    "duration": 373,
    "start_time": "2022-04-18T15:18:09.999Z"
   },
   {
    "duration": 743,
    "start_time": "2022-04-18T15:18:10.374Z"
   },
   {
    "duration": 376,
    "start_time": "2022-04-18T15:18:11.120Z"
   },
   {
    "duration": 13,
    "start_time": "2022-04-18T15:18:11.500Z"
   },
   {
    "duration": 314,
    "start_time": "2022-04-18T15:18:11.516Z"
   },
   {
    "duration": 12,
    "start_time": "2022-04-18T15:18:11.833Z"
   },
   {
    "duration": 9,
    "start_time": "2022-04-18T15:18:11.848Z"
   },
   {
    "duration": 47,
    "start_time": "2022-04-18T15:18:11.859Z"
   },
   {
    "duration": 12,
    "start_time": "2022-04-18T15:18:11.909Z"
   },
   {
    "duration": 1612,
    "start_time": "2022-04-18T15:25:27.677Z"
   },
   {
    "duration": 567,
    "start_time": "2022-04-18T15:25:29.294Z"
   },
   {
    "duration": 18,
    "start_time": "2022-04-18T15:25:29.863Z"
   },
   {
    "duration": 37,
    "start_time": "2022-04-18T15:25:29.884Z"
   },
   {
    "duration": 32,
    "start_time": "2022-04-18T15:25:29.925Z"
   },
   {
    "duration": 176,
    "start_time": "2022-04-18T15:25:29.960Z"
   },
   {
    "duration": 12,
    "start_time": "2022-04-18T15:25:30.139Z"
   },
   {
    "duration": 46,
    "start_time": "2022-04-18T15:25:30.153Z"
   },
   {
    "duration": 23,
    "start_time": "2022-04-18T15:25:30.201Z"
   },
   {
    "duration": 100,
    "start_time": "2022-04-18T15:25:30.226Z"
   },
   {
    "duration": 13,
    "start_time": "2022-04-18T15:25:30.328Z"
   },
   {
    "duration": 63,
    "start_time": "2022-04-18T15:25:30.343Z"
   },
   {
    "duration": 25,
    "start_time": "2022-04-18T15:25:30.408Z"
   },
   {
    "duration": 111,
    "start_time": "2022-04-18T15:25:30.437Z"
   },
   {
    "duration": 15,
    "start_time": "2022-04-18T15:25:30.550Z"
   },
   {
    "duration": 27,
    "start_time": "2022-04-18T15:25:30.567Z"
   },
   {
    "duration": 14,
    "start_time": "2022-04-18T15:25:30.596Z"
   },
   {
    "duration": 35,
    "start_time": "2022-04-18T15:25:30.612Z"
   },
   {
    "duration": 43,
    "start_time": "2022-04-18T15:25:30.650Z"
   },
   {
    "duration": 49,
    "start_time": "2022-04-18T15:25:30.696Z"
   },
   {
    "duration": 20,
    "start_time": "2022-04-18T15:25:30.748Z"
   },
   {
    "duration": 25,
    "start_time": "2022-04-18T15:25:30.770Z"
   },
   {
    "duration": 64,
    "start_time": "2022-04-18T15:25:30.797Z"
   },
   {
    "duration": 62,
    "start_time": "2022-04-18T15:25:30.863Z"
   },
   {
    "duration": 7,
    "start_time": "2022-04-18T15:25:30.928Z"
   },
   {
    "duration": 44,
    "start_time": "2022-04-18T15:25:30.938Z"
   },
   {
    "duration": 23,
    "start_time": "2022-04-18T15:25:30.985Z"
   },
   {
    "duration": 548,
    "start_time": "2022-04-18T15:25:31.010Z"
   },
   {
    "duration": 64,
    "start_time": "2022-04-18T15:25:31.561Z"
   },
   {
    "duration": 12,
    "start_time": "2022-04-18T15:25:31.628Z"
   },
   {
    "duration": 731,
    "start_time": "2022-04-18T15:25:31.643Z"
   },
   {
    "duration": 107,
    "start_time": "2022-04-18T15:25:32.377Z"
   },
   {
    "duration": 21,
    "start_time": "2022-04-18T15:25:32.486Z"
   },
   {
    "duration": 510,
    "start_time": "2022-04-18T15:25:32.510Z"
   },
   {
    "duration": 14,
    "start_time": "2022-04-18T15:25:33.022Z"
   },
   {
    "duration": 30,
    "start_time": "2022-04-18T15:25:33.038Z"
   },
   {
    "duration": 90,
    "start_time": "2022-04-18T15:25:33.070Z"
   },
   {
    "duration": 58,
    "start_time": "2022-04-18T15:25:33.163Z"
   },
   {
    "duration": 6,
    "start_time": "2022-04-18T15:25:33.223Z"
   },
   {
    "duration": 10,
    "start_time": "2022-04-18T15:25:33.231Z"
   },
   {
    "duration": 17,
    "start_time": "2022-04-18T15:25:33.247Z"
   },
   {
    "duration": 53,
    "start_time": "2022-04-18T15:25:33.266Z"
   },
   {
    "duration": 23,
    "start_time": "2022-04-18T15:25:33.322Z"
   },
   {
    "duration": 19,
    "start_time": "2022-04-18T15:25:33.348Z"
   },
   {
    "duration": 13,
    "start_time": "2022-04-18T15:25:33.394Z"
   },
   {
    "duration": 27,
    "start_time": "2022-04-18T15:25:33.410Z"
   },
   {
    "duration": 9,
    "start_time": "2022-04-18T15:25:33.440Z"
   },
   {
    "duration": 42,
    "start_time": "2022-04-18T15:25:33.451Z"
   },
   {
    "duration": 364,
    "start_time": "2022-04-18T15:25:33.495Z"
   },
   {
    "duration": 12,
    "start_time": "2022-04-18T15:25:33.861Z"
   },
   {
    "duration": 770,
    "start_time": "2022-04-18T15:25:33.877Z"
   },
   {
    "duration": 601,
    "start_time": "2022-04-18T15:25:34.649Z"
   },
   {
    "duration": 744,
    "start_time": "2022-04-18T15:25:35.253Z"
   },
   {
    "duration": 357,
    "start_time": "2022-04-18T15:25:36.000Z"
   },
   {
    "duration": 704,
    "start_time": "2022-04-18T15:25:36.360Z"
   },
   {
    "duration": 380,
    "start_time": "2022-04-18T15:25:37.066Z"
   },
   {
    "duration": 16,
    "start_time": "2022-04-18T15:25:37.449Z"
   },
   {
    "duration": 300,
    "start_time": "2022-04-18T15:25:37.467Z"
   },
   {
    "duration": 24,
    "start_time": "2022-04-18T15:25:37.769Z"
   },
   {
    "duration": 5,
    "start_time": "2022-04-18T15:25:37.795Z"
   },
   {
    "duration": 23,
    "start_time": "2022-04-18T15:25:37.802Z"
   },
   {
    "duration": 12,
    "start_time": "2022-04-18T15:25:37.827Z"
   }
  ],
  "kernelspec": {
   "display_name": "Python 3",
   "language": "python",
   "name": "python3"
  },
  "language_info": {
   "codemirror_mode": {
    "name": "ipython",
    "version": 3
   },
   "file_extension": ".py",
   "mimetype": "text/x-python",
   "name": "python",
   "nbconvert_exporter": "python",
   "pygments_lexer": "ipython3",
   "version": "3.8.8"
  },
  "toc": {
   "base_numbering": 1,
   "nav_menu": {},
   "number_sections": true,
   "sideBar": true,
   "skip_h1_title": true,
   "title_cell": "Содержание",
   "title_sidebar": "Contents",
   "toc_cell": true,
   "toc_position": {
    "height": "calc(100% - 180px)",
    "left": "10px",
    "top": "150px",
    "width": "165px"
   },
   "toc_section_display": true,
   "toc_window_display": true
  }
 },
 "nbformat": 4,
 "nbformat_minor": 2
}
